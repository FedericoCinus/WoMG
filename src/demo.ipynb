{
 "cells": [
  {
   "cell_type": "markdown",
   "metadata": {},
   "source": [
    "# VLDB 2020 - Demo\n",
    "## WoMG: a Library for Word-of-Mouth Cascades Generation"
   ]
  },
  {
   "cell_type": "raw",
   "metadata": {},
   "source": [
    "!pip install womg --upgrade"
   ]
  },
  {
   "cell_type": "code",
   "execution_count": 1,
   "metadata": {},
   "outputs": [],
   "source": [
    "from womg import womg\n",
    "import numpy as np\n",
    "import networkx as nx\n",
    "import matplotlib.pyplot as plt"
   ]
  },
  {
   "cell_type": "markdown",
   "metadata": {},
   "source": [
    "### Definition of the inputs: graph as NetworkX instance and corpus as directory path. "
   ]
  },
  {
   "cell_type": "code",
   "execution_count": 9,
   "metadata": {
    "scrolled": true
   },
   "outputs": [
    {
     "name": "stdout",
     "output_type": "stream",
     "text": [
      "Formatting graph..\n"
     ]
    },
    {
     "data": {
      "application/vnd.jupyter.widget-view+json": {
       "model_id": "d61ad6c6c9374150a578fa75690d3f8f",
       "version_major": 2,
       "version_minor": 0
      },
      "text/plain": [
       "HBox(children=(IntProgress(value=0), HTML(value='')))"
      ]
     },
     "metadata": {},
     "output_type": "display_data"
    },
    {
     "name": "stdout",
     "output_type": "stream",
     "text": [
      "\n",
      "Creating interests..\n",
      "Training LDA model..\n",
      "Extracting topic distribution from docs in  demo_corpus/\n",
      "Computing cascades.. \n",
      "WoMG diffusion has been completed.\n"
     ]
    }
   ],
   "source": [
    "N = 100\n",
    "g = nx.random_geometric_graph(N, .2)\n",
    "docs_path = 'demo_corpus/'\n",
    "prop = womg(graph=g, docs_path=docs_path, seed=42, virality_resistance=12.)"
   ]
  },
  {
   "cell_type": "markdown",
   "metadata": {},
   "source": [
    "### Main WoMG outputs: \n",
    "* bow of the documents,  \n",
    "* topic distributions of the items, \n",
    "* interests of the nodes, \n",
    "* propagations."
   ]
  },
  {
   "cell_type": "code",
   "execution_count": 10,
   "metadata": {},
   "outputs": [
    {
     "data": {
      "text/plain": [
       "[{'reported': 1,\n",
       "  'said': 3,\n",
       "  'defense': 1,\n",
       "  'embassy': 3,\n",
       "  'emergency': 2,\n",
       "  'france': 1,\n",
       "  'general': 1,\n",
       "  'government': 1,\n",
       "  'killed': 2,\n",
       "  'left': 2,\n",
       "  'office': 2,\n",
       "  'people': 3,\n",
       "  'press': 2,\n",
       "  'saturday': 1,\n",
       "  'state': 1,\n",
       "  'united': 1,\n",
       "  'visited': 1,\n",
       "  'announced': 1,\n",
       "  'include': 1,\n",
       "  'north': 1,\n",
       "  'offered': 2,\n",
       "  'states': 1,\n",
       "  'addition': 1,\n",
       "  'aid': 1,\n",
       "  'city': 1,\n",
       "  'countries': 1,\n",
       "  'days': 1,\n",
       "  'homeless': 2,\n",
       "  'living': 1,\n",
       "  'money': 2,\n",
       "  'world': 1,\n",
       "  'friday': 2,\n",
       "  'miles': 1,\n",
       "  'help': 1,\n",
       "  'families': 1,\n",
       "  'louis': 1,\n",
       "  'officials': 2,\n",
       "  'italy': 1,\n",
       "  'victims': 1,\n",
       "  'expected': 1,\n",
       "  'affected': 1,\n",
       "  'fund': 2,\n",
       "  'total': 1,\n",
       "  'provide': 2,\n",
       "  'gov': 1,\n",
       "  'caused': 1,\n",
       "  'provided': 1,\n",
       "  'check': 2,\n",
       "  'britain': 1,\n",
       "  'funds': 1,\n",
       "  'civil': 1,\n",
       "  'nicaragua': 1,\n",
       "  'supplies': 2,\n",
       "  'seriously': 1,\n",
       "  'mountain': 1,\n",
       "  'citizens': 1,\n",
       "  'rains': 1,\n",
       "  'brazil': 2,\n",
       "  'consulate': 1,\n",
       "  'resort': 1,\n",
       "  'flooding': 1,\n",
       "  'moreira': 1,\n",
       "  'floods': 1,\n",
       "  'janeiro': 2,\n",
       "  'rio': 2,\n",
       "  'consul': 1,\n",
       "  'franco': 1,\n",
       "  'embassies': 1,\n",
       "  'consular': 1,\n",
       "  'landslides': 1,\n",
       "  'mudslides': 1,\n",
       "  'petropolis': 3,\n",
       "  'schwartz': 1,\n",
       "  'wellington': 1},\n",
       " {'ago': 1,\n",
       "  'board': 1,\n",
       "  'new': 1,\n",
       "  'recent': 1,\n",
       "  'reported': 3,\n",
       "  'said': 6,\n",
       "  'today': 1,\n",
       "  'continue': 1,\n",
       "  'declared': 1,\n",
       "  'hit': 1,\n",
       "  'hospitals': 1,\n",
       "  'hours': 2,\n",
       "  'six': 2,\n",
       "  'spokesman': 2,\n",
       "  'square': 1,\n",
       "  'times': 1,\n",
       "  'film': 2,\n",
       "  'movie': 1,\n",
       "  'public': 1,\n",
       "  'tv': 2,\n",
       "  'city': 1,\n",
       "  'education': 1,\n",
       "  'five': 1,\n",
       "  'high': 8,\n",
       "  'inside': 1,\n",
       "  'school': 8,\n",
       "  'sent': 2,\n",
       "  'third': 1,\n",
       "  'way': 1,\n",
       "  'years': 1,\n",
       "  'floor': 1,\n",
       "  'later': 1,\n",
       "  'mph': 1,\n",
       "  'national': 1,\n",
       "  'building': 3,\n",
       "  'arts': 2,\n",
       "  'control': 1,\n",
       "  'officials': 1,\n",
       "  'system': 1,\n",
       "  'fifth': 1,\n",
       "  'manhattan': 1,\n",
       "  'moved': 1,\n",
       "  'near': 1,\n",
       "  'expected': 2,\n",
       "  'home': 1,\n",
       "  'conditions': 1,\n",
       "  'nearly': 1,\n",
       "  'service': 1,\n",
       "  'art': 1,\n",
       "  'able': 1,\n",
       "  'started': 1,\n",
       "  'fourth': 1,\n",
       "  'permit': 1,\n",
       "  'section': 1,\n",
       "  'pockets': 1,\n",
       "  'seen': 1,\n",
       "  'burned': 1,\n",
       "  'injuring': 1,\n",
       "  'fame': 2,\n",
       "  'weather': 1,\n",
       "  'series': 1,\n",
       "  'hampered': 1,\n",
       "  'designated': 1,\n",
       "  'treated': 1,\n",
       "  'forcing': 1,\n",
       "  'twenty': 1,\n",
       "  'injuries': 2,\n",
       "  'morning': 1,\n",
       "  'firefighters': 6,\n",
       "  'temperatures': 1,\n",
       "  'combined': 1,\n",
       "  'collapsed': 1,\n",
       "  'snow': 1,\n",
       "  'winds': 3,\n",
       "  'alarm': 1,\n",
       "  'music': 1,\n",
       "  'minor': 2,\n",
       "  'liberty': 1,\n",
       "  'rain': 1,\n",
       "  'wind': 1,\n",
       "  'story': 1,\n",
       "  'crews': 1,\n",
       "  'scene': 1,\n",
       "  'scenes': 1,\n",
       "  'minus': 1,\n",
       "  'landmark': 2,\n",
       "  'battling': 1,\n",
       "  'blaze': 3,\n",
       "  'flame': 1,\n",
       "  'pull': 1,\n",
       "  'cuts': 1,\n",
       "  'shoot': 1,\n",
       "  'freezing': 1,\n",
       "  'performing': 2,\n",
       "  'slippery': 1,\n",
       "  'consumed': 1,\n",
       "  'inspired': 1,\n",
       "  'burning': 1,\n",
       "  'efrain': 1,\n",
       "  'spreading': 1,\n",
       "  'floors': 1,\n",
       "  'roof': 2,\n",
       "  'gusting': 1,\n",
       "  'chills': 1,\n",
       "  'facade': 1,\n",
       "  'parilla': 1,\n",
       "  'parrilla': 4,\n",
       "  'sprain': 1}]"
      ]
     },
     "execution_count": 10,
     "metadata": {},
     "output_type": "execute_result"
    }
   ],
   "source": [
    "# bag of words of the propagating items (DOCS x WORDS)\n",
    "prop.docs"
   ]
  },
  {
   "cell_type": "code",
   "execution_count": 11,
   "metadata": {},
   "outputs": [
    {
     "data": {
      "text/plain": [
       "array([[3.74145180e-01, 2.38508806e-01],\n",
       "       [1.25749204e-02, 3.91397451e-04],\n",
       "       [1.54645905e-01, 2.09062975e-02],\n",
       "       [2.58824177e-04, 1.66613507e-04],\n",
       "       [1.04341998e-04, 6.71683229e-05],\n",
       "       [1.11971006e-01, 3.69753987e-01],\n",
       "       [1.16301258e-03, 7.48668914e-04],\n",
       "       [2.10619834e-03, 1.34773040e-03],\n",
       "       [2.98875297e-04, 1.92395717e-04],\n",
       "       [8.03060393e-05, 5.16955988e-05],\n",
       "       [3.22418243e-01, 2.61799574e-01],\n",
       "       [1.26203778e-03, 4.47386950e-02],\n",
       "       [6.67195360e-04, 5.21783158e-02],\n",
       "       [1.65678542e-02, 8.02988093e-03],\n",
       "       [1.73607992e-03, 1.11873855e-03]], dtype=float32)"
      ]
     },
     "execution_count": 11,
     "metadata": {},
     "output_type": "execute_result"
    }
   ],
   "source": [
    "# topic distribution of the propagating items (TOPICS x DOCS)\n",
    "prop.topic_distributions"
   ]
  },
  {
   "cell_type": "markdown",
   "metadata": {},
   "source": [
    "The highest entry for item 0 is component 0, while for item 1 is component 5."
   ]
  },
  {
   "cell_type": "code",
   "execution_count": 12,
   "metadata": {},
   "outputs": [
    {
     "data": {
      "text/plain": [
       "array([[0.2917144 , 1.68493438, 0.02302071, ..., 0.07142496, 0.        ,\n",
       "        0.04433956],\n",
       "       [0.16986373, 0.        , 7.78889377, ..., 0.14912563, 0.        ,\n",
       "        0.        ],\n",
       "       [0.10171634, 0.0308195 , 0.27840523, ..., 0.30556005, 0.46642842,\n",
       "        0.15679172],\n",
       "       ...,\n",
       "       [5.80047269, 0.        , 0.12275605, ..., 0.19677601, 5.98339745,\n",
       "        0.07109203],\n",
       "       [0.07065024, 5.39709415, 0.01652012, ..., 0.59541126, 0.        ,\n",
       "        0.58351514],\n",
       "       [0.        , 0.11629766, 0.30404693, ..., 0.        , 0.        ,\n",
       "        0.57988952]])"
      ]
     },
     "execution_count": 12,
     "metadata": {},
     "output_type": "execute_result"
    }
   ],
   "source": [
    "# interests for the nodes (TOPICS x NODES)\n",
    "prop.interests"
   ]
  },
  {
   "cell_type": "code",
   "execution_count": 13,
   "metadata": {},
   "outputs": [
    {
     "data": {
      "text/plain": [
       "[[(0, 0),\n",
       "  (0, 1),\n",
       "  (0, 2),\n",
       "  (0, 3),\n",
       "  (0, 4),\n",
       "  (0, 5),\n",
       "  (0, 6),\n",
       "  (0, 7),\n",
       "  (0, 8),\n",
       "  (0, 9),\n",
       "  (0, 10),\n",
       "  (0, 11),\n",
       "  (0, 12),\n",
       "  (0, 13),\n",
       "  (0, 14),\n",
       "  (0, 15),\n",
       "  (0, 16),\n",
       "  (0, 17),\n",
       "  (0, 18),\n",
       "  (0, 19),\n",
       "  (0, 20),\n",
       "  (0, 21),\n",
       "  (0, 22),\n",
       "  (0, 23),\n",
       "  (0, 24),\n",
       "  (0, 25),\n",
       "  (0, 26),\n",
       "  (0, 27),\n",
       "  (0, 28),\n",
       "  (0, 29),\n",
       "  (0, 30),\n",
       "  (0, 31),\n",
       "  (0, 32),\n",
       "  (0, 33),\n",
       "  (0, 34),\n",
       "  (0, 35),\n",
       "  (0, 36),\n",
       "  (0, 37),\n",
       "  (0, 38),\n",
       "  (0, 39),\n",
       "  (0, 40),\n",
       "  (0, 41),\n",
       "  (0, 42),\n",
       "  (0, 43),\n",
       "  (0, 44),\n",
       "  (0, 45),\n",
       "  (0, 46),\n",
       "  (0, 47),\n",
       "  (0, 48),\n",
       "  (0, 49),\n",
       "  (0, 50),\n",
       "  (0, 51),\n",
       "  (0, 52),\n",
       "  (0, 53),\n",
       "  (0, 54),\n",
       "  (0, 55),\n",
       "  (0, 56),\n",
       "  (0, 57),\n",
       "  (0, 58),\n",
       "  (0, 59),\n",
       "  (0, 60),\n",
       "  (0, 61),\n",
       "  (0, 62),\n",
       "  (0, 64),\n",
       "  (0, 65),\n",
       "  (0, 66),\n",
       "  (0, 67),\n",
       "  (0, 68),\n",
       "  (0, 69),\n",
       "  (0, 70),\n",
       "  (0, 71),\n",
       "  (0, 72),\n",
       "  (0, 73),\n",
       "  (0, 74),\n",
       "  (0, 75),\n",
       "  (0, 77),\n",
       "  (0, 78),\n",
       "  (0, 79),\n",
       "  (0, 80),\n",
       "  (0, 81),\n",
       "  (0, 82),\n",
       "  (0, 83),\n",
       "  (0, 84),\n",
       "  (0, 85),\n",
       "  (0, 86),\n",
       "  (0, 87),\n",
       "  (0, 88),\n",
       "  (0, 89),\n",
       "  (0, 90),\n",
       "  (0, 92),\n",
       "  (0, 93),\n",
       "  (0, 94),\n",
       "  (0, 95),\n",
       "  (0, 96),\n",
       "  (0, 97),\n",
       "  (0, 98),\n",
       "  (0, 99)],\n",
       " [(0, 0),\n",
       "  (0, 1),\n",
       "  (0, 2),\n",
       "  (0, 3),\n",
       "  (0, 4),\n",
       "  (0, 5),\n",
       "  (0, 6),\n",
       "  (0, 7),\n",
       "  (0, 8),\n",
       "  (0, 9),\n",
       "  (0, 10),\n",
       "  (0, 11),\n",
       "  (0, 12),\n",
       "  (0, 13),\n",
       "  (0, 14),\n",
       "  (0, 15),\n",
       "  (0, 16),\n",
       "  (0, 17),\n",
       "  (0, 18),\n",
       "  (0, 19),\n",
       "  (0, 20),\n",
       "  (0, 21),\n",
       "  (0, 22),\n",
       "  (0, 23),\n",
       "  (0, 24),\n",
       "  (0, 25),\n",
       "  (0, 26),\n",
       "  (0, 27),\n",
       "  (0, 28),\n",
       "  (0, 29),\n",
       "  (0, 30),\n",
       "  (0, 31),\n",
       "  (0, 32),\n",
       "  (0, 33),\n",
       "  (0, 34),\n",
       "  (0, 35),\n",
       "  (0, 36),\n",
       "  (0, 37),\n",
       "  (0, 38),\n",
       "  (0, 39),\n",
       "  (0, 40),\n",
       "  (0, 41),\n",
       "  (0, 42),\n",
       "  (0, 43),\n",
       "  (0, 44),\n",
       "  (0, 45),\n",
       "  (0, 46),\n",
       "  (0, 47),\n",
       "  (0, 48),\n",
       "  (0, 49),\n",
       "  (0, 50),\n",
       "  (0, 51),\n",
       "  (0, 52),\n",
       "  (0, 53),\n",
       "  (0, 54),\n",
       "  (0, 55),\n",
       "  (0, 56),\n",
       "  (0, 57),\n",
       "  (0, 58),\n",
       "  (0, 59),\n",
       "  (0, 60),\n",
       "  (0, 61),\n",
       "  (0, 62),\n",
       "  (0, 63),\n",
       "  (0, 64),\n",
       "  (0, 65),\n",
       "  (0, 66),\n",
       "  (0, 67),\n",
       "  (0, 68),\n",
       "  (0, 69),\n",
       "  (0, 70),\n",
       "  (0, 71),\n",
       "  (0, 72),\n",
       "  (0, 73),\n",
       "  (0, 74),\n",
       "  (0, 75),\n",
       "  (0, 76),\n",
       "  (0, 77),\n",
       "  (0, 78),\n",
       "  (0, 79),\n",
       "  (0, 80),\n",
       "  (0, 81),\n",
       "  (0, 82),\n",
       "  (0, 83),\n",
       "  (0, 84),\n",
       "  (0, 85),\n",
       "  (0, 86),\n",
       "  (0, 87),\n",
       "  (0, 88),\n",
       "  (0, 89),\n",
       "  (0, 90),\n",
       "  (0, 91),\n",
       "  (0, 92),\n",
       "  (0, 93),\n",
       "  (0, 94),\n",
       "  (0, 95),\n",
       "  (0, 96),\n",
       "  (0, 97),\n",
       "  (0, 98),\n",
       "  (0, 99)]]"
      ]
     },
     "execution_count": 13,
     "metadata": {},
     "output_type": "execute_result"
    }
   ],
   "source": [
    "# propagations (DOCS x (TIME, NODE))\n",
    "prop.propagations"
   ]
  },
  {
   "cell_type": "markdown",
   "metadata": {},
   "source": [
    "### Displaying the output with NetworkX"
   ]
  },
  {
   "cell_type": "code",
   "execution_count": 14,
   "metadata": {},
   "outputs": [],
   "source": [
    "def plot_graph(g, node_color, cmap=None):\n",
    "    NODE_SIZE = 600\n",
    "    plt.figure(figsize=(8, 8))\n",
    "    pos = nx.get_node_attributes(g, 'pos')\n",
    "    nx.draw_networkx_edges(g, pos, alpha=0.4)\n",
    "    nx.draw_networkx_nodes(g,\n",
    "                           pos=pos,\n",
    "                           node_size=NODE_SIZE,\n",
    "                           alpha=1.0,\n",
    "                           node_color=node_color,\n",
    "                           cmap=cmap,\n",
    "                           edgecolors='k'\n",
    "                          )\n",
    "    plt.axis('off')  "
   ]
  },
  {
   "cell_type": "markdown",
   "metadata": {},
   "source": [
    "Firstly, we display the activated nodes"
   ]
  },
  {
   "cell_type": "code",
   "execution_count": 15,
   "metadata": {},
   "outputs": [
    {
     "name": "stderr",
     "output_type": "stream",
     "text": [
      "/Users/Cinus/miniconda3/envs/womg-test/lib/python3.7/site-packages/networkx/drawing/nx_pylab.py:579: MatplotlibDeprecationWarning: \n",
      "The iterable function was deprecated in Matplotlib 3.1 and will be removed in 3.3. Use np.iterable instead.\n",
      "  if not cb.iterable(width):\n"
     ]
    },
    {
     "data": {
      "image/png": "[encoded data removed]",
      "text/plain": [
       "<Figure size 576x576 with 1 Axes>"
      ]
     },
     "metadata": {},
     "output_type": "display_data"
    }
   ],
   "source": [
    "item = 0\n",
    "activations = np.zeros(N)\n",
    "for _time, node in prop.propagations[item]:\n",
    "    activations[node] = 1\n",
    "    \n",
    "plot_graph(g, activations, plt.cm.binary)"
   ]
  },
  {
   "cell_type": "markdown",
   "metadata": {},
   "source": [
    "Secondly, we plot the interest in the topic that best describes item 0: component 0 "
   ]
  },
  {
   "cell_type": "code",
   "execution_count": null,
   "metadata": {},
   "outputs": [],
   "source": [
    "component = 0\n",
    "plot_graph(g, prop.interests[component])"
   ]
  },
  {
   "cell_type": "code",
   "execution_count": null,
   "metadata": {},
   "outputs": [],
   "source": []
  }
 ],
 "metadata": {
  "kernelspec": {
   "display_name": "Python 3",
   "language": "python",
   "name": "python3"
  },
  "language_info": {
   "codemirror_mode": {
    "name": "ipython",
    "version": 3
   },
   "file_extension": ".py",
   "mimetype": "text/x-python",
   "name": "python",
   "nbconvert_exporter": "python",
   "pygments_lexer": "ipython3",
   "version": "3.7.0"
  }
 },
 "nbformat": 4,
 "nbformat_minor": 4
}
