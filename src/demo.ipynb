{
 "cells": [
  {
   "cell_type": "markdown",
   "metadata": {},
   "source": [
    "# VLDB 2020 - Demo\n",
    "## WoMG: a Library for Word-of-Mouth Cascades Generation"
   ]
  },
  {
   "cell_type": "raw",
   "metadata": {},
   "source": [
    "!pip install womg --upgrade"
   ]
  },
  {
   "cell_type": "code",
   "execution_count": 1,
   "metadata": {},
   "outputs": [],
   "source": [
    "from womg import womg\n",
    "import numpy as np\n",
    "import networkx as nx\n",
    "import matplotlib.pyplot as plt"
   ]
  },
  {
   "cell_type": "markdown",
   "metadata": {},
   "source": [
    "### Definition of the inputs: graph as NetworkX instance and corpus as directory path. "
   ]
  },
  {
   "cell_type": "code",
   "execution_count": null,
   "metadata": {
    "scrolled": true
   },
   "outputs": [],
   "source": [
    "N = 100\n",
    "g = nx.random_geometric_graph(N, .2)\n",
    "docs_path = 'demo_corpus/'\n",
    "prop = womg(graph=g, docs_path=docs_path, seed=42, gn_strength=16., virality_resistance=15.)"
   ]
  },
  {
   "cell_type": "markdown",
   "metadata": {},
   "source": [
    "### Main WoMG outputs: \n",
    "* bow of the documents,  \n",
    "* topic distributions of the items, \n",
    "* interests of the nodes, \n",
    "* propagations."
   ]
  },
  {
   "cell_type": "code",
   "execution_count": null,
   "metadata": {},
   "outputs": [],
   "source": [
    "# bag of words of the propagating items (DOCS x WORDS)\n",
    "prop.docs"
   ]
  },
  {
   "cell_type": "code",
   "execution_count": null,
   "metadata": {},
   "outputs": [],
   "source": [
    "# topic distribution of the propagating items (TOPICS x DOCS)\n",
    "prop.topic_distributions"
   ]
  },
  {
   "cell_type": "markdown",
   "metadata": {},
   "source": [
    "The highest entry for item 0 is component 0, while for item 1 is component 5."
   ]
  },
  {
   "cell_type": "code",
   "execution_count": null,
   "metadata": {},
   "outputs": [],
   "source": [
    "# interests for the nodes (TOPICS x NODES)\n",
    "prop.interests"
   ]
  },
  {
   "cell_type": "code",
   "execution_count": null,
   "metadata": {},
   "outputs": [],
   "source": [
    "# propagations (DOCS x (TIME, NODE))\n",
    "prop.propagations"
   ]
  },
  {
   "cell_type": "markdown",
   "metadata": {},
   "source": [
    "### Displaying the output with NetworkX"
   ]
  },
  {
   "cell_type": "code",
   "execution_count": null,
   "metadata": {},
   "outputs": [],
   "source": [
    "def plot_graph(g, node_color, cmap=None):\n",
    "    NODE_SIZE = 600\n",
    "    plt.figure(figsize=(8, 8))\n",
    "    pos = nx.get_node_attributes(g, 'pos')\n",
    "    nx.draw_networkx_edges(g, pos, alpha=0.4)\n",
    "    nx.draw_networkx_nodes(g,\n",
    "                           pos=pos,\n",
    "                           node_size=NODE_SIZE,\n",
    "                           alpha=1.0,\n",
    "                           node_color=node_color,\n",
    "                           cmap=cmap,\n",
    "                           edgecolors='k'\n",
    "                          )\n",
    "    plt.axis('off')  "
   ]
  },
  {
   "cell_type": "markdown",
   "metadata": {},
   "source": [
    "Firstly, we display the activated nodes"
   ]
  },
  {
   "cell_type": "code",
   "execution_count": null,
   "metadata": {},
   "outputs": [],
   "source": [
    "item = 0\n",
    "activations = np.zeros(N)\n",
    "for _time, node in prop.propagations[item]:\n",
    "    activations[node] = 1\n",
    "    \n",
    "plot_graph(g, activations, plt.cm.binary)"
   ]
  },
  {
   "cell_type": "markdown",
   "metadata": {},
   "source": [
    "Secondly, we plot the interest in the topic that best describes item 0: component 0 "
   ]
  },
  {
   "cell_type": "code",
   "execution_count": null,
   "metadata": {},
   "outputs": [],
   "source": [
    "component = 0\n",
    "plot_graph(g, prop.interests[component])"
   ]
  },
  {
   "cell_type": "code",
   "execution_count": null,
   "metadata": {},
   "outputs": [],
   "source": []
  }
 ],
 "metadata": {
  "kernelspec": {
   "display_name": "Python 3",
   "language": "python",
   "name": "python3"
  },
  "language_info": {
   "codemirror_mode": {
    "name": "ipython",
    "version": 3
   },
   "file_extension": ".py",
   "mimetype": "text/x-python",
   "name": "python",
   "nbconvert_exporter": "python",
   "pygments_lexer": "ipython3",
   "version": "3.7.0"
  }
 },
 "nbformat": 4,
 "nbformat_minor": 4
}
