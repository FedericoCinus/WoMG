{
 "cells": [
  {
   "cell_type": "markdown",
   "metadata": {},
   "source": [
    "\n",
    "\n",
    "\n",
    "\n",
    "\n",
    "\n",
    "\n",
    "\n",
    "\n",
    "\n",
    "\n",
    "\n",
    "\n",
    "\n",
    "\n",
    "\n",
    "\n",
    "\n",
    "\n",
    "# VLDB 2020 - Demo\n",
    "\n",
    "\n",
    "## WoMG: a Library for Word-of-Mouth Cascades Generation\n",
    "\n",
    "\n",
    "\n",
    "\n",
    "\n",
    "\n",
    "\n",
    "\n",
    "\n",
    "\n",
    "\n",
    "\n",
    "\n",
    "\n",
    "\n",
    "\n",
    "\n",
    "\n",
    "\n",
    "\n",
    "\n",
    "\n",
    "\n",
    "\n",
    "\n",
    "\n",
    "\n",
    "\n",
    "\n"
   ]
  },
  {
   "cell_type": "code",
   "execution_count": 2,
   "metadata": {
    "scrolled": true
   },
   "outputs": [
    {
     "name": "stdout",
     "output_type": "stream",
     "text": [
      "Collecting womg\n",
      "  Downloading womg-0.9.10.tar.gz (18.4 MB)\n",
      "\u001b[K     |████████████████████████████████| 18.4 MB 1.9 MB/s eta 0:00:01\n",
      "\u001b[?25hRequirement already satisfied: Click==7.0 in /Users/Cinus/miniconda3/envs/womg-test/lib/python3.7/site-packages (from womg) (7.0)\n",
      "Requirement already satisfied: networkx==2.3 in /Users/Cinus/miniconda3/envs/womg-test/lib/python3.7/site-packages (from womg) (2.3)\n",
      "Requirement already satisfied: numpy==1.17.3 in /Users/Cinus/miniconda3/envs/womg-test/lib/python3.7/site-packages (from womg) (1.17.3)\n",
      "Requirement already satisfied: scikit-learn==0.21.3 in /Users/Cinus/miniconda3/envs/womg-test/lib/python3.7/site-packages (from womg) (0.21.3)\n",
      "Requirement already satisfied: tqdm==4.32.1 in /Users/Cinus/miniconda3/envs/womg-test/lib/python3.7/site-packages (from womg) (4.32.1)\n",
      "Requirement already satisfied: gensim==3.8.0 in /Users/Cinus/miniconda3/envs/womg-test/lib/python3.7/site-packages (from womg) (3.8.0)\n",
      "Requirement already satisfied: decorator>=4.3.0 in /Users/Cinus/miniconda3/envs/womg-test/lib/python3.7/site-packages (from networkx==2.3->womg) (4.4.2)\n",
      "Requirement already satisfied: scipy>=0.17.0 in /Users/Cinus/miniconda3/envs/womg-test/lib/python3.7/site-packages (from scikit-learn==0.21.3->womg) (1.4.1)\n",
      "Requirement already satisfied: joblib>=0.11 in /Users/Cinus/miniconda3/envs/womg-test/lib/python3.7/site-packages (from scikit-learn==0.21.3->womg) (0.14.1)\n",
      "Requirement already satisfied: six>=1.5.0 in /Users/Cinus/miniconda3/envs/womg-test/lib/python3.7/site-packages (from gensim==3.8.0->womg) (1.14.0)\n",
      "Requirement already satisfied: smart-open>=1.7.0 in /Users/Cinus/miniconda3/envs/womg-test/lib/python3.7/site-packages (from gensim==3.8.0->womg) (1.10.0)\n",
      "Requirement already satisfied: google-cloud-storage in /Users/Cinus/miniconda3/envs/womg-test/lib/python3.7/site-packages (from smart-open>=1.7.0->gensim==3.8.0->womg) (1.26.0)\n",
      "Requirement already satisfied: boto3 in /Users/Cinus/miniconda3/envs/womg-test/lib/python3.7/site-packages (from smart-open>=1.7.0->gensim==3.8.0->womg) (1.12.30)\n",
      "Requirement already satisfied: requests in /Users/Cinus/miniconda3/envs/womg-test/lib/python3.7/site-packages (from smart-open>=1.7.0->gensim==3.8.0->womg) (2.23.0)\n",
      "Requirement already satisfied: google-resumable-media<0.6dev,>=0.5.0 in /Users/Cinus/miniconda3/envs/womg-test/lib/python3.7/site-packages (from google-cloud-storage->smart-open>=1.7.0->gensim==3.8.0->womg) (0.5.0)\n",
      "Requirement already satisfied: google-auth<2.0dev,>=1.11.0 in /Users/Cinus/miniconda3/envs/womg-test/lib/python3.7/site-packages (from google-cloud-storage->smart-open>=1.7.0->gensim==3.8.0->womg) (1.12.0)\n",
      "Requirement already satisfied: google-cloud-core<2.0dev,>=1.2.0 in /Users/Cinus/miniconda3/envs/womg-test/lib/python3.7/site-packages (from google-cloud-storage->smart-open>=1.7.0->gensim==3.8.0->womg) (1.3.0)\n",
      "Requirement already satisfied: s3transfer<0.4.0,>=0.3.0 in /Users/Cinus/miniconda3/envs/womg-test/lib/python3.7/site-packages (from boto3->smart-open>=1.7.0->gensim==3.8.0->womg) (0.3.3)\n",
      "Requirement already satisfied: botocore<1.16.0,>=1.15.30 in /Users/Cinus/miniconda3/envs/womg-test/lib/python3.7/site-packages (from boto3->smart-open>=1.7.0->gensim==3.8.0->womg) (1.15.30)\n",
      "Requirement already satisfied: jmespath<1.0.0,>=0.7.1 in /Users/Cinus/miniconda3/envs/womg-test/lib/python3.7/site-packages (from boto3->smart-open>=1.7.0->gensim==3.8.0->womg) (0.9.5)\n",
      "Requirement already satisfied: idna<3,>=2.5 in /Users/Cinus/miniconda3/envs/womg-test/lib/python3.7/site-packages (from requests->smart-open>=1.7.0->gensim==3.8.0->womg) (2.9)\n",
      "Requirement already satisfied: certifi>=2017.4.17 in /Users/Cinus/miniconda3/envs/womg-test/lib/python3.7/site-packages (from requests->smart-open>=1.7.0->gensim==3.8.0->womg) (2019.11.28)\n",
      "Requirement already satisfied: urllib3!=1.25.0,!=1.25.1,<1.26,>=1.21.1 in /Users/Cinus/miniconda3/envs/womg-test/lib/python3.7/site-packages (from requests->smart-open>=1.7.0->gensim==3.8.0->womg) (1.25.8)\n",
      "Requirement already satisfied: chardet<4,>=3.0.2 in /Users/Cinus/miniconda3/envs/womg-test/lib/python3.7/site-packages (from requests->smart-open>=1.7.0->gensim==3.8.0->womg) (3.0.4)\n",
      "Requirement already satisfied: setuptools>=40.3.0 in /Users/Cinus/.local/lib/python3.7/site-packages (from google-auth<2.0dev,>=1.11.0->google-cloud-storage->smart-open>=1.7.0->gensim==3.8.0->womg) (41.6.0)\n",
      "Requirement already satisfied: pyasn1-modules>=0.2.1 in /Users/Cinus/miniconda3/envs/womg-test/lib/python3.7/site-packages (from google-auth<2.0dev,>=1.11.0->google-cloud-storage->smart-open>=1.7.0->gensim==3.8.0->womg) (0.2.8)\n",
      "Requirement already satisfied: cachetools<5.0,>=2.0.0 in /Users/Cinus/miniconda3/envs/womg-test/lib/python3.7/site-packages (from google-auth<2.0dev,>=1.11.0->google-cloud-storage->smart-open>=1.7.0->gensim==3.8.0->womg) (4.0.0)\n",
      "Requirement already satisfied: rsa<4.1,>=3.1.4 in /Users/Cinus/miniconda3/envs/womg-test/lib/python3.7/site-packages (from google-auth<2.0dev,>=1.11.0->google-cloud-storage->smart-open>=1.7.0->gensim==3.8.0->womg) (4.0)\n",
      "Requirement already satisfied: google-api-core<2.0.0dev,>=1.16.0 in /Users/Cinus/miniconda3/envs/womg-test/lib/python3.7/site-packages (from google-cloud-core<2.0dev,>=1.2.0->google-cloud-storage->smart-open>=1.7.0->gensim==3.8.0->womg) (1.16.0)\n",
      "Requirement already satisfied: docutils<0.16,>=0.10 in /Users/Cinus/miniconda3/envs/womg-test/lib/python3.7/site-packages (from botocore<1.16.0,>=1.15.30->boto3->smart-open>=1.7.0->gensim==3.8.0->womg) (0.15.2)\n",
      "Requirement already satisfied: python-dateutil<3.0.0,>=2.1 in /Users/Cinus/miniconda3/envs/womg-test/lib/python3.7/site-packages (from botocore<1.16.0,>=1.15.30->boto3->smart-open>=1.7.0->gensim==3.8.0->womg) (2.8.1)\n",
      "Requirement already satisfied: pyasn1<0.5.0,>=0.4.6 in /Users/Cinus/miniconda3/envs/womg-test/lib/python3.7/site-packages (from pyasn1-modules>=0.2.1->google-auth<2.0dev,>=1.11.0->google-cloud-storage->smart-open>=1.7.0->gensim==3.8.0->womg) (0.4.8)\n",
      "Requirement already satisfied: pytz in /Users/Cinus/miniconda3/envs/womg-test/lib/python3.7/site-packages (from google-api-core<2.0.0dev,>=1.16.0->google-cloud-core<2.0dev,>=1.2.0->google-cloud-storage->smart-open>=1.7.0->gensim==3.8.0->womg) (2019.3)\n",
      "Requirement already satisfied: googleapis-common-protos<2.0dev,>=1.6.0 in /Users/Cinus/miniconda3/envs/womg-test/lib/python3.7/site-packages (from google-api-core<2.0.0dev,>=1.16.0->google-cloud-core<2.0dev,>=1.2.0->google-cloud-storage->smart-open>=1.7.0->gensim==3.8.0->womg) (1.51.0)\n",
      "Requirement already satisfied: protobuf>=3.4.0 in /Users/Cinus/miniconda3/envs/womg-test/lib/python3.7/site-packages (from google-api-core<2.0.0dev,>=1.16.0->google-cloud-core<2.0dev,>=1.2.0->google-cloud-storage->smart-open>=1.7.0->gensim==3.8.0->womg) (3.11.4)\n",
      "Building wheels for collected packages: womg\n",
      "  Building wheel for womg (setup.py) ... \u001b[?25ldone\n",
      "\u001b[?25h  Created wheel for womg: filename=womg-0.9.10-py3-none-any.whl size=19560099 sha256=bab7a70a6e58552d687f11704cc4af18559cd436be8f09093d3a6fe02d0b8f59\n",
      "  Stored in directory: /Users/Cinus/Library/Caches/pip/wheels/f5/58/67/3762edca0f3655ff1b0f7abe3a4457f55a0457dcf480982d96\n",
      "Successfully built womg\n",
      "Installing collected packages: womg\n",
      "Successfully installed womg-0.9.10\n"
     ]
    }
   ],
   "source": [
    "!pip install womg"
   ]
  },
  {
   "cell_type": "code",
   "execution_count": 3,
   "metadata": {},
   "outputs": [],
   "source": [
    "import numpy as np\n",
    "import networkx as nx\n",
    "import matplotlib.pyplot as plt\n",
    "from womg import womg"
   ]
  },
  {
   "cell_type": "markdown",
   "metadata": {},
   "source": [
    "### Definition of the inputs: graph as NetworkX instance and corpus as directory path. "
   ]
  },
  {
   "cell_type": "code",
   "execution_count": 5,
   "metadata": {},
   "outputs": [
    {
     "name": "stdout",
     "output_type": "stream",
     "text": [
      "Formatting graph..\n",
      "Creating interests..\n",
      "Extracting topic distribution from docs in  demo_corpus\n"
     ]
    },
    {
     "ename": "UnboundLocalError",
     "evalue": "local variable 'diffusion_model' referenced before assignment",
     "output_type": "error",
     "traceback": [
      "\u001b[0;31m---------------------------------------------------------------------------\u001b[0m",
      "\u001b[0;31mKeyboardInterrupt\u001b[0m                         Traceback (most recent call last)",
      "\u001b[0;32m~/miniconda3/envs/womg-test/lib/python3.7/site-packages/womg/__main__.py\u001b[0m in \u001b[0;36mwomg_main\u001b[0;34m(graph, docs_path, items_descr_path, numb_topics, numb_docs, numb_steps, homophily, gn_strength, infl_strength, virality_exp, virality_resistance, interests_path, int_mode, weighted, directed, path_out, seed, walk_length, num_walks, window_size, iiter, workers, p, q, beta, norm_prior, alpha_value, beta_value, prop_steps, progress_bar, save_all, save_int, save_infl, save_keyw, single_activator)\u001b[0m\n\u001b[1;32m    224\u001b[0m                           items_descr_path=items_descr_path)\n\u001b[0;32m--> 225\u001b[0;31m         \u001b[0mtopic_model\u001b[0m\u001b[0;34m.\u001b[0m\u001b[0mfit\u001b[0m\u001b[0;34m(\u001b[0m\u001b[0;34m)\u001b[0m\u001b[0;34m\u001b[0m\u001b[0m\n\u001b[0m\u001b[1;32m    226\u001b[0m         \u001b[0;31m#print(virality_exp)\u001b[0m\u001b[0;34m\u001b[0m\u001b[0;34m\u001b[0m\u001b[0m\n",
      "\u001b[0;32m~/miniconda3/envs/womg-test/lib/python3.7/site-packages/womg/topic/lda.py\u001b[0m in \u001b[0;36mfit\u001b[0;34m(self)\u001b[0m\n\u001b[1;32m     60\u001b[0m             \u001b[0mself\u001b[0m\u001b[0;34m.\u001b[0m\u001b[0mitems_descript\u001b[0m\u001b[0;34m,\u001b[0m \u001b[0mself\u001b[0m\u001b[0;34m.\u001b[0m\u001b[0mnumb_docs\u001b[0m \u001b[0;34m=\u001b[0m \u001b[0mself\u001b[0m\u001b[0;34m.\u001b[0m\u001b[0mload_items_descr\u001b[0m\u001b[0;34m(\u001b[0m\u001b[0mself\u001b[0m\u001b[0;34m.\u001b[0m\u001b[0m_items_descr_path\u001b[0m\u001b[0;34m)\u001b[0m\u001b[0;34m\u001b[0m\u001b[0m\n\u001b[0;32m---> 61\u001b[0;31m         \u001b[0mlda_model\u001b[0m \u001b[0;34m=\u001b[0m \u001b[0mself\u001b[0m\u001b[0;34m.\u001b[0m\u001b[0mtrain_lda\u001b[0m\u001b[0;34m(\u001b[0m\u001b[0;34m)\u001b[0m\u001b[0;34m\u001b[0m\u001b[0m\n\u001b[0m\u001b[1;32m     62\u001b[0m         \u001b[0;32mif\u001b[0m \u001b[0mmode\u001b[0m \u001b[0;34m==\u001b[0m \u001b[0;34m'get'\u001b[0m\u001b[0;34m:\u001b[0m\u001b[0;34m\u001b[0m\u001b[0m\n",
      "\u001b[0;32m~/miniconda3/envs/womg-test/lib/python3.7/site-packages/womg/topic/lda.py\u001b[0m in \u001b[0;36mtrain_lda\u001b[0;34m(self, path)\u001b[0m\n\u001b[1;32m    388\u001b[0m         \u001b[0mself\u001b[0m\u001b[0;34m.\u001b[0m\u001b[0mdictionary\u001b[0m \u001b[0;34m=\u001b[0m \u001b[0mgensim\u001b[0m\u001b[0;34m.\u001b[0m\u001b[0mcorpora\u001b[0m\u001b[0;34m.\u001b[0m\u001b[0mDictionary\u001b[0m\u001b[0;34m(\u001b[0m\u001b[0mdata_words\u001b[0m\u001b[0;34m)\u001b[0m\u001b[0;34m\u001b[0m\u001b[0m\n\u001b[0;32m--> 389\u001b[0;31m         \u001b[0mcorpus\u001b[0m \u001b[0;34m=\u001b[0m \u001b[0mself\u001b[0m\u001b[0;34m.\u001b[0m\u001b[0mpreprocess_texts\u001b[0m\u001b[0;34m(\u001b[0m\u001b[0mdocs\u001b[0m\u001b[0;34m)\u001b[0m\u001b[0;34m\u001b[0m\u001b[0m\n\u001b[0m\u001b[1;32m    390\u001b[0m         \u001b[0msaved_model\u001b[0m \u001b[0;34m=\u001b[0m \u001b[0mself\u001b[0m\u001b[0;34m.\u001b[0m\u001b[0mmain_data_path\u001b[0m\u001b[0;34m/\u001b[0m\u001b[0;34m'topic_model'\u001b[0m\u001b[0;34m/\u001b[0m\u001b[0mstr\u001b[0m\u001b[0;34m(\u001b[0m\u001b[0;34m'trained_lda_'\u001b[0m\u001b[0;34m+\u001b[0m\u001b[0mstr\u001b[0m\u001b[0;34m(\u001b[0m\u001b[0mstr\u001b[0m\u001b[0;34m(\u001b[0m\u001b[0mself\u001b[0m\u001b[0;34m.\u001b[0m\u001b[0m_training_path\u001b[0m\u001b[0;34m)\u001b[0m\u001b[0;34m)\u001b[0m\u001b[0;34m+\u001b[0m\u001b[0mstr\u001b[0m\u001b[0;34m(\u001b[0m\u001b[0mself\u001b[0m\u001b[0;34m.\u001b[0m\u001b[0mnumb_topics\u001b[0m\u001b[0;34m)\u001b[0m\u001b[0;34m)\u001b[0m\u001b[0;34m\u001b[0m\u001b[0m\n",
      "\u001b[0;32m~/miniconda3/envs/womg-test/lib/python3.7/site-packages/womg/topic/lda.py\u001b[0m in \u001b[0;36mpreprocess_texts\u001b[0;34m(self, docs)\u001b[0m\n\u001b[1;32m    341\u001b[0m \u001b[0;34m\u001b[0m\u001b[0m\n\u001b[0;32m--> 342\u001b[0;31m         \u001b[0mdata_words\u001b[0m \u001b[0;34m=\u001b[0m \u001b[0mself\u001b[0m\u001b[0;34m.\u001b[0m\u001b[0msent_to_words\u001b[0m\u001b[0;34m(\u001b[0m\u001b[0mdata\u001b[0m\u001b[0;34m)\u001b[0m\u001b[0;34m\u001b[0m\u001b[0m\n\u001b[0m\u001b[1;32m    343\u001b[0m         \u001b[0mcorpus\u001b[0m \u001b[0;34m=\u001b[0m \u001b[0;34m[\u001b[0m\u001b[0mself\u001b[0m\u001b[0;34m.\u001b[0m\u001b[0mdictionary\u001b[0m\u001b[0;34m.\u001b[0m\u001b[0mdoc2bow\u001b[0m\u001b[0;34m(\u001b[0m\u001b[0mword\u001b[0m\u001b[0;34m)\u001b[0m \u001b[0;32mfor\u001b[0m \u001b[0mword\u001b[0m \u001b[0;32min\u001b[0m \u001b[0mdata_words\u001b[0m\u001b[0;34m]\u001b[0m\u001b[0;34m\u001b[0m\u001b[0m\n",
      "\u001b[0;32m~/miniconda3/envs/womg-test/lib/python3.7/site-packages/womg/topic/lda.py\u001b[0m in \u001b[0;36msent_to_words\u001b[0;34m(self, docs)\u001b[0m\n\u001b[1;32m    362\u001b[0m         \u001b[0;32mfor\u001b[0m \u001b[0msentence\u001b[0m \u001b[0;32min\u001b[0m \u001b[0mdocs\u001b[0m\u001b[0;34m:\u001b[0m\u001b[0;34m\u001b[0m\u001b[0m\n\u001b[0;32m--> 363\u001b[0;31m             \u001b[0mdata_words\u001b[0m\u001b[0;34m.\u001b[0m\u001b[0mappend\u001b[0m\u001b[0;34m(\u001b[0m\u001b[0mgensim\u001b[0m\u001b[0;34m.\u001b[0m\u001b[0mutils\u001b[0m\u001b[0;34m.\u001b[0m\u001b[0msimple_preprocess\u001b[0m\u001b[0;34m(\u001b[0m\u001b[0mstr\u001b[0m\u001b[0;34m(\u001b[0m\u001b[0msentence\u001b[0m\u001b[0;34m)\u001b[0m\u001b[0;34m,\u001b[0m \u001b[0mdeacc\u001b[0m\u001b[0;34m=\u001b[0m\u001b[0;32mTrue\u001b[0m\u001b[0;34m)\u001b[0m\u001b[0;34m)\u001b[0m\u001b[0;34m\u001b[0m\u001b[0m\n\u001b[0m\u001b[1;32m    364\u001b[0m         \u001b[0;32mreturn\u001b[0m \u001b[0mlist\u001b[0m\u001b[0;34m(\u001b[0m\u001b[0mdata_words\u001b[0m\u001b[0;34m)\u001b[0m\u001b[0;34m\u001b[0m\u001b[0m\n",
      "\u001b[0;32m~/miniconda3/envs/womg-test/lib/python3.7/site-packages/gensim/utils.py\u001b[0m in \u001b[0;36msimple_preprocess\u001b[0;34m(doc, deacc, min_len, max_len)\u001b[0m\n\u001b[1;32m    304\u001b[0m     tokens = [\n\u001b[0;32m--> 305\u001b[0;31m         \u001b[0mtoken\u001b[0m \u001b[0;32mfor\u001b[0m \u001b[0mtoken\u001b[0m \u001b[0;32min\u001b[0m \u001b[0mtokenize\u001b[0m\u001b[0;34m(\u001b[0m\u001b[0mdoc\u001b[0m\u001b[0;34m,\u001b[0m \u001b[0mlower\u001b[0m\u001b[0;34m=\u001b[0m\u001b[0;32mTrue\u001b[0m\u001b[0;34m,\u001b[0m \u001b[0mdeacc\u001b[0m\u001b[0;34m=\u001b[0m\u001b[0mdeacc\u001b[0m\u001b[0;34m,\u001b[0m \u001b[0merrors\u001b[0m\u001b[0;34m=\u001b[0m\u001b[0;34m'ignore'\u001b[0m\u001b[0;34m)\u001b[0m\u001b[0;34m\u001b[0m\u001b[0m\n\u001b[0m\u001b[1;32m    306\u001b[0m         \u001b[0;32mif\u001b[0m \u001b[0mmin_len\u001b[0m \u001b[0;34m<=\u001b[0m \u001b[0mlen\u001b[0m\u001b[0;34m(\u001b[0m\u001b[0mtoken\u001b[0m\u001b[0;34m)\u001b[0m \u001b[0;34m<=\u001b[0m \u001b[0mmax_len\u001b[0m \u001b[0;32mand\u001b[0m \u001b[0;32mnot\u001b[0m \u001b[0mtoken\u001b[0m\u001b[0;34m.\u001b[0m\u001b[0mstartswith\u001b[0m\u001b[0;34m(\u001b[0m\u001b[0;34m'_'\u001b[0m\u001b[0;34m)\u001b[0m\u001b[0;34m\u001b[0m\u001b[0m\n",
      "\u001b[0;32m~/miniconda3/envs/womg-test/lib/python3.7/site-packages/gensim/utils.py\u001b[0m in \u001b[0;36m<listcomp>\u001b[0;34m(.0)\u001b[0m\n\u001b[1;32m    304\u001b[0m     tokens = [\n\u001b[0;32m--> 305\u001b[0;31m         \u001b[0mtoken\u001b[0m \u001b[0;32mfor\u001b[0m \u001b[0mtoken\u001b[0m \u001b[0;32min\u001b[0m \u001b[0mtokenize\u001b[0m\u001b[0;34m(\u001b[0m\u001b[0mdoc\u001b[0m\u001b[0;34m,\u001b[0m \u001b[0mlower\u001b[0m\u001b[0;34m=\u001b[0m\u001b[0;32mTrue\u001b[0m\u001b[0;34m,\u001b[0m \u001b[0mdeacc\u001b[0m\u001b[0;34m=\u001b[0m\u001b[0mdeacc\u001b[0m\u001b[0;34m,\u001b[0m \u001b[0merrors\u001b[0m\u001b[0;34m=\u001b[0m\u001b[0;34m'ignore'\u001b[0m\u001b[0;34m)\u001b[0m\u001b[0;34m\u001b[0m\u001b[0m\n\u001b[0m\u001b[1;32m    306\u001b[0m         \u001b[0;32mif\u001b[0m \u001b[0mmin_len\u001b[0m \u001b[0;34m<=\u001b[0m \u001b[0mlen\u001b[0m\u001b[0;34m(\u001b[0m\u001b[0mtoken\u001b[0m\u001b[0;34m)\u001b[0m \u001b[0;34m<=\u001b[0m \u001b[0mmax_len\u001b[0m \u001b[0;32mand\u001b[0m \u001b[0;32mnot\u001b[0m \u001b[0mtoken\u001b[0m\u001b[0;34m.\u001b[0m\u001b[0mstartswith\u001b[0m\u001b[0;34m(\u001b[0m\u001b[0;34m'_'\u001b[0m\u001b[0;34m)\u001b[0m\u001b[0;34m\u001b[0m\u001b[0m\n",
      "\u001b[0;32m~/miniconda3/envs/womg-test/lib/python3.7/site-packages/gensim/utils.py\u001b[0m in \u001b[0;36msimple_tokenize\u001b[0;34m(text)\u001b[0m\n\u001b[1;32m    277\u001b[0m     \"\"\"\n\u001b[0;32m--> 278\u001b[0;31m     \u001b[0;32mfor\u001b[0m \u001b[0mmatch\u001b[0m \u001b[0;32min\u001b[0m \u001b[0mPAT_ALPHABETIC\u001b[0m\u001b[0;34m.\u001b[0m\u001b[0mfinditer\u001b[0m\u001b[0;34m(\u001b[0m\u001b[0mtext\u001b[0m\u001b[0;34m)\u001b[0m\u001b[0;34m:\u001b[0m\u001b[0;34m\u001b[0m\u001b[0m\n\u001b[0m\u001b[1;32m    279\u001b[0m         \u001b[0;32myield\u001b[0m \u001b[0mmatch\u001b[0m\u001b[0;34m.\u001b[0m\u001b[0mgroup\u001b[0m\u001b[0;34m(\u001b[0m\u001b[0;34m)\u001b[0m\u001b[0;34m\u001b[0m\u001b[0m\n",
      "\u001b[0;31mKeyboardInterrupt\u001b[0m: ",
      "\nDuring handling of the above exception, another exception occurred:\n",
      "\u001b[0;31mUnboundLocalError\u001b[0m                         Traceback (most recent call last)",
      "\u001b[0;32m<ipython-input-5-eda20e1c65a9>\u001b[0m in \u001b[0;36m<module>\u001b[0;34m\u001b[0m\n\u001b[1;32m      3\u001b[0m \u001b[0mdocs_path\u001b[0m \u001b[0;34m=\u001b[0m \u001b[0;34m'demo_corpus/'\u001b[0m\u001b[0;34m\u001b[0m\u001b[0m\n\u001b[1;32m      4\u001b[0m \u001b[0;34m\u001b[0m\u001b[0m\n\u001b[0;32m----> 5\u001b[0;31m \u001b[0mprop\u001b[0m \u001b[0;34m=\u001b[0m \u001b[0mwomg\u001b[0m\u001b[0;34m(\u001b[0m\u001b[0mgraph\u001b[0m\u001b[0;34m=\u001b[0m\u001b[0mg\u001b[0m\u001b[0;34m,\u001b[0m \u001b[0mdocs_path\u001b[0m\u001b[0;34m=\u001b[0m\u001b[0mdocs_path\u001b[0m\u001b[0;34m)\u001b[0m\u001b[0;34m\u001b[0m\u001b[0m\n\u001b[0m",
      "\u001b[0;32m~/miniconda3/envs/womg-test/lib/python3.7/site-packages/womg/__main__.py\u001b[0m in \u001b[0;36mwomg_main\u001b[0;34m(graph, docs_path, items_descr_path, numb_topics, numb_docs, numb_steps, homophily, gn_strength, infl_strength, virality_exp, virality_resistance, interests_path, int_mode, weighted, directed, path_out, seed, walk_length, num_walks, window_size, iiter, workers, p, q, beta, norm_prior, alpha_value, beta_value, prop_steps, progress_bar, save_all, save_int, save_infl, save_keyw, single_activator)\u001b[0m\n\u001b[1;32m    242\u001b[0m         save(network_model=network_model,\n\u001b[1;32m    243\u001b[0m              \u001b[0mtopic_model\u001b[0m\u001b[0;34m=\u001b[0m\u001b[0mtopic_model\u001b[0m\u001b[0;34m,\u001b[0m\u001b[0;34m\u001b[0m\u001b[0m\n\u001b[0;32m--> 244\u001b[0;31m              \u001b[0mdiffusion_model\u001b[0m\u001b[0;34m=\u001b[0m\u001b[0mdiffusion_model\u001b[0m\u001b[0;34m,\u001b[0m\u001b[0;34m\u001b[0m\u001b[0m\n\u001b[0m\u001b[1;32m    245\u001b[0m              \u001b[0mpath\u001b[0m\u001b[0;34m=\u001b[0m\u001b[0mpath_out\u001b[0m\u001b[0;34m,\u001b[0m\u001b[0;34m\u001b[0m\u001b[0m\n\u001b[1;32m    246\u001b[0m              \u001b[0msave_all\u001b[0m\u001b[0;34m=\u001b[0m\u001b[0msave_all\u001b[0m\u001b[0;34m,\u001b[0m\u001b[0;34m\u001b[0m\u001b[0m\n",
      "\u001b[0;31mUnboundLocalError\u001b[0m: local variable 'diffusion_model' referenced before assignment"
     ]
    }
   ],
   "source": [
    "N = 100\n",
    "g = nx.random_geometric_graph(N, .2)\n",
    "docs_path = 'demo_corpus/'\n",
    "\n",
    "prop = womg(graph=g, docs_path=docs_path)"
   ]
  },
  {
   "cell_type": "markdown",
   "metadata": {},
   "source": [
    "### Main WoMG outputs: \n",
    "* bow of the documents,  \n",
    "* topic distributions of the items, \n",
    "* interests of the nodes, \n",
    "* propagations."
   ]
  },
  {
   "cell_type": "code",
   "execution_count": null,
   "metadata": {},
   "outputs": [],
   "source": [
    "# bag of words of the propagating items (DOCS x WORDS)\n"
   ]
  },
  {
   "cell_type": "code",
   "execution_count": null,
   "metadata": {},
   "outputs": [],
   "source": [
    "# topic distribution of the propagating items (TOPICS x DOCS)\n"
   ]
  },
  {
   "cell_type": "code",
   "execution_count": null,
   "metadata": {},
   "outputs": [],
   "source": [
    "# interests for the nodes (TOPICS x NODES)\n"
   ]
  },
  {
   "cell_type": "code",
   "execution_count": null,
   "metadata": {
    "scrolled": true
   },
   "outputs": [],
   "source": [
    "# propagations (DOCS x (TIME, NODE))\n"
   ]
  },
  {
   "cell_type": "markdown",
   "metadata": {},
   "source": [
    "### Displaying the output with NetworkX"
   ]
  },
  {
   "cell_type": "code",
   "execution_count": null,
   "metadata": {},
   "outputs": [],
   "source": [
    "def plot_graph(g, node_color, cmap):\n",
    "    NODE_SIZE = 600\n",
    "    plt.figure(figsize=(8, 8))\n",
    "    pos = nx.get_node_attributes(g, 'pos')\n",
    "    nx.draw_networkx_edges(g, pos, alpha=0.4)\n",
    "    nx.draw_networkx_nodes(g,\n",
    "                           pos=pos,\n",
    "                           node_size=NODE_SIZE,\n",
    "                           alpha=1.0,\n",
    "                           node_color=node_color,\n",
    "                           cmap=cmap,\n",
    "                           edgecolors='k')\n",
    "    plt.axis('off')  "
   ]
  },
  {
   "cell_type": "markdown",
   "metadata": {},
   "source": [
    "Firstly, we display the activated nodes"
   ]
  },
  {
   "cell_type": "code",
   "execution_count": null,
   "metadata": {},
   "outputs": [],
   "source": [
    "\n",
    "item = 0\n",
    "activations = np.zeros(N)\n",
    "active_nodes = [node for _time, node in prop.propagations[item]]\n",
    "activations[active_nodes] = 1\n",
    "plot_graph(g, activations, plt.cm.binary)"
   ]
  },
  {
   "cell_type": "markdown",
   "metadata": {},
   "source": [
    "Secondly, we plot the interest in the topic that best describes item 0: component 0 "
   ]
  },
  {
   "cell_type": "code",
   "execution_count": null,
   "metadata": {},
   "outputs": [],
   "source": [
    "component = 0\n",
    "component_interest = [prop.interests[component, node] for node in range(N)]\n",
    "plot_graph(g, component_interest, plt.cm.Reds_r)"
   ]
  },
  {
   "cell_type": "code",
   "execution_count": null,
   "metadata": {},
   "outputs": [],
   "source": []
  }
 ],
 "metadata": {
  "kernelspec": {
   "display_name": "Python 3",
   "language": "python",
   "name": "python3"
  },
  "language_info": {
   "codemirror_mode": {
    "name": "ipython",
    "version": 3
   },
   "file_extension": ".py",
   "mimetype": "text/x-python",
   "name": "python",
   "nbconvert_exporter": "python",
   "pygments_lexer": "ipython3",
   "version": "3.7.0"
  }
 },
 "nbformat": 4,
 "nbformat_minor": 4
}
