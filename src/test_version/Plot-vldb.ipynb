{
 "cells": [
  {
   "cell_type": "code",
   "execution_count": 10,
   "metadata": {},
   "outputs": [],
   "source": [
    "\n",
    "import sys\n",
    "\n",
    "from ipywidgets import interactive\n",
    "import matplotlib.pyplot as plt\n",
    "import networkx as nx\n",
    "import numpy as np\n",
    "import pandas as pd\n",
    "import scipy.stats\n",
    "import sklearn.metrics\n",
    "import numpy.linalg\n",
    "#import tensorflow as tf\n",
    "from tqdm import tqdm_notebook as tqdm\n",
    "\n",
    "import bz2\n",
    "from collections import namedtuple, defaultdict, Counter\n",
    "import csv\n",
    "from datetime import datetime, timedelta\n",
    "from glob import glob\n",
    "import gzip\n",
    "import itertools\n",
    "import json\n",
    "import lzma\n",
    "import pickle\n",
    "import random\n",
    "import re\n",
    "import sys\n",
    "\n",
    "\n",
    "from gensim.test.utils import common_texts\n",
    "from gensim.models.doc2vec import Doc2Vec, TaggedDocument\n",
    "from gensim.test.utils import common_texts\n",
    "from gensim.parsing.preprocessing import preprocess_string\n",
    "from gensim.models.ldamodel import LdaModel\n",
    "from gensim.corpora.dictionary import Dictionary\n",
    "import gensim.parsing.preprocessing as preprocessing\n",
    "\n",
    "from sklearn.decomposition import NMF, LatentDirichletAllocation\n",
    "from sklearn.feature_extraction.text import TfidfVectorizer, CountVectorizer\n",
    "\n",
    "\n",
    "\n",
    "np.set_printoptions(suppress=True, precision=2, threshold=20)\n",
    "sigmoid = lambda x: 1 / (1 + np.exp(-x))"
   ]
  },
  {
   "cell_type": "code",
   "execution_count": 11,
   "metadata": {},
   "outputs": [],
   "source": [
    "path = '/Users/Cinus/Work/Progetti/WoMG/ICWSM_2020/git-postICWSM-WoMG-ICWSM-15-01-master/data/plot-fig5-lda-associated-press-corpus-data/ap/ap.txt'"
   ]
  },
  {
   "cell_type": "code",
   "execution_count": 12,
   "metadata": {},
   "outputs": [
    {
     "data": {
      "application/vnd.jupyter.widget-view+json": {
       "model_id": "082ef7463694421fa9e42e6f80b746ec",
       "version_major": 2,
       "version_minor": 0
      },
      "text/plain": [
       "HBox(children=(IntProgress(value=0, max=13500), HTML(value='')))"
      ]
     },
     "metadata": {},
     "output_type": "display_data"
    }
   ],
   "source": [
    "def parse_doc():\n",
    "    with open(path) as f:\n",
    "        for line in tqdm(f, total=13500):\n",
    "            line = line.strip()\n",
    "            if line:\n",
    "                if line == '<DOC>':\n",
    "                    docno = None\n",
    "                    parse = False\n",
    "                    text = ''\n",
    "                elif line[:len(\"<DOCNO>\")] == '<DOCNO>':\n",
    "                    docno = line.replace('<DOCNO>', '').replace('</DOCNO>', '').strip()\n",
    "                elif line == '<TEXT>':\n",
    "                    parse = True\n",
    "                elif line == '</DOC>':\n",
    "                    if docno is not None:\n",
    "                        yield docno, text\n",
    "                elif line == '</TEXT>':\n",
    "                    parse = False\n",
    "                elif parse:\n",
    "                    text += line\n",
    "                else:\n",
    "                    print(line)\n",
    "                \n",
    "docs = dict(parse_doc())"
   ]
  },
  {
   "cell_type": "code",
   "execution_count": 17,
   "metadata": {},
   "outputs": [],
   "source": [
    "path = '/Users/Cinus/Work/Progetti/WoMG/WoMG/src/womg/womgdata/docs/training_corpus_ap/'\n",
    "for i, (key, value) in enumerate(docs.items()):\n",
    "    filename = path+key+'.txt'\n",
    "    with open(filename, 'w') as f:\n",
    "        f.write(value)"
   ]
  }
 ],
 "metadata": {
  "kernelspec": {
   "display_name": "Python 3",
   "language": "python",
   "name": "python3"
  },
  "language_info": {
   "codemirror_mode": {
    "name": "ipython",
    "version": 3
   },
   "file_extension": ".py",
   "mimetype": "text/x-python",
   "name": "python",
   "nbconvert_exporter": "python",
   "pygments_lexer": "ipython3",
   "version": "3.7.0"
  }
 },
 "nbformat": 4,
 "nbformat_minor": 4
}
