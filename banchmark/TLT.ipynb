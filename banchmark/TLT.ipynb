{
 "cells": [
  {
   "cell_type": "code",
   "execution_count": 9,
   "metadata": {},
   "outputs": [],
   "source": [
    "import random\n",
    "import numpy as np \n",
    "import networkx as nx"
   ]
  },
  {
   "cell_type": "code",
   "execution_count": 80,
   "metadata": {},
   "outputs": [],
   "source": [
    "number_of_topics = 5\n",
    "number_of_nodes = 10\n",
    "nodes = [i for i in range(number_of_nodes)]\n",
    "edges = {}\n",
    "for i in nodes:\n",
    "    for j in nodes:\n",
    "        if random.random() > .5:\n",
    "            edges[(i,j)] = [random.random() for _ in range(number_of_topics)]\n",
    "        else:\n",
    "            pass\n",
    "number_od_edges = len(edges)\n",
    "thresholds = {node:random.random() for node in nodes}"
   ]
  },
  {
   "cell_type": "code",
   "execution_count": 76,
   "metadata": {},
   "outputs": [],
   "source": [
    "# scaling incoming weights for each entry\n",
    "for node in nodes:\n",
    "    incoming_keys = [(i,j) for i, j in edges.keys() if j==node]\n",
    "    incoming_weights = [edges[(i, j)] for (i, j) in incoming_keys]\n",
    "    m = np.matrix(incoming_weights)\n",
    "    m1 = np.divide(m, m.sum(axis=0))\n",
    "    for i, key in enumerate(incoming_keys):\n",
    "        edges[key] = np.asarray(m1[i])"
   ]
  },
  {
   "cell_type": "code",
   "execution_count": 79,
   "metadata": {},
   "outputs": [],
   "source": [
    "# diffusion\n",
    "ACTIVATIONS = {}\n",
    "number_of_timesteps = 100\n",
    "item = np.array([random.random() for _ in range(number_of_topics)])\n",
    "initial_configuration = random.choices(nodes, k=int(number_of_nodes*0.3))"
   ]
  },
  {
   "cell_type": "code",
   "execution_count": null,
   "metadata": {},
   "outputs": [],
   "source": [
    "def tlt_parameter(node, item, time):\n",
    "    \n",
    "    weight_at_time = \n",
    "    W = np.dot(item, weight_at_time)\n",
    "    \n",
    "    return W>= thresholds[node]"
   ]
  },
  {
   "cell_type": "code",
   "execution_count": null,
   "metadata": {},
   "outputs": [],
   "source": [
    "for t in number_of_timesteps:\n",
    "    new_active_nodes = set()\n",
    "    if t==0:\n",
    "        active_nodes = set(initial_configuration)\n",
    "        not_active_nodes = set(nodes).difference(active_nodes)\n",
    "    else:\n",
    "        for node in not_active_nodes:\n",
    "            if tlt_parameter(node):\n",
    "                new_active_nodes.append(node)\n",
    "    \n",
    "    active_nodes.union(new_active_nodes)\n",
    "    ACTIVATIONS[t] = active_nodes\n",
    "    \n",
    "            "
   ]
  }
 ],
 "metadata": {
  "kernelspec": {
   "display_name": "Python 3",
   "language": "python",
   "name": "python3"
  },
  "language_info": {
   "codemirror_mode": {
    "name": "ipython",
    "version": 3
   },
   "file_extension": ".py",
   "mimetype": "text/x-python",
   "name": "python",
   "nbconvert_exporter": "python",
   "pygments_lexer": "ipython3",
   "version": "3.7.4"
  }
 },
 "nbformat": 4,
 "nbformat_minor": 2
}
