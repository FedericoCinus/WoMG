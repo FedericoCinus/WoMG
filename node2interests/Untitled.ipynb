{
 "cells": [
  {
   "cell_type": "markdown",
   "metadata": {},
   "source": [
    "# NMF"
   ]
  },
  {
   "cell_type": "code",
   "execution_count": 68,
   "metadata": {},
   "outputs": [
    {
     "name": "stdout",
     "output_type": "stream",
     "text": [
      "Populating the interactive namespace from numpy and matplotlib\n"
     ]
    }
   ],
   "source": [
    "import networkx as nx\n",
    "import numpy as np\n",
    "from sklearn.decomposition import NMF\n",
    "from scipy.spatial import distance\n",
    "\n",
    "%pylab inline"
   ]
  },
  {
   "cell_type": "code",
   "execution_count": 69,
   "metadata": {},
   "outputs": [],
   "source": [
    "G = nx.watts_strogatz_graph(200, 10, 0.1, seed=42)"
   ]
  },
  {
   "cell_type": "code",
   "execution_count": 70,
   "metadata": {},
   "outputs": [],
   "source": [
    "A = nx.to_numpy_matrix(G)"
   ]
  },
  {
   "cell_type": "code",
   "execution_count": 71,
   "metadata": {},
   "outputs": [],
   "source": [
    "def overlap_generator(G):\n",
    "    \"\"\"\n",
    "    Function to generate a neighbourhood overlap matrix (second-order proximity matrix).\n",
    "    :param G: Graph object.\n",
    "    :return laps: Overlap matrix.\n",
    "    \"\"\"\n",
    "    print(\"Second order proximity calculation.\\n\")\n",
    "    degrees = nx.degree(G)\n",
    "    sets = {node:set(G.neighbors(node)) for node in nx.nodes(G)}\n",
    "    laps = np.array([[float(len(sets[node_1].intersection(sets[node_2])))/(float(degrees[node_1]*degrees[node_2])**0.5) if node_1 != node_2 else 0.0 for node_1 in nx.nodes(G)] for node_2 in nx.nodes(G)],dtype = np.float64)\n",
    "    return laps"
   ]
  },
  {
   "cell_type": "code",
   "execution_count": 152,
   "metadata": {},
   "outputs": [
    {
     "name": "stdout",
     "output_type": "stream",
     "text": [
      "Second order proximity calculation.\n",
      "\n"
     ]
    }
   ],
   "source": [
    "eta = 10.\n",
    "beta = 0.\n",
    "S_0 = overlap_generator(G)\n",
    "R = np.random.rand(G.number_of_nodes(),G.number_of_nodes())"
   ]
  },
  {
   "cell_type": "code",
   "execution_count": 177,
   "metadata": {},
   "outputs": [],
   "source": [
    "S = np.transpose(R_int)*eta*S_0 + A* + beta*R_int"
   ]
  },
  {
   "cell_type": "code",
   "execution_count": 178,
   "metadata": {},
   "outputs": [],
   "source": [
    "model = NMF(n_components=2, init='random', random_state=0)\n",
    "W = model.fit_transform(S)\n",
    "H = model.components_"
   ]
  },
  {
   "cell_type": "code",
   "execution_count": 179,
   "metadata": {},
   "outputs": [],
   "source": [
    "EPSILON = 1E-5\n",
    "METRIC_NAMES = ['ratio', 'sub', 'like']\n",
    "def homophily_metrics(similarity_edges, similarity_nonedges):\n",
    "    return {\n",
    "        'ratio': np.mean(similarity_edges) / np.mean(similarity_nonedges),\n",
    "        'sub': np.mean(similarity_edges) - np.mean(similarity_nonedges),\n",
    "        'like': np.sum(np.log(similarity_edges + EPSILON)) + np.sum(np.log(1 - similarity_nonedges + EPSILON)) ,\n",
    "    }"
   ]
  },
  {
   "cell_type": "code",
   "execution_count": 180,
   "metadata": {},
   "outputs": [],
   "source": [
    "# similarity between connected nodes\n",
    "def sim_in(G):\n",
    "    sims = []\n",
    "    for i in G.nodes:\n",
    "        for j in list(G.neighbors(i)):\n",
    "            #print(G.nodes[i]['interests'], emb[i])\n",
    "            sims.append(1 - distance.cosine(G.nodes[i]['interests'], G.nodes[j]['interests']))\n",
    "    return np.mean(sims)\n",
    "\n",
    "def select_notedge(G):\n",
    "    v1 = np.random.choice(G.nodes())\n",
    "    v2 = np.random.choice(G.nodes())\n",
    "\n",
    "    while (v1,v2) in G.edges or v1==v2:\n",
    "        v1 = np.random.choice(G.nodes())\n",
    "        v2 = np.random.choice(G.nodes())\n",
    "    return v1, v2\n",
    "#     n = nx.number_of_nodes(G)\n",
    "#     while True:\n",
    "#         a, b = np.random.randint(0, n, size=2)\n",
    "#         if (a, b) not in G.edges:\n",
    "#             return a, b\n",
    "\n",
    "# similarity between disconnected nodes\n",
    "def sim_out(G, samples):\n",
    "    sims_out = []\n",
    "    for c in range(samples):\n",
    "        i, j = select_notedge(G)\n",
    "        sims_out.append(1 - distance.cosine(G.nodes[i]['interests'], G.nodes[j]['interests']))\n",
    "    return np.mean(sims_out)\n",
    "\n",
    "def homophily(G):\n",
    "    return sim_in(G) / sim_out(G, 5000)"
   ]
  },
  {
   "cell_type": "code",
   "execution_count": 181,
   "metadata": {},
   "outputs": [],
   "source": [
    "def evaluate_metrics(graph, emb):\n",
    "    '''\n",
    "    Returns the three metrics for si and so defined in homophily_metrics function\n",
    "    '''\n",
    "    # building the graph\n",
    "    for i in graph.nodes:\n",
    "        graph.nodes[i]['interests'] = emb[int(i)]\n",
    "        \n",
    "    # calculating si and so\n",
    "    output = {}\n",
    "    si = sim_in(graph)\n",
    "    so = sim_out(graph, 5000)\n",
    "    output['si'] = round(si, 4)\n",
    "    output['so'] = round(so, 4)\n",
    "    for name, metric in homophily_metrics(si, so).items():\n",
    "        output[name] = round(metric, 4)\n",
    "\n",
    "    return output"
   ]
  },
  {
   "cell_type": "code",
   "execution_count": 182,
   "metadata": {},
   "outputs": [
    {
     "data": {
      "text/plain": [
       "{'like': -1.1396, 'ratio': 1.4456, 'si': 0.9676, 'so': 0.6693, 'sub': 0.2982}"
      ]
     },
     "execution_count": 182,
     "metadata": {},
     "output_type": "execute_result"
    }
   ],
   "source": [
    "evaluate_metrics(G, W)"
   ]
  },
  {
   "cell_type": "code",
   "execution_count": 183,
   "metadata": {},
   "outputs": [],
   "source": [
    "def draw_emb(emb, title='', row=False):\n",
    "    '''\n",
    "    NB only for 2d embeddings\n",
    "    params: dict of parameters for title\n",
    "    '''\n",
    "    nodes = [_ for _ in range(len(emb))]\n",
    "    x_plot = [emb[_, 0] for _ in range(len(emb))]\n",
    "    y_plot = [emb[_, 1] for _ in range(len(emb))]\n",
    "    if row:\n",
    "        row.scatter(x_plot, y_plot, linewidths=10)\n",
    "        row.set_title(title)\n",
    "    if not row:\n",
    "        fig, ax = plt.subplots()\n",
    "        ax.scatter(x_plot, y_plot, linewidths=5)\n",
    "        for _ in range(len(nodes)):\n",
    "            ax.annotate(nodes[_], (x_plot[_], y_plot[_]))\n",
    "        ax.set_title(title)"
   ]
  },
  {
   "cell_type": "code",
   "execution_count": 184,
   "metadata": {},
   "outputs": [
    {
     "data": {
      "image/png": "[encoded data removed]",
      "text/plain": [
       "<matplotlib.figure.Figure at 0x123f6c400>"
      ]
     },
     "metadata": {},
     "output_type": "display_data"
    }
   ],
   "source": [
    "draw_emb(W)"
   ]
  }
 ],
 "metadata": {
  "kernelspec": {
   "display_name": "Python 3",
   "language": "python",
   "name": "python3"
  },
  "language_info": {
   "codemirror_mode": {
    "name": "ipython",
    "version": 3
   },
   "file_extension": ".py",
   "mimetype": "text/x-python",
   "name": "python",
   "nbconvert_exporter": "python",
   "pygments_lexer": "ipython3",
   "version": "3.6.0"
  }
 },
 "nbformat": 4,
 "nbformat_minor": 2
}
