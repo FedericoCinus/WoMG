{
 "cells": [
  {
   "cell_type": "markdown",
   "metadata": {},
   "source": [
    "# analysis"
   ]
  },
  {
   "cell_type": "code",
   "execution_count": 1,
   "metadata": {},
   "outputs": [
    {
     "name": "stdout",
     "output_type": "stream",
     "text": [
      "Populating the interactive namespace from numpy and matplotlib\n"
     ]
    }
   ],
   "source": [
    "import pathlib\n",
    "import numpy as np\n",
    "import pandas as pd\n",
    "import networkx as nx\n",
    "from scipy.spatial import distance\n",
    "from n2i.__main__ import n2i_main, n2i_nx_graph\n",
    "from n2i.node2vec import read_graph\n",
    "\n",
    "%pylab inline\n",
    "import seaborn as sns"
   ]
  },
  {
   "cell_type": "code",
   "execution_count": 2,
   "metadata": {},
   "outputs": [],
   "source": [
    "graph_path = '../data/graph/lesmiserables/lesmiserables_edgelist.txt'\n",
    "\n",
    "graph = read_graph(weighted=False, \n",
    "               graph=graph_path,\n",
    "               directed=False)"
   ]
  },
  {
   "cell_type": "code",
   "execution_count": 7,
   "metadata": {},
   "outputs": [
    {
     "name": "stdout",
     "output_type": "stream",
     "text": [
      "CPU times: user 1.01 s, sys: 8.67 ms, total: 1.02 s\n",
      "Wall time: 846 ms\n"
     ]
    }
   ],
   "source": [
    "%%time\n",
    "emb = n2i_nx_graph(nx_graph=graph, topics=3, tf=False)"
   ]
  },
  {
   "cell_type": "code",
   "execution_count": 9,
   "metadata": {},
   "outputs": [
    {
     "data": {
      "text/plain": [
       "{0: array([0.30930971, 1.6556225 , 0.01696502]),\n",
       " 1: array([0.30467471, 1.64567647, 0.02754561]),\n",
       " 2: array([0.32949488, 1.32964771, 0.21981513]),\n",
       " 3: array([0.3671696 , 1.32621323, 0.17797254]),\n",
       " 4: array([0.22101574, 1.77797165, 0.03365932]),\n",
       " 5: array([0.21676085, 1.83401808, 0.        ]),\n",
       " 6: array([0.15481448, 1.82324162, 0.08363727]),\n",
       " 7: array([0.15726018, 1.87986221, 0.03265899]),\n",
       " 8: array([0.16146641, 1.78752856, 0.10696112]),\n",
       " 9: array([0.18300344, 1.80754296, 0.06133411]),\n",
       " 10: array([0.5519714 , 0.67903293, 0.44374155]),\n",
       " 11: array([0.52437384, 0.72811059, 0.4397347 ]),\n",
       " 12: array([0.47682935, 0.55001418, 0.64116067]),\n",
       " 13: array([0.36534359, 0.81636992, 0.57986314]),\n",
       " 14: array([0.52463379, 0.67143783, 0.48560436]),\n",
       " 15: array([0.5543775 , 0.60483218, 0.49736693]),\n",
       " 16: array([0.51049067, 0.14586433, 0.92880726]),\n",
       " 17: array([0.29697938, 0.16597556, 1.19181988]),\n",
       " 18: array([0.32992809, 0.17505284, 1.14190057]),\n",
       " 19: array([0.33470137, 0.21948116, 1.09626551]),\n",
       " 20: array([0.44297762, 0.11402534, 1.03556643]),\n",
       " 21: array([0.34229521, 0.23443227, 1.07689319]),\n",
       " 22: array([0.35915672, 0.14561845, 1.12475246]),\n",
       " 23: array([0.45396823, 0.22605325, 0.92960515]),\n",
       " 24: array([0.7136285 , 0.27108632, 0.56446926]),\n",
       " 25: array([0.68435992, 0.40805326, 0.49581247]),\n",
       " 26: array([0.60299457, 0.47267925, 0.55083969]),\n",
       " 27: array([0.60291841, 0.50109134, 0.52147287]),\n",
       " 28: array([0.50932389, 0.81468232, 0.39901045]),\n",
       " 29: array([0.42862788, 0.5037365 , 0.74113019]),\n",
       " 30: array([0.33903404, 0.39530839, 0.94449821]),\n",
       " 31: array([0.39719047, 0.44651726, 0.82713911]),\n",
       " 32: array([0.50793363, 0.67766564, 0.50004093]),\n",
       " 33: array([0.46630066, 0.83848709, 0.43216511]),\n",
       " 34: array([0.4653419 , 0.57154143, 0.63965596]),\n",
       " 35: array([0.38182978, 0.7166313 , 0.63853028]),\n",
       " 36: array([0.44126626, 0.70884862, 0.5633594 ]),\n",
       " 37: array([0.39464678, 0.66061304, 0.66817247]),\n",
       " 38: array([0.34462282, 0.66610637, 0.72921403]),\n",
       " 39: array([0.84299413, 0.19235226, 0.46735638]),\n",
       " 40: array([0.68844278, 0.41155112, 0.47788477]),\n",
       " 41: array([0.69901976, 0.28193635, 0.57293522]),\n",
       " 42: array([0.68966779, 0.31863746, 0.55545195]),\n",
       " 43: array([0.54166554, 0.63772303, 0.49374602]),\n",
       " 44: array([0.54031032, 0.66035683, 0.47820542]),\n",
       " 45: array([0.47319108, 0.84775796, 0.41742006]),\n",
       " 46: array([1.2632693 , 0.08906725, 0.        ]),\n",
       " 47: array([1.23656183, 0.11603127, 0.00949344]),\n",
       " 48: array([0.93850602, 0.17030669, 0.3411808 ]),\n",
       " 49: array([0.7376314 , 0.34457765, 0.48726152]),\n",
       " 50: array([0.63858374, 0.35296566, 0.59838637]),\n",
       " 51: array([0.86576619, 0.08958859, 0.5295651 ]),\n",
       " 52: array([0.8306667 , 0.16143192, 0.52094353]),\n",
       " 53: array([0.82935837, 0.19629279, 0.48410204]),\n",
       " 54: array([0.69988236, 0.32061695, 0.54630324]),\n",
       " 55: array([0.77462322, 0.20477062, 0.53055892]),\n",
       " 56: array([0.75931341, 0.35669737, 0.4395655 ]),\n",
       " 57: array([0.96750983, 0.04224065, 0.40634463]),\n",
       " 58: array([0.88653757, 0.1156613 , 0.44862408]),\n",
       " 59: array([0.93208712, 0.29272604, 0.25257557]),\n",
       " 60: array([0.95073786, 0.11334608, 0.37229624]),\n",
       " 61: array([0.88336177, 0.18756432, 0.39623479]),\n",
       " 62: array([0.9958342 , 0.12427243, 0.3014276 ]),\n",
       " 63: array([1.00787004, 0.07389258, 0.32235751]),\n",
       " 64: array([0.87515938, 0.25174562, 0.35485011]),\n",
       " 65: array([0.96493907, 0.15508369, 0.31914012]),\n",
       " 66: array([0.96393265, 0.1260004 , 0.34600605]),\n",
       " 67: array([1.03166783, 0.        , 0.36380501]),\n",
       " 68: array([0.73117018, 0.46750666, 0.37933872]),\n",
       " 69: array([0.68998008, 0.35584821, 0.52318148]),\n",
       " 70: array([0.72648116, 0.37116106, 0.46477272]),\n",
       " 71: array([0.77181719, 0.48218372, 0.31256909]),\n",
       " 72: array([0.56647722, 0.66557664, 0.43534863]),\n",
       " 73: array([0.9995924 , 0.06305714, 0.34478481]),\n",
       " 74: array([0.98030483, 0.12251289, 0.32054922]),\n",
       " 75: array([0.86538848, 0.33954724, 0.30910716]),\n",
       " 76: array([1.00152049, 0.20334217, 0.2312931 ])}"
      ]
     },
     "execution_count": 9,
     "metadata": {},
     "output_type": "execute_result"
    }
   ],
   "source": [
    "emb"
   ]
  },
  {
   "cell_type": "code",
   "execution_count": null,
   "metadata": {},
   "outputs": [],
   "source": [
    "# similarity between connected nodes\n",
    "def sim_in(G):\n",
    "    sims = []\n",
    "    for i in G.nodes:\n",
    "        for j in list(G.neighbors(i)):\n",
    "            sims.append(1 - distance.cosine(G.nodes[i]['interests'], G.nodes[j]['interests']))\n",
    "    return np.mean(sims)\n",
    "\n",
    "def select_notedge(G):\n",
    "    v1 = np.random.choice(G.nodes())\n",
    "    v2 = np.random.choice(G.nodes())\n",
    "\n",
    "    while (v1,v2) in G.edges or v1==v2:\n",
    "        v1 = np.random.choice(G.nodes())\n",
    "        v2 = np.random.choice(G.nodes())\n",
    "    return v1, v2\n",
    "#     n = nx.number_of_nodes(G)\n",
    "#     while True:\n",
    "#         a, b = np.random.randint(0, n, size=2)\n",
    "#         if (a, b) not in G.edges:\n",
    "#             return a, b\n",
    "\n",
    "# similarity between disconnected nodes\n",
    "def sim_out(G, samples):\n",
    "    sims_out = []\n",
    "    for c in range(samples):\n",
    "        i, j = select_notedge(G)\n",
    "        sims_out.append(1 - distance.cosine(G.nodes[i]['interests'], G.nodes[j]['interests']))\n",
    "    return np.mean(sims_out)\n",
    "\n",
    "def homophily(G):\n",
    "    return sim_in(G) / sim_out(G, 10000)"
   ]
  },
  {
   "cell_type": "code",
   "execution_count": null,
   "metadata": {},
   "outputs": [],
   "source": [
    "graph = '../data/graph/lesmiserables/lesmiserables_edgelist.txt'\n",
    "G = read_graph(weighted=False, \n",
    "               graph=graph,\n",
    "               directed=False)\n",
    "p_val = [0.1, 0.25, 0.5, 0.75, 1.25, 1.5, 1.75, 2, 4, 8, 10, 20, 40]\n",
    "q_val = [0.1, 0.25, 0.5, 0.75, 1.25, 1.5, 1.75, 2, 4, 8, 10, 20, 40]\n",
    "\n",
    "topics=[15]\n",
    "dimensions=[128]\n",
    "walk_length=[80]\n",
    "num_walks=[10]\n",
    "window_size=[10]\n",
    "iiter=[1]"
   ]
  },
  {
   "cell_type": "code",
   "execution_count": null,
   "metadata": {},
   "outputs": [],
   "source": [
    "args_list = []\n",
    "\n",
    "nr_experiments = 20\n",
    "\n",
    "for t in topics:\n",
    "    for d in dimensions:\n",
    "        for wk in walk_length:\n",
    "            for n in num_walks:\n",
    "                for wi in window_size:\n",
    "                    for ii in iiter:\n",
    "                        for p in p_val:\n",
    "                            for q in q_val:\n",
    "                                for seed in range(nr_experiments):\n",
    "                                    args = [t, d, wk, n, wi, ii, p, q, seed]\n",
    "                                    args_list.append(args)"
   ]
  },
  {
   "cell_type": "code",
   "execution_count": null,
   "metadata": {},
   "outputs": [],
   "source": [
    "def run_experiment(*args):\n",
    "    t, d, wk, n, wi, ii, p, q, seed = args\n",
    "    G_emb = n2i_nx_graph(nx_graph=G, topics=t, \n",
    "             dimensions=d, walk_length=wk,\n",
    "             num_walks=n, window_size=wi,\n",
    "             iiter=ii, p=p, q=q,\n",
    "             seed = seed + int(1000*(q+p)))\n",
    "    for i in G.nodes:\n",
    "        G.node[i]['interests'] = G_emb[i]\n",
    "    si = sim_in(G)\n",
    "    so = sim_out(G, 5000)\n",
    "    return args + (si/so,)"
   ]
  },
  {
   "cell_type": "code",
   "execution_count": null,
   "metadata": {},
   "outputs": [],
   "source": [
    "result = list(map(lambda x: run_experiment(*x), args_list))"
   ]
  },
  {
   "cell_type": "code",
   "execution_count": null,
   "metadata": {},
   "outputs": [],
   "source": [
    "df = pd.DataFrame(result, columns=['t', 'd', 'wk', 'n', 'wi', 'ii', 'p', 'q', 'seed', 'hom'])\n",
    "df2 = df.groupby(['p', 'q'])['hom'].mean().unstack()"
   ]
  },
  {
   "cell_type": "code",
   "execution_count": null,
   "metadata": {},
   "outputs": [],
   "source": [
    "df.loc()[[2420]]"
   ]
  },
  {
   "cell_type": "code",
   "execution_count": null,
   "metadata": {},
   "outputs": [],
   "source": [
    "sns.heatmap(df2)\n",
    "plt.title('Homophily (mean of 20 realizations)')"
   ]
  },
  {
   "cell_type": "code",
   "execution_count": null,
   "metadata": {},
   "outputs": [],
   "source": [
    "def analysis(graph, weighted, directed):\n",
    "    '''\n",
    "    Pipeline for the heatmap creation\n",
    "    '''\n",
    "    # read graph\n",
    "    G = graph\n",
    "    # experiments\n",
    "    result = list(map(lambda x: run_experiment(*x), args_list))\n",
    "    # df\n",
    "    df = pd.DataFrame(result, columns=['t', 'd', 'wk', 'n', 'wi', 'ii', 'p', 'q', 'seed', 'hom'])\n",
    "    df2 = df.groupby(['p', 'q'])['hom'].mean().unstack()\n",
    "    \n",
    "    return df2"
   ]
  },
  {
   "cell_type": "code",
   "execution_count": null,
   "metadata": {},
   "outputs": [],
   "source": [
    "graph = nx.karate_club_graph()\n",
    "weighted =  False if graph.edge_attr_dict_factory() == {} else True\n",
    "directed = graph.is_directed()\n",
    "df = analysis(graph, weighted, directed)\n",
    "\n",
    "# plot\n",
    "sns.heatmap(df)\n",
    "plt.title('Homophily (mean of 20 realizations)')"
   ]
  },
  {
   "cell_type": "markdown",
   "metadata": {},
   "source": [
    "# testing"
   ]
  },
  {
   "cell_type": "code",
   "execution_count": null,
   "metadata": {},
   "outputs": [],
   "source": [
    "from sklearn.linear_model import LogisticRegression\n",
    "from sklearn import datasets\n",
    "from sklearn.preprocessing import StandardScaler"
   ]
  },
  {
   "cell_type": "code",
   "execution_count": null,
   "metadata": {},
   "outputs": [],
   "source": [
    "iris = datasets.load_iris()\n",
    "X = iris.data\n",
    "y = iris.target\n",
    "scaler = StandardScaler()\n",
    "X_std = scaler.fit_transform(X)"
   ]
  },
  {
   "cell_type": "code",
   "execution_count": null,
   "metadata": {},
   "outputs": [],
   "source": [
    "# Create one-vs-rest logistic regression object\n",
    "clf = LogisticRegression(random_state=0, multi_class='ovr')\n",
    "# Train model\n",
    "model = clf.fit(X_std, y)"
   ]
  },
  {
   "cell_type": "code",
   "execution_count": null,
   "metadata": {},
   "outputs": [],
   "source": [
    "new_observation = [[.5, .5, .5, .5]]\n",
    "model.predict(new_observation)\n",
    "model.predict_proba(new_observation)"
   ]
  }
 ],
 "metadata": {
  "kernelspec": {
   "display_name": "Python 3",
   "language": "python",
   "name": "python3"
  },
  "language_info": {
   "codemirror_mode": {
    "name": "ipython",
    "version": 3
   },
   "file_extension": ".py",
   "mimetype": "text/x-python",
   "name": "python",
   "nbconvert_exporter": "python",
   "pygments_lexer": "ipython3",
   "version": "3.6.0"
  }
 },
 "nbformat": 4,
 "nbformat_minor": 2
}
