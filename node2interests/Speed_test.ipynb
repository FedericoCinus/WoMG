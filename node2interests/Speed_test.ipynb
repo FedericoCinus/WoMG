{
 "cells": [
  {
   "cell_type": "markdown",
   "metadata": {},
   "source": [
    "# speed test for node2interests"
   ]
  },
  {
   "cell_type": "code",
   "execution_count": 9,
   "metadata": {},
   "outputs": [],
   "source": [
    "import pathlib\n",
    "import numpy as np\n",
    "import pandas as pd\n",
    "import networkx as nx\n",
    "from scipy.spatial import distance\n",
    "from n2i.__main__ import n2i_main, n2i_nx_graph\n",
    "from n2i.node2vec import read_graph\n",
    "import profile"
   ]
  },
  {
   "cell_type": "code",
   "execution_count": 2,
   "metadata": {},
   "outputs": [],
   "source": [
    "graph_path = '../data/graph/lesmiserables/lesmiserables_edgelist.txt'\n",
    "\n",
    "graph = read_graph(weighted=False, \n",
    "               graph=graph_path,\n",
    "               directed=False)"
   ]
  },
  {
   "cell_type": "code",
   "execution_count": 3,
   "metadata": {},
   "outputs": [
    {
     "name": "stdout",
     "output_type": "stream",
     "text": [
      "CPU times: user 1 s, sys: 17.5 ms, total: 1.02 s\n",
      "Wall time: 832 ms\n"
     ]
    }
   ],
   "source": [
    "%%time\n",
    "emb = n2i_nx_graph(nx_graph=graph, topics=3)"
   ]
  },
  {
   "cell_type": "code",
   "execution_count": 17,
   "metadata": {},
   "outputs": [],
   "source": [
    "graph = nx.barabasi_albert_graph(n=1000, m=2)"
   ]
  },
  {
   "cell_type": "code",
   "execution_count": 8,
   "metadata": {},
   "outputs": [
    {
     "name": "stdout",
     "output_type": "stream",
     "text": [
      "CPU times: user 3min 52s, sys: 2.24 s, total: 3min 54s\n",
      "Wall time: 1min 58s\n"
     ]
    }
   ],
   "source": [
    "%%time\n",
    "emb = n2i_nx_graph(nx_graph=graph, topics=3)"
   ]
  },
  {
   "cell_type": "code",
   "execution_count": 18,
   "metadata": {},
   "outputs": [
    {
     "name": "stdout",
     "output_type": "stream",
     "text": [
      "         9394235 function calls in 73.666 seconds\n",
      "\n",
      "   Ordered by: internal time\n",
      "\n",
      "   ncalls  tottime  percall  cumtime  percall filename:lineno(function)\n",
      "    10000   16.910    0.002   43.811    0.004 graph.py:35(node2vec_walk)\n",
      "   790000   10.844    0.000   18.657    0.000 graph.py:177(alias_draw)\n",
      "      420    9.531    0.023    9.531    0.023 :0(acquire)\n",
      "  3197240    8.282    0.000    8.282    0.000 :0(len)\n",
      "  1581000    5.790    0.000    5.790    0.000 :0(rand)\n",
      "   890523    2.347    0.000    2.347    0.000 :0(append)\n",
      "        1    2.269    2.269   73.663   73.663 __main__.py:13(n2i_nx_graph)\n",
      "   129016    1.418    0.000    2.917    0.000 utils.py:1440(new_func1)\n",
      "   128000    1.412    0.000    6.154    0.000 function_base.py:4641(append)\n",
      "   128009    1.245    0.000    2.985    0.000 fromnumeric.py:1583(ravel)\n",
      "   256029    1.147    0.000    1.960    0.000 numeric.py:541(asanyarray)\n",
      "   129013    0.929    0.000    2.953    0.000 keyedvectors.py:336(__getitem__)\n",
      "   128000    0.872    0.000    0.872    0.000 :0(concatenate)\n",
      "   260093    0.863    0.000    0.863    0.000 :0(array)\n",
      "   129013    0.742    0.000    1.097    0.000 keyedvectors.py:437(word_vec)\n",
      "   129016    0.655    0.000    0.655    0.000 :0(warn)\n",
      "   261174    0.640    0.000    0.641    0.000 :0(isinstance)\n",
      "   129013    0.627    0.000    1.724    0.000 keyedvectors.py:469(get_vector)\n",
      "   129016    0.571    0.000    0.571    0.000 :0(format)\n",
      "     4089    0.569    0.000    0.569    0.000 :0(dot)\n",
      "     3992    0.550    0.000    2.231    0.001 graph.py:83(get_alias_edge)\n",
      "        1    0.531    0.531    0.531    0.531 node2vec.py:33(<listcomp>)\n",
      "   128000    0.496    0.000    0.496    0.000 :0(abs)\n",
      "   128009    0.372    0.000    0.372    0.000 :0(ravel)\n",
      "   129013    0.355    0.000    0.355    0.000 :0(setflags)\n",
      "    43699    0.324    0.000    0.949    0.000 graph.py:448(__getitem__)\n",
      "   129016    0.273    0.000    0.273    0.000 keyedvectors.py:383(wv)\n",
      "     4992    0.251    0.000    0.455    0.000 graph.py:145(alias_setup)\n",
      "    43699    0.218    0.000    0.312    0.000 coreviews.py:80(__getitem__)\n",
      "    43699    0.217    0.000    0.313    0.000 graph.py:350(adj)\n",
      "    87398    0.191    0.000    0.191    0.000 coreviews.py:44(__init__)\n",
      "     2031    0.186    0.000    1.244    0.001 nmf.py:371(_update_coordinate_descent)\n",
      "        1    0.160    0.160    0.187    0.187 word2vec.py:1554(_scan_vocab)\n",
      "     2031    0.156    0.000    0.156    0.000 :0(_update_cdnmf_fast)\n",
      "    43699    0.124    0.000    0.124    0.000 coreviews.py:53(__getitem__)\n",
      "    37710    0.112    0.000    0.112    0.000 graph.py:1185(has_edge)\n",
      "     9990    0.107    0.000    0.177    0.000 random.py:222(_randbelow)\n",
      "     2047    0.097    0.000    0.694    0.000 extmath.py:115(safe_sparse_dot)\n",
      "     4993    0.093    0.000    0.266    0.000 copy.py:132(deepcopy)\n",
      "     4111    0.084    0.000    0.128    0.000 base.py:1202(isspmatrix)\n",
      "        1    0.078    0.078   44.132   44.132 graph.py:61(simulate_walks)\n",
      "        2    0.059    0.030    1.308    0.654 nmf.py:402(_fit_coordinate_descent)\n",
      "        1    0.056    0.056    0.337    0.337 graph.py:922(add_edges_from)\n",
      "     9991    0.052    0.000    0.052    0.000 :0(zeros)\n",
      "    19972    0.050    0.000    0.050    0.000 :0(id)\n",
      "     2047    0.044    0.000    0.079    0.000 numeric.py:469(asarray)\n",
      "     2033    0.044    0.000    0.044    0.000 :0(arange)\n",
      "     4993    0.043    0.000    0.069    0.000 copy.py:236(_deepcopy_dict)\n",
      "    13990    0.041    0.000    0.041    0.000 :0(getrandbits)\n",
      "    13987    0.041    0.000    0.041    0.000 :0(get)\n",
      "        1    0.041    0.041    2.348    2.348 graph.py:104(preprocess_transition_probs)\n",
      "       10    0.039    0.004    0.217    0.022 random.py:260(shuffle)\n",
      "     4993    0.037    0.000    0.058    0.000 copy.py:252(_keep_alive)\n",
      "        1    0.030    0.030    0.071    0.071 word2vec.py:1608(prepare_vocab)\n",
      "     9990    0.030    0.000    0.030    0.000 :0(bit_length)\n",
      "    10986    0.029    0.000    0.029    0.000 :0(update)\n",
      "     3993    0.027    0.000    0.241    0.000 graph.py:1657(<genexpr>)\n",
      "       83    0.025    0.000    0.025    0.000 threading.py:251(_acquire_restore)\n",
      "     1016    0.022    0.000    0.022    0.000 :0(min)\n",
      "       88    0.021    0.000    9.621    0.109 queue.py:147(get)\n",
      "        1    0.021    0.021    0.510    0.510 graph.py:17(setup)\n",
      "     3992    0.019    0.000    0.019    0.000 graph.py:100(<listcomp>)\n",
      "     5002    0.019    0.000    0.027    0.000 :0(sum)\n",
      "     5991    0.017    0.000    0.017    0.000 reportviews.py:1025(__iter__)\n",
      "     1000    0.015    0.000    0.024    0.000 word2vec.py:1879(seeded_vector)\n",
      "     6002    0.015    0.000    0.015    0.000 :0(items)\n",
      "        1    0.015    0.015   57.483   57.483 node2vec.py:40(node2vec)\n",
      "       97    0.015    0.000    0.018    0.000 threading.py:239(__enter__)\n",
      "        1    0.014    0.014    0.085    0.085 graph.py:520(add_nodes_from)\n",
      "       88    0.010    0.000    0.014    0.000 threading.py:334(notify)\n",
      "        1    0.010    0.010    0.026    0.026 graph.py:28(format_graph)\n",
      "      171    0.007    0.000    0.009    0.000 threading.py:254(_is_owned)\n",
      "     2000    0.007    0.000    0.007    0.000 :0(round)\n",
      "        1    0.006    0.006    0.031    0.031 word2vec.py:1885(reset_weights)\n",
      "     1001    0.006    0.000    0.062    0.000 graph.py:1656(<genexpr>)\n",
      "       83    0.005    0.000    9.567    0.115 threading.py:263(wait)\n",
      "     1002    0.005    0.000    0.005    0.000 :0(sorted)\n",
      "     1001    0.005    0.000    0.007    0.000 reportviews.py:1022(<genexpr>)\n",
      "     1000    0.005    0.000    0.007    0.000 keyedvectors.py:202(__init__)\n",
      "     1000    0.004    0.000    0.007    0.000 graph.py:1226(neighbors)\n",
      "       14    0.004    0.000    0.011    0.001 decomp_lu.py:128(lu)\n",
      "        1    0.004    0.004    0.006    0.006 word2vec.py:1780(make_cum_table)\n",
      "      164    0.004    0.000    0.004    0.000 queue.py:202(_qsize)\n",
      "        1    0.004    0.004   73.666   73.666 <string>:1(<module>)\n",
      "     1000    0.003    0.000    0.003    0.000 graph.py:123(<listcomp>)\n",
      "        1    0.003    0.003    0.007    0.007 nmf.py:56(_beta_divergence)\n",
      "     1000    0.003    0.000    0.003    0.000 :0(copy)\n",
      "       15    0.003    0.000    0.005    0.000 :0(sort)\n",
      "     1000    0.003    0.000    0.003    0.000 utils.py:1852(keep_vocab_item)\n",
      "     1000    0.002    0.000    0.002    0.000 graph.py:121(<listcomp>)\n",
      "       97    0.002    0.000    0.002    0.000 :0(__enter__)\n",
      "     1000    0.002    0.000    0.002    0.000 graph.py:33(<listcomp>)\n",
      "     1000    0.002    0.000    0.002    0.000 :0(hash)\n",
      "     1000    0.002    0.000    0.002    0.000 word2vec.py:1604(<lambda>)\n",
      "     1004    0.002    0.000    0.002    0.000 :0(iter)\n",
      "       32    0.002    0.000    0.002    0.000 :0(reduce)\n",
      "       14    0.002    0.000    0.004    0.000 flinalg.py:28(get_flinalg_funcs)\n",
      "        1    0.002    0.002    9.625    9.625 base_any2vec.py:302(_log_epoch_progress)\n",
      "       16    0.001    0.000    0.003    0.000 function_base.py:434(asarray_chkfinite)\n",
      "        8    0.001    0.000    0.010    0.001 validation.py:310(check_array)\n",
      "       84    0.001    0.000    0.001    0.000 :0(perf_counter)\n",
      "        1    0.001    0.001    0.031    0.031 nmf.py:233(_initialize_nmf)\n",
      "       45    0.001    0.000    0.001    0.000 :0(getattr)\n",
      "       88    0.001    0.000    0.002    0.000 queue.py:210(_get)\n",
      "       97    0.001    0.000    0.001    0.000 threading.py:242(__exit__)\n",
      "        2    0.001    0.000    0.001    0.000 decomp_qr.py:13(safecall)\n",
      "        1    0.001    0.001    0.024    0.024 extmath.py:143(randomized_range_finder)\n",
      "       23    0.001    0.000    0.001    0.000 __init__.py:1537(isEnabledFor)\n",
      "       88    0.001    0.000    0.001    0.000 :0(popleft)\n",
      "        9    0.001    0.000    0.001    0.000 :0(start_new_thread)\n",
      "       83    0.001    0.000    0.001    0.000 threading.py:248(_release_save)\n",
      "        1    0.001    0.001    0.002    0.002 decomp_svd.py:16(svd)\n",
      "       11    0.000    0.000    0.001    0.000 shape_base.py:83(atleast_2d)\n",
      "        3    0.000    0.000    0.002    0.001 blas.py:279(_get_funcs)\n",
      "       94    0.000    0.000    0.000    0.000 :0(allocate_lock)\n",
      "        9    0.000    0.000    0.003    0.000 extmath.py:41(squared_norm)\n",
      "        9    0.000    0.000    0.001    0.000 numerictypes.py:365(issubdtype)\n",
      "       17    0.000    0.000    0.002    0.000 :0(all)\n",
      "        8    0.000    0.000    0.002    0.000 validation.py:33(_assert_all_finite)\n",
      "       97    0.000    0.000    0.000    0.000 :0(__exit__)\n",
      "        2    0.000    0.000    1.346    0.673 nmf.py:819(non_negative_factorization)\n",
      "       18    0.000    0.000    0.001    0.000 numerictypes.py:293(issubclass_)\n",
      "        4    0.000    0.000    0.001    0.000 validation.py:771(check_non_negative)\n",
      "       38    0.000    0.000    0.000    0.000 :0(hasattr)\n",
      "       16    0.000    0.000    0.001    0.000 _methods.py:45(_all)\n",
      "       27    0.000    0.000    0.000    0.000 :0(issubclass)\n",
      "        1    0.000    0.000    0.001    0.001 extmath.py:500(svd_flip)\n",
      "        8    0.000    0.000    0.001    0.000 validation.py:125(_shape_repr)\n",
      "        8    0.000    0.000    0.001    0.000 validation.py:104(_num_samples)\n",
      "        8    0.000    0.000    0.001    0.000 :0(join)\n",
      "       83    0.000    0.000    0.000    0.000 :0(release)\n",
      "        8    0.000    0.000    0.003    0.000 nmf.py:33(norm)\n",
      "       13    0.000    0.000    0.000    0.000 abc.py:178(__instancecheck__)\n",
      "        3    0.000    0.000    0.001    0.000 blas.py:218(find_best_blas_type)\n",
      "       24    0.000    0.000    0.000    0.000 validation.py:152(<genexpr>)\n",
      "        1    0.000    0.000    0.001    0.001 lapack.py:566(_compute_lwork)\n",
      "        3    0.000    0.000    0.001    0.000 numerictypes.py:602(find_common_type)\n",
      "       14    0.000    0.000    0.000    0.000 flinalg.py:22(has_column_major_storage)\n",
      "        1    0.000    0.000    0.005    0.005 word2vec.py:1600(sort_vocab)\n",
      "        1    0.000    0.000    0.003    0.003 decomp_qr.py:28(qr)\n",
      "        1    0.000    0.000    1.326    1.326 nmf.py:1246(fit)\n",
      "       16    0.000    0.000    0.000    0.000 misc.py:169(_datacopied)\n",
      "        9    0.000    0.000    0.000    0.000 threading.py:757(__init__)\n",
      "        4    0.000    0.000    0.000    0.000 validation.py:617(check_random_state)\n",
      "        1    0.000    0.000    0.000    0.000 :0(argmax)\n",
      "        8    0.000    0.000    0.001    0.000 _methods.py:34(_sum)\n",
      "        6    0.000    0.000    0.000    0.000 numerictypes.py:578(_can_coerce_all)\n",
      "        1    0.000    0.000    0.028    0.028 extmath.py:228(randomized_svd)\n",
      "       23    0.000    0.000    0.001    0.000 __init__.py:1291(info)\n",
      "       14    0.000    0.000    0.000    0.000 _weakrefset.py:70(__contains__)\n",
      "        9    0.000    0.000    0.006    0.001 threading.py:828(start)\n",
      "        2    0.000    0.000    0.000    0.000 fromnumeric.py:69(_wrapreduction)\n",
      "        9    0.000    0.000    0.005    0.001 threading.py:533(wait)\n",
      "        3    0.000    0.000    0.002    0.001 lapack.py:496(get_lapack_funcs)\n",
      "        5    0.000    0.000    0.000    0.000 :0(astype)\n",
      "        1    0.000    0.000    0.000    0.000 :0(setprofile)\n",
      "        1    0.000    0.000    9.632    9.632 base_any2vec.py:493(train)\n",
      "        1    0.000    0.000    0.000    0.000 twodim_base.py:348(tri)\n",
      "        1    0.000    0.000    0.029    0.029 nmf.py:1263(transform)\n",
      "        1    0.000    0.000    0.000    0.000 _util.py:192(_asarray_validated)\n",
      "        1    0.000    0.000    0.000    0.000 :0(normal)\n",
      "        1    0.000    0.000    1.326    1.326 nmf.py:1204(fit_transform)\n",
      "        8    0.000    0.000    0.000    0.000 :0(sqrt)\n",
      "       15    0.000    0.000    0.000    0.000 threading.py:215(__init__)\n",
      "        2    0.000    0.000    0.000    0.000 twodim_base.py:33(_min_int)\n",
      "        1    0.000    0.000    9.632    9.632 base_any2vec.py:437(_train_epoch)\n",
      "       23    0.000    0.000    0.000    0.000 __init__.py:1523(getEffectiveLevel)\n",
      "        3    0.000    0.000    0.000    0.000 nmf.py:218(_beta_loss_to_float)\n",
      "        1    0.000    0.000    0.001    0.001 nmf.py:46(_check_init)\n",
      "        1    0.000    0.000    0.001    0.001 twodim_base.py:441(triu)\n",
      "        1    0.000    0.000    0.000    0.000 validation.py:720(check_is_fitted)\n",
      "        8    0.000    0.000    0.000    0.000 __init__.py:29(get_config)\n",
      "        1    0.000    0.000    0.000    0.000 :0(outer)\n",
      "        9    0.000    0.000    0.000    0.000 threading.py:498(__init__)\n",
      "        4    0.000    0.000    0.000    0.000 :0(any)\n",
      "        1    0.000    0.000   73.666   73.666 :0(exec)\n",
      "        1    0.000    0.000    9.921    9.921 base_any2vec.py:648(__init__)\n",
      "        9    0.000    0.000    0.000    0.000 _weakrefset.py:38(_remove)\n",
      "        4    0.000    0.000    0.000    0.000 _methods.py:42(_any)\n",
      "        2    0.000    0.000    0.000    0.000 nmf.py:172(_compute_regularization)\n",
      "        3    0.000    0.000    0.000    0.000 getlimits.py:522(max)\n",
      "        9    0.000    0.000    0.000    0.000 _weakrefset.py:81(add)\n",
      "        9    0.000    0.000    0.000    0.000 threading.py:1136(daemon)\n",
      "        3    0.000    0.000    0.000    0.000 numerictypes.py:654(<listcomp>)\n",
      "        1    0.000    0.000    0.289    0.289 base_any2vec.py:896(build_vocab)\n",
      "        3    0.000    0.000    0.000    0.000 blas.py:259(<listcomp>)\n",
      "       18    0.000    0.000    0.000    0.000 threading.py:506(is_set)\n",
      "        2    0.000    0.000    0.000    0.000 extmath.py:618(safe_min)\n",
      "        1    0.000    0.000   73.666   73.666 profile:0(n2i_nx_graph(nx_graph=graph, topics=3))\n",
      "        3    0.000    0.000    0.000    0.000 :0(index)\n",
      "        1    0.000    0.000    0.423    0.423 graph.py:1607(to_undirected)\n",
      "        1    0.000    0.000    9.921    9.921 word2vec.py:659(__init__)\n",
      "        9    0.000    0.000    0.000    0.000 threading.py:1226(current_thread)\n",
      "        2    0.000    0.000    0.000    0.000 nmf.py:188(_check_string_param)\n",
      "        2    0.000    0.000    0.000    0.000 queue.py:27(__init__)\n",
      "        1    0.000    0.000    0.000    0.000 fromnumeric.py:2083(any)\n",
      "        1    0.000    0.000    0.000    0.000 getlimits.py:497(__init__)\n",
      "        3    0.000    0.000    0.000    0.000 graph.py:663(nodes)\n",
      "        1    0.000    0.000    0.000    0.000 base_any2vec.py:472(<listcomp>)\n",
      "        1    0.000    0.000    0.000    0.000 :0(where)\n",
      "        1    0.000    0.000    0.000    0.000 fromnumeric.py:54(_wrapfunc)\n",
      "        3    0.000    0.000    0.000    0.000 numerictypes.py:655(<listcomp>)\n",
      "        1    0.000    0.000    0.000    0.000 fromnumeric.py:2397(amax)\n",
      "        2    0.000    0.000    0.000    0.000 fromnumeric.py:70(<dictcomp>)\n",
      "        1    0.000    0.000    0.000    0.000 base_any2vec.py:1264(_log_progress)\n",
      "        2    0.000    0.000    0.000    0.000 getlimits.py:508(min)\n",
      "        1    0.000    0.000   10.452   10.452 node2vec.py:29(learn_embeddings)\n",
      "        1    0.000    0.000    0.187    0.187 word2vec.py:1586(scan_vocab)\n",
      "        9    0.000    0.000    0.000    0.000 threading.py:727(_newname)\n",
      "        1    0.000    0.000    0.000    0.000 fromnumeric.py:1041(argmax)\n",
      "        1    0.000    0.000    0.000    0.000 validation.py:767(<listcomp>)\n",
      "        9    0.000    0.000    0.000    0.000 :0(discard)\n",
      "        2    0.000    0.000    0.000    0.000 _methods.py:30(_amin)\n",
      "        2    0.000    0.000    0.000    0.000 :0(empty)\n",
      "        3    0.000    0.000    0.000    0.000 reportviews.py:906(__init__)\n",
      "        9    0.000    0.000    0.000    0.000 threading.py:1120(daemon)\n",
      "        1    0.000    0.000    0.000    0.000 core.py:6199(isMaskedArray)\n",
      "        3    0.000    0.000    0.000    0.000 graph.py:1270(edges)\n",
      "        9    0.000    0.000    0.000    0.000 :0(get_ident)\n",
      "        2    0.000    0.000    0.000    0.000 queue.py:85(qsize)\n",
      "        1    0.000    0.000    0.000    0.000 base_any2vec.py:1155(_check_training_sanity)\n",
      "        1    0.000    0.000    9.632    9.632 base_any2vec.py:1026(train)\n",
      "        1    0.000    0.000    0.000    0.000 base_any2vec.py:995(estimate_memory)\n",
      "        9    0.000    0.000    0.000    0.000 :0(add)\n",
      "        1    0.000    0.000    0.000    0.000 lapack.py:595(<listcomp>)\n",
      "        3    0.000    0.000    0.000    0.000 :0(max)\n",
      "        3    0.000    0.000    0.000    0.000 reportviews.py:174(__iter__)\n",
      "        2    0.000    0.000    0.000    0.000 utils.py:1826(qsize)\n",
      "        1    0.000    0.000    9.632    9.632 word2vec.py:833(train)\n",
      "        1    0.000    0.000    0.000    0.000 keyedvectors.py:378(__init__)\n",
      "        1    0.000    0.000    0.000    0.000 fromnumeric.py:1785(shape)\n",
      "        1    0.000    0.000    0.000    0.000 graph.py:301(__init__)\n",
      "        1    0.000    0.000    0.009    0.009 reportviews.py:1021(__len__)\n",
      "        3    0.000    0.000    0.000    0.000 reportviews.py:167(__init__)\n",
      "        1    0.000    0.000    0.000    0.000 keyedvectors.py:216(__init__)\n",
      "        1    0.000    0.000    0.000    0.000 numeric.py:175(ones)\n",
      "        1    0.000    0.000    0.000    0.000 :0(copyto)\n",
      "        1    0.000    0.000    0.000    0.000 six.py:586(iteritems)\n",
      "        1    0.000    0.000    0.000    0.000 function.py:67(number_of_nodes)\n",
      "        1    0.000    0.000    0.510    0.510 graph.py:7(__init__)\n",
      "        1    0.000    0.000    0.031    0.031 word2vec.py:1871(prepare_weights)\n",
      "        1    0.000    0.000    0.000    0.000 base_any2vec.py:1315(_log_epoch_end)\n",
      "        3    0.000    0.000    0.000    0.000 reportviews.py:933(__call__)\n",
      "        1    0.000    0.000    0.000    0.000 base_any2vec.py:1365(_log_train_end)\n",
      "        2    0.000    0.000    0.000    0.000 queue.py:199(_init)\n",
      "        3    0.000    0.000    0.000    0.000 reportviews.py:189(__call__)\n",
      "        1    0.000    0.000    0.000    0.000 nmf.py:1188(__init__)\n",
      "        1    0.000    0.000    0.000    0.000 word2vec.py:1541(__init__)\n",
      "        1    0.000    0.000    0.000    0.000 base_any2vec.py:78(__init__)\n",
      "        1    0.000    0.000    0.000    0.000 graph.py:797(number_of_nodes)\n",
      "        1    0.000    0.000    0.000    0.000 reportviews.py:171(__len__)\n",
      "        1    0.000    0.000    0.000    0.000 word2vec.py:824(_clear_post_train)\n",
      "        1    0.000    0.000    0.000    0.000 keyedvectors.py:392(index2entity)\n",
      "        1    0.000    0.000    0.000    0.000 graph.py:293(to_undirected_class)\n",
      "        1    0.000    0.000    0.000    0.000 base_any2vec.py:140(_check_input_data_sanity)\n",
      "        1    0.000    0.000    0.000    0.000 :0(values)\n",
      "        1    0.000    0.000    0.000    0.000 word2vec.py:828(_set_train_params)\n",
      "        1    0.000    0.000    0.000    0.000 word2vec.py:1866(__init__)\n",
      "        0    0.000             0.000          profile:0(profiler)\n",
      "\n",
      "\n"
     ]
    }
   ],
   "source": [
    "profile.run('n2i_nx_graph(nx_graph=graph, topics=3)',sort=1)"
   ]
  },
  {
   "cell_type": "code",
   "execution_count": 5,
   "metadata": {},
   "outputs": [],
   "source": [
    "import networkx as nx"
   ]
  },
  {
   "cell_type": "code",
   "execution_count": 7,
   "metadata": {},
   "outputs": [],
   "source": [
    "g = nx.karate_club_graph()"
   ]
  },
  {
   "cell_type": "code",
   "execution_count": 13,
   "metadata": {},
   "outputs": [
    {
     "name": "stdout",
     "output_type": "stream",
     "text": [
      "2.408199643493761\n"
     ]
    }
   ],
   "source": [
    "G =nx.karate_club_graph() # Can be applied on different graphs\n",
    "print(nx.average_shortest_path_length(G))"
   ]
  },
  {
   "cell_type": "code",
   "execution_count": 14,
   "metadata": {},
   "outputs": [
    {
     "data": {
      "text/plain": [
       "NodeView((0, 1, 2, 3, 4, 5, 6, 7, 8, 9, 10, 11, 12, 13, 14, 15, 16, 17, 18, 19, 20, 21, 22, 23, 24, 25, 26, 27, 28, 29, 30, 31, 32, 33))"
      ]
     },
     "execution_count": 14,
     "metadata": {},
     "output_type": "execute_result"
    }
   ],
   "source": [
    "G.nodes()"
   ]
  },
  {
   "cell_type": "code",
   "execution_count": null,
   "metadata": {},
   "outputs": [],
   "source": []
  }
 ],
 "metadata": {
  "kernelspec": {
   "display_name": "Python 3",
   "language": "python",
   "name": "python3"
  },
  "language_info": {
   "codemirror_mode": {
    "name": "ipython",
    "version": 3
   },
   "file_extension": ".py",
   "mimetype": "text/x-python",
   "name": "python",
   "nbconvert_exporter": "python",
   "pygments_lexer": "ipython3",
   "version": "3.6.0"
  }
 },
 "nbformat": 4,
 "nbformat_minor": 2
}
