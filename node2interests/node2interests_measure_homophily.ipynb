{
 "cells": [
  {
   "cell_type": "markdown",
   "metadata": {},
   "source": [
    "# *n2i*: analysis"
   ]
  },
  {
   "cell_type": "markdown",
   "metadata": {},
   "source": [
    "### TOC:\n",
    "* [Demo](#Demo)\n",
    "* [Analysis](#Analysis)\n",
    "* [Grid search](#Grid search)"
   ]
  },
  {
   "cell_type": "markdown",
   "metadata": {},
   "source": [
    "## Demo"
   ]
  },
  {
   "cell_type": "markdown",
   "metadata": {},
   "source": [
    "n2i can be used both in command line and Jupyter notebook. The following code runs n2i with the default parameters.\n",
    "\n",
    "NB: REMEBER TO DEFINE IF THE GRAPH IS DIRECTED AND/OR WEIGHTED"
   ]
  },
  {
   "cell_type": "code",
   "execution_count": 1,
   "metadata": {
    "scrolled": true
   },
   "outputs": [],
   "source": [
    "import pathlib\n",
    "import numpy as np\n",
    "import pandas as pd\n",
    "import networkx as nx\n",
    "from scipy.spatial import distance\n",
    "from n2i.__main__ import n2i_main, n2i_nx_graph\n",
    "from n2i.node2vec import read_graph"
   ]
  },
  {
   "cell_type": "code",
   "execution_count": 2,
   "metadata": {},
   "outputs": [],
   "source": [
    "graph_path = '../data/graph/lesmiserables/lesmiserables_edgelist.txt'\n",
    "\n",
    "graph = read_graph(weighted=False, \n",
    "               graph=graph_path,\n",
    "               directed=False)"
   ]
  },
  {
   "cell_type": "code",
   "execution_count": 3,
   "metadata": {},
   "outputs": [],
   "source": [
    "emb = n2i_nx_graph(nx_graph=graph, topics=3)"
   ]
  },
  {
   "cell_type": "markdown",
   "metadata": {},
   "source": [
    "## Homophily metrics\n",
    "\n",
    "We use three homophily metrics. All three are based on a sample of edges $S^+ \\subseteq E$ and a sample of non-edges $S^- \\subseteq (V \\times V \\setminus E)$. On these, we need to employ a measure of similarity between nodes $\\delta: V \\times V \\rightarrow [0, 1]$. This will be one minus the cosine distance between their interest vectors.\n",
    "\n",
    "### Ratio\n",
    "\n",
    "$$ \\frac{\\sum_{i, j \\in S^+} \\delta(i, j)}{\\sum_{i, j \\in S^-} \\delta(i, j)} $$\n",
    "  Which is what we've been using until now. This measure of homophily is **not bounded** as it lives in $[0, \\infty]$. This means we have 0 for the ideal case of no homophily (there is 0 similarity in links and a positive similarity in non links) and $\\infty$ for the ideal case of homophily (there is similarity 1 in links and 0 in non links). This measure is \"scale free\": if all the links have similarity 1 and the non links have similarity 0.1 is **the same** as if they have similarity 0.1 and 0.01, respectively.\n",
    "  \n",
    "### Subtraction\n",
    "\n",
    "$$ \\frac{1}{|S^+|}{\\sum_{i, j \\in S^+} \\delta(i, j)} - \\frac{1}{|S^-|} {\\sum_{i, j \\in S^-} \\delta(i, j)} $$. This measure lives in $[-1, 1]$ (corresponding to the two ideal case said before). It is not scale free: it needs for the difference to be as close as possible to 1.\n",
    "\n",
    "### Probabilistic\n",
    "\n",
    "If we assume that $P \\bigg( (i, j) \\in E \\bigg) = \\delta(i, j)$, then we can define homophily as the log likelihood of the graph we observe under this assumption. That would be: $$\n",
    "\\log \\Bigg( \\prod_{(i, j) \\in S^+} \\delta(i, j) \\cdot \\prod_{(i, j) \\in S^-} (1 - \\delta(i, j) ) \\Bigg) = $$  $$\n",
    "\\sum_{(i, j) \\in S^+} \\log \\delta(i, j) + \\sum_{(i, j) \\in S^-} \\log \\big( 1 - \\delta(i, j) \\big)\n",
    "$$ Even if in practice we will need to use $\\log(x + \\epsilon)$ for a small $\\epsilon$ to avoid errors in case a link with $0$ homophily actually exists or viceversa (a $(i,j)$ with $1$ does not). This measure lives in $[-\\infty, 0]$; the perfect lack of homophily can go arbitrarily down, the ideal case will be always rated as $0$. It is not scale free: it needs for the difference to be as close as possible to 1. Also, this measure will give different results for network of different sizes: a graph with more nodes will have lower likelihood.\n",
    "\n"
   ]
  },
  {
   "cell_type": "code",
   "execution_count": 35,
   "metadata": {},
   "outputs": [],
   "source": [
    "EPSILON = 1E-5\n",
    "METRIC_NAMES = ['ratio', 'sub', 'like']\n",
    "def homophily_metrics(similarity_edges, similarity_nonedges):\n",
    "    return {\n",
    "        'ratio': np.mean(similarity_edges) / np.mean(similarity_nonedges),\n",
    "        'sub': np.mean(similarity_edges) - np.mean(similarity_nonedges),\n",
    "        'like': np.sum(np.log(similarity_edges + EPSILON)) + np.sum(np.log(1 - similarity_nonedges + EPSILON)) ,\n",
    "    }"
   ]
  },
  {
   "cell_type": "markdown",
   "metadata": {},
   "source": [
    "## Analysis"
   ]
  },
  {
   "cell_type": "code",
   "execution_count": 9,
   "metadata": {},
   "outputs": [],
   "source": [
    "# similarity between connected nodes\n",
    "def sim_in(G):\n",
    "    sims = []\n",
    "    for i in G.nodes:\n",
    "        for j in list(G.neighbors(i)):\n",
    "            sims.append(1 - distance.cosine(G.nodes[i]['interests'], G.nodes[j]['interests']))\n",
    "    return np.mean(sims)\n",
    "\n",
    "def select_notedge(G):\n",
    "    v1 = np.random.choice(G.nodes())\n",
    "    v2 = np.random.choice(G.nodes())\n",
    "\n",
    "    while (v1,v2) in G.edges or v1==v2:\n",
    "        v1 = np.random.choice(G.nodes())\n",
    "        v2 = np.random.choice(G.nodes())\n",
    "    return v1, v2\n",
    "#     n = nx.number_of_nodes(G)\n",
    "#     while True:\n",
    "#         a, b = np.random.randint(0, n, size=2)\n",
    "#         if (a, b) not in G.edges:\n",
    "#             return a, b\n",
    "\n",
    "# similarity between disconnected nodes\n",
    "def sim_out(G, samples):\n",
    "    sims_out = []\n",
    "    for c in range(samples):\n",
    "        i, j = select_notedge(G)\n",
    "        sims_out.append(1 - distance.cosine(G.nodes[i]['interests'], G.nodes[j]['interests']))\n",
    "    return np.mean(sims_out)"
   ]
  },
  {
   "cell_type": "code",
   "execution_count": 17,
   "metadata": {},
   "outputs": [],
   "source": [
    "metric = list(homophily_metrics(si, so).items())[0]"
   ]
  },
  {
   "cell_type": "code",
   "execution_count": 34,
   "metadata": {},
   "outputs": [
    {
     "name": "stdout",
     "output_type": "stream",
     "text": [
      "In similarity: 0.9680 \n",
      "Out similarity: 0.7123 \n",
      "\n",
      "Homophily rate (ratio): 1.3589\n",
      "Homophily rate (sub): 0.2557\n",
      "Homophily rate (like): -1.2784\n"
     ]
    }
   ],
   "source": [
    "# graph_path = '../WoMG/data/graph/lesmiserables/lesmiserables_edgelist.txt'\n",
    "\n",
    "# graph = read_graph(weighted=False, \n",
    "#                graph=graph_path,\n",
    "#                directed=False)\n",
    "\n",
    "# emb = n2i_nx_graph(nx_graph=graph, topics=3)\n",
    "for i in graph.nodes:\n",
    "    graph.node[i]['interests'] = emb[i]\n",
    "\n",
    "si = sim_in(graph)\n",
    "so = sim_out(graph, 5000)\n",
    "print (\"In similarity: {:.4f} \\nOut similarity: {:.4f} \\n\".format(si, so, 2))\n",
    "print('\\n'.join('Homophily rate ({}): {:.4f}'.format(*metric) for metric in homophily_metrics(si, so).items()))"
   ]
  },
  {
   "cell_type": "markdown",
   "metadata": {},
   "source": [
    "## Grid search"
   ]
  },
  {
   "cell_type": "code",
   "execution_count": 46,
   "metadata": {},
   "outputs": [],
   "source": [
    "graph = '../data/graph/lesmiserables/lesmiserables_edgelist.txt'\n",
    "G = read_graph(weighted=False, \n",
    "               graph=graph,\n",
    "               directed=False)\n",
    "# p_val = [0.25, 0.5, 0.75, 1.25, 1.5, 1.75, 2]\n",
    "# q_val = [0.25, 0.5, 0.75, 1.25, 1.5, 1.75, 2]\n",
    "\n",
    "p_val = [0.25, 2]\n",
    "q_val = [0.25, 2]\n",
    "\n",
    "topics=[15]\n",
    "dimensions=[128]\n",
    "walk_length=[80]\n",
    "num_walks=[10]\n",
    "window_size=[10]\n",
    "iiter=[1]"
   ]
  },
  {
   "cell_type": "code",
   "execution_count": 47,
   "metadata": {},
   "outputs": [],
   "source": [
    "stat = []"
   ]
  },
  {
   "cell_type": "code",
   "execution_count": 49,
   "metadata": {},
   "outputs": [],
   "source": [
    "args_list = []\n",
    "\n",
    "# nr_experiments = 20\n",
    "nr_experiments = 1\n",
    "\n",
    "for t in topics:\n",
    "    for d in dimensions:\n",
    "        for wk in walk_length:\n",
    "            for n in num_walks:\n",
    "                for wi in window_size:\n",
    "                    for ii in iiter:\n",
    "                        for p in p_val:\n",
    "                            for q in q_val:\n",
    "                                for seed in range(nr_experiments):\n",
    "                                    args = [t, d, wk, n, wi, ii, p, q, seed]\n",
    "                                    args_list.append(args)"
   ]
  },
  {
   "cell_type": "code",
   "execution_count": 50,
   "metadata": {},
   "outputs": [],
   "source": [
    "def run_experiment(*args):\n",
    "    t, d, wk, n, wi, ii, p, q, seed = args\n",
    "    G_emb = n2i_nx_graph(nx_graph=G, topics=t, \n",
    "             dimensions=d, walk_length=wk,\n",
    "             num_walks=n, window_size=wi,\n",
    "             iiter=ii, p=p, q=q,\n",
    "             seed=seed+int(1000*(q+p)))\n",
    "    for i in G.nodes:\n",
    "        G.node[i]['interests'] = G_emb[i]\n",
    "    si = sim_in(G)\n",
    "    so = sim_out(G, 5000)\n",
    "    metrics = homophily_metrics(si, so)\n",
    "    return args + tuple(metrics[metric_name] for metric_name in METRIC_NAMES)"
   ]
  },
  {
   "cell_type": "code",
   "execution_count": 51,
   "metadata": {},
   "outputs": [
    {
     "data": {
      "text/plain": [
       "(15,\n",
       " 128,\n",
       " 80,\n",
       " 10,\n",
       " 10,\n",
       " 1,\n",
       " 0.25,\n",
       " 0.25,\n",
       " 0,\n",
       " 1.4663480083103053,\n",
       " 0.294485879473552,\n",
       " -1.0751277795931196)"
      ]
     },
     "execution_count": 51,
     "metadata": {},
     "output_type": "execute_result"
    }
   ],
   "source": [
    "run_experiment(*args_list[0])"
   ]
  },
  {
   "cell_type": "code",
   "execution_count": 52,
   "metadata": {},
   "outputs": [],
   "source": [
    "result = list(map(lambda x: run_experiment(*x), args_list))"
   ]
  },
  {
   "cell_type": "code",
   "execution_count": 53,
   "metadata": {},
   "outputs": [
    {
     "data": {
      "text/html": [
       "<div>\n",
       "<style scoped>\n",
       "    .dataframe tbody tr th:only-of-type {\n",
       "        vertical-align: middle;\n",
       "    }\n",
       "\n",
       "    .dataframe tbody tr th {\n",
       "        vertical-align: top;\n",
       "    }\n",
       "\n",
       "    .dataframe thead th {\n",
       "        text-align: right;\n",
       "    }\n",
       "</style>\n",
       "<table border=\"1\" class=\"dataframe\">\n",
       "  <thead>\n",
       "    <tr style=\"text-align: right;\">\n",
       "      <th></th>\n",
       "      <th>t</th>\n",
       "      <th>d</th>\n",
       "      <th>wk</th>\n",
       "      <th>n</th>\n",
       "      <th>wi</th>\n",
       "      <th>ii</th>\n",
       "      <th>p</th>\n",
       "      <th>q</th>\n",
       "      <th>seed</th>\n",
       "      <th>hom_ratio</th>\n",
       "      <th>hom_sub</th>\n",
       "      <th>hom_like</th>\n",
       "    </tr>\n",
       "  </thead>\n",
       "  <tbody>\n",
       "    <tr>\n",
       "      <th>0</th>\n",
       "      <td>15</td>\n",
       "      <td>128</td>\n",
       "      <td>80</td>\n",
       "      <td>10</td>\n",
       "      <td>10</td>\n",
       "      <td>1</td>\n",
       "      <td>0.25</td>\n",
       "      <td>0.25</td>\n",
       "      <td>0</td>\n",
       "      <td>1.567581</td>\n",
       "      <td>0.332935</td>\n",
       "      <td>-0.967173</td>\n",
       "    </tr>\n",
       "    <tr>\n",
       "      <th>1</th>\n",
       "      <td>15</td>\n",
       "      <td>128</td>\n",
       "      <td>80</td>\n",
       "      <td>10</td>\n",
       "      <td>10</td>\n",
       "      <td>1</td>\n",
       "      <td>0.25</td>\n",
       "      <td>2.00</td>\n",
       "      <td>0</td>\n",
       "      <td>1.622753</td>\n",
       "      <td>0.342527</td>\n",
       "      <td>-0.912196</td>\n",
       "    </tr>\n",
       "    <tr>\n",
       "      <th>2</th>\n",
       "      <td>15</td>\n",
       "      <td>128</td>\n",
       "      <td>80</td>\n",
       "      <td>10</td>\n",
       "      <td>10</td>\n",
       "      <td>1</td>\n",
       "      <td>2.00</td>\n",
       "      <td>0.25</td>\n",
       "      <td>0</td>\n",
       "      <td>1.378304</td>\n",
       "      <td>0.236179</td>\n",
       "      <td>-1.129209</td>\n",
       "    </tr>\n",
       "    <tr>\n",
       "      <th>3</th>\n",
       "      <td>15</td>\n",
       "      <td>128</td>\n",
       "      <td>80</td>\n",
       "      <td>10</td>\n",
       "      <td>10</td>\n",
       "      <td>1</td>\n",
       "      <td>2.00</td>\n",
       "      <td>2.00</td>\n",
       "      <td>0</td>\n",
       "      <td>1.396736</td>\n",
       "      <td>0.264654</td>\n",
       "      <td>-1.170518</td>\n",
       "    </tr>\n",
       "  </tbody>\n",
       "</table>\n",
       "</div>"
      ],
      "text/plain": [
       "    t    d  wk   n  wi  ii     p     q  seed  hom_ratio   hom_sub  hom_like\n",
       "0  15  128  80  10  10   1  0.25  0.25     0   1.567581  0.332935 -0.967173\n",
       "1  15  128  80  10  10   1  0.25  2.00     0   1.622753  0.342527 -0.912196\n",
       "2  15  128  80  10  10   1  2.00  0.25     0   1.378304  0.236179 -1.129209\n",
       "3  15  128  80  10  10   1  2.00  2.00     0   1.396736  0.264654 -1.170518"
      ]
     },
     "execution_count": 53,
     "metadata": {},
     "output_type": "execute_result"
    }
   ],
   "source": [
    "df = pd.DataFrame(result, columns=['t', 'd', 'wk', 'n', 'wi', 'ii', 'p', 'q', 'seed',\n",
    "                                   *['hom_%s' % s for s in METRIC_NAMES]])\n",
    "df.head()"
   ]
  },
  {
   "cell_type": "code",
   "execution_count": 54,
   "metadata": {},
   "outputs": [],
   "source": [
    "df2 = df.groupby(['p', 'q'])['hom_ratio'].mean().unstack()"
   ]
  },
  {
   "cell_type": "code",
   "execution_count": 55,
   "metadata": {},
   "outputs": [
    {
     "name": "stdout",
     "output_type": "stream",
     "text": [
      "Populating the interactive namespace from numpy and matplotlib\n"
     ]
    },
    {
     "name": "stderr",
     "output_type": "stream",
     "text": [
      "/usr/local/lib/python3.7/site-packages/IPython/core/magics/pylab.py:160: UserWarning: pylab import has clobbered these variables: ['seed']\n",
      "`%matplotlib` prevents importing * from pylab and numpy\n",
      "  \"\\n`%matplotlib` prevents importing * from pylab and numpy\"\n"
     ]
    }
   ],
   "source": [
    "%pylab inline\n",
    "\n",
    "import seaborn as sns"
   ]
  },
  {
   "cell_type": "code",
   "execution_count": 56,
   "metadata": {},
   "outputs": [
    {
     "data": {
      "text/plain": [
       "Text(0.5,1,'Homophily (mean of 20 realizations)')"
      ]
     },
     "execution_count": 56,
     "metadata": {},
     "output_type": "execute_result"
    },
    {
     "data": {
      "image/png": "[encoded data removed]",
      "text/plain": [
       "<Figure size 432x288 with 2 Axes>"
      ]
     },
     "metadata": {
      "needs_background": "light"
     },
     "output_type": "display_data"
    }
   ],
   "source": [
    "sns.heatmap(df2)\n",
    "plt.title('Homophily (mean of 20 realizations)')"
   ]
  },
  {
   "cell_type": "code",
   "execution_count": 58,
   "metadata": {},
   "outputs": [
    {
     "data": {
      "text/plain": [
       "(1.37830373551764, 1.6227528882923294)"
      ]
     },
     "execution_count": 58,
     "metadata": {},
     "output_type": "execute_result"
    }
   ],
   "source": [
    "df.hom_ratio.min(), df.hom_ratio.max()"
   ]
  },
  {
   "cell_type": "code",
   "execution_count": null,
   "metadata": {},
   "outputs": [],
   "source": []
  }
 ],
 "metadata": {
  "kernelspec": {
   "display_name": "Python 3",
   "language": "python",
   "name": "python3"
  },
  "language_info": {
   "codemirror_mode": {
    "name": "ipython",
    "version": 3
   },
   "file_extension": ".py",
   "mimetype": "text/x-python",
   "name": "python",
   "nbconvert_exporter": "python",
   "pygments_lexer": "ipython3",
   "version": "3.7.3"
  }
 },
 "nbformat": 4,
 "nbformat_minor": 2
}
