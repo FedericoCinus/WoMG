{
 "cells": [
  {
   "cell_type": "markdown",
   "metadata": {},
   "source": [
    "# Comparison plot - node2vec vs NMF vs prop_model"
   ]
  },
  {
   "cell_type": "code",
   "execution_count": 37,
   "metadata": {},
   "outputs": [],
   "source": [
    "import pathlib\n",
    "import numpy as np\n",
    "import pandas as pd\n",
    "import networkx as nx\n",
    "from scipy.spatial import distance\n",
    "from n2i.__main__ import n2i_main, n2i_nx_graph\n",
    "from n2i.node2vec import read_graph\n",
    "from sklearn.decomposition import NMF\n",
    "from tqdm import tqdm"
   ]
  },
  {
   "cell_type": "code",
   "execution_count": 27,
   "metadata": {},
   "outputs": [],
   "source": [
    "# similarity between connected nodes\n",
    "def sim_in(G):\n",
    "    sims = []\n",
    "    for i in G.nodes:\n",
    "        for j in list(G.neighbors(i)):\n",
    "            sims.append(1 - distance.cosine(G.nodes[i]['interests'], G.nodes[j]['interests']))\n",
    "    return np.mean(sims)\n",
    "\n",
    "def select_notedge(G):\n",
    "    v1 = np.random.choice(G.nodes())\n",
    "    v2 = np.random.choice(G.nodes())\n",
    "\n",
    "    while (v1,v2) in G.edges or v1==v2:\n",
    "        v1 = np.random.choice(G.nodes())\n",
    "        v2 = np.random.choice(G.nodes())\n",
    "    return v1, v2\n",
    "#     n = nx.number_of_nodes(G)\n",
    "#     while True:\n",
    "#         a, b = np.random.randint(0, n, size=2)\n",
    "#         if (a, b) not in G.edges:\n",
    "#             return a, b\n",
    "\n",
    "# similarity between disconnected nodes\n",
    "def sim_out(G, samples=5000):\n",
    "    sims_out = []\n",
    "    for c in range(samples):\n",
    "        i, j = select_notedge(G)\n",
    "        sims_out.append(1 - distance.cosine(G.nodes[i]['interests'], G.nodes[j]['interests']))\n",
    "    return np.mean(sims_out)\n",
    "\n",
    "def homophily(G):\n",
    "    return sim_in(G) / sim_out(G, 10000)"
   ]
  },
  {
   "cell_type": "code",
   "execution_count": 3,
   "metadata": {},
   "outputs": [],
   "source": [
    "nr_nodes = 200\n",
    "G = nx.barabasi_albert_graph(nr_nodes, m=2)\n",
    "for edge in G.edges():\n",
    "    G[edge[0]][edge[1]]['weight'] = 1"
   ]
  },
  {
   "cell_type": "code",
   "execution_count": 4,
   "metadata": {},
   "outputs": [],
   "source": [
    "H_val = [0, 0.5, 1]\n",
    "\n",
    "dimensions = [10]"
   ]
  },
  {
   "cell_type": "code",
   "execution_count": 11,
   "metadata": {},
   "outputs": [],
   "source": [
    "hyperparams = []\n",
    "\n",
    "nr_experiments = 10\n",
    "\n",
    "for d in dimensions:\n",
    "    for h in H_val:\n",
    "        for seed in range(nr_experiments):\n",
    "            args = [d, h, seed]\n",
    "            hyperparams.append(args)"
   ]
  },
  {
   "cell_type": "markdown",
   "metadata": {},
   "source": [
    "## ---------------- node2vec --------------------------"
   ]
  },
  {
   "cell_type": "code",
   "execution_count": 5,
   "metadata": {},
   "outputs": [],
   "source": [
    "# walk_length=[80]\n",
    "# num_walks=[10]\n",
    "# window_size=[10]\n",
    "# iiter=[1]"
   ]
  },
  {
   "cell_type": "code",
   "execution_count": 19,
   "metadata": {},
   "outputs": [],
   "source": [
    "def run_n2v(*args):\n",
    "    '''\n",
    "    Returns results list with H instead of p and q of node2vec\n",
    "    '''\n",
    "    wk, n, wi, ii = 80, 10, 10, 1\n",
    "    d, h, seed = args\n",
    "    G_emb = n2i_nx_graph(nx_graph=G, \n",
    "             dimensions=d, walk_length=wk,\n",
    "             num_walks=n, window_size=wi,\n",
    "             iiter=ii, p=pow(2, -12*h+6), q=pow(2, 12*h-6),\n",
    "             beta=5,\n",
    "             alpha_value=0.5,\n",
    "             beta_value=0.5,\n",
    "             prior='beta',\n",
    "             seed=seed)\n",
    "    for i in G.nodes:\n",
    "        G.node[i]['interests'] = G_emb[i]\n",
    "    si = sim_in(G)\n",
    "    so = sim_out(G, 50)\n",
    "    return ['n2v'] + list(args) + [si, so]"
   ]
  },
  {
   "cell_type": "code",
   "execution_count": 20,
   "metadata": {},
   "outputs": [
    {
     "data": {
      "text/plain": [
       "['n2v', 10, 0, 0, 0.7121272777969186, 0.6987534058094025]"
      ]
     },
     "execution_count": 20,
     "metadata": {},
     "output_type": "execute_result"
    }
   ],
   "source": [
    "run_n2v(*hyperparams[0])"
   ]
  },
  {
   "cell_type": "markdown",
   "metadata": {},
   "source": [
    "## --------- propagation model ----------"
   ]
  },
  {
   "cell_type": "code",
   "execution_count": 21,
   "metadata": {},
   "outputs": [],
   "source": [
    "def propag_emb(G, nr_nodes, nr_topics, steps, perc_influencers, seed=42):\n",
    "    '''\n",
    "    generates interests with the propagation method starting from \"n\" nodes\n",
    "    '''\n",
    "    numb_influencers = int(perc_influencers/100 * nr_nodes)\n",
    "    \n",
    "    # INITIALIZE\n",
    "    np.random.seed(seed)\n",
    "    for i in list(G.nodes):\n",
    "        interests = np.random.dirichlet(np.ones(nr_topics)*1./nr_topics)\n",
    "        G.nodes[i]['interests'] = interests\n",
    "    \n",
    "    # SELECT INFLUENCERS\n",
    "    # start with a random node\n",
    "    influencers = [np.random.choice(G.nodes)]\n",
    "\n",
    "    for i in range(numb_influencers):\n",
    "        # calculate distances to current influencers\n",
    "        sp = {i: nx.shortest_path(G, i) for i in influencers}\n",
    "        distances = np.array([list(len(sp[j][i]) for j in influencers) for i in G.nodes()])\n",
    "        # select the node fartest from all influencers\n",
    "        influencers.append(distances.min(axis=1).argmax()) \n",
    "      \n",
    "    # PROPAGATION STEP\n",
    "    for c in range(steps):\n",
    "        i = np.random.choice(nr_nodes)\n",
    "        interests_i = G.nodes[i]['interests']\n",
    "        #print(G.nodes[0]['interests'])\n",
    "        lr = 0.5 if i in influencers else 0.01\n",
    "        #lr = 0.1\n",
    "        for j in list(G.neighbors(i)):\n",
    "            if j in influencers:\n",
    "                continue\n",
    "            interests_j = G.nodes[j]['interests']\n",
    "            interests_j += interests_i * lr\n",
    "            interests_j /= interests_j.sum()\n",
    "            G.nodes[j]['interests'] = interests_j\n",
    "            #print(interests_j)\n",
    "        \n",
    "\n",
    "    # preparing matrix\n",
    "    prop_emb = [G.nodes[_]['interests'] for _ in range(nr_nodes)]\n",
    "    return np.array(prop_emb)"
   ]
  },
  {
   "cell_type": "code",
   "execution_count": 23,
   "metadata": {},
   "outputs": [],
   "source": [
    "def run_clpa(*args):\n",
    "    '''\n",
    "    Returns list of results with H param instead of steps and percentange of influencers\n",
    "    '''\n",
    "    d, h, seed = args\n",
    "    G_emb =  propag_emb(G, nr_nodes, nr_topics=d, \n",
    "                        steps=int(pow(2, 7*h+3)), perc_influencers=pow(2, 7*h-8),\n",
    "                        seed=seed+int(1000*(h)))\n",
    "    for i in G.nodes:\n",
    "        G.node[i]['interests'] = G_emb[i]\n",
    "    si = sim_in(G)\n",
    "    so = sim_out(G)\n",
    "    return ['clpa'] + list(args) + [si, so]"
   ]
  },
  {
   "cell_type": "markdown",
   "metadata": {},
   "source": [
    "## ---------------- NMF ----------------"
   ]
  },
  {
   "cell_type": "code",
   "execution_count": 25,
   "metadata": {},
   "outputs": [],
   "source": [
    "def overlap_generator(G):\n",
    "    \"\"\"\n",
    "    Function to generate a neighbourhood overlap matrix (second-order proximity matrix).\n",
    "    :param G: Graph object.\n",
    "    :return laps: Overlap matrix.\n",
    "    \"\"\"\n",
    "    #print(\"Second order proximity calculation.\\n\")\n",
    "    degrees = nx.degree(G)\n",
    "    sets = {node:set(G.neighbors(node)) for node in nx.nodes(G)}\n",
    "    laps = np.array([[float(len(sets[node_1].intersection(sets[node_2])))/(float(degrees[node_1]*degrees[node_2])**0.5) if node_1 != node_2 else 0.0 for node_1 in nx.nodes(G)] for node_2 in nx.nodes(G)],dtype = np.float64)\n",
    "    return laps"
   ]
  },
  {
   "cell_type": "code",
   "execution_count": 26,
   "metadata": {},
   "outputs": [],
   "source": [
    "def nmf_emb(G, dimensions, seed, eta=0.5, beta=0.):\n",
    "    A = nx.to_numpy_matrix(G)\n",
    "    eta = eta\n",
    "    beta = beta\n",
    "    S_0 = overlap_generator(G)\n",
    "    R = np.random.rand(G.number_of_nodes(), G.number_of_nodes())\n",
    "    \n",
    "    S = eta*S_0 + A + beta*R\n",
    "    model = NMF(n_components=dimensions, init='random', random_state=seed)\n",
    "    W = model.fit_transform(S)\n",
    "    H = model.components_\n",
    "    return W"
   ]
  },
  {
   "cell_type": "code",
   "execution_count": 31,
   "metadata": {},
   "outputs": [],
   "source": [
    "def run_nmf(*args):\n",
    "    d, h, seed = args\n",
    "    G_emb =  nmf_emb(G, dimensions=d,  \n",
    "                        eta=2, beta=16-16*h,\n",
    "                        seed=seed)\n",
    "    for i in G.nodes:\n",
    "        G.node[i]['interests'] = G_emb[i]\n",
    "    si = sim_in(G)\n",
    "    so = sim_out(G)\n",
    "    return ['nmf'] + list(args) + [si, so]"
   ]
  },
  {
   "cell_type": "code",
   "execution_count": 32,
   "metadata": {},
   "outputs": [
    {
     "data": {
      "text/plain": [
       "['nmf', 10, 0, 0, 0.6225482146636173, 0.6172332488734159]"
      ]
     },
     "execution_count": 32,
     "metadata": {},
     "output_type": "execute_result"
    }
   ],
   "source": [
    "run_nmf(*hyperparams[0])"
   ]
  },
  {
   "cell_type": "code",
   "execution_count": 84,
   "metadata": {},
   "outputs": [
    {
     "name": "stderr",
     "output_type": "stream",
     "text": [
      "/Users/Cinus/Library/Python/3.6/lib/python/site-packages/numpy/matrixlib/defmatrix.py:71: PendingDeprecationWarning: the matrix subclass is not the recommended way to represent matrices or deal with linear algebra (see https://docs.scipy.org/doc/numpy/user/numpy-for-matlab-users.html). Please adjust your code to use regular ndarray.\n",
      "  return matrix(data, dtype=dtype, copy=False)\n"
     ]
    }
   ],
   "source": [
    "# result_nmf = list(map(lambda x: run_nmf(*x), args_nmf))\n",
    "# result_n2v = list(map(lambda x: run_n2v(*x), hyperparams))\n",
    "# result_clpa = list(map(lambda x: run_clpa(*x), args_clpa))"
   ]
  },
  {
   "cell_type": "code",
   "execution_count": 39,
   "metadata": {},
   "outputs": [],
   "source": [
    "hyperparams = [[2, 0.5, 42]]\n",
    "from tqdm import tqdm_notebook as tqdm"
   ]
  },
  {
   "cell_type": "code",
   "execution_count": 44,
   "metadata": {},
   "outputs": [
    {
     "data": {
      "application/vnd.jupyter.widget-view+json": {
       "model_id": "5d019fcd4016419f97c70b92fe91b830",
       "version_major": 2,
       "version_minor": 0
      },
      "text/plain": [
       "HBox(children=(IntProgress(value=0, max=1), HTML(value='')))"
      ]
     },
     "metadata": {},
     "output_type": "display_data"
    }
   ],
   "source": [
    "with open(\"comparison-methods.csv\", \"w\") as f:\n",
    "    f.write('method,num_dim,H,seed,s_in,s_out\\n')\n",
    "    for args in tqdm(hyperparams):\n",
    "        for run in (run_clpa, run_n2v, run_nmf):\n",
    "            result = run(*args)\n",
    "            f.write(','.join([str(r) for r in result]) + '\\n')\n",
    "            f.flush()"
   ]
  },
  {
   "cell_type": "code",
   "execution_count": 136,
   "metadata": {},
   "outputs": [
    {
     "data": {
      "text/html": [
       "<div>\n",
       "<table border=\"1\" class=\"dataframe\">\n",
       "  <thead>\n",
       "    <tr style=\"text-align: right;\">\n",
       "      <th></th>\n",
       "      <th>method</th>\n",
       "      <th>num_dim</th>\n",
       "      <th>H</th>\n",
       "      <th>seed</th>\n",
       "      <th>s_in</th>\n",
       "      <th>s_out</th>\n",
       "    </tr>\n",
       "  </thead>\n",
       "  <tbody>\n",
       "    <tr>\n",
       "      <th>0</th>\n",
       "      <td>clpa</td>\n",
       "      <td>10</td>\n",
       "      <td>0.0</td>\n",
       "      <td>0</td>\n",
       "      <td>0.175809</td>\n",
       "      <td>0.197664</td>\n",
       "    </tr>\n",
       "    <tr>\n",
       "      <th>1</th>\n",
       "      <td>n2v</td>\n",
       "      <td>10</td>\n",
       "      <td>0.0</td>\n",
       "      <td>0</td>\n",
       "      <td>0.723841</td>\n",
       "      <td>0.702870</td>\n",
       "    </tr>\n",
       "    <tr>\n",
       "      <th>2</th>\n",
       "      <td>nmf</td>\n",
       "      <td>10</td>\n",
       "      <td>0.0</td>\n",
       "      <td>0</td>\n",
       "      <td>0.627135</td>\n",
       "      <td>0.622753</td>\n",
       "    </tr>\n",
       "    <tr>\n",
       "      <th>3</th>\n",
       "      <td>clpa</td>\n",
       "      <td>10</td>\n",
       "      <td>0.1</td>\n",
       "      <td>0</td>\n",
       "      <td>0.195988</td>\n",
       "      <td>0.206976</td>\n",
       "    </tr>\n",
       "    <tr>\n",
       "      <th>4</th>\n",
       "      <td>n2v</td>\n",
       "      <td>10</td>\n",
       "      <td>0.1</td>\n",
       "      <td>0</td>\n",
       "      <td>0.716294</td>\n",
       "      <td>0.677828</td>\n",
       "    </tr>\n",
       "  </tbody>\n",
       "</table>\n",
       "</div>"
      ],
      "text/plain": [
       "  method  num_dim    H  seed      s_in     s_out\n",
       "0   clpa       10  0.0     0  0.175809  0.197664\n",
       "1    n2v       10  0.0     0  0.723841  0.702870\n",
       "2    nmf       10  0.0     0  0.627135  0.622753\n",
       "3   clpa       10  0.1     0  0.195988  0.206976\n",
       "4    n2v       10  0.1     0  0.716294  0.677828"
      ]
     },
     "execution_count": 136,
     "metadata": {},
     "output_type": "execute_result"
    }
   ],
   "source": [
    "df = pd.read_csv(\"comparison-methods.csv\")\n",
    "df.head()"
   ]
  },
  {
   "cell_type": "code",
   "execution_count": 137,
   "metadata": {},
   "outputs": [],
   "source": [
    "df.insert(2,'ratio', df['s_in']/df['s_out'])"
   ]
  },
  {
   "cell_type": "code",
   "execution_count": 138,
   "metadata": {},
   "outputs": [],
   "source": [
    "df.insert(2,'diff', df['s_in'] - df['s_out'])"
   ]
  },
  {
   "cell_type": "code",
   "execution_count": 139,
   "metadata": {},
   "outputs": [],
   "source": [
    "EPSILON = 1E-5\n",
    "df.insert(2,'like', np.log(df['s_in'] + EPSILON) + np.log(1 - df['s_out'] + EPSILON))"
   ]
  },
  {
   "cell_type": "code",
   "execution_count": 140,
   "metadata": {},
   "outputs": [
    {
     "data": {
      "text/html": [
       "<div>\n",
       "<table border=\"1\" class=\"dataframe\">\n",
       "  <thead>\n",
       "    <tr style=\"text-align: right;\">\n",
       "      <th></th>\n",
       "      <th>method</th>\n",
       "      <th>num_dim</th>\n",
       "      <th>like</th>\n",
       "      <th>diff</th>\n",
       "      <th>ratio</th>\n",
       "      <th>H</th>\n",
       "      <th>seed</th>\n",
       "      <th>s_in</th>\n",
       "      <th>s_out</th>\n",
       "    </tr>\n",
       "  </thead>\n",
       "  <tbody>\n",
       "    <tr>\n",
       "      <th>0</th>\n",
       "      <td>clpa</td>\n",
       "      <td>10</td>\n",
       "      <td>-1.958518</td>\n",
       "      <td>-0.021855</td>\n",
       "      <td>0.889432</td>\n",
       "      <td>0.0</td>\n",
       "      <td>0</td>\n",
       "      <td>0.175809</td>\n",
       "      <td>0.197664</td>\n",
       "    </tr>\n",
       "    <tr>\n",
       "      <th>1</th>\n",
       "      <td>n2v</td>\n",
       "      <td>10</td>\n",
       "      <td>-1.536724</td>\n",
       "      <td>0.020970</td>\n",
       "      <td>1.029835</td>\n",
       "      <td>0.0</td>\n",
       "      <td>0</td>\n",
       "      <td>0.723841</td>\n",
       "      <td>0.702870</td>\n",
       "    </tr>\n",
       "    <tr>\n",
       "      <th>2</th>\n",
       "      <td>nmf</td>\n",
       "      <td>10</td>\n",
       "      <td>-1.441407</td>\n",
       "      <td>0.004381</td>\n",
       "      <td>1.007036</td>\n",
       "      <td>0.0</td>\n",
       "      <td>0</td>\n",
       "      <td>0.627135</td>\n",
       "      <td>0.622753</td>\n",
       "    </tr>\n",
       "    <tr>\n",
       "      <th>3</th>\n",
       "      <td>clpa</td>\n",
       "      <td>10</td>\n",
       "      <td>-1.861542</td>\n",
       "      <td>-0.010988</td>\n",
       "      <td>0.946910</td>\n",
       "      <td>0.1</td>\n",
       "      <td>0</td>\n",
       "      <td>0.195988</td>\n",
       "      <td>0.206976</td>\n",
       "    </tr>\n",
       "    <tr>\n",
       "      <th>4</th>\n",
       "      <td>n2v</td>\n",
       "      <td>10</td>\n",
       "      <td>-1.466287</td>\n",
       "      <td>0.038467</td>\n",
       "      <td>1.056750</td>\n",
       "      <td>0.1</td>\n",
       "      <td>0</td>\n",
       "      <td>0.716294</td>\n",
       "      <td>0.677828</td>\n",
       "    </tr>\n",
       "  </tbody>\n",
       "</table>\n",
       "</div>"
      ],
      "text/plain": [
       "  method  num_dim      like      diff     ratio    H  seed      s_in     s_out\n",
       "0   clpa       10 -1.958518 -0.021855  0.889432  0.0     0  0.175809  0.197664\n",
       "1    n2v       10 -1.536724  0.020970  1.029835  0.0     0  0.723841  0.702870\n",
       "2    nmf       10 -1.441407  0.004381  1.007036  0.0     0  0.627135  0.622753\n",
       "3   clpa       10 -1.861542 -0.010988  0.946910  0.1     0  0.195988  0.206976\n",
       "4    n2v       10 -1.466287  0.038467  1.056750  0.1     0  0.716294  0.677828"
      ]
     },
     "execution_count": 140,
     "metadata": {},
     "output_type": "execute_result"
    }
   ],
   "source": [
    "df.head()"
   ]
  },
  {
   "cell_type": "code",
   "execution_count": 141,
   "metadata": {},
   "outputs": [
    {
     "data": {
      "image/png": "[encoded data removed]",
      "text/plain": [
       "<matplotlib.figure.Figure at 0x14a6cff60>"
      ]
     },
     "metadata": {},
     "output_type": "display_data"
    }
   ],
   "source": [
    "import seaborn as sns\n",
    "sns.set()\n",
    "pd.pivot_table(data=df, values=\"ratio\",columns=\"method\",index=\"H\", aggfunc=np.mean).plot()\n",
    "#sns.pointplot(data=df, x='H', y='ratio', hue='method', )\n",
    "plt.savefig('Plots/comparison-plot.pdf')"
   ]
  },
  {
   "cell_type": "code",
   "execution_count": 132,
   "metadata": {},
   "outputs": [
    {
     "data": {
      "text/plain": [
       "<matplotlib.axes._subplots.AxesSubplot at 0x14a838f98>"
      ]
     },
     "execution_count": 132,
     "metadata": {},
     "output_type": "execute_result"
    },
    {
     "data": {
      "image/png": "[encoded data removed]",
      "text/plain": [
       "<matplotlib.figure.Figure at 0x14a829748>"
      ]
     },
     "metadata": {},
     "output_type": "display_data"
    }
   ],
   "source": [
    "pd.pivot_table(data=df, values=\"diff\",columns=\"method\",index=\"H\", aggfunc=np.mean).plot()"
   ]
  },
  {
   "cell_type": "code",
   "execution_count": 133,
   "metadata": {},
   "outputs": [
    {
     "name": "stderr",
     "output_type": "stream",
     "text": [
      "/Library/Frameworks/Python.framework/Versions/3.6/lib/python3.6/site-packages/scipy/stats/stats.py:1706: FutureWarning: Using a non-tuple sequence for multidimensional indexing is deprecated; use `arr[tuple(seq)]` instead of `arr[seq]`. In the future this will be interpreted as an array index, `arr[np.array(seq)]`, which will result either in an error or a different result.\n",
      "  return np.add.reduce(sorted[indexer] * weights, axis=axis) / sumval\n"
     ]
    },
    {
     "data": {
      "text/plain": [
       "<matplotlib.axes._subplots.AxesSubplot at 0x14a644ac8>"
      ]
     },
     "execution_count": 133,
     "metadata": {},
     "output_type": "execute_result"
    },
    {
     "data": {
      "image/png": "[encoded data removed]",
      "text/plain": [
       "<matplotlib.figure.Figure at 0x149e9b8d0>"
      ]
     },
     "metadata": {},
     "output_type": "display_data"
    }
   ],
   "source": [
    "#pd.pivot_table(data=df, values=\"like\",columns=\"method\",index=\"H\", aggfunc=np.mean).plot()\n",
    "sns.pointplot(data=df, x='H', y='like', hue='method')"
   ]
  },
  {
   "cell_type": "code",
   "execution_count": 147,
   "metadata": {},
   "outputs": [
    {
     "data": {
      "text/plain": [
       "6.25"
      ]
     },
     "execution_count": 147,
     "metadata": {},
     "output_type": "execute_result"
    }
   ],
   "source": [
    "pow(2, -5)*200"
   ]
  },
  {
   "cell_type": "code",
   "execution_count": null,
   "metadata": {},
   "outputs": [],
   "source": []
  }
 ],
 "metadata": {
  "kernelspec": {
   "display_name": "Python 3",
   "language": "python",
   "name": "python3"
  },
  "language_info": {
   "codemirror_mode": {
    "name": "ipython",
    "version": 3
   },
   "file_extension": ".py",
   "mimetype": "text/x-python",
   "name": "python",
   "nbconvert_exporter": "python",
   "pygments_lexer": "ipython3",
   "version": "3.6.0"
  }
 },
 "nbformat": 4,
 "nbformat_minor": 2
}
