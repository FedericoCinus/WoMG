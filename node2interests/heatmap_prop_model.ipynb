{
 "cells": [
  {
   "cell_type": "code",
   "execution_count": 11,
   "metadata": {},
   "outputs": [],
   "source": [
    "import networkx as nx\n",
    "import numpy as np\n",
    "from tqdm import tqdm_notebook\n",
    "from scipy.spatial import distance\n",
    "import pandas as pd"
   ]
  },
  {
   "cell_type": "code",
   "execution_count": 2,
   "metadata": {},
   "outputs": [],
   "source": [
    "# similarity between connected nodes\n",
    "def sim_in(G):\n",
    "    sims = []\n",
    "    for i in G.nodes:\n",
    "        for j in list(G.neighbors(i)):\n",
    "            sims.append(1 - distance.cosine(G.nodes[i]['interests'], G.nodes[j]['interests']))\n",
    "    return np.mean(sims)\n",
    "\n",
    "def select_notedge(G):\n",
    "    v1 = np.random.choice(G.nodes())\n",
    "    v2 = np.random.choice(G.nodes())\n",
    "\n",
    "    while (v1,v2) in G.edges or v1==v2:\n",
    "        v1 = np.random.choice(G.nodes())\n",
    "        v2 = np.random.choice(G.nodes())\n",
    "    return v1, v2\n",
    "#     n = nx.number_of_nodes(G)\n",
    "#     while True:\n",
    "#         a, b = np.random.randint(0, n, size=2)\n",
    "#         if (a, b) not in G.edges:\n",
    "#             return a, b\n",
    "\n",
    "# similarity between disconnected nodes\n",
    "def sim_out(G, samples):\n",
    "    sims_out = []\n",
    "    for c in range(samples):\n",
    "        i, j = select_notedge(G)\n",
    "        sims_out.append(1 - distance.cosine(G.nodes[i]['interests'], G.nodes[j]['interests']))\n",
    "    return np.mean(sims_out)\n",
    "\n",
    "def homophily(G):\n",
    "    return sim_in(G) / sim_out(G, 10000)"
   ]
  },
  {
   "cell_type": "code",
   "execution_count": 51,
   "metadata": {},
   "outputs": [],
   "source": [
    "nr_nodes = 200\n",
    "\n",
    "#G = nx.watts_strogatz_graph(nr_nodes, 10, 0.1, seed=42)\n",
    "G = nx.barabasi_albert_graph(nr_nodes, m=2)\n",
    "for edge in G.edges():\n",
    "    G[edge[0]][edge[1]]['weight'] = 1"
   ]
  },
  {
   "cell_type": "code",
   "execution_count": 52,
   "metadata": {},
   "outputs": [],
   "source": [
    "def propag_emb(G, nr_nodes, nr_topics, steps, perc_influencers, seed=42):\n",
    "    '''\n",
    "    generates interests with the propagation method starting from \"n\" nodes\n",
    "    '''\n",
    "    numb_influencers = int(perc_influencers/100 * nr_nodes)\n",
    "    \n",
    "    # INITIALIZE\n",
    "    np.random.seed(seed)\n",
    "    for i in list(G.nodes):\n",
    "        interests = np.random.dirichlet(np.ones(nr_topics)*1./nr_topics)\n",
    "        G.nodes[i]['interests'] = interests\n",
    "    \n",
    "    # SELECT INFLUENCERS\n",
    "    # start with a random node\n",
    "    influencers = [np.random.choice(G.nodes)]\n",
    "\n",
    "    for i in range(numb_influencers):\n",
    "        # calculate distances to current influencers\n",
    "        sp = {i: nx.shortest_path(G, i) for i in influencers}\n",
    "        distances = np.array([list(len(sp[j][i]) for j in influencers) for i in G.nodes()])\n",
    "        # select the node fartest from all influencers\n",
    "        influencers.append(distances.min(axis=1).argmax()) \n",
    "      \n",
    "    # PROPAGATION STEP\n",
    "    for c in range(steps):\n",
    "        i = np.random.choice(nr_nodes)\n",
    "        interests_i = G.nodes[i]['interests']\n",
    "        #print(G.nodes[0]['interests'])\n",
    "        lr = 0.5 if i in influencers else 0.01\n",
    "        #lr = 0.1\n",
    "        for j in list(G.neighbors(i)):\n",
    "            if j in influencers:\n",
    "                continue\n",
    "            interests_j = G.nodes[j]['interests']\n",
    "            interests_j += interests_i * lr\n",
    "            interests_j /= interests_j.sum()\n",
    "            G.nodes[j]['interests'] = interests_j\n",
    "            #print(interests_j)\n",
    "        \n",
    "\n",
    "    # preparing matrix\n",
    "    prop_emb = [G.nodes[_]['interests'] for _ in range(nr_nodes)]\n",
    "    return np.array(prop_emb)"
   ]
  },
  {
   "cell_type": "code",
   "execution_count": 158,
   "metadata": {},
   "outputs": [],
   "source": [
    "dimensions = [10]\n",
    "steps = [10**i for i in range(0, 7)]\n",
    "percentages = [2**i*100 for i in range(-8, 0)]"
   ]
  },
  {
   "cell_type": "code",
   "execution_count": 159,
   "metadata": {},
   "outputs": [],
   "source": [
    "args_list = []\n",
    "\n",
    "nr_experiments = 10\n",
    "\n",
    "for d in dimensions:\n",
    "    for s in steps:\n",
    "        for p in percentages:\n",
    "            for seed in range(nr_experiments):\n",
    "                args = [d, s, p, seed]\n",
    "                args_list.append(args)"
   ]
  },
  {
   "cell_type": "code",
   "execution_count": 160,
   "metadata": {},
   "outputs": [],
   "source": [
    "def run_experiment(*args):\n",
    "    d, s, p, seed = args\n",
    "    G_emb =  propag_emb(G, nr_nodes, nr_topics=d, \n",
    "                        steps=s, perc_influencers=p,\n",
    "                        seed=seed+int(1000*(p)))\n",
    "    for i in G.nodes:\n",
    "        G.node[i]['interests'] = G_emb[i]\n",
    "    si = sim_in(G)\n",
    "    so = sim_out(G, 5000)\n",
    "    return args + (si/so,)"
   ]
  },
  {
   "cell_type": "code",
   "execution_count": 161,
   "metadata": {},
   "outputs": [
    {
     "name": "stdout",
     "output_type": "stream",
     "text": [
      "CPU times: user 1h 51min 6s, sys: 6.17 s, total: 1h 51min 12s\n",
      "Wall time: 1h 51min 18s\n"
     ]
    }
   ],
   "source": [
    "%%time\n",
    "result = list(map(lambda x: run_experiment(*x), args_list))"
   ]
  },
  {
   "cell_type": "code",
   "execution_count": 162,
   "metadata": {},
   "outputs": [
    {
     "data": {
      "text/html": [
       "<div>\n",
       "<table border=\"1\" class=\"dataframe\">\n",
       "  <thead>\n",
       "    <tr style=\"text-align: right;\">\n",
       "      <th></th>\n",
       "      <th>d</th>\n",
       "      <th>steps</th>\n",
       "      <th>influencers fraction</th>\n",
       "      <th>seed</th>\n",
       "      <th>hom</th>\n",
       "    </tr>\n",
       "  </thead>\n",
       "  <tbody>\n",
       "    <tr>\n",
       "      <th>0</th>\n",
       "      <td>10</td>\n",
       "      <td>1</td>\n",
       "      <td>0.390625</td>\n",
       "      <td>0</td>\n",
       "      <td>1.047719</td>\n",
       "    </tr>\n",
       "    <tr>\n",
       "      <th>1</th>\n",
       "      <td>10</td>\n",
       "      <td>1</td>\n",
       "      <td>0.390625</td>\n",
       "      <td>1</td>\n",
       "      <td>0.958530</td>\n",
       "    </tr>\n",
       "    <tr>\n",
       "      <th>2</th>\n",
       "      <td>10</td>\n",
       "      <td>1</td>\n",
       "      <td>0.390625</td>\n",
       "      <td>2</td>\n",
       "      <td>0.942143</td>\n",
       "    </tr>\n",
       "    <tr>\n",
       "      <th>3</th>\n",
       "      <td>10</td>\n",
       "      <td>1</td>\n",
       "      <td>0.390625</td>\n",
       "      <td>3</td>\n",
       "      <td>1.015940</td>\n",
       "    </tr>\n",
       "    <tr>\n",
       "      <th>4</th>\n",
       "      <td>10</td>\n",
       "      <td>1</td>\n",
       "      <td>0.390625</td>\n",
       "      <td>4</td>\n",
       "      <td>1.022035</td>\n",
       "    </tr>\n",
       "  </tbody>\n",
       "</table>\n",
       "</div>"
      ],
      "text/plain": [
       "    d  steps  influencers fraction  seed       hom\n",
       "0  10      1              0.390625     0  1.047719\n",
       "1  10      1              0.390625     1  0.958530\n",
       "2  10      1              0.390625     2  0.942143\n",
       "3  10      1              0.390625     3  1.015940\n",
       "4  10      1              0.390625     4  1.022035"
      ]
     },
     "execution_count": 162,
     "metadata": {},
     "output_type": "execute_result"
    }
   ],
   "source": [
    "df = pd.DataFrame(result, columns=['d', 'steps', 'influencers fraction', 'seed', 'hom'])\n",
    "df.head()"
   ]
  },
  {
   "cell_type": "code",
   "execution_count": 163,
   "metadata": {},
   "outputs": [],
   "source": [
    "df2 = df.groupby(['steps', 'influencers fraction'])['hom'].mean().unstack()"
   ]
  },
  {
   "cell_type": "code",
   "execution_count": 164,
   "metadata": {},
   "outputs": [
    {
     "name": "stdout",
     "output_type": "stream",
     "text": [
      "Populating the interactive namespace from numpy and matplotlib\n"
     ]
    },
    {
     "name": "stderr",
     "output_type": "stream",
     "text": [
      "/Library/Frameworks/Python.framework/Versions/3.6/lib/python3.6/site-packages/IPython/core/magics/pylab.py:160: UserWarning: pylab import has clobbered these variables: ['seed']\n",
      "`%matplotlib` prevents importing * from pylab and numpy\n",
      "  \"\\n`%matplotlib` prevents importing * from pylab and numpy\"\n"
     ]
    }
   ],
   "source": [
    "%pylab inline\n",
    "\n",
    "import seaborn as sns"
   ]
  },
  {
   "cell_type": "code",
   "execution_count": 170,
   "metadata": {},
   "outputs": [
    {
     "data": {
      "image/png": "[encoded data removed]",
      "text/plain": [
       "<matplotlib.figure.Figure at 0x12e1ed208>"
      ]
     },
     "metadata": {},
     "output_type": "display_data"
    }
   ],
   "source": [
    "pp = sns.heatmap(df2)\n",
    "pp.axes.set_xticklabels([\"$2^{%d}$\" % i for i in range(-8, 0)])\n",
    "pp.axes.set_yticklabels([\"$10^{%d}$\" % i for i in range(0, 7)])\n",
    "plt.xticks(rotation=360)\n",
    "plt.yticks(rotation=-360)\n",
    "plt.title('Homophily')\n",
    "plt.savefig('Plots/heatmap_prop.pdf')"
   ]
  },
  {
   "cell_type": "code",
   "execution_count": 113,
   "metadata": {},
   "outputs": [
    {
     "data": {
      "text/plain": [
       "['$2^3$', '$2^4$', '$2^5$', '$2^6$', '$2^7$', '$2^8$', '$2^9$', '$2^10$']"
      ]
     },
     "execution_count": 113,
     "metadata": {},
     "output_type": "execute_result"
    }
   ],
   "source": [
    "[u\"$2^{}$\".format(x) for x in range(3, 11)]"
   ]
  },
  {
   "cell_type": "code",
   "execution_count": 173,
   "metadata": {},
   "outputs": [
    {
     "data": {
      "text/plain": [
       "0.390625"
      ]
     },
     "execution_count": 173,
     "metadata": {},
     "output_type": "execute_result"
    }
   ],
   "source": [
    "pow(2,-8)*100"
   ]
  },
  {
   "cell_type": "code",
   "execution_count": null,
   "metadata": {},
   "outputs": [],
   "source": []
  }
 ],
 "metadata": {
  "kernelspec": {
   "display_name": "Python 3",
   "language": "python",
   "name": "python3"
  },
  "language_info": {
   "codemirror_mode": {
    "name": "ipython",
    "version": 3
   },
   "file_extension": ".py",
   "mimetype": "text/x-python",
   "name": "python",
   "nbconvert_exporter": "python",
   "pygments_lexer": "ipython3",
   "version": "3.7.4"
  }
 },
 "nbformat": 4,
 "nbformat_minor": 2
}
