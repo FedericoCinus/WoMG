{
 "cells": [
  {
   "cell_type": "markdown",
   "metadata": {},
   "source": [
    "# heatmap nmf"
   ]
  },
  {
   "cell_type": "code",
   "execution_count": 1,
   "metadata": {},
   "outputs": [
    {
     "name": "stderr",
     "output_type": "stream",
     "text": [
      "/Library/Frameworks/Python.framework/Versions/3.6/lib/python3.6/importlib/_bootstrap.py:205: RuntimeWarning: numpy.ufunc size changed, may indicate binary incompatibility. Expected 216, got 192\n",
      "  return f(*args, **kwds)\n",
      "/Library/Frameworks/Python.framework/Versions/3.6/lib/python3.6/importlib/_bootstrap.py:205: ImportWarning: can't resolve package from __spec__ or __package__, falling back on __name__ and __path__\n",
      "  return f(*args, **kwds)\n",
      "/Library/Frameworks/Python.framework/Versions/3.6/lib/python3.6/importlib/_bootstrap.py:205: RuntimeWarning: numpy.ufunc size changed, may indicate binary incompatibility. Expected 216, got 192\n",
      "  return f(*args, **kwds)\n",
      "/Library/Frameworks/Python.framework/Versions/3.6/lib/python3.6/importlib/_bootstrap.py:205: ImportWarning: can't resolve package from __spec__ or __package__, falling back on __name__ and __path__\n",
      "  return f(*args, **kwds)\n"
     ]
    }
   ],
   "source": [
    "import pathlib\n",
    "import numpy as np\n",
    "import pandas as pd\n",
    "import networkx as nx\n",
    "from scipy.spatial import distance\n",
    "from n2i.__main__ import n2i_main, n2i_nx_graph\n",
    "from n2i.node2vec import read_graph\n",
    "from sklearn.decomposition import NMF"
   ]
  },
  {
   "cell_type": "code",
   "execution_count": 15,
   "metadata": {},
   "outputs": [],
   "source": [
    "nr_nodes = 200\n",
    "\n",
    "#G = nx.watts_strogatz_graph(nr_nodes, 10, 0.1, seed=42)\n",
    "G = nx.barabasi_albert_graph(nr_nodes, m=2)\n",
    "for edge in G.edges():\n",
    "    G[edge[0]][edge[1]]['weight'] = 1"
   ]
  },
  {
   "cell_type": "code",
   "execution_count": 3,
   "metadata": {},
   "outputs": [],
   "source": [
    "# similarity between connected nodes\n",
    "def sim_in(G):\n",
    "    sims = []\n",
    "    for i in G.nodes:\n",
    "        for j in list(G.neighbors(i)):\n",
    "            sims.append(1 - distance.cosine(G.nodes[i]['interests'], G.nodes[j]['interests']))\n",
    "    return np.mean(sims)\n",
    "\n",
    "def select_notedge(G):\n",
    "    v1 = np.random.choice(G.nodes())\n",
    "    v2 = np.random.choice(G.nodes())\n",
    "\n",
    "    while (v1,v2) in G.edges or v1==v2:\n",
    "        v1 = np.random.choice(G.nodes())\n",
    "        v2 = np.random.choice(G.nodes())\n",
    "    return v1, v2\n",
    "#     n = nx.number_of_nodes(G)\n",
    "#     while True:\n",
    "#         a, b = np.random.randint(0, n, size=2)\n",
    "#         if (a, b) not in G.edges:\n",
    "#             return a, b\n",
    "\n",
    "# similarity between disconnected nodes\n",
    "def sim_out(G, samples):\n",
    "    sims_out = []\n",
    "    for c in range(samples):\n",
    "        i, j = select_notedge(G)\n",
    "        sims_out.append(1 - distance.cosine(G.nodes[i]['interests'], G.nodes[j]['interests']))\n",
    "    return np.mean(sims_out)\n",
    "\n",
    "def homophily(G):\n",
    "    return sim_in(G) / sim_out(G, 10000)"
   ]
  },
  {
   "cell_type": "code",
   "execution_count": 21,
   "metadata": {},
   "outputs": [],
   "source": [
    "def overlap_generator(G):\n",
    "    \"\"\"\n",
    "    Function to generate a neighbourhood overlap matrix (second-order proximity matrix).\n",
    "    :param G: Graph object.\n",
    "    :return laps: Overlap matrix.\n",
    "    \"\"\"\n",
    "    #print(\"Second order proximity calculation.\\n\")\n",
    "    degrees = nx.degree(G)\n",
    "    sets = {node:set(G.neighbors(node)) for node in nx.nodes(G)}\n",
    "    laps = np.array([[float(len(sets[node_1].intersection(sets[node_2])))/(float(degrees[node_1]*degrees[node_2])**0.5) if node_1 != node_2 else 0.0 for node_1 in nx.nodes(G)] for node_2 in nx.nodes(G)],dtype = np.float64)\n",
    "    return laps"
   ]
  },
  {
   "cell_type": "code",
   "execution_count": 22,
   "metadata": {},
   "outputs": [],
   "source": [
    "def nmf_emb(G, dimensions, seed, eta=0.5, beta=0.):\n",
    "    A = nx.to_numpy_matrix(G)\n",
    "    eta = eta\n",
    "    beta = beta\n",
    "    S_0 = overlap_generator(G)\n",
    "    R = np.random.rand(G.number_of_nodes(), G.number_of_nodes())\n",
    "\n",
    "    S = eta*S_0 + A + beta*R\n",
    "    model = NMF(n_components=dimensions, init='random', random_state=seed)\n",
    "    W = model.fit_transform(S)\n",
    "    H = model.components_\n",
    "    return W"
   ]
  },
  {
   "cell_type": "code",
   "execution_count": 31,
   "metadata": {},
   "outputs": [],
   "source": [
    "dimensions = [10]\n",
    "eta = [2**i for i in range(-3, 5)]\n",
    "beta = [2**i for i in range(-3, 5)]"
   ]
  },
  {
   "cell_type": "code",
   "execution_count": 32,
   "metadata": {},
   "outputs": [],
   "source": [
    "args_list = []\n",
    "\n",
    "nr_experiments = 10\n",
    "\n",
    "for d in dimensions:\n",
    "    for e in eta:\n",
    "        for b in beta:\n",
    "            for seed in range(nr_experiments):\n",
    "                args = [d, e, b, seed]\n",
    "                args_list.append(args)"
   ]
  },
  {
   "cell_type": "code",
   "execution_count": 33,
   "metadata": {},
   "outputs": [],
   "source": [
    "def run_experiment(*args):\n",
    "    d, e, b, seed = args\n",
    "    G_emb =  nmf_emb(G, dimensions=d,  \n",
    "                        eta=e, beta=b,\n",
    "                        seed=seed+int(1000*(e)))\n",
    "    for i in G.nodes:\n",
    "        G.node[i]['interests'] = G_emb[i]\n",
    "    si = sim_in(G)\n",
    "    so = sim_out(G, 5000)\n",
    "    return args + (si/so,)"
   ]
  },
  {
   "cell_type": "code",
   "execution_count": 34,
   "metadata": {},
   "outputs": [
    {
     "name": "stderr",
     "output_type": "stream",
     "text": [
      "/Users/Cinus/Library/Python/3.6/lib/python/site-packages/numpy/matrixlib/defmatrix.py:71: PendingDeprecationWarning: the matrix subclass is not the recommended way to represent matrices or deal with linear algebra (see https://docs.scipy.org/doc/numpy/user/numpy-for-matlab-users.html). Please adjust your code to use regular ndarray.\n",
      "  return matrix(data, dtype=dtype, copy=False)\n"
     ]
    }
   ],
   "source": [
    "result = list(map(lambda x: run_experiment(*x), args_list))"
   ]
  },
  {
   "cell_type": "code",
   "execution_count": 39,
   "metadata": {},
   "outputs": [
    {
     "data": {
      "text/html": [
       "<div>\n",
       "<table border=\"1\" class=\"dataframe\">\n",
       "  <thead>\n",
       "    <tr style=\"text-align: right;\">\n",
       "      <th></th>\n",
       "      <th>d</th>\n",
       "      <th>eta</th>\n",
       "      <th>beta</th>\n",
       "      <th>seed</th>\n",
       "      <th>hom</th>\n",
       "    </tr>\n",
       "  </thead>\n",
       "  <tbody>\n",
       "    <tr>\n",
       "      <th>0</th>\n",
       "      <td>10</td>\n",
       "      <td>0.125</td>\n",
       "      <td>0.125</td>\n",
       "      <td>0</td>\n",
       "      <td>1.033143</td>\n",
       "    </tr>\n",
       "    <tr>\n",
       "      <th>1</th>\n",
       "      <td>10</td>\n",
       "      <td>0.125</td>\n",
       "      <td>0.125</td>\n",
       "      <td>1</td>\n",
       "      <td>0.949469</td>\n",
       "    </tr>\n",
       "    <tr>\n",
       "      <th>2</th>\n",
       "      <td>10</td>\n",
       "      <td>0.125</td>\n",
       "      <td>0.125</td>\n",
       "      <td>2</td>\n",
       "      <td>0.990482</td>\n",
       "    </tr>\n",
       "    <tr>\n",
       "      <th>3</th>\n",
       "      <td>10</td>\n",
       "      <td>0.125</td>\n",
       "      <td>0.125</td>\n",
       "      <td>3</td>\n",
       "      <td>1.093325</td>\n",
       "    </tr>\n",
       "    <tr>\n",
       "      <th>4</th>\n",
       "      <td>10</td>\n",
       "      <td>0.125</td>\n",
       "      <td>0.125</td>\n",
       "      <td>4</td>\n",
       "      <td>1.062818</td>\n",
       "    </tr>\n",
       "  </tbody>\n",
       "</table>\n",
       "</div>"
      ],
      "text/plain": [
       "    d    eta   beta  seed       hom\n",
       "0  10  0.125  0.125     0  1.033143\n",
       "1  10  0.125  0.125     1  0.949469\n",
       "2  10  0.125  0.125     2  0.990482\n",
       "3  10  0.125  0.125     3  1.093325\n",
       "4  10  0.125  0.125     4  1.062818"
      ]
     },
     "execution_count": 39,
     "metadata": {},
     "output_type": "execute_result"
    }
   ],
   "source": [
    "df = pd.DataFrame(result, columns=['d', 'eta', 'beta', 'seed', 'hom'])\n",
    "df.head()"
   ]
  },
  {
   "cell_type": "code",
   "execution_count": 40,
   "metadata": {},
   "outputs": [],
   "source": [
    "df2 = df.groupby(['eta', 'beta'])['hom'].mean().unstack()"
   ]
  },
  {
   "cell_type": "code",
   "execution_count": 41,
   "metadata": {},
   "outputs": [
    {
     "name": "stdout",
     "output_type": "stream",
     "text": [
      "Populating the interactive namespace from numpy and matplotlib\n"
     ]
    }
   ],
   "source": [
    "%pylab inline\n",
    "\n",
    "import seaborn as sns"
   ]
  },
  {
   "cell_type": "code",
   "execution_count": 43,
   "metadata": {},
   "outputs": [
    {
     "data": {
      "image/png": "[encoded data removed]",
      "text/plain": [
       "<matplotlib.figure.Figure at 0x136311828>"
      ]
     },
     "metadata": {},
     "output_type": "display_data"
    }
   ],
   "source": [
    "sns.heatmap(df2)\n",
    "plt.title('Homophily (mean of 10 realizations)')\n",
    "plt.savefig('Plots/heatmap_nmf.pdf')"
   ]
  },
  {
   "cell_type": "code",
   "execution_count": null,
   "metadata": {},
   "outputs": [],
   "source": []
  }
 ],
 "metadata": {
  "kernelspec": {
   "display_name": "Python 3",
   "language": "python",
   "name": "python3"
  },
  "language_info": {
   "codemirror_mode": {
    "name": "ipython",
    "version": 3
   },
   "file_extension": ".py",
   "mimetype": "text/x-python",
   "name": "python",
   "nbconvert_exporter": "python",
   "pygments_lexer": "ipython3",
   "version": "3.6.0"
  }
 },
 "nbformat": 4,
 "nbformat_minor": 2
}
