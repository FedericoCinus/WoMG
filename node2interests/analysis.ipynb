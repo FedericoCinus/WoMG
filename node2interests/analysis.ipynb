{
 "cells": [
  {
   "cell_type": "markdown",
   "metadata": {},
   "source": [
    "# analysis"
   ]
  },
  {
   "cell_type": "code",
   "execution_count": 1,
   "metadata": {},
   "outputs": [
    {
     "name": "stdout",
     "output_type": "stream",
     "text": [
      "Populating the interactive namespace from numpy and matplotlib\n"
     ]
    }
   ],
   "source": [
    "import pathlib\n",
    "import numpy as np\n",
    "import pandas as pd\n",
    "import networkx as nx\n",
    "from scipy.spatial import distance\n",
    "from n2i.__main__ import n2i_main, n2i_nx_graph\n",
    "from n2i.node2vec import read_graph\n",
    "\n",
    "%pylab inline\n",
    "import seaborn as sns"
   ]
  },
  {
   "cell_type": "code",
   "execution_count": 2,
   "metadata": {},
   "outputs": [],
   "source": [
    "graph_path = '../data/graph/lesmiserables/lesmiserables_edgelist.txt'\n",
    "\n",
    "graph = read_graph(weighted=False, \n",
    "               graph=graph_path,\n",
    "               directed=False)"
   ]
  },
  {
   "cell_type": "code",
   "execution_count": 3,
   "metadata": {},
   "outputs": [
    {
     "name": "stdout",
     "output_type": "stream",
     "text": [
      "CPU times: user 974 ms, sys: 37.8 ms, total: 1.01 s\n",
      "Wall time: 848 ms\n"
     ]
    }
   ],
   "source": [
    "%%time\n",
    "emb = n2i_nx_graph(nx_graph=graph, topics=3, tf=False)"
   ]
  },
  {
   "cell_type": "code",
   "execution_count": 4,
   "metadata": {},
   "outputs": [
    {
     "data": {
      "text/plain": [
       "{0: array([0.43182251, 1.59351425, 0.02717535]),\n",
       " 1: array([0.3985025 , 1.68188378, 0.00850125]),\n",
       " 2: array([0.53262376, 1.13394689, 0.22818202]),\n",
       " 3: array([0.54338952, 1.15051291, 0.20061693]),\n",
       " 4: array([0.47086669, 1.54664967, 0.02117078]),\n",
       " 5: array([0.46784913, 1.55845817, 0.00871848]),\n",
       " 6: array([0.46281141, 1.5203481 , 0.03932917]),\n",
       " 7: array([0.46536562, 1.57488598, 0.        ]),\n",
       " 8: array([0.48281395, 1.49641597, 0.03342143]),\n",
       " 9: array([0.47576994, 1.47405615, 0.05701375]),\n",
       " 10: array([0.58560891, 0.80533422, 0.39545079]),\n",
       " 11: array([0.55710498, 0.57297603, 0.59577113]),\n",
       " 12: array([0.55914141, 0.37471192, 0.7337974 ]),\n",
       " 13: array([0.64217476, 0.53228542, 0.52505293]),\n",
       " 14: array([0.57808477, 0.72563357, 0.46554577]),\n",
       " 15: array([0.66902953, 0.58900304, 0.44687711]),\n",
       " 16: array([0.40288654, 0.39148388, 0.92467901]),\n",
       " 17: array([0.33659877, 0.42738467, 0.98014752]),\n",
       " 18: array([0.45510079, 0.27023353, 0.93609665]),\n",
       " 19: array([0.50330651, 0.18079642, 0.94174506]),\n",
       " 20: array([0.3538355 , 0.36048254, 1.00577156]),\n",
       " 21: array([0.45741543, 0.29034477, 0.9182844 ]),\n",
       " 22: array([0.46489464, 0.21739285, 0.96455593]),\n",
       " 23: array([0.48196376, 0.3936292 , 0.82184629]),\n",
       " 24: array([0.76966495, 0.31552318, 0.52074967]),\n",
       " 25: array([0.76346287, 0.        , 0.75614347]),\n",
       " 26: array([0.76718474, 0.15981739, 0.63578857]),\n",
       " 27: array([0.66905691, 0.3513313 , 0.62791046]),\n",
       " 28: array([0.59862135, 0.56026255, 0.59398091]),\n",
       " 29: array([0.51748568, 0.75894084, 0.52484725]),\n",
       " 30: array([0.55513555, 0.21864522, 0.85562914]),\n",
       " 31: array([0.46779664, 0.60775006, 0.69132194]),\n",
       " 32: array([0.61376058, 0.62597712, 0.49037019]),\n",
       " 33: array([0.66780472, 0.49293273, 0.52557014]),\n",
       " 34: array([0.5138576 , 0.77613883, 0.51631301]),\n",
       " 35: array([0.62345697, 0.69512703, 0.44382173]),\n",
       " 36: array([0.50543417, 0.7740031 , 0.53930251]),\n",
       " 37: array([0.57304747, 0.66015203, 0.53386345]),\n",
       " 38: array([0.64485703, 0.71377071, 0.39955577]),\n",
       " 39: array([0.81130605, 0.06883675, 0.64001247]),\n",
       " 40: array([0.79375333, 0.15691955, 0.60302072]),\n",
       " 41: array([0.80541717, 0.23144327, 0.534289  ]),\n",
       " 42: array([0.77248721, 0.22471245, 0.58533998]),\n",
       " 43: array([0.57471899, 0.67918018, 0.50949675]),\n",
       " 44: array([0.56714292, 0.64584377, 0.55687369]),\n",
       " 45: array([0.51463659, 0.61679224, 0.6498099 ]),\n",
       " 46: array([1.22352759, 0.26021011, 0.        ]),\n",
       " 47: array([1.13362599, 0.26003036, 0.10801226]),\n",
       " 48: array([0.8818471 , 0.21319555, 0.43671579]),\n",
       " 49: array([0.74819031, 0.24580023, 0.602466  ]),\n",
       " 50: array([0.68866363, 0.31217127, 0.63578743]),\n",
       " 51: array([0.76993407, 0.18759833, 0.60967556]),\n",
       " 52: array([0.65641245, 0.21904875, 0.73533462]),\n",
       " 53: array([0.73357512, 0.25054148, 0.60721783]),\n",
       " 54: array([0.74928488, 0.21780185, 0.61021161]),\n",
       " 55: array([0.79566103, 0.2333167 , 0.53569564]),\n",
       " 56: array([0.82097612, 0.18968506, 0.5427313 ]),\n",
       " 57: array([1.00302322, 0.12450963, 0.34218903]),\n",
       " 58: array([0.94360571, 0.04573962, 0.48027213]),\n",
       " 59: array([1.03375098, 0.00135622, 0.39567031]),\n",
       " 60: array([0.9469519 , 0.13347451, 0.40714978]),\n",
       " 61: array([0.94204299, 0.173823  , 0.38521733]),\n",
       " 62: array([0.9153877 , 0.17746013, 0.42127824]),\n",
       " 63: array([0.97035567, 0.1438912 , 0.36947561]),\n",
       " 64: array([0.96170616, 0.06513071, 0.44192939]),\n",
       " 65: array([1.01625186, 0.14005657, 0.31894767]),\n",
       " 66: array([0.9170776 , 0.27579552, 0.34270252]),\n",
       " 67: array([0.98399117, 0.10735186, 0.38525353]),\n",
       " 68: array([0.72113049, 0.25177233, 0.63245826]),\n",
       " 69: array([0.81234679, 0.17056183, 0.57289135]),\n",
       " 70: array([0.72099283, 0.3695392 , 0.54416934]),\n",
       " 71: array([0.75257475, 0.4070656 , 0.4747303 ]),\n",
       " 72: array([0.64967797, 0.3557688 , 0.65012735]),\n",
       " 73: array([1.10248709, 0.10649522, 0.23918304]),\n",
       " 74: array([1.09633573, 0.17508545, 0.20067283]),\n",
       " 75: array([0.88761111, 0.21591746, 0.44710379]),\n",
       " 76: array([1.04244261, 0.10188389, 0.30847777])}"
      ]
     },
     "execution_count": 4,
     "metadata": {},
     "output_type": "execute_result"
    }
   ],
   "source": [
    "emb"
   ]
  },
  {
   "cell_type": "code",
   "execution_count": 5,
   "metadata": {},
   "outputs": [],
   "source": [
    "# similarity between connected nodes\n",
    "def sim_in(G):\n",
    "    sims = []\n",
    "    for i in G.nodes:\n",
    "        for j in list(G.neighbors(i)):\n",
    "            sims.append(1 - distance.cosine(G.nodes[i]['interests'], G.nodes[j]['interests']))\n",
    "    return np.mean(sims)\n",
    "\n",
    "def select_notedge(G):\n",
    "    v1 = np.random.choice(G.nodes())\n",
    "    v2 = np.random.choice(G.nodes())\n",
    "\n",
    "    while (v1,v2) in G.edges or v1==v2:\n",
    "        v1 = np.random.choice(G.nodes())\n",
    "        v2 = np.random.choice(G.nodes())\n",
    "    return v1, v2\n",
    "#     n = nx.number_of_nodes(G)\n",
    "#     while True:\n",
    "#         a, b = np.random.randint(0, n, size=2)\n",
    "#         if (a, b) not in G.edges:\n",
    "#             return a, b\n",
    "\n",
    "# similarity between disconnected nodes\n",
    "def sim_out(G, samples):\n",
    "    sims_out = []\n",
    "    for c in range(samples):\n",
    "        i, j = select_notedge(G)\n",
    "        sims_out.append(1 - distance.cosine(G.nodes[i]['interests'], G.nodes[j]['interests']))\n",
    "    return np.mean(sims_out)\n",
    "\n",
    "def homophily(G):\n",
    "    return sim_in(G) / sim_out(G, 10000)"
   ]
  },
  {
   "cell_type": "code",
   "execution_count": 6,
   "metadata": {},
   "outputs": [],
   "source": [
    "graph = '../data/graph/lesmiserables/lesmiserables_edgelist.txt'\n",
    "G = read_graph(weighted=False, \n",
    "               graph=graph,\n",
    "               directed=False)\n",
    "p_val = [0.1, 0.25, 0.5, 0.75, 1.25, 1.5, 1.75, 2, 4, 8, 10, 20, 40]\n",
    "q_val = [0.1, 0.25, 0.5, 0.75, 1.25, 1.5, 1.75, 2, 4, 8, 10, 20, 40]\n",
    "\n",
    "topics=[15]\n",
    "dimensions=[128]\n",
    "walk_length=[80]\n",
    "num_walks=[10]\n",
    "window_size=[10]\n",
    "iiter=[1]"
   ]
  },
  {
   "cell_type": "code",
   "execution_count": 7,
   "metadata": {},
   "outputs": [],
   "source": [
    "args_list = []\n",
    "\n",
    "nr_experiments = 20\n",
    "\n",
    "for t in topics:\n",
    "    for d in dimensions:\n",
    "        for wk in walk_length:\n",
    "            for n in num_walks:\n",
    "                for wi in window_size:\n",
    "                    for ii in iiter:\n",
    "                        for p in p_val:\n",
    "                            for q in q_val:\n",
    "                                for seed in range(nr_experiments):\n",
    "                                    args = [t, d, wk, n, wi, ii, p, q, seed]\n",
    "                                    args_list.append(args)"
   ]
  },
  {
   "cell_type": "code",
   "execution_count": 8,
   "metadata": {},
   "outputs": [],
   "source": [
    "def run_experiment(*args):\n",
    "    t, d, wk, n, wi, ii, p, q, seed = args\n",
    "    G_emb = n2i_nx_graph(nx_graph=G, topics=t, \n",
    "             dimensions=d, walk_length=wk,\n",
    "             num_walks=n, window_size=wi,\n",
    "             iiter=ii, p=p, q=q,\n",
    "             seed = seed + int(1000*(q+p)))\n",
    "    for i in G.nodes:\n",
    "        G.node[i]['interests'] = G_emb[i]\n",
    "    si = sim_in(G)\n",
    "    so = sim_out(G, 5000)\n",
    "    return args + (si/so,)"
   ]
  },
  {
   "cell_type": "code",
   "execution_count": null,
   "metadata": {},
   "outputs": [],
   "source": [
    "result = list(map(lambda x: run_experiment(*x), args_list))"
   ]
  },
  {
   "cell_type": "code",
   "execution_count": null,
   "metadata": {},
   "outputs": [],
   "source": [
    "df = pd.DataFrame(result, columns=['t', 'd', 'wk', 'n', 'wi', 'ii', 'p', 'q', 'seed', 'hom'])\n",
    "df2 = df.groupby(['p', 'q'])['hom'].mean().unstack()"
   ]
  },
  {
   "cell_type": "code",
   "execution_count": null,
   "metadata": {},
   "outputs": [],
   "source": [
    "df.loc()[[2420]]"
   ]
  },
  {
   "cell_type": "code",
   "execution_count": null,
   "metadata": {},
   "outputs": [],
   "source": [
    "sns.heatmap(df2)\n",
    "plt.title('Homophily (mean of 20 realizations)')"
   ]
  },
  {
   "cell_type": "code",
   "execution_count": 9,
   "metadata": {},
   "outputs": [],
   "source": [
    "def analysis(graph, weighted, directed):\n",
    "    '''\n",
    "    Pipeline for the heatmap creation\n",
    "    '''\n",
    "    # read graph\n",
    "    G = graph\n",
    "    # experiments\n",
    "    result = list(map(lambda x: run_experiment(*x), args_list))\n",
    "    # df\n",
    "    df = pd.DataFrame(result, columns=['t', 'd', 'wk', 'n', 'wi', 'ii', 'p', 'q', 'seed', 'hom'])\n",
    "    df2 = df.groupby(['p', 'q'])['hom'].mean().unstack()\n",
    "    \n",
    "    return df2"
   ]
  },
  {
   "cell_type": "code",
   "execution_count": 10,
   "metadata": {},
   "outputs": [
    {
     "data": {
      "text/plain": [
       "Text(0.5,1,'Homophily (mean of 20 realizations)')"
      ]
     },
     "execution_count": 10,
     "metadata": {},
     "output_type": "execute_result"
    },
    {
     "data": {
      "image/png": "[encoded data removed]",
      "text/plain": [
       "<matplotlib.figure.Figure at 0x1348acc18>"
      ]
     },
     "metadata": {},
     "output_type": "display_data"
    }
   ],
   "source": [
    "graph = nx.karate_club_graph()\n",
    "weighted =  False if graph.edge_attr_dict_factory() == {} else True\n",
    "directed = graph.is_directed()\n",
    "df = analysis(graph, weighted, directed)\n",
    "\n",
    "# plot\n",
    "sns.heatmap(df)\n",
    "plt.title('Homophily (mean of 20 realizations)')"
   ]
  },
  {
   "cell_type": "markdown",
   "metadata": {},
   "source": [
    "# testing"
   ]
  },
  {
   "cell_type": "code",
   "execution_count": null,
   "metadata": {},
   "outputs": [],
   "source": [
    "from sklearn.linear_model import LogisticRegression\n",
    "from sklearn import datasets\n",
    "from sklearn.preprocessing import StandardScaler"
   ]
  },
  {
   "cell_type": "code",
   "execution_count": null,
   "metadata": {},
   "outputs": [],
   "source": [
    "iris = datasets.load_iris()\n",
    "X = iris.data\n",
    "y = iris.target\n",
    "scaler = StandardScaler()\n",
    "X_std = scaler.fit_transform(X)"
   ]
  },
  {
   "cell_type": "code",
   "execution_count": null,
   "metadata": {},
   "outputs": [],
   "source": [
    "# Create one-vs-rest logistic regression object\n",
    "clf = LogisticRegression(random_state=0, multi_class='ovr')\n",
    "# Train model\n",
    "model = clf.fit(X_std, y)"
   ]
  },
  {
   "cell_type": "code",
   "execution_count": null,
   "metadata": {},
   "outputs": [],
   "source": [
    "new_observation = [[.5, .5, .5, .5]]\n",
    "model.predict(new_observation)\n",
    "model.predict_proba(new_observation)"
   ]
  }
 ],
 "metadata": {
  "kernelspec": {
   "display_name": "Python 3",
   "language": "python",
   "name": "python3"
  },
  "language_info": {
   "codemirror_mode": {
    "name": "ipython",
    "version": 3
   },
   "file_extension": ".py",
   "mimetype": "text/x-python",
   "name": "python",
   "nbconvert_exporter": "python",
   "pygments_lexer": "ipython3",
   "version": "3.6.0"
  }
 },
 "nbformat": 4,
 "nbformat_minor": 2
}
