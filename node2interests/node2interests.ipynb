{
 "cells": [
  {
   "cell_type": "markdown",
   "metadata": {},
   "source": [
    "# *n2i*: analysis"
   ]
  },
  {
   "cell_type": "markdown",
   "metadata": {},
   "source": [
    "### TOC:\n",
    "* [Demo](#Demo)\n",
    "* [Analysis](#Analysis)\n",
    "* [Grid search](#Grid search)"
   ]
  },
  {
   "cell_type": "markdown",
   "metadata": {},
   "source": [
    "## Demo"
   ]
  },
  {
   "cell_type": "markdown",
   "metadata": {},
   "source": [
    "n2i can be used both in command line and Jupyter notebook. The following code runs n2i with the default parameters.\n",
    "\n",
    "NB: REMEBER TO DEFINE IF THE GRAPH IS DIRECTED AND/OR WEIGHTED"
   ]
  },
  {
   "cell_type": "code",
   "execution_count": 1,
   "metadata": {},
   "outputs": [],
   "source": [
    "%matplotlib inline"
   ]
  },
  {
   "cell_type": "code",
   "execution_count": 2,
   "metadata": {
    "scrolled": true
   },
   "outputs": [],
   "source": [
    "import pathlib\n",
    "import numpy as np\n",
    "import pandas as pd\n",
    "import matplotlib.pyplot as plt\n",
    "import seaborn as sns; sns.set()\n",
    "import networkx as nx\n",
    "from scipy.spatial import distance\n",
    "from n2i.__main__ import n2i_main"
   ]
  },
  {
   "cell_type": "code",
   "execution_count": 3,
   "metadata": {},
   "outputs": [],
   "source": [
    "#n2i_main(graph='../WoMG/data/graph/lesmiserables/lesmiserables_edgelist.txt', topics=3)"
   ]
  },
  {
   "cell_type": "markdown",
   "metadata": {},
   "source": [
    "## Analysis"
   ]
  },
  {
   "cell_type": "code",
   "execution_count": 4,
   "metadata": {},
   "outputs": [],
   "source": [
    "def read_graph(weighted, graph, directed):\n",
    "    '''\n",
    "    Reads the input network in networkx.\n",
    "    '''\n",
    "    #print(graph)\n",
    "    if weighted:\n",
    "        G = nx.read_edgelist(graph, nodetype=int, data=(('weight',float),), create_using=nx.DiGraph())\n",
    "    else:\n",
    "        G = nx.read_edgelist(graph, nodetype=int, create_using=nx.DiGraph())\n",
    "        for edge in G.edges():\n",
    "            G[edge[0]][edge[1]]['weight'] = 1\n",
    "\n",
    "    if not directed:\n",
    "        G = G.to_undirected()\n",
    "\n",
    "    return G"
   ]
  },
  {
   "cell_type": "code",
   "execution_count": 5,
   "metadata": {},
   "outputs": [],
   "source": [
    "def read_emb(emb, G):\n",
    "    '''\n",
    "    Returns embeddings from a given file\n",
    "    '''\n",
    "    file_name = pathlib.Path(emb)\n",
    "    with open(file_name, 'r') as f:\n",
    "        for line in f.readlines():\n",
    "            line = line.replace(',','').replace('[','').replace(']','').split()\n",
    "            node = int(line[0])\n",
    "            emb = line[1:]\n",
    "            G.nodes[node]['interests'] = [float(i) for i in emb]\n",
    "            #print(emb)\n",
    "    return G"
   ]
  },
  {
   "cell_type": "code",
   "execution_count": 6,
   "metadata": {},
   "outputs": [],
   "source": [
    "# similarity between connected nodes\n",
    "def sim_in(G):\n",
    "    sims = []\n",
    "    for i in G.nodes:\n",
    "        for j in list(G.neighbors(i)):\n",
    "            sims.append(1 - distance.cosine(G.nodes[i]['interests'], G.nodes[j]['interests']))\n",
    "    return np.mean(sims)\n",
    "\n",
    "def select_notedge(G):\n",
    "    n = nx.number_of_nodes(G)\n",
    "    while True:\n",
    "        a, b = np.random.randint(0, n, size=2)\n",
    "        if (a, b) not in G.edges:\n",
    "            return a, b\n",
    "\n",
    "# similarity between disconnected nodes\n",
    "def sim_out(G, samples):\n",
    "    sims_out = []\n",
    "    for c in range(samples):\n",
    "        i, j = select_notedge(G)\n",
    "        sims_out.append(1 - distance.cosine(G.nodes[i]['interests'], G.nodes[j]['interests']))\n",
    "    return np.mean(sims_out)\n",
    "\n",
    "def homophily(G):\n",
    "    return sim_in(G) / sim_out(G, 5000)"
   ]
  },
  {
   "cell_type": "code",
   "execution_count": 7,
   "metadata": {},
   "outputs": [
    {
     "data": {
      "text/plain": [
       "\"\\nG = read_graph(weighted=False, \\n               graph='../WoMG/data/graph/lesmiserables/lesmiserables_edgelist.txt',\\n               directed=False)\\nG = read_emb('./emb2.txt', G=G)\\n\""
      ]
     },
     "execution_count": 7,
     "metadata": {},
     "output_type": "execute_result"
    }
   ],
   "source": [
    "'''\n",
    "G = read_graph(weighted=False, \n",
    "               graph='../WoMG/data/graph/lesmiserables/lesmiserables_edgelist.txt',\n",
    "               directed=False)\n",
    "G = read_emb('./emb2.txt', G=G)\n",
    "'''"
   ]
  },
  {
   "cell_type": "code",
   "execution_count": 8,
   "metadata": {},
   "outputs": [],
   "source": [
    "#si = sim_in(G)\n",
    "#so = sim_out(G, 5000)\n",
    "#print (\"In similarity: {:.4f} \\nOut similarity: {:.4f} \\nHomophily rate: {:.4f}\".format(si, so, si/so))"
   ]
  },
  {
   "cell_type": "markdown",
   "metadata": {},
   "source": [
    "## Grid search"
   ]
  },
  {
   "cell_type": "code",
   "execution_count": 9,
   "metadata": {},
   "outputs": [],
   "source": [
    "def grid_search(graph,\n",
    "                topics=[15],\n",
    "                dimensions=[128],\n",
    "                walk_length=[80],\n",
    "                num_walks=[10],\n",
    "                window_size=[10],\n",
    "                iiter=[1],\n",
    "                p_val=[1],\n",
    "                q_val=[1],\n",
    "                out='./',\n",
    "                reduce=True):\n",
    "\n",
    "    for t in topics:\n",
    "        for d in dimensions:\n",
    "            for wk in walk_length:\n",
    "                for n in num_walks:\n",
    "                    for wi in window_size:\n",
    "                        for ii in iiter:\n",
    "                            for p in p_val:\n",
    "                                for q in q_val:\n",
    "                                    n2i_main(graph=graph, topics=t, \n",
    "                                             dimensions=d, walk_length=wk,\n",
    "                                             num_walks=n, window_size=wi,\n",
    "                                             iiter=ii, p=p, q=q,\n",
    "                                             output=out,\n",
    "                                             reduce=reduce)"
   ]
  },
  {
   "cell_type": "code",
   "execution_count": 10,
   "metadata": {},
   "outputs": [
    {
     "name": "stderr",
     "output_type": "stream",
     "text": [
      "100%|██████████| 77/77 [00:00<00:00, 32861.36it/s]\n",
      "100%|██████████| 254/254 [00:00<00:00, 7491.46it/s]\n",
      " 30%|███       | 3/10 [00:00<00:00, 23.56it/s]"
     ]
    },
    {
     "name": "stdout",
     "output_type": "stream",
     "text": [
      "Walk iteration:\n"
     ]
    },
    {
     "name": "stderr",
     "output_type": "stream",
     "text": [
      "100%|██████████| 10/10 [00:00<00:00, 22.95it/s]\n",
      "100%|██████████| 77/77 [00:00<00:00, 37488.27it/s]\n",
      "100%|██████████| 254/254 [00:00<00:00, 7568.74it/s]\n",
      " 30%|███       | 3/10 [00:00<00:00, 22.95it/s]"
     ]
    },
    {
     "name": "stdout",
     "output_type": "stream",
     "text": [
      "Embeddings have been saved in  ./Output5\n",
      "Walk iteration:\n"
     ]
    },
    {
     "name": "stderr",
     "output_type": "stream",
     "text": [
      "100%|██████████| 10/10 [00:00<00:00, 21.91it/s]\n",
      "100%|██████████| 77/77 [00:00<00:00, 37558.02it/s]\n",
      "100%|██████████| 254/254 [00:00<00:00, 7517.89it/s]\n",
      " 30%|███       | 3/10 [00:00<00:00, 25.90it/s]"
     ]
    },
    {
     "name": "stdout",
     "output_type": "stream",
     "text": [
      "Embeddings have been saved in  ./Output5\n",
      "Walk iteration:\n"
     ]
    },
    {
     "name": "stderr",
     "output_type": "stream",
     "text": [
      "100%|██████████| 10/10 [00:00<00:00, 24.22it/s]\n",
      "100%|██████████| 77/77 [00:00<00:00, 37160.44it/s]\n",
      "100%|██████████| 254/254 [00:00<00:00, 7634.53it/s]\n",
      " 30%|███       | 3/10 [00:00<00:00, 25.28it/s]"
     ]
    },
    {
     "name": "stdout",
     "output_type": "stream",
     "text": [
      "Embeddings have been saved in  ./Output5\n",
      "Walk iteration:\n"
     ]
    },
    {
     "name": "stderr",
     "output_type": "stream",
     "text": [
      "100%|██████████| 10/10 [00:00<00:00, 24.19it/s]\n",
      "100%|██████████| 77/77 [00:00<00:00, 37139.08it/s]\n",
      "100%|██████████| 254/254 [00:00<00:00, 7623.72it/s]\n",
      " 30%|███       | 3/10 [00:00<00:00, 22.04it/s]"
     ]
    },
    {
     "name": "stdout",
     "output_type": "stream",
     "text": [
      "Embeddings have been saved in  ./Output5\n",
      "Walk iteration:\n"
     ]
    },
    {
     "name": "stderr",
     "output_type": "stream",
     "text": [
      "100%|██████████| 10/10 [00:00<00:00, 23.44it/s]\n",
      "100%|██████████| 77/77 [00:00<00:00, 37177.55it/s]\n",
      "100%|██████████| 254/254 [00:00<00:00, 7634.97it/s]\n",
      " 30%|███       | 3/10 [00:00<00:00, 24.49it/s]"
     ]
    },
    {
     "name": "stdout",
     "output_type": "stream",
     "text": [
      "Embeddings have been saved in  ./Output5\n",
      "Walk iteration:\n"
     ]
    },
    {
     "name": "stderr",
     "output_type": "stream",
     "text": [
      "100%|██████████| 10/10 [00:00<00:00, 23.95it/s]\n",
      "100%|██████████| 77/77 [00:00<00:00, 37636.80it/s]\n",
      "100%|██████████| 254/254 [00:00<00:00, 7745.26it/s]\n",
      " 30%|███       | 3/10 [00:00<00:00, 25.17it/s]"
     ]
    },
    {
     "name": "stdout",
     "output_type": "stream",
     "text": [
      "Embeddings have been saved in  ./Output5\n",
      "Walk iteration:\n"
     ]
    },
    {
     "name": "stderr",
     "output_type": "stream",
     "text": [
      "100%|██████████| 10/10 [00:00<00:00, 24.24it/s]\n",
      "100%|██████████| 77/77 [00:00<00:00, 35016.96it/s]\n",
      "100%|██████████| 254/254 [00:00<00:00, 7776.81it/s]\n",
      " 30%|███       | 3/10 [00:00<00:00, 25.24it/s]"
     ]
    },
    {
     "name": "stdout",
     "output_type": "stream",
     "text": [
      "Embeddings have been saved in  ./Output5\n",
      "Walk iteration:\n"
     ]
    },
    {
     "name": "stderr",
     "output_type": "stream",
     "text": [
      "100%|██████████| 10/10 [00:00<00:00, 23.54it/s]\n",
      "100%|██████████| 77/77 [00:00<00:00, 36394.12it/s]\n",
      "100%|██████████| 254/254 [00:00<00:00, 7621.42it/s]\n",
      " 30%|███       | 3/10 [00:00<00:00, 23.71it/s]"
     ]
    },
    {
     "name": "stdout",
     "output_type": "stream",
     "text": [
      "Embeddings have been saved in  ./Output5\n",
      "Walk iteration:\n"
     ]
    },
    {
     "name": "stderr",
     "output_type": "stream",
     "text": [
      "100%|██████████| 10/10 [00:00<00:00, 23.73it/s]\n",
      "100%|██████████| 77/77 [00:00<00:00, 36182.10it/s]\n",
      "100%|██████████| 254/254 [00:00<00:00, 7721.80it/s]\n",
      " 30%|███       | 3/10 [00:00<00:00, 25.00it/s]"
     ]
    },
    {
     "name": "stdout",
     "output_type": "stream",
     "text": [
      "Embeddings have been saved in  ./Output5\n",
      "Walk iteration:\n"
     ]
    },
    {
     "name": "stderr",
     "output_type": "stream",
     "text": [
      "100%|██████████| 10/10 [00:00<00:00, 24.15it/s]\n",
      "100%|██████████| 77/77 [00:00<00:00, 36666.83it/s]\n",
      "100%|██████████| 254/254 [00:00<00:00, 7714.08it/s]\n",
      " 30%|███       | 3/10 [00:00<00:00, 25.12it/s]"
     ]
    },
    {
     "name": "stdout",
     "output_type": "stream",
     "text": [
      "Embeddings have been saved in  ./Output5\n",
      "Walk iteration:\n"
     ]
    },
    {
     "name": "stderr",
     "output_type": "stream",
     "text": [
      "100%|██████████| 10/10 [00:00<00:00, 23.95it/s]\n",
      "100%|██████████| 77/77 [00:00<00:00, 36081.04it/s]\n",
      "100%|██████████| 254/254 [00:00<00:00, 7738.96it/s]\n",
      " 30%|███       | 3/10 [00:00<00:00, 23.97it/s]"
     ]
    },
    {
     "name": "stdout",
     "output_type": "stream",
     "text": [
      "Embeddings have been saved in  ./Output5\n",
      "Walk iteration:\n"
     ]
    },
    {
     "name": "stderr",
     "output_type": "stream",
     "text": [
      "100%|██████████| 10/10 [00:00<00:00, 24.04it/s]\n",
      "100%|██████████| 77/77 [00:00<00:00, 34056.88it/s]\n",
      "100%|██████████| 254/254 [00:00<00:00, 7947.97it/s]\n",
      " 30%|███       | 3/10 [00:00<00:00, 23.17it/s]"
     ]
    },
    {
     "name": "stdout",
     "output_type": "stream",
     "text": [
      "Embeddings have been saved in  ./Output5\n",
      "Walk iteration:\n"
     ]
    },
    {
     "name": "stderr",
     "output_type": "stream",
     "text": [
      "100%|██████████| 10/10 [00:00<00:00, 22.80it/s]\n",
      "100%|██████████| 77/77 [00:00<00:00, 36700.16it/s]\n",
      "100%|██████████| 254/254 [00:00<00:00, 7673.08it/s]\n",
      " 30%|███       | 3/10 [00:00<00:00, 25.12it/s]"
     ]
    },
    {
     "name": "stdout",
     "output_type": "stream",
     "text": [
      "Embeddings have been saved in  ./Output5\n",
      "Walk iteration:\n"
     ]
    },
    {
     "name": "stderr",
     "output_type": "stream",
     "text": [
      "100%|██████████| 10/10 [00:00<00:00, 24.01it/s]\n",
      "100%|██████████| 77/77 [00:00<00:00, 39916.13it/s]\n",
      "100%|██████████| 254/254 [00:00<00:00, 7881.58it/s]\n",
      " 30%|███       | 3/10 [00:00<00:00, 23.83it/s]"
     ]
    },
    {
     "name": "stdout",
     "output_type": "stream",
     "text": [
      "Embeddings have been saved in  ./Output5\n",
      "Walk iteration:\n"
     ]
    },
    {
     "name": "stderr",
     "output_type": "stream",
     "text": [
      "100%|██████████| 10/10 [00:00<00:00, 23.71it/s]\n",
      "100%|██████████| 77/77 [00:00<00:00, 36758.64it/s]\n",
      "100%|██████████| 254/254 [00:00<00:00, 7612.33it/s]\n",
      " 30%|███       | 3/10 [00:00<00:00, 23.96it/s]"
     ]
    },
    {
     "name": "stdout",
     "output_type": "stream",
     "text": [
      "Embeddings have been saved in  ./Output5\n",
      "Walk iteration:\n"
     ]
    },
    {
     "name": "stderr",
     "output_type": "stream",
     "text": [
      "100%|██████████| 10/10 [00:00<00:00, 23.81it/s]\n",
      "100%|██████████| 77/77 [00:00<00:00, 37375.47it/s]\n",
      "100%|██████████| 254/254 [00:00<00:00, 7779.71it/s]\n",
      " 30%|███       | 3/10 [00:00<00:00, 24.66it/s]"
     ]
    },
    {
     "name": "stdout",
     "output_type": "stream",
     "text": [
      "Embeddings have been saved in  ./Output5\n",
      "Walk iteration:\n"
     ]
    },
    {
     "name": "stderr",
     "output_type": "stream",
     "text": [
      "100%|██████████| 10/10 [00:00<00:00, 24.42it/s]\n",
      "100%|██████████| 77/77 [00:00<00:00, 35896.57it/s]\n",
      "100%|██████████| 254/254 [00:00<00:00, 7631.74it/s]\n",
      " 30%|███       | 3/10 [00:00<00:00, 25.86it/s]"
     ]
    },
    {
     "name": "stdout",
     "output_type": "stream",
     "text": [
      "Embeddings have been saved in  ./Output5\n",
      "Walk iteration:\n"
     ]
    },
    {
     "name": "stderr",
     "output_type": "stream",
     "text": [
      "100%|██████████| 10/10 [00:00<00:00, 24.99it/s]\n",
      "100%|██████████| 77/77 [00:00<00:00, 39832.44it/s]\n",
      "100%|██████████| 254/254 [00:00<00:00, 7455.03it/s]\n",
      " 30%|███       | 3/10 [00:00<00:00, 22.24it/s]"
     ]
    },
    {
     "name": "stdout",
     "output_type": "stream",
     "text": [
      "Embeddings have been saved in  ./Output5\n",
      "Walk iteration:\n"
     ]
    },
    {
     "name": "stderr",
     "output_type": "stream",
     "text": [
      "100%|██████████| 10/10 [00:00<00:00, 23.79it/s]\n",
      "100%|██████████| 77/77 [00:00<00:00, 38062.63it/s]\n",
      "100%|██████████| 254/254 [00:00<00:00, 7684.87it/s]\n",
      " 30%|███       | 3/10 [00:00<00:00, 25.28it/s]"
     ]
    },
    {
     "name": "stdout",
     "output_type": "stream",
     "text": [
      "Embeddings have been saved in  ./Output5\n",
      "Walk iteration:\n"
     ]
    },
    {
     "name": "stderr",
     "output_type": "stream",
     "text": [
      "100%|██████████| 10/10 [00:00<00:00, 23.38it/s]\n",
      "100%|██████████| 77/77 [00:00<00:00, 38962.65it/s]\n",
      "100%|██████████| 254/254 [00:00<00:00, 7705.60it/s]\n",
      " 30%|███       | 3/10 [00:00<00:00, 25.86it/s]"
     ]
    },
    {
     "name": "stdout",
     "output_type": "stream",
     "text": [
      "Embeddings have been saved in  ./Output5\n",
      "Walk iteration:\n"
     ]
    },
    {
     "name": "stderr",
     "output_type": "stream",
     "text": [
      "100%|██████████| 10/10 [00:00<00:00, 25.07it/s]\n",
      "100%|██████████| 77/77 [00:00<00:00, 39670.98it/s]\n",
      "100%|██████████| 254/254 [00:00<00:00, 7674.79it/s]\n",
      " 30%|███       | 3/10 [00:00<00:00, 24.22it/s]"
     ]
    },
    {
     "name": "stdout",
     "output_type": "stream",
     "text": [
      "Embeddings have been saved in  ./Output5\n",
      "Walk iteration:\n"
     ]
    },
    {
     "name": "stderr",
     "output_type": "stream",
     "text": [
      "100%|██████████| 10/10 [00:00<00:00, 22.78it/s]\n",
      "100%|██████████| 77/77 [00:00<00:00, 33432.86it/s]\n",
      "100%|██████████| 254/254 [00:00<00:00, 7636.28it/s]\n",
      " 30%|███       | 3/10 [00:00<00:00, 23.68it/s]"
     ]
    },
    {
     "name": "stdout",
     "output_type": "stream",
     "text": [
      "Embeddings have been saved in  ./Output5\n",
      "Walk iteration:\n"
     ]
    },
    {
     "name": "stderr",
     "output_type": "stream",
     "text": [
      "100%|██████████| 10/10 [00:00<00:00, 23.49it/s]\n",
      "100%|██████████| 77/77 [00:00<00:00, 36394.12it/s]\n",
      "100%|██████████| 254/254 [00:00<00:00, 7846.06it/s]\n",
      " 30%|███       | 3/10 [00:00<00:00, 24.80it/s]"
     ]
    },
    {
     "name": "stdout",
     "output_type": "stream",
     "text": [
      "Embeddings have been saved in  ./Output5\n",
      "Walk iteration:\n"
     ]
    },
    {
     "name": "stderr",
     "output_type": "stream",
     "text": [
      "100%|██████████| 10/10 [00:00<00:00, 24.66it/s]\n",
      "100%|██████████| 77/77 [00:00<00:00, 36546.50it/s]\n",
      "100%|██████████| 254/254 [00:00<00:00, 7851.14it/s]\n",
      " 30%|███       | 3/10 [00:00<00:00, 24.83it/s]"
     ]
    },
    {
     "name": "stdout",
     "output_type": "stream",
     "text": [
      "Embeddings have been saved in  ./Output5\n",
      "Walk iteration:\n"
     ]
    },
    {
     "name": "stderr",
     "output_type": "stream",
     "text": [
      "100%|██████████| 10/10 [00:00<00:00, 24.15it/s]\n",
      "100%|██████████| 77/77 [00:00<00:00, 35912.53it/s]\n",
      "100%|██████████| 254/254 [00:00<00:00, 7613.42it/s]\n",
      " 30%|███       | 3/10 [00:00<00:00, 24.80it/s]"
     ]
    },
    {
     "name": "stdout",
     "output_type": "stream",
     "text": [
      "Embeddings have been saved in  ./Output5\n",
      "Walk iteration:\n"
     ]
    },
    {
     "name": "stderr",
     "output_type": "stream",
     "text": [
      "100%|██████████| 10/10 [00:00<00:00, 23.83it/s]\n",
      "100%|██████████| 77/77 [00:00<00:00, 37689.51it/s]\n",
      "100%|██████████| 254/254 [00:00<00:00, 7714.92it/s]\n",
      " 30%|███       | 3/10 [00:00<00:00, 26.26it/s]"
     ]
    },
    {
     "name": "stdout",
     "output_type": "stream",
     "text": [
      "Embeddings have been saved in  ./Output5\n",
      "Walk iteration:\n"
     ]
    },
    {
     "name": "stderr",
     "output_type": "stream",
     "text": [
      "100%|██████████| 10/10 [00:00<00:00, 24.13it/s]\n",
      "100%|██████████| 77/77 [00:00<00:00, 36964.79it/s]\n",
      "100%|██████████| 254/254 [00:00<00:00, 7624.21it/s]\n",
      " 30%|███       | 3/10 [00:00<00:00, 25.52it/s]"
     ]
    },
    {
     "name": "stdout",
     "output_type": "stream",
     "text": [
      "Embeddings have been saved in  ./Output5\n",
      "Walk iteration:\n"
     ]
    },
    {
     "name": "stderr",
     "output_type": "stream",
     "text": [
      "100%|██████████| 10/10 [00:00<00:00, 24.67it/s]\n",
      "100%|██████████| 77/77 [00:00<00:00, 37289.16it/s]\n",
      "100%|██████████| 254/254 [00:00<00:00, 7772.56it/s]\n",
      " 30%|███       | 3/10 [00:00<00:00, 23.94it/s]"
     ]
    },
    {
     "name": "stdout",
     "output_type": "stream",
     "text": [
      "Embeddings have been saved in  ./Output5\n",
      "Walk iteration:\n"
     ]
    },
    {
     "name": "stderr",
     "output_type": "stream",
     "text": [
      "100%|██████████| 10/10 [00:00<00:00, 23.60it/s]\n",
      "100%|██████████| 77/77 [00:00<00:00, 36704.33it/s]\n",
      "100%|██████████| 254/254 [00:00<00:00, 7551.63it/s]\n",
      " 30%|███       | 3/10 [00:00<00:00, 25.41it/s]"
     ]
    },
    {
     "name": "stdout",
     "output_type": "stream",
     "text": [
      "Embeddings have been saved in  ./Output5\n",
      "Walk iteration:\n"
     ]
    },
    {
     "name": "stderr",
     "output_type": "stream",
     "text": [
      "100%|██████████| 10/10 [00:00<00:00, 24.61it/s]\n",
      "100%|██████████| 77/77 [00:00<00:00, 36505.19it/s]\n",
      "100%|██████████| 254/254 [00:00<00:00, 7865.98it/s]\n",
      " 30%|███       | 3/10 [00:00<00:00, 22.60it/s]"
     ]
    },
    {
     "name": "stdout",
     "output_type": "stream",
     "text": [
      "Embeddings have been saved in  ./Output5\n",
      "Walk iteration:\n"
     ]
    },
    {
     "name": "stderr",
     "output_type": "stream",
     "text": [
      "100%|██████████| 10/10 [00:00<00:00, 22.56it/s]\n",
      "100%|██████████| 77/77 [00:00<00:00, 40466.28it/s]\n",
      "100%|██████████| 254/254 [00:00<00:00, 7494.36it/s]\n",
      " 30%|███       | 3/10 [00:00<00:00, 25.09it/s]"
     ]
    },
    {
     "name": "stdout",
     "output_type": "stream",
     "text": [
      "Embeddings have been saved in  ./Output5\n",
      "Walk iteration:\n"
     ]
    },
    {
     "name": "stderr",
     "output_type": "stream",
     "text": [
      "100%|██████████| 10/10 [00:00<00:00, 23.10it/s]\n",
      "100%|██████████| 77/77 [00:00<00:00, 37466.52it/s]\n",
      "100%|██████████| 254/254 [00:00<00:00, 7743.18it/s]\n",
      " 30%|███       | 3/10 [00:00<00:00, 24.56it/s]"
     ]
    },
    {
     "name": "stdout",
     "output_type": "stream",
     "text": [
      "Embeddings have been saved in  ./Output5\n",
      "Walk iteration:\n"
     ]
    },
    {
     "name": "stderr",
     "output_type": "stream",
     "text": [
      "100%|██████████| 10/10 [00:00<00:00, 23.95it/s]\n",
      "100%|██████████| 77/77 [00:00<00:00, 36897.22it/s]\n",
      "100%|██████████| 254/254 [00:00<00:00, 7510.16it/s]\n",
      " 30%|███       | 3/10 [00:00<00:00, 24.66it/s]"
     ]
    },
    {
     "name": "stdout",
     "output_type": "stream",
     "text": [
      "Embeddings have been saved in  ./Output5\n",
      "Walk iteration:\n"
     ]
    },
    {
     "name": "stderr",
     "output_type": "stream",
     "text": [
      "100%|██████████| 10/10 [00:00<00:00, 23.58it/s]\n",
      "100%|██████████| 77/77 [00:00<00:00, 35253.95it/s]\n",
      "100%|██████████| 254/254 [00:00<00:00, 7625.57it/s]\n",
      " 30%|███       | 3/10 [00:00<00:00, 24.90it/s]"
     ]
    },
    {
     "name": "stdout",
     "output_type": "stream",
     "text": [
      "Embeddings have been saved in  ./Output5\n",
      "Walk iteration:\n"
     ]
    },
    {
     "name": "stderr",
     "output_type": "stream",
     "text": [
      "100%|██████████| 10/10 [00:00<00:00, 24.15it/s]\n",
      "100%|██████████| 77/77 [00:00<00:00, 39980.37it/s]\n",
      "100%|██████████| 254/254 [00:00<00:00, 7666.07it/s]\n",
      " 30%|███       | 3/10 [00:00<00:00, 23.34it/s]"
     ]
    },
    {
     "name": "stdout",
     "output_type": "stream",
     "text": [
      "Embeddings have been saved in  ./Output5\n",
      "Walk iteration:\n"
     ]
    },
    {
     "name": "stderr",
     "output_type": "stream",
     "text": [
      "100%|██████████| 10/10 [00:00<00:00, 23.64it/s]\n",
      "100%|██████████| 77/77 [00:00<00:00, 33743.75it/s]\n",
      "100%|██████████| 254/254 [00:00<00:00, 7825.94it/s]\n",
      " 30%|███       | 3/10 [00:00<00:00, 24.47it/s]"
     ]
    },
    {
     "name": "stdout",
     "output_type": "stream",
     "text": [
      "Embeddings have been saved in  ./Output5\n",
      "Walk iteration:\n"
     ]
    },
    {
     "name": "stderr",
     "output_type": "stream",
     "text": [
      "100%|██████████| 10/10 [00:00<00:00, 23.80it/s]\n",
      "100%|██████████| 77/77 [00:00<00:00, 36650.18it/s]\n",
      "100%|██████████| 254/254 [00:00<00:00, 7534.00it/s]\n",
      " 30%|███       | 3/10 [00:00<00:00, 22.68it/s]"
     ]
    },
    {
     "name": "stdout",
     "output_type": "stream",
     "text": [
      "Embeddings have been saved in  ./Output5\n",
      "Walk iteration:\n"
     ]
    },
    {
     "name": "stderr",
     "output_type": "stream",
     "text": [
      "100%|██████████| 10/10 [00:00<00:00, 23.14it/s]\n",
      "100%|██████████| 77/77 [00:00<00:00, 37436.12it/s]\n",
      "100%|██████████| 254/254 [00:00<00:00, 7761.85it/s]\n",
      "  0%|          | 0/10 [00:00<?, ?it/s]"
     ]
    },
    {
     "name": "stdout",
     "output_type": "stream",
     "text": [
      "Embeddings have been saved in  ./Output5\n",
      "Walk iteration:\n"
     ]
    },
    {
     "name": "stderr",
     "output_type": "stream",
     "text": [
      "100%|██████████| 10/10 [00:00<00:00, 24.25it/s]\n",
      "100%|██████████| 77/77 [00:00<00:00, 31431.77it/s]\n",
      "100%|██████████| 254/254 [00:00<00:00, 7070.12it/s]\n",
      " 30%|███       | 3/10 [00:00<00:00, 23.76it/s]"
     ]
    },
    {
     "name": "stdout",
     "output_type": "stream",
     "text": [
      "Embeddings have been saved in  ./Output5\n",
      "Walk iteration:\n"
     ]
    },
    {
     "name": "stderr",
     "output_type": "stream",
     "text": [
      "100%|██████████| 10/10 [00:00<00:00, 23.31it/s]\n",
      "100%|██████████| 77/77 [00:00<00:00, 33669.87it/s]\n",
      "100%|██████████| 254/254 [00:00<00:00, 7642.58it/s]\n",
      " 30%|███       | 3/10 [00:00<00:00, 25.24it/s]"
     ]
    },
    {
     "name": "stdout",
     "output_type": "stream",
     "text": [
      "Embeddings have been saved in  ./Output5\n",
      "Walk iteration:\n"
     ]
    },
    {
     "name": "stderr",
     "output_type": "stream",
     "text": [
      "100%|██████████| 10/10 [00:00<00:00, 24.29it/s]\n",
      "100%|██████████| 77/77 [00:00<00:00, 36700.16it/s]\n",
      "100%|██████████| 254/254 [00:00<00:00, 7587.12it/s]\n",
      " 30%|███       | 3/10 [00:00<00:00, 23.95it/s]"
     ]
    },
    {
     "name": "stdout",
     "output_type": "stream",
     "text": [
      "Embeddings have been saved in  ./Output5\n",
      "Walk iteration:\n"
     ]
    },
    {
     "name": "stderr",
     "output_type": "stream",
     "text": [
      "100%|██████████| 10/10 [00:00<00:00, 23.91it/s]\n",
      "100%|██████████| 77/77 [00:00<00:00, 32004.90it/s]\n",
      "100%|██████████| 254/254 [00:00<00:00, 7614.83it/s]\n",
      " 30%|███       | 3/10 [00:00<00:00, 23.89it/s]"
     ]
    },
    {
     "name": "stdout",
     "output_type": "stream",
     "text": [
      "Embeddings have been saved in  ./Output5\n",
      "Walk iteration:\n"
     ]
    },
    {
     "name": "stderr",
     "output_type": "stream",
     "text": [
      "100%|██████████| 10/10 [00:00<00:00, 24.27it/s]\n",
      "100%|██████████| 77/77 [00:00<00:00, 39467.36it/s]\n",
      "100%|██████████| 254/254 [00:00<00:00, 7689.03it/s]\n",
      " 30%|███       | 3/10 [00:00<00:00, 24.19it/s]"
     ]
    },
    {
     "name": "stdout",
     "output_type": "stream",
     "text": [
      "Embeddings have been saved in  ./Output5\n",
      "Walk iteration:\n"
     ]
    },
    {
     "name": "stderr",
     "output_type": "stream",
     "text": [
      "100%|██████████| 10/10 [00:00<00:00, 23.18it/s]\n",
      "100%|██████████| 77/77 [00:00<00:00, 33247.01it/s]\n",
      "100%|██████████| 254/254 [00:00<00:00, 8349.75it/s]\n",
      " 30%|███       | 3/10 [00:00<00:00, 25.86it/s]"
     ]
    },
    {
     "name": "stdout",
     "output_type": "stream",
     "text": [
      "Embeddings have been saved in  ./Output5\n",
      "Walk iteration:\n"
     ]
    },
    {
     "name": "stderr",
     "output_type": "stream",
     "text": [
      "100%|██████████| 10/10 [00:00<00:00, 24.28it/s]\n",
      "100%|██████████| 77/77 [00:00<00:00, 38770.88it/s]\n",
      "100%|██████████| 254/254 [00:00<00:00, 8303.09it/s]\n",
      " 30%|███       | 3/10 [00:00<00:00, 24.36it/s]"
     ]
    },
    {
     "name": "stdout",
     "output_type": "stream",
     "text": [
      "Embeddings have been saved in  ./Output5\n",
      "Walk iteration:\n"
     ]
    },
    {
     "name": "stderr",
     "output_type": "stream",
     "text": [
      "100%|██████████| 10/10 [00:00<00:00, 23.41it/s]\n",
      "100%|██████████| 77/77 [00:00<00:00, 39142.09it/s]\n",
      "100%|██████████| 254/254 [00:00<00:00, 8096.68it/s]\n",
      " 30%|███       | 3/10 [00:00<00:00, 24.62it/s]"
     ]
    },
    {
     "name": "stdout",
     "output_type": "stream",
     "text": [
      "Embeddings have been saved in  ./Output5\n",
      "Walk iteration:\n"
     ]
    },
    {
     "name": "stderr",
     "output_type": "stream",
     "text": [
      "100%|██████████| 10/10 [00:00<00:00, 23.95it/s]\n",
      "100%|██████████| 77/77 [00:00<00:00, 34559.81it/s]\n",
      "100%|██████████| 254/254 [00:00<00:00, 8081.69it/s]\n",
      " 30%|███       | 3/10 [00:00<00:00, 25.11it/s]"
     ]
    },
    {
     "name": "stdout",
     "output_type": "stream",
     "text": [
      "Embeddings have been saved in  ./Output5\n",
      "Walk iteration:\n"
     ]
    },
    {
     "name": "stderr",
     "output_type": "stream",
     "text": [
      "100%|██████████| 10/10 [00:00<00:00, 23.63it/s]\n",
      "100%|██████████| 77/77 [00:00<00:00, 34749.45it/s]\n",
      "100%|██████████| 254/254 [00:00<00:00, 10439.83it/s]\n",
      " 30%|███       | 3/10 [00:00<00:00, 22.42it/s]"
     ]
    },
    {
     "name": "stdout",
     "output_type": "stream",
     "text": [
      "Embeddings have been saved in  ./Output5\n",
      "Walk iteration:\n"
     ]
    },
    {
     "name": "stderr",
     "output_type": "stream",
     "text": [
      "100%|██████████| 10/10 [00:00<00:00, 24.05it/s]\n",
      "100%|██████████| 77/77 [00:00<00:00, 36737.73it/s]\n",
      "100%|██████████| 254/254 [00:00<00:00, 8221.40it/s]\n",
      " 30%|███       | 3/10 [00:00<00:00, 23.54it/s]"
     ]
    },
    {
     "name": "stdout",
     "output_type": "stream",
     "text": [
      "Embeddings have been saved in  ./Output5\n",
      "Walk iteration:\n"
     ]
    },
    {
     "name": "stderr",
     "output_type": "stream",
     "text": [
      "100%|██████████| 10/10 [00:00<00:00, 24.36it/s]\n",
      "100%|██████████| 77/77 [00:00<00:00, 37319.32it/s]\n",
      "100%|██████████| 254/254 [00:00<00:00, 8074.77it/s]\n",
      " 30%|███       | 3/10 [00:00<00:00, 25.08it/s]"
     ]
    },
    {
     "name": "stdout",
     "output_type": "stream",
     "text": [
      "Embeddings have been saved in  ./Output5\n",
      "Walk iteration:\n"
     ]
    },
    {
     "name": "stderr",
     "output_type": "stream",
     "text": [
      "100%|██████████| 10/10 [00:00<00:00, 24.32it/s]\n",
      "100%|██████████| 77/77 [00:00<00:00, 39404.76it/s]\n",
      "100%|██████████| 254/254 [00:00<00:00, 8061.15it/s]\n",
      " 30%|███       | 3/10 [00:00<00:00, 25.22it/s]"
     ]
    },
    {
     "name": "stdout",
     "output_type": "stream",
     "text": [
      "Embeddings have been saved in  ./Output5\n",
      "Walk iteration:\n"
     ]
    },
    {
     "name": "stderr",
     "output_type": "stream",
     "text": [
      "100%|██████████| 10/10 [00:00<00:00, 23.98it/s]\n",
      "100%|██████████| 77/77 [00:00<00:00, 36750.27it/s]\n",
      "100%|██████████| 254/254 [00:00<00:00, 8431.56it/s]\n",
      " 30%|███       | 3/10 [00:00<00:00, 25.03it/s]"
     ]
    },
    {
     "name": "stdout",
     "output_type": "stream",
     "text": [
      "Embeddings have been saved in  ./Output5\n",
      "Walk iteration:\n"
     ]
    },
    {
     "name": "stderr",
     "output_type": "stream",
     "text": [
      "100%|██████████| 10/10 [00:00<00:00, 24.29it/s]\n",
      "100%|██████████| 77/77 [00:00<00:00, 39632.03it/s]\n",
      "100%|██████████| 254/254 [00:00<00:00, 8068.29it/s]\n",
      " 30%|███       | 3/10 [00:00<00:00, 25.39it/s]"
     ]
    },
    {
     "name": "stdout",
     "output_type": "stream",
     "text": [
      "Embeddings have been saved in  ./Output5\n",
      "Walk iteration:\n"
     ]
    },
    {
     "name": "stderr",
     "output_type": "stream",
     "text": [
      "100%|██████████| 10/10 [00:00<00:00, 23.49it/s]\n",
      "100%|██████████| 77/77 [00:00<00:00, 36064.93it/s]\n",
      "100%|██████████| 254/254 [00:00<00:00, 8219.24it/s]\n",
      " 30%|███       | 3/10 [00:00<00:00, 24.30it/s]"
     ]
    },
    {
     "name": "stdout",
     "output_type": "stream",
     "text": [
      "Embeddings have been saved in  ./Output5\n",
      "Walk iteration:\n"
     ]
    },
    {
     "name": "stderr",
     "output_type": "stream",
     "text": [
      "100%|██████████| 10/10 [00:00<00:00, 23.92it/s]\n",
      "100%|██████████| 77/77 [00:00<00:00, 38873.54it/s]\n",
      "100%|██████████| 254/254 [00:00<00:00, 7707.05it/s]\n",
      " 30%|███       | 3/10 [00:00<00:00, 24.65it/s]"
     ]
    },
    {
     "name": "stdout",
     "output_type": "stream",
     "text": [
      "Embeddings have been saved in  ./Output5\n",
      "Walk iteration:\n"
     ]
    },
    {
     "name": "stderr",
     "output_type": "stream",
     "text": [
      "100%|██████████| 10/10 [00:00<00:00, 23.54it/s]\n",
      "100%|██████████| 77/77 [00:00<00:00, 37839.65it/s]\n",
      "100%|██████████| 254/254 [00:00<00:00, 7772.10it/s]\n",
      " 30%|███       | 3/10 [00:00<00:00, 24.98it/s]"
     ]
    },
    {
     "name": "stdout",
     "output_type": "stream",
     "text": [
      "Embeddings have been saved in  ./Output5\n",
      "Walk iteration:\n"
     ]
    },
    {
     "name": "stderr",
     "output_type": "stream",
     "text": [
      "100%|██████████| 10/10 [00:00<00:00, 24.43it/s]\n",
      "100%|██████████| 77/77 [00:00<00:00, 37358.17it/s]\n",
      "100%|██████████| 254/254 [00:00<00:00, 7656.42it/s]\n",
      " 20%|██        | 2/10 [00:00<00:00, 18.80it/s]"
     ]
    },
    {
     "name": "stdout",
     "output_type": "stream",
     "text": [
      "Embeddings have been saved in  ./Output5\n",
      "Walk iteration:\n"
     ]
    },
    {
     "name": "stderr",
     "output_type": "stream",
     "text": [
      "100%|██████████| 10/10 [00:00<00:00, 22.59it/s]\n",
      "100%|██████████| 77/77 [00:00<00:00, 36859.33it/s]\n",
      "100%|██████████| 254/254 [00:00<00:00, 7784.94it/s]\n",
      " 30%|███       | 3/10 [00:00<00:00, 25.20it/s]"
     ]
    },
    {
     "name": "stdout",
     "output_type": "stream",
     "text": [
      "Embeddings have been saved in  ./Output5\n",
      "Walk iteration:\n"
     ]
    },
    {
     "name": "stderr",
     "output_type": "stream",
     "text": [
      "100%|██████████| 10/10 [00:00<00:00, 23.73it/s]\n",
      "100%|██████████| 77/77 [00:00<00:00, 38789.50it/s]\n",
      "100%|██████████| 254/254 [00:00<00:00, 7442.79it/s]\n",
      " 30%|███       | 3/10 [00:00<00:00, 25.35it/s]"
     ]
    },
    {
     "name": "stdout",
     "output_type": "stream",
     "text": [
      "Embeddings have been saved in  ./Output5\n",
      "Walk iteration:\n"
     ]
    },
    {
     "name": "stderr",
     "output_type": "stream",
     "text": [
      "100%|██████████| 10/10 [00:00<00:00, 24.90it/s]\n",
      "100%|██████████| 77/77 [00:00<00:00, 37835.22it/s]\n",
      "100%|██████████| 254/254 [00:00<00:00, 7910.84it/s]\n",
      " 30%|███       | 3/10 [00:00<00:00, 25.55it/s]"
     ]
    },
    {
     "name": "stdout",
     "output_type": "stream",
     "text": [
      "Embeddings have been saved in  ./Output5\n",
      "Walk iteration:\n"
     ]
    },
    {
     "name": "stderr",
     "output_type": "stream",
     "text": [
      "100%|██████████| 10/10 [00:00<00:00, 24.65it/s]\n",
      "100%|██████████| 77/77 [00:00<00:00, 40059.71it/s]\n",
      "100%|██████████| 254/254 [00:00<00:00, 7912.96it/s]\n",
      " 30%|███       | 3/10 [00:00<00:00, 25.34it/s]"
     ]
    },
    {
     "name": "stdout",
     "output_type": "stream",
     "text": [
      "Embeddings have been saved in  ./Output5\n",
      "Walk iteration:\n"
     ]
    },
    {
     "name": "stderr",
     "output_type": "stream",
     "text": [
      "100%|██████████| 10/10 [00:00<00:00, 24.71it/s]\n",
      "100%|██████████| 77/77 [00:00<00:00, 36750.27it/s]\n",
      "100%|██████████| 254/254 [00:00<00:00, 7628.30it/s]\n",
      " 30%|███       | 3/10 [00:00<00:00, 24.20it/s]"
     ]
    },
    {
     "name": "stdout",
     "output_type": "stream",
     "text": [
      "Embeddings have been saved in  ./Output5\n",
      "Walk iteration:\n"
     ]
    },
    {
     "name": "stderr",
     "output_type": "stream",
     "text": [
      "100%|██████████| 10/10 [00:00<00:00, 23.70it/s]\n",
      "100%|██████████| 77/77 [00:00<00:00, 38925.08it/s]\n",
      "100%|██████████| 254/254 [00:00<00:00, 7655.43it/s]\n",
      " 30%|███       | 3/10 [00:00<00:00, 24.77it/s]"
     ]
    },
    {
     "name": "stdout",
     "output_type": "stream",
     "text": [
      "Embeddings have been saved in  ./Output5\n",
      "Walk iteration:\n"
     ]
    },
    {
     "name": "stderr",
     "output_type": "stream",
     "text": [
      "100%|██████████| 10/10 [00:00<00:00, 24.23it/s]\n",
      "100%|██████████| 77/77 [00:00<00:00, 39108.91it/s]\n",
      "100%|██████████| 254/254 [00:00<00:00, 7919.13it/s]\n",
      " 30%|███       | 3/10 [00:00<00:00, 25.16it/s]"
     ]
    },
    {
     "name": "stdout",
     "output_type": "stream",
     "text": [
      "Embeddings have been saved in  ./Output5\n",
      "Walk iteration:\n"
     ]
    },
    {
     "name": "stderr",
     "output_type": "stream",
     "text": [
      "100%|██████████| 10/10 [00:00<00:00, 23.86it/s]\n",
      "100%|██████████| 77/77 [00:00<00:00, 39089.98it/s]\n",
      "100%|██████████| 254/254 [00:00<00:00, 7783.29it/s]\n",
      " 30%|███       | 3/10 [00:00<00:00, 22.73it/s]"
     ]
    },
    {
     "name": "stdout",
     "output_type": "stream",
     "text": [
      "Embeddings have been saved in  ./Output5\n",
      "Walk iteration:\n"
     ]
    },
    {
     "name": "stderr",
     "output_type": "stream",
     "text": [
      "100%|██████████| 10/10 [00:00<00:00, 21.94it/s]\n",
      "100%|██████████| 77/77 [00:00<00:00, 39347.15it/s]\n",
      "100%|██████████| 254/254 [00:00<00:00, 7727.17it/s]\n",
      " 30%|███       | 3/10 [00:00<00:00, 24.07it/s]"
     ]
    },
    {
     "name": "stdout",
     "output_type": "stream",
     "text": [
      "Embeddings have been saved in  ./Output5\n",
      "Walk iteration:\n"
     ]
    },
    {
     "name": "stderr",
     "output_type": "stream",
     "text": [
      "100%|██████████| 10/10 [00:00<00:00, 23.49it/s]\n",
      "100%|██████████| 77/77 [00:00<00:00, 34190.28it/s]\n",
      "100%|██████████| 254/254 [00:00<00:00, 7922.61it/s]\n",
      " 30%|███       | 3/10 [00:00<00:00, 25.93it/s]"
     ]
    },
    {
     "name": "stdout",
     "output_type": "stream",
     "text": [
      "Embeddings have been saved in  ./Output5\n",
      "Walk iteration:\n"
     ]
    },
    {
     "name": "stderr",
     "output_type": "stream",
     "text": [
      "100%|██████████| 10/10 [00:00<00:00, 24.09it/s]\n",
      "100%|██████████| 77/77 [00:00<00:00, 35702.12it/s]\n",
      "100%|██████████| 254/254 [00:00<00:00, 7764.29it/s]\n",
      " 30%|███       | 3/10 [00:00<00:00, 25.89it/s]"
     ]
    },
    {
     "name": "stdout",
     "output_type": "stream",
     "text": [
      "Embeddings have been saved in  ./Output5\n",
      "Walk iteration:\n"
     ]
    },
    {
     "name": "stderr",
     "output_type": "stream",
     "text": [
      "100%|██████████| 10/10 [00:00<00:00, 24.79it/s]\n",
      "100%|██████████| 77/77 [00:00<00:00, 38292.79it/s]\n",
      "100%|██████████| 254/254 [00:00<00:00, 7726.00it/s]\n",
      " 30%|███       | 3/10 [00:00<00:00, 24.23it/s]"
     ]
    },
    {
     "name": "stdout",
     "output_type": "stream",
     "text": [
      "Embeddings have been saved in  ./Output5\n",
      "Walk iteration:\n"
     ]
    },
    {
     "name": "stderr",
     "output_type": "stream",
     "text": [
      "100%|██████████| 10/10 [00:00<00:00, 24.27it/s]\n",
      "100%|██████████| 77/77 [00:00<00:00, 34456.57it/s]\n",
      "100%|██████████| 254/254 [00:00<00:00, 7604.13it/s]\n",
      " 30%|███       | 3/10 [00:00<00:00, 25.04it/s]"
     ]
    },
    {
     "name": "stdout",
     "output_type": "stream",
     "text": [
      "Embeddings have been saved in  ./Output5\n",
      "Walk iteration:\n"
     ]
    },
    {
     "name": "stderr",
     "output_type": "stream",
     "text": [
      "100%|██████████| 10/10 [00:00<00:00, 24.73it/s]\n",
      "100%|██████████| 77/77 [00:00<00:00, 35880.61it/s]\n",
      "100%|██████████| 254/254 [00:00<00:00, 7724.37it/s]\n",
      " 30%|███       | 3/10 [00:00<00:00, 24.49it/s]"
     ]
    },
    {
     "name": "stdout",
     "output_type": "stream",
     "text": [
      "Embeddings have been saved in  ./Output5\n",
      "Walk iteration:\n"
     ]
    },
    {
     "name": "stderr",
     "output_type": "stream",
     "text": [
      "100%|██████████| 10/10 [00:00<00:00, 24.38it/s]\n",
      "100%|██████████| 77/77 [00:00<00:00, 34967.67it/s]\n",
      "100%|██████████| 254/254 [00:00<00:00, 7956.33it/s]\n",
      " 30%|███       | 3/10 [00:00<00:00, 24.64it/s]"
     ]
    },
    {
     "name": "stdout",
     "output_type": "stream",
     "text": [
      "Embeddings have been saved in  ./Output5\n",
      "Walk iteration:\n"
     ]
    },
    {
     "name": "stderr",
     "output_type": "stream",
     "text": [
      "100%|██████████| 10/10 [00:00<00:00, 23.97it/s]\n",
      "100%|██████████| 77/77 [00:00<00:00, 37671.92it/s]\n",
      "100%|██████████| 254/254 [00:00<00:00, 7571.21it/s]\n",
      " 30%|███       | 3/10 [00:00<00:00, 25.52it/s]"
     ]
    },
    {
     "name": "stdout",
     "output_type": "stream",
     "text": [
      "Embeddings have been saved in  ./Output5\n",
      "Walk iteration:\n"
     ]
    },
    {
     "name": "stderr",
     "output_type": "stream",
     "text": [
      "100%|██████████| 10/10 [00:00<00:00, 24.12it/s]\n",
      "100%|██████████| 77/77 [00:00<00:00, 35517.59it/s]\n",
      "100%|██████████| 254/254 [00:00<00:00, 7735.59it/s]\n",
      " 30%|███       | 3/10 [00:00<00:00, 24.66it/s]"
     ]
    },
    {
     "name": "stdout",
     "output_type": "stream",
     "text": [
      "Embeddings have been saved in  ./Output5\n",
      "Walk iteration:\n"
     ]
    },
    {
     "name": "stderr",
     "output_type": "stream",
     "text": [
      "100%|██████████| 10/10 [00:00<00:00, 24.18it/s]\n",
      "100%|██████████| 77/77 [00:00<00:00, 38329.15it/s]\n",
      "100%|██████████| 254/254 [00:00<00:00, 7389.72it/s]\n",
      " 30%|███       | 3/10 [00:00<00:00, 24.27it/s]"
     ]
    },
    {
     "name": "stdout",
     "output_type": "stream",
     "text": [
      "Embeddings have been saved in  ./Output5\n",
      "Walk iteration:\n"
     ]
    },
    {
     "name": "stderr",
     "output_type": "stream",
     "text": [
      "100%|██████████| 10/10 [00:00<00:00, 23.94it/s]\n",
      "100%|██████████| 77/77 [00:00<00:00, 36683.49it/s]\n",
      "100%|██████████| 254/254 [00:00<00:00, 7644.83it/s]\n",
      " 30%|███       | 3/10 [00:00<00:00, 24.83it/s]"
     ]
    },
    {
     "name": "stdout",
     "output_type": "stream",
     "text": [
      "Embeddings have been saved in  ./Output5\n",
      "Walk iteration:\n"
     ]
    },
    {
     "name": "stderr",
     "output_type": "stream",
     "text": [
      "100%|██████████| 10/10 [00:00<00:00, 24.16it/s]\n",
      "100%|██████████| 77/77 [00:00<00:00, 33789.64it/s]\n",
      "100%|██████████| 254/254 [00:00<00:00, 7574.88it/s]\n",
      " 30%|███       | 3/10 [00:00<00:00, 25.39it/s]"
     ]
    },
    {
     "name": "stdout",
     "output_type": "stream",
     "text": [
      "Embeddings have been saved in  ./Output5\n",
      "Walk iteration:\n"
     ]
    },
    {
     "name": "stderr",
     "output_type": "stream",
     "text": [
      "100%|██████████| 10/10 [00:00<00:00, 23.95it/s]\n",
      "100%|██████████| 77/77 [00:00<00:00, 36863.53it/s]\n",
      "100%|██████████| 254/254 [00:00<00:00, 7762.14it/s]\n",
      " 30%|███       | 3/10 [00:00<00:00, 24.51it/s]"
     ]
    },
    {
     "name": "stdout",
     "output_type": "stream",
     "text": [
      "Embeddings have been saved in  ./Output5\n",
      "Walk iteration:\n"
     ]
    },
    {
     "name": "stderr",
     "output_type": "stream",
     "text": [
      "100%|██████████| 10/10 [00:00<00:00, 23.73it/s]\n",
      "100%|██████████| 77/77 [00:00<00:00, 37597.37it/s]\n",
      "100%|██████████| 254/254 [00:00<00:00, 7646.20it/s]\n",
      " 30%|███       | 3/10 [00:00<00:00, 24.78it/s]"
     ]
    },
    {
     "name": "stdout",
     "output_type": "stream",
     "text": [
      "Embeddings have been saved in  ./Output5\n",
      "Walk iteration:\n"
     ]
    },
    {
     "name": "stderr",
     "output_type": "stream",
     "text": [
      "100%|██████████| 10/10 [00:00<00:00, 24.36it/s]\n",
      "100%|██████████| 77/77 [00:00<00:00, 36930.98it/s]\n",
      "100%|██████████| 254/254 [00:00<00:00, 7778.06it/s]\n",
      " 30%|███       | 3/10 [00:00<00:00, 25.63it/s]"
     ]
    },
    {
     "name": "stdout",
     "output_type": "stream",
     "text": [
      "Embeddings have been saved in  ./Output5\n",
      "Walk iteration:\n"
     ]
    },
    {
     "name": "stderr",
     "output_type": "stream",
     "text": [
      "100%|██████████| 10/10 [00:00<00:00, 24.22it/s]\n",
      "100%|██████████| 77/77 [00:00<00:00, 37839.65it/s]\n",
      "100%|██████████| 254/254 [00:00<00:00, 7555.70it/s]\n",
      " 30%|███       | 3/10 [00:00<00:00, 24.28it/s]"
     ]
    },
    {
     "name": "stdout",
     "output_type": "stream",
     "text": [
      "Embeddings have been saved in  ./Output5\n",
      "Walk iteration:\n"
     ]
    },
    {
     "name": "stderr",
     "output_type": "stream",
     "text": [
      "100%|██████████| 10/10 [00:00<00:00, 23.98it/s]\n",
      "100%|██████████| 77/77 [00:00<00:00, 36222.68it/s]\n",
      "100%|██████████| 254/254 [00:00<00:00, 7632.45it/s]\n",
      " 30%|███       | 3/10 [00:00<00:00, 24.49it/s]"
     ]
    },
    {
     "name": "stdout",
     "output_type": "stream",
     "text": [
      "Embeddings have been saved in  ./Output5\n",
      "Walk iteration:\n"
     ]
    },
    {
     "name": "stderr",
     "output_type": "stream",
     "text": [
      "100%|██████████| 10/10 [00:00<00:00, 23.68it/s]\n",
      "100%|██████████| 77/77 [00:00<00:00, 36271.50it/s]\n",
      "100%|██████████| 254/254 [00:00<00:00, 7770.40it/s]\n",
      " 30%|███       | 3/10 [00:00<00:00, 24.81it/s]"
     ]
    },
    {
     "name": "stdout",
     "output_type": "stream",
     "text": [
      "Embeddings have been saved in  ./Output5\n",
      "Walk iteration:\n"
     ]
    },
    {
     "name": "stderr",
     "output_type": "stream",
     "text": [
      "100%|██████████| 10/10 [00:00<00:00, 23.12it/s]\n",
      "100%|██████████| 77/77 [00:00<00:00, 35960.52it/s]\n",
      "100%|██████████| 254/254 [00:00<00:00, 7884.09it/s]\n",
      " 30%|███       | 3/10 [00:00<00:00, 24.45it/s]"
     ]
    },
    {
     "name": "stdout",
     "output_type": "stream",
     "text": [
      "Embeddings have been saved in  ./Output5\n",
      "Walk iteration:\n"
     ]
    },
    {
     "name": "stderr",
     "output_type": "stream",
     "text": [
      "100%|██████████| 10/10 [00:00<00:00, 23.45it/s]\n",
      "100%|██████████| 77/77 [00:00<00:00, 38831.48it/s]\n",
      "100%|██████████| 254/254 [00:00<00:00, 7583.66it/s]\n",
      " 30%|███       | 3/10 [00:00<00:00, 24.23it/s]"
     ]
    },
    {
     "name": "stdout",
     "output_type": "stream",
     "text": [
      "Embeddings have been saved in  ./Output5\n",
      "Walk iteration:\n"
     ]
    },
    {
     "name": "stderr",
     "output_type": "stream",
     "text": [
      "100%|██████████| 10/10 [00:00<00:00, 23.53it/s]\n",
      "100%|██████████| 77/77 [00:00<00:00, 38967.35it/s]\n",
      "100%|██████████| 254/254 [00:00<00:00, 7630.87it/s]\n",
      " 30%|███       | 3/10 [00:00<00:00, 25.81it/s]"
     ]
    },
    {
     "name": "stdout",
     "output_type": "stream",
     "text": [
      "Embeddings have been saved in  ./Output5\n",
      "Walk iteration:\n"
     ]
    },
    {
     "name": "stderr",
     "output_type": "stream",
     "text": [
      "100%|██████████| 10/10 [00:00<00:00, 23.79it/s]\n",
      "100%|██████████| 77/77 [00:00<00:00, 36592.05it/s]\n",
      "100%|██████████| 254/254 [00:00<00:00, 7614.07it/s]\n",
      " 30%|███       | 3/10 [00:00<00:00, 25.59it/s]"
     ]
    },
    {
     "name": "stdout",
     "output_type": "stream",
     "text": [
      "Embeddings have been saved in  ./Output5\n",
      "Walk iteration:\n"
     ]
    },
    {
     "name": "stderr",
     "output_type": "stream",
     "text": [
      "100%|██████████| 10/10 [00:00<00:00, 24.25it/s]\n",
      "100%|██████████| 77/77 [00:00<00:00, 35257.80it/s]\n",
      "100%|██████████| 254/254 [00:00<00:00, 7679.33it/s]\n",
      " 30%|███       | 3/10 [00:00<00:00, 24.12it/s]"
     ]
    },
    {
     "name": "stdout",
     "output_type": "stream",
     "text": [
      "Embeddings have been saved in  ./Output5\n",
      "Walk iteration:\n"
     ]
    },
    {
     "name": "stderr",
     "output_type": "stream",
     "text": [
      "100%|██████████| 10/10 [00:00<00:00, 23.11it/s]\n",
      "100%|██████████| 77/77 [00:00<00:00, 40204.33it/s]\n",
      "100%|██████████| 254/254 [00:00<00:00, 7655.21it/s]\n",
      " 30%|███       | 3/10 [00:00<00:00, 23.50it/s]"
     ]
    },
    {
     "name": "stdout",
     "output_type": "stream",
     "text": [
      "Embeddings have been saved in  ./Output5\n",
      "Walk iteration:\n"
     ]
    },
    {
     "name": "stderr",
     "output_type": "stream",
     "text": [
      "100%|██████████| 10/10 [00:00<00:00, 23.60it/s]\n",
      "100%|██████████| 77/77 [00:00<00:00, 37505.68it/s]\n",
      "100%|██████████| 254/254 [00:00<00:00, 7790.23it/s]\n",
      " 30%|███       | 3/10 [00:00<00:00, 24.74it/s]"
     ]
    },
    {
     "name": "stdout",
     "output_type": "stream",
     "text": [
      "Embeddings have been saved in  ./Output5\n",
      "Walk iteration:\n"
     ]
    },
    {
     "name": "stderr",
     "output_type": "stream",
     "text": [
      "100%|██████████| 10/10 [00:00<00:00, 23.62it/s]\n",
      "100%|██████████| 77/77 [00:00<00:00, 35146.52it/s]\n",
      "100%|██████████| 254/254 [00:00<00:00, 7833.94it/s]\n",
      " 30%|███       | 3/10 [00:00<00:00, 24.48it/s]"
     ]
    },
    {
     "name": "stdout",
     "output_type": "stream",
     "text": [
      "Embeddings have been saved in  ./Output5\n",
      "Walk iteration:\n"
     ]
    },
    {
     "name": "stderr",
     "output_type": "stream",
     "text": [
      "100%|██████████| 10/10 [00:00<00:00, 23.48it/s]\n",
      "100%|██████████| 77/77 [00:00<00:00, 34255.56it/s]\n",
      "100%|██████████| 254/254 [00:00<00:00, 7571.65it/s]\n",
      " 30%|███       | 3/10 [00:00<00:00, 25.36it/s]"
     ]
    },
    {
     "name": "stdout",
     "output_type": "stream",
     "text": [
      "Embeddings have been saved in  ./Output5\n",
      "Walk iteration:\n"
     ]
    },
    {
     "name": "stderr",
     "output_type": "stream",
     "text": [
      "100%|██████████| 10/10 [00:00<00:00, 23.69it/s]\n",
      "100%|██████████| 77/77 [00:00<00:00, 39184.83it/s]\n",
      "100%|██████████| 254/254 [00:00<00:00, 7692.08it/s]\n",
      " 30%|███       | 3/10 [00:00<00:00, 25.25it/s]"
     ]
    },
    {
     "name": "stdout",
     "output_type": "stream",
     "text": [
      "Embeddings have been saved in  ./Output5\n",
      "Walk iteration:\n"
     ]
    },
    {
     "name": "stderr",
     "output_type": "stream",
     "text": [
      "100%|██████████| 10/10 [00:00<00:00, 24.41it/s]\n",
      "100%|██████████| 77/77 [00:00<00:00, 36546.50it/s]\n",
      "100%|██████████| 254/254 [00:00<00:00, 7691.64it/s]\n",
      " 30%|███       | 3/10 [00:00<00:00, 26.58it/s]"
     ]
    },
    {
     "name": "stdout",
     "output_type": "stream",
     "text": [
      "Embeddings have been saved in  ./Output5\n",
      "Walk iteration:\n"
     ]
    },
    {
     "name": "stderr",
     "output_type": "stream",
     "text": [
      "100%|██████████| 10/10 [00:00<00:00, 24.87it/s]\n",
      "100%|██████████| 77/77 [00:00<00:00, 33771.98it/s]\n",
      "100%|██████████| 254/254 [00:00<00:00, 7899.46it/s]\n",
      " 30%|███       | 3/10 [00:00<00:00, 23.71it/s]"
     ]
    },
    {
     "name": "stdout",
     "output_type": "stream",
     "text": [
      "Embeddings have been saved in  ./Output5\n",
      "Walk iteration:\n"
     ]
    },
    {
     "name": "stderr",
     "output_type": "stream",
     "text": [
      "100%|██████████| 10/10 [00:00<00:00, 23.66it/s]\n",
      "100%|██████████| 77/77 [00:00<00:00, 38967.35it/s]\n",
      "100%|██████████| 254/254 [00:00<00:00, 7935.47it/s]\n",
      " 30%|███       | 3/10 [00:00<00:00, 24.41it/s]"
     ]
    },
    {
     "name": "stdout",
     "output_type": "stream",
     "text": [
      "Embeddings have been saved in  ./Output5\n",
      "Walk iteration:\n"
     ]
    },
    {
     "name": "stderr",
     "output_type": "stream",
     "text": [
      "100%|██████████| 10/10 [00:00<00:00, 23.51it/s]\n",
      "100%|██████████| 77/77 [00:00<00:00, 36251.14it/s]\n",
      "100%|██████████| 254/254 [00:00<00:00, 7764.51it/s]\n",
      " 30%|███       | 3/10 [00:00<00:00, 23.87it/s]"
     ]
    },
    {
     "name": "stdout",
     "output_type": "stream",
     "text": [
      "Embeddings have been saved in  ./Output5\n",
      "Walk iteration:\n"
     ]
    },
    {
     "name": "stderr",
     "output_type": "stream",
     "text": [
      "100%|██████████| 10/10 [00:00<00:00, 23.91it/s]\n",
      "100%|██████████| 77/77 [00:00<00:00, 39607.73it/s]\n",
      "100%|██████████| 254/254 [00:00<00:00, 7757.84it/s]\n",
      " 30%|███       | 3/10 [00:00<00:00, 24.61it/s]"
     ]
    },
    {
     "name": "stdout",
     "output_type": "stream",
     "text": [
      "Embeddings have been saved in  ./Output5\n",
      "Walk iteration:\n"
     ]
    },
    {
     "name": "stderr",
     "output_type": "stream",
     "text": [
      "100%|██████████| 10/10 [00:00<00:00, 22.81it/s]\n",
      "100%|██████████| 77/77 [00:00<00:00, 36521.70it/s]\n",
      "100%|██████████| 254/254 [00:00<00:00, 7729.70it/s]\n",
      " 30%|███       | 3/10 [00:00<00:00, 24.82it/s]"
     ]
    },
    {
     "name": "stdout",
     "output_type": "stream",
     "text": [
      "Embeddings have been saved in  ./Output5\n",
      "Walk iteration:\n"
     ]
    },
    {
     "name": "stderr",
     "output_type": "stream",
     "text": [
      "100%|██████████| 10/10 [00:00<00:00, 23.68it/s]\n",
      "100%|██████████| 77/77 [00:00<00:00, 37453.49it/s]\n",
      "100%|██████████| 254/254 [00:00<00:00, 7229.25it/s]\n",
      " 30%|███       | 3/10 [00:00<00:00, 23.32it/s]"
     ]
    },
    {
     "name": "stdout",
     "output_type": "stream",
     "text": [
      "Embeddings have been saved in  ./Output5\n",
      "Walk iteration:\n"
     ]
    },
    {
     "name": "stderr",
     "output_type": "stream",
     "text": [
      "100%|██████████| 10/10 [00:00<00:00, 23.64it/s]\n",
      "100%|██████████| 77/77 [00:00<00:00, 36369.53it/s]\n",
      "100%|██████████| 254/254 [00:00<00:00, 7704.21it/s]\n",
      " 30%|███       | 3/10 [00:00<00:00, 24.18it/s]"
     ]
    },
    {
     "name": "stdout",
     "output_type": "stream",
     "text": [
      "Embeddings have been saved in  ./Output5\n",
      "Walk iteration:\n"
     ]
    },
    {
     "name": "stderr",
     "output_type": "stream",
     "text": [
      "100%|██████████| 10/10 [00:00<00:00, 23.12it/s]\n",
      "100%|██████████| 77/77 [00:00<00:00, 35032.15it/s]\n",
      "100%|██████████| 254/254 [00:00<00:00, 7776.87it/s]\n",
      " 30%|███       | 3/10 [00:00<00:00, 25.49it/s]"
     ]
    },
    {
     "name": "stdout",
     "output_type": "stream",
     "text": [
      "Embeddings have been saved in  ./Output5\n",
      "Walk iteration:\n"
     ]
    },
    {
     "name": "stderr",
     "output_type": "stream",
     "text": [
      "100%|██████████| 10/10 [00:00<00:00, 24.32it/s]\n",
      "100%|██████████| 77/77 [00:00<00:00, 36137.56it/s]\n",
      "100%|██████████| 254/254 [00:00<00:00, 7795.76it/s]\n",
      " 30%|███       | 3/10 [00:00<00:00, 24.05it/s]"
     ]
    },
    {
     "name": "stdout",
     "output_type": "stream",
     "text": [
      "Embeddings have been saved in  ./Output5\n",
      "Walk iteration:\n"
     ]
    },
    {
     "name": "stderr",
     "output_type": "stream",
     "text": [
      "100%|██████████| 10/10 [00:00<00:00, 23.51it/s]\n",
      "100%|██████████| 77/77 [00:00<00:00, 37523.11it/s]\n",
      "100%|██████████| 254/254 [00:00<00:00, 7774.26it/s]\n",
      " 30%|███       | 3/10 [00:00<00:00, 23.91it/s]"
     ]
    },
    {
     "name": "stdout",
     "output_type": "stream",
     "text": [
      "Embeddings have been saved in  ./Output5\n",
      "Walk iteration:\n"
     ]
    },
    {
     "name": "stderr",
     "output_type": "stream",
     "text": [
      "100%|██████████| 10/10 [00:00<00:00, 24.29it/s]\n",
      "100%|██████████| 77/77 [00:00<00:00, 35576.27it/s]\n",
      "100%|██████████| 254/254 [00:00<00:00, 7797.36it/s]\n",
      " 30%|███       | 3/10 [00:00<00:00, 24.73it/s]"
     ]
    },
    {
     "name": "stdout",
     "output_type": "stream",
     "text": [
      "Embeddings have been saved in  ./Output5\n",
      "Walk iteration:\n"
     ]
    },
    {
     "name": "stderr",
     "output_type": "stream",
     "text": [
      "100%|██████████| 10/10 [00:00<00:00, 24.19it/s]\n",
      "100%|██████████| 77/77 [00:00<00:00, 37036.86it/s]\n",
      "100%|██████████| 254/254 [00:00<00:00, 7782.38it/s]\n",
      " 30%|███       | 3/10 [00:00<00:00, 24.78it/s]"
     ]
    },
    {
     "name": "stdout",
     "output_type": "stream",
     "text": [
      "Embeddings have been saved in  ./Output5\n",
      "Walk iteration:\n"
     ]
    },
    {
     "name": "stderr",
     "output_type": "stream",
     "text": [
      "100%|██████████| 10/10 [00:00<00:00, 24.25it/s]\n",
      "100%|██████████| 77/77 [00:00<00:00, 36813.11it/s]\n",
      "100%|██████████| 254/254 [00:00<00:00, 7750.56it/s]\n",
      " 30%|███       | 3/10 [00:00<00:00, 24.23it/s]"
     ]
    },
    {
     "name": "stdout",
     "output_type": "stream",
     "text": [
      "Embeddings have been saved in  ./Output5\n",
      "Walk iteration:\n"
     ]
    },
    {
     "name": "stderr",
     "output_type": "stream",
     "text": [
      "100%|██████████| 10/10 [00:00<00:00, 23.87it/s]\n",
      "100%|██████████| 77/77 [00:00<00:00, 38498.20it/s]\n",
      "100%|██████████| 254/254 [00:00<00:00, 7910.37it/s]\n",
      " 20%|██        | 2/10 [00:00<00:00, 18.82it/s]"
     ]
    },
    {
     "name": "stdout",
     "output_type": "stream",
     "text": [
      "Embeddings have been saved in  ./Output5\n",
      "Walk iteration:\n"
     ]
    },
    {
     "name": "stderr",
     "output_type": "stream",
     "text": [
      "100%|██████████| 10/10 [00:00<00:00, 22.17it/s]\n",
      "100%|██████████| 77/77 [00:00<00:00, 35678.46it/s]\n",
      "100%|██████████| 254/254 [00:00<00:00, 7628.74it/s]\n",
      " 30%|███       | 3/10 [00:00<00:00, 25.07it/s]"
     ]
    },
    {
     "name": "stdout",
     "output_type": "stream",
     "text": [
      "Embeddings have been saved in  ./Output5\n",
      "Walk iteration:\n"
     ]
    },
    {
     "name": "stderr",
     "output_type": "stream",
     "text": [
      "100%|██████████| 10/10 [00:00<00:00, 22.30it/s]\n",
      "100%|██████████| 77/77 [00:00<00:00, 38040.21it/s]\n",
      "100%|██████████| 254/254 [00:00<00:00, 7683.43it/s]\n",
      " 30%|███       | 3/10 [00:00<00:00, 24.85it/s]"
     ]
    },
    {
     "name": "stdout",
     "output_type": "stream",
     "text": [
      "Embeddings have been saved in  ./Output5\n",
      "Walk iteration:\n"
     ]
    },
    {
     "name": "stderr",
     "output_type": "stream",
     "text": [
      "100%|██████████| 10/10 [00:00<00:00, 23.52it/s]\n",
      "100%|██████████| 77/77 [00:00<00:00, 38516.57it/s]\n",
      "100%|██████████| 254/254 [00:00<00:00, 7662.87it/s]\n",
      " 30%|███       | 3/10 [00:00<00:00, 25.75it/s]"
     ]
    },
    {
     "name": "stdout",
     "output_type": "stream",
     "text": [
      "Embeddings have been saved in  ./Output5\n",
      "Walk iteration:\n"
     ]
    },
    {
     "name": "stderr",
     "output_type": "stream",
     "text": [
      "100%|██████████| 10/10 [00:00<00:00, 24.83it/s]\n",
      "100%|██████████| 77/77 [00:00<00:00, 36202.38it/s]\n",
      "100%|██████████| 254/254 [00:00<00:00, 7961.86it/s]\n",
      " 30%|███       | 3/10 [00:00<00:00, 23.74it/s]"
     ]
    },
    {
     "name": "stdout",
     "output_type": "stream",
     "text": [
      "Embeddings have been saved in  ./Output5\n",
      "Walk iteration:\n"
     ]
    },
    {
     "name": "stderr",
     "output_type": "stream",
     "text": [
      "100%|██████████| 10/10 [00:00<00:00, 23.15it/s]\n",
      "100%|██████████| 77/77 [00:00<00:00, 39189.59it/s]\n",
      "100%|██████████| 254/254 [00:00<00:00, 7450.44it/s]\n",
      " 30%|███       | 3/10 [00:00<00:00, 25.05it/s]"
     ]
    },
    {
     "name": "stdout",
     "output_type": "stream",
     "text": [
      "Embeddings have been saved in  ./Output5\n",
      "Walk iteration:\n"
     ]
    },
    {
     "name": "stderr",
     "output_type": "stream",
     "text": [
      "100%|██████████| 10/10 [00:00<00:00, 24.55it/s]\n",
      "100%|██████████| 77/77 [00:00<00:00, 35996.59it/s]\n",
      "100%|██████████| 254/254 [00:00<00:00, 7672.08it/s]\n",
      " 30%|███       | 3/10 [00:00<00:00, 23.84it/s]"
     ]
    },
    {
     "name": "stdout",
     "output_type": "stream",
     "text": [
      "Embeddings have been saved in  ./Output5\n",
      "Walk iteration:\n"
     ]
    },
    {
     "name": "stderr",
     "output_type": "stream",
     "text": [
      "100%|██████████| 10/10 [00:00<00:00, 24.16it/s]\n",
      "100%|██████████| 77/77 [00:00<00:00, 35745.59it/s]\n",
      "100%|██████████| 254/254 [00:00<00:00, 7930.57it/s]\n",
      " 30%|███       | 3/10 [00:00<00:00, 23.03it/s]"
     ]
    },
    {
     "name": "stdout",
     "output_type": "stream",
     "text": [
      "Embeddings have been saved in  ./Output5\n",
      "Walk iteration:\n"
     ]
    },
    {
     "name": "stderr",
     "output_type": "stream",
     "text": [
      "100%|██████████| 10/10 [00:00<00:00, 23.83it/s]\n",
      "100%|██████████| 77/77 [00:00<00:00, 38044.69it/s]\n",
      "100%|██████████| 254/254 [00:00<00:00, 7868.72it/s]\n",
      " 30%|███       | 3/10 [00:00<00:00, 25.17it/s]"
     ]
    },
    {
     "name": "stdout",
     "output_type": "stream",
     "text": [
      "Embeddings have been saved in  ./Output5\n",
      "Walk iteration:\n"
     ]
    },
    {
     "name": "stderr",
     "output_type": "stream",
     "text": [
      "100%|██████████| 10/10 [00:00<00:00, 24.07it/s]\n",
      "100%|██████████| 77/77 [00:00<00:00, 36683.49it/s]\n",
      "100%|██████████| 254/254 [00:00<00:00, 7663.53it/s]\n",
      " 30%|███       | 3/10 [00:00<00:00, 23.97it/s]"
     ]
    },
    {
     "name": "stdout",
     "output_type": "stream",
     "text": [
      "Embeddings have been saved in  ./Output5\n",
      "Walk iteration:\n"
     ]
    },
    {
     "name": "stderr",
     "output_type": "stream",
     "text": [
      "100%|██████████| 10/10 [00:00<00:00, 24.00it/s]\n",
      "100%|██████████| 77/77 [00:00<00:00, 33243.58it/s]\n",
      "100%|██████████| 254/254 [00:00<00:00, 7563.10it/s]\n",
      " 30%|███       | 3/10 [00:00<00:00, 25.32it/s]"
     ]
    },
    {
     "name": "stdout",
     "output_type": "stream",
     "text": [
      "Embeddings have been saved in  ./Output5\n",
      "Walk iteration:\n"
     ]
    },
    {
     "name": "stderr",
     "output_type": "stream",
     "text": [
      "100%|██████████| 10/10 [00:00<00:00, 23.79it/s]\n",
      "100%|██████████| 77/77 [00:00<00:00, 35498.07it/s]\n",
      "100%|██████████| 254/254 [00:00<00:00, 7663.03it/s]\n",
      " 30%|███       | 3/10 [00:00<00:00, 24.36it/s]"
     ]
    },
    {
     "name": "stdout",
     "output_type": "stream",
     "text": [
      "Embeddings have been saved in  ./Output5\n",
      "Walk iteration:\n"
     ]
    },
    {
     "name": "stderr",
     "output_type": "stream",
     "text": [
      "100%|██████████| 10/10 [00:00<00:00, 22.92it/s]\n",
      "100%|██████████| 77/77 [00:00<00:00, 39280.15it/s]\n",
      "100%|██████████| 254/254 [00:00<00:00, 7443.00it/s]\n",
      " 30%|███       | 3/10 [00:00<00:00, 24.08it/s]"
     ]
    },
    {
     "name": "stdout",
     "output_type": "stream",
     "text": [
      "Embeddings have been saved in  ./Output5\n",
      "Walk iteration:\n"
     ]
    },
    {
     "name": "stderr",
     "output_type": "stream",
     "text": [
      "100%|██████████| 10/10 [00:00<00:00, 22.93it/s]"
     ]
    },
    {
     "name": "stdout",
     "output_type": "stream",
     "text": [
      "Embeddings have been saved in  ./Output5\n"
     ]
    },
    {
     "name": "stderr",
     "output_type": "stream",
     "text": [
      "\n"
     ]
    }
   ],
   "source": [
    "graph = '../WoMG/data/graph/lesmiserables/lesmiserables_edgelist.txt'\n",
    "output_path = './Output5'\n",
    "p_val = [0.1, 0.25, 0.5, 0.75, 1, 1.25, 1.5, 1.75, 2, 4, 8]\n",
    "q_val = [0.1, 0.25, 0.5, 0.75, 1, 1.25, 1.5, 1.75, 2, 4, 8]\n",
    "\n",
    "grid_search(graph=graph, p_val=p_val, q_val=q_val, out=output_path, reduce=False)"
   ]
  },
  {
   "cell_type": "code",
   "execution_count": 11,
   "metadata": {},
   "outputs": [],
   "source": [
    "def read_files(path):\n",
    "    '''\n",
    "    Returns file names list in path\n",
    "    '''\n",
    "    files = next(pathlib.os.walk(str(path)))[2]\n",
    "    for file in files:\n",
    "        if file.startswith('.'):\n",
    "            files.remove(file)\n",
    "    return files"
   ]
  },
  {
   "cell_type": "code",
   "execution_count": 12,
   "metadata": {},
   "outputs": [],
   "source": [
    "def make_stat(graph_path, emb_folder_path):\n",
    "    '''\n",
    "    Returns list with all the homophily ratio for each embeddings file\n",
    "    '''\n",
    "    G = read_graph(weighted=False, graph=graph_path, directed=False)\n",
    "    stat = []\n",
    "    files = read_files(emb_folder_path)\n",
    "    for file in files:\n",
    "        file_name = pathlib.Path(emb_folder_path) / file\n",
    "        G_emb = read_emb(file_name, G)\n",
    "        si = sim_in(G_emb)\n",
    "        so = sim_out(G_emb, 5000)\n",
    "        stat.append(si/so)\n",
    "    return stat"
   ]
  },
  {
   "cell_type": "code",
   "execution_count": 13,
   "metadata": {},
   "outputs": [],
   "source": [
    "graph_path = graph\n",
    "emb_folder_path = output_path\n",
    "\n",
    "stat = make_stat(graph_path=graph_path, emb_folder_path=emb_folder_path)"
   ]
  },
  {
   "cell_type": "code",
   "execution_count": 14,
   "metadata": {},
   "outputs": [],
   "source": [
    "def make_df(stat_vec):\n",
    "    '''\n",
    "    Returns dataframe for p values (rows) and q valus (columns) with homophily values\n",
    "    '''\n",
    "    d = {str(q): [] for q in q_val}\n",
    "    num_cols = len(q_val)\n",
    "    num_rows = len(p_val)\n",
    "    \n",
    "    for r in range(num_rows):\n",
    "        for c in range(num_cols):\n",
    "            d[str(q_val[c])].append(stat_vec[c + r*num_cols])\n",
    "    return pd.DataFrame(data=d, index=p_val)"
   ]
  },
  {
   "cell_type": "code",
   "execution_count": 15,
   "metadata": {},
   "outputs": [],
   "source": [
    "df = make_df(stat)"
   ]
  },
  {
   "cell_type": "code",
   "execution_count": 16,
   "metadata": {},
   "outputs": [
    {
     "data": {
      "text/plain": [
       "Text(79,0.5,'p')"
      ]
     },
     "execution_count": 16,
     "metadata": {},
     "output_type": "execute_result"
    },
    {
     "data": {
      "image/png": "[encoded data removed]",
      "text/plain": [
       "<matplotlib.figure.Figure at 0x123154ef0>"
      ]
     },
     "metadata": {},
     "output_type": "display_data"
    }
   ],
   "source": [
    "fig, ax = plt.subplots(figsize=(11, 9))\n",
    "sns.heatmap(ax=ax, data=df)\n",
    "plt.xlabel('q')\n",
    "plt.ylabel('p')"
   ]
  },
  {
   "cell_type": "code",
   "execution_count": null,
   "metadata": {},
   "outputs": [],
   "source": [
    "uniform_data = np.random.rand(10, 12)\n",
    "ax = sns.heatmap(uniform_data)"
   ]
  },
  {
   "cell_type": "code",
   "execution_count": null,
   "metadata": {},
   "outputs": [],
   "source": []
  }
 ],
 "metadata": {
  "kernelspec": {
   "display_name": "Python 3",
   "language": "python",
   "name": "python3"
  },
  "language_info": {
   "codemirror_mode": {
    "name": "ipython",
    "version": 3
   },
   "file_extension": ".py",
   "mimetype": "text/x-python",
   "name": "python",
   "nbconvert_exporter": "python",
   "pygments_lexer": "ipython3",
   "version": "3.6.0"
  }
 },
 "nbformat": 4,
 "nbformat_minor": 2
}
