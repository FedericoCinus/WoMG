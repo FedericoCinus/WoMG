{
 "cells": [
  {
   "cell_type": "markdown",
   "metadata": {},
   "source": [
    "# *n2i*: analysis"
   ]
  },
  {
   "cell_type": "markdown",
   "metadata": {},
   "source": [
    "### TOC:\n",
    "* [Demo](#Demo)\n",
    "* [Analysis](#Analysis)\n",
    "* [Grid search](#Grid search)"
   ]
  },
  {
   "cell_type": "markdown",
   "metadata": {},
   "source": [
    "## Demo"
   ]
  },
  {
   "cell_type": "markdown",
   "metadata": {},
   "source": [
    "n2i can be used both in command line and Jupyter notebook. The following code runs n2i with the default parameters.\n",
    "\n",
    "NB: REMEBER TO DEFINE IF THE GRAPH IS DIRECTED AND/OR WEIGHTED"
   ]
  },
  {
   "cell_type": "code",
   "execution_count": 1,
   "metadata": {},
   "outputs": [],
   "source": [
    "%matplotlib inline"
   ]
  },
  {
   "cell_type": "code",
   "execution_count": 2,
   "metadata": {
    "scrolled": true
   },
   "outputs": [],
   "source": [
    "import pathlib\n",
    "import numpy as np\n",
    "import pandas as pd\n",
    "import matplotlib.pyplot as plt\n",
    "import seaborn as sns; sns.set()\n",
    "import networkx as nx\n",
    "from scipy.spatial import distance\n",
    "from n2i.__main__ import n2i_main"
   ]
  },
  {
   "cell_type": "code",
   "execution_count": null,
   "metadata": {},
   "outputs": [],
   "source": [
    "#n2i_main(graph='../WoMG/data/graph/lesmiserables/lesmiserables_edgelist.txt', topics=3)"
   ]
  },
  {
   "cell_type": "markdown",
   "metadata": {},
   "source": [
    "## Analysis"
   ]
  },
  {
   "cell_type": "code",
   "execution_count": 3,
   "metadata": {},
   "outputs": [],
   "source": [
    "def read_graph(weighted, graph, directed):\n",
    "    '''\n",
    "    Reads the input network in networkx.\n",
    "    '''\n",
    "    #print(graph)\n",
    "    if weighted:\n",
    "        G = nx.read_edgelist(graph, nodetype=int, data=(('weight',float),), create_using=nx.DiGraph())\n",
    "    else:\n",
    "        G = nx.read_edgelist(graph, nodetype=int, create_using=nx.DiGraph())\n",
    "        for edge in G.edges():\n",
    "            G[edge[0]][edge[1]]['weight'] = 1\n",
    "\n",
    "    if not directed:\n",
    "        G = G.to_undirected()\n",
    "\n",
    "    return G"
   ]
  },
  {
   "cell_type": "code",
   "execution_count": 4,
   "metadata": {},
   "outputs": [],
   "source": [
    "def read_emb(emb, G):\n",
    "    '''\n",
    "    Returns embeddings from a given file\n",
    "    '''\n",
    "    file_name = pathlib.Path(emb)\n",
    "    with open(file_name, 'r') as f:\n",
    "        for line in f.readlines():\n",
    "            line = line.replace(',','').replace('[','').replace(']','').split()\n",
    "            node = int(line[0])\n",
    "            emb = line[1:]\n",
    "            G.nodes[node]['interests'] = [float(i) for i in emb]\n",
    "            #print(emb)\n",
    "    return G"
   ]
  },
  {
   "cell_type": "code",
   "execution_count": 5,
   "metadata": {},
   "outputs": [],
   "source": [
    "# similarity between connected nodes\n",
    "def sim_in(G):\n",
    "    sims = []\n",
    "    for i in G.nodes:\n",
    "        for j in list(G.neighbors(i)):\n",
    "            sims.append(1 - distance.cosine(G.nodes[i]['interests'], G.nodes[j]['interests']))\n",
    "    return np.mean(sims)\n",
    "\n",
    "def select_notedge(G):\n",
    "    n = nx.number_of_nodes(G)\n",
    "    while True:\n",
    "        a, b = np.random.randint(0, n, size=2)\n",
    "        if (a, b) not in G.edges:\n",
    "            return a, b\n",
    "\n",
    "# similarity between disconnected nodes\n",
    "def sim_out(G, samples):\n",
    "    sims_out = []\n",
    "    for c in range(samples):\n",
    "        i, j = select_notedge(G)\n",
    "        sims_out.append(1 - distance.cosine(G.nodes[i]['interests'], G.nodes[j]['interests']))\n",
    "    return np.mean(sims_out)\n",
    "\n",
    "def homophily(G):\n",
    "    return sim_in(G) / sim_out(G, 5000)"
   ]
  },
  {
   "cell_type": "code",
   "execution_count": 6,
   "metadata": {},
   "outputs": [
    {
     "data": {
      "text/plain": [
       "\"\\nG = read_graph(weighted=False, \\n               graph='../WoMG/data/graph/lesmiserables/lesmiserables_edgelist.txt',\\n               directed=False)\\nG = read_emb('./emb2.txt', G=G)\\n\""
      ]
     },
     "execution_count": 6,
     "metadata": {},
     "output_type": "execute_result"
    }
   ],
   "source": [
    "'''\n",
    "G = read_graph(weighted=False, \n",
    "               graph='../WoMG/data/graph/lesmiserables/lesmiserables_edgelist.txt',\n",
    "               directed=False)\n",
    "G = read_emb('./emb2.txt', G=G)\n",
    "'''"
   ]
  },
  {
   "cell_type": "code",
   "execution_count": 7,
   "metadata": {},
   "outputs": [],
   "source": [
    "#si = sim_in(G)\n",
    "#so = sim_out(G, 5000)\n",
    "#print (\"In similarity: {:.4f} \\nOut similarity: {:.4f} \\nHomophily rate: {:.4f}\".format(si, so, si/so))"
   ]
  },
  {
   "cell_type": "markdown",
   "metadata": {},
   "source": [
    "## Grid search"
   ]
  },
  {
   "cell_type": "code",
   "execution_count": 8,
   "metadata": {},
   "outputs": [],
   "source": [
    "def grid_search(graph,\n",
    "                topics=[15],\n",
    "                dimensions=[128],\n",
    "                walk_length=[80],\n",
    "                num_walks=[10],\n",
    "                window_size=[10],\n",
    "                iiter=[1],\n",
    "                p_val=[1],\n",
    "                q_val=[1],\n",
    "                out='./',\n",
    "                reduce=True):\n",
    "\n",
    "    for t in topics:\n",
    "        for d in dimensions:\n",
    "            for wk in walk_length:\n",
    "                for n in num_walks:\n",
    "                    for wi in window_size:\n",
    "                        for ii in iiter:\n",
    "                            for p in p_val:\n",
    "                                for q in q_val:\n",
    "                                    n2i_main(graph=graph, topics=t, \n",
    "                                             dimensions=d, walk_length=wk,\n",
    "                                             num_walks=n, window_size=wi,\n",
    "                                             iiter=ii, p=p, q=q,\n",
    "                                             output=out,\n",
    "                                             reduce=reduce)"
   ]
  },
  {
   "cell_type": "code",
   "execution_count": null,
   "metadata": {},
   "outputs": [
    {
     "name": "stderr",
     "output_type": "stream",
     "text": [
      "100%|██████████| 77/77 [00:00<00:00, 31963.72it/s]\n",
      "100%|██████████| 254/254 [00:00<00:00, 7287.90it/s]\n",
      " 30%|███       | 3/10 [00:00<00:00, 23.41it/s]"
     ]
    },
    {
     "name": "stdout",
     "output_type": "stream",
     "text": [
      "Walk iteration:\n"
     ]
    },
    {
     "name": "stderr",
     "output_type": "stream",
     "text": [
      "100%|██████████| 10/10 [00:00<00:00, 24.04it/s]\n",
      "100%|██████████| 77/77 [00:00<00:00, 29662.14it/s]\n",
      "100%|██████████| 254/254 [00:00<00:00, 7391.72it/s]\n",
      " 30%|███       | 3/10 [00:00<00:00, 22.99it/s]"
     ]
    },
    {
     "name": "stdout",
     "output_type": "stream",
     "text": [
      "Embeddings have been saved in  ./Output1\n",
      "Walk iteration:\n"
     ]
    },
    {
     "name": "stderr",
     "output_type": "stream",
     "text": [
      "100%|██████████| 10/10 [00:00<00:00, 23.33it/s]\n",
      "100%|██████████| 77/77 [00:00<00:00, 36316.36it/s]\n",
      "100%|██████████| 254/254 [00:00<00:00, 7892.32it/s]\n",
      " 30%|███       | 3/10 [00:00<00:00, 26.66it/s]"
     ]
    },
    {
     "name": "stdout",
     "output_type": "stream",
     "text": [
      "Embeddings have been saved in  ./Output1\n",
      "Walk iteration:\n"
     ]
    },
    {
     "name": "stderr",
     "output_type": "stream",
     "text": [
      "100%|██████████| 10/10 [00:00<00:00, 25.48it/s]\n",
      "100%|██████████| 77/77 [00:00<00:00, 38850.16it/s]\n",
      "100%|██████████| 254/254 [00:00<00:00, 7792.63it/s]\n",
      " 30%|███       | 3/10 [00:00<00:00, 25.72it/s]"
     ]
    },
    {
     "name": "stdout",
     "output_type": "stream",
     "text": [
      "Embeddings have been saved in  ./Output1\n",
      "Walk iteration:\n"
     ]
    },
    {
     "name": "stderr",
     "output_type": "stream",
     "text": [
      "100%|██████████| 10/10 [00:00<00:00, 22.21it/s]\n",
      "100%|██████████| 77/77 [00:00<00:00, 27839.10it/s]\n",
      "100%|██████████| 254/254 [00:00<00:00, 7355.53it/s]\n",
      " 30%|███       | 3/10 [00:00<00:00, 21.85it/s]"
     ]
    },
    {
     "name": "stdout",
     "output_type": "stream",
     "text": [
      "Embeddings have been saved in  ./Output1\n",
      "Walk iteration:\n"
     ]
    },
    {
     "name": "stderr",
     "output_type": "stream",
     "text": [
      "100%|██████████| 10/10 [00:00<00:00, 23.31it/s]\n",
      "100%|██████████| 77/77 [00:00<00:00, 38901.64it/s]\n",
      "100%|██████████| 254/254 [00:00<00:00, 7729.08it/s]\n",
      " 30%|███       | 3/10 [00:00<00:00, 26.52it/s]"
     ]
    },
    {
     "name": "stdout",
     "output_type": "stream",
     "text": [
      "Embeddings have been saved in  ./Output1\n",
      "Walk iteration:\n"
     ]
    },
    {
     "name": "stderr",
     "output_type": "stream",
     "text": [
      "100%|██████████| 10/10 [00:00<00:00, 24.59it/s]\n",
      "100%|██████████| 77/77 [00:00<00:00, 38103.04it/s]\n",
      "100%|██████████| 254/254 [00:00<00:00, 7459.83it/s]\n",
      " 30%|███       | 3/10 [00:00<00:00, 24.91it/s]"
     ]
    },
    {
     "name": "stdout",
     "output_type": "stream",
     "text": [
      "Embeddings have been saved in  ./Output1\n",
      "Walk iteration:\n"
     ]
    },
    {
     "name": "stderr",
     "output_type": "stream",
     "text": [
      "100%|██████████| 10/10 [00:00<00:00, 24.56it/s]\n",
      "100%|██████████| 77/77 [00:00<00:00, 32228.46it/s]\n",
      "100%|██████████| 254/254 [00:00<00:00, 7349.49it/s]\n",
      " 30%|███       | 3/10 [00:00<00:00, 23.82it/s]"
     ]
    },
    {
     "name": "stdout",
     "output_type": "stream",
     "text": [
      "Embeddings have been saved in  ./Output1\n",
      "Walk iteration:\n"
     ]
    },
    {
     "name": "stderr",
     "output_type": "stream",
     "text": [
      "100%|██████████| 10/10 [00:00<00:00, 21.74it/s]\n",
      "100%|██████████| 77/77 [00:00<00:00, 31416.48it/s]\n",
      "100%|██████████| 254/254 [00:00<00:00, 7071.48it/s]\n",
      " 30%|███       | 3/10 [00:00<00:00, 22.89it/s]"
     ]
    },
    {
     "name": "stdout",
     "output_type": "stream",
     "text": [
      "Embeddings have been saved in  ./Output1\n",
      "Walk iteration:\n"
     ]
    },
    {
     "name": "stderr",
     "output_type": "stream",
     "text": [
      "100%|██████████| 10/10 [00:00<00:00, 21.70it/s]\n",
      "100%|██████████| 77/77 [00:00<00:00, 27121.38it/s]\n",
      "100%|██████████| 254/254 [00:00<00:00, 7106.29it/s]\n",
      " 30%|███       | 3/10 [00:00<00:00, 24.45it/s]"
     ]
    },
    {
     "name": "stdout",
     "output_type": "stream",
     "text": [
      "Embeddings have been saved in  ./Output1\n",
      "Walk iteration:\n"
     ]
    },
    {
     "name": "stderr",
     "output_type": "stream",
     "text": [
      "100%|██████████| 10/10 [00:00<00:00, 23.51it/s]\n",
      "100%|██████████| 77/77 [00:00<00:00, 33627.80it/s]\n",
      "100%|██████████| 254/254 [00:00<00:00, 7333.41it/s]\n",
      " 30%|███       | 3/10 [00:00<00:00, 22.52it/s]"
     ]
    },
    {
     "name": "stdout",
     "output_type": "stream",
     "text": [
      "Embeddings have been saved in  ./Output1\n",
      "Walk iteration:\n"
     ]
    },
    {
     "name": "stderr",
     "output_type": "stream",
     "text": [
      "100%|██████████| 10/10 [00:00<00:00, 22.73it/s]\n",
      "100%|██████████| 77/77 [00:00<00:00, 31328.10it/s]\n",
      "100%|██████████| 254/254 [00:00<00:00, 7438.21it/s]\n",
      " 30%|███       | 3/10 [00:00<00:00, 24.99it/s]"
     ]
    },
    {
     "name": "stdout",
     "output_type": "stream",
     "text": [
      "Embeddings have been saved in  ./Output1\n",
      "Walk iteration:\n"
     ]
    },
    {
     "name": "stderr",
     "output_type": "stream",
     "text": [
      "100%|██████████| 10/10 [00:00<00:00, 24.89it/s]\n",
      "100%|██████████| 77/77 [00:00<00:00, 33005.76it/s]\n",
      "100%|██████████| 254/254 [00:00<00:00, 7539.76it/s]\n",
      " 30%|███       | 3/10 [00:00<00:00, 23.21it/s]"
     ]
    },
    {
     "name": "stdout",
     "output_type": "stream",
     "text": [
      "Embeddings have been saved in  ./Output1\n",
      "Walk iteration:\n"
     ]
    },
    {
     "name": "stderr",
     "output_type": "stream",
     "text": [
      "100%|██████████| 10/10 [00:00<00:00, 22.58it/s]\n",
      "100%|██████████| 77/77 [00:00<00:00, 36683.49it/s]\n",
      "100%|██████████| 254/254 [00:00<00:00, 7517.20it/s]\n",
      " 30%|███       | 3/10 [00:00<00:00, 23.34it/s]"
     ]
    },
    {
     "name": "stdout",
     "output_type": "stream",
     "text": [
      "Embeddings have been saved in  ./Output1\n",
      "Walk iteration:\n"
     ]
    },
    {
     "name": "stderr",
     "output_type": "stream",
     "text": [
      "100%|██████████| 10/10 [00:00<00:00, 21.81it/s]\n",
      "100%|██████████| 77/77 [00:00<00:00, 30402.09it/s]\n",
      "100%|██████████| 254/254 [00:00<00:00, 7182.46it/s]\n",
      " 30%|███       | 3/10 [00:00<00:00, 24.59it/s]"
     ]
    },
    {
     "name": "stdout",
     "output_type": "stream",
     "text": [
      "Embeddings have been saved in  ./Output1\n",
      "Walk iteration:\n"
     ]
    },
    {
     "name": "stderr",
     "output_type": "stream",
     "text": [
      "100%|██████████| 10/10 [00:00<00:00, 23.47it/s]\n",
      "100%|██████████| 77/77 [00:00<00:00, 37751.19it/s]\n",
      "100%|██████████| 254/254 [00:00<00:00, 7209.15it/s]\n",
      " 30%|███       | 3/10 [00:00<00:00, 22.65it/s]"
     ]
    },
    {
     "name": "stdout",
     "output_type": "stream",
     "text": [
      "Embeddings have been saved in  ./Output1\n",
      "Walk iteration:\n"
     ]
    },
    {
     "name": "stderr",
     "output_type": "stream",
     "text": [
      "100%|██████████| 10/10 [00:00<00:00, 22.16it/s]\n",
      "100%|██████████| 77/77 [00:00<00:00, 28245.71it/s]\n",
      "100%|██████████| 254/254 [00:00<00:00, 7155.35it/s]\n",
      " 30%|███       | 3/10 [00:00<00:00, 24.31it/s]"
     ]
    },
    {
     "name": "stdout",
     "output_type": "stream",
     "text": [
      "Embeddings have been saved in  ./Output1\n",
      "Walk iteration:\n"
     ]
    },
    {
     "name": "stderr",
     "output_type": "stream",
     "text": [
      "100%|██████████| 10/10 [00:00<00:00, 24.18it/s]\n",
      "100%|██████████| 77/77 [00:00<00:00, 33842.75it/s]\n",
      "100%|██████████| 254/254 [00:00<00:00, 7406.57it/s]\n",
      " 30%|███       | 3/10 [00:00<00:00, 22.76it/s]"
     ]
    },
    {
     "name": "stdout",
     "output_type": "stream",
     "text": [
      "Embeddings have been saved in  ./Output1\n",
      "Walk iteration:\n"
     ]
    },
    {
     "name": "stderr",
     "output_type": "stream",
     "text": [
      "100%|██████████| 10/10 [00:00<00:00, 21.89it/s]\n",
      "100%|██████████| 77/77 [00:00<00:00, 34313.79it/s]\n",
      "100%|██████████| 254/254 [00:00<00:00, 7369.22it/s]\n",
      " 30%|███       | 3/10 [00:00<00:00, 21.64it/s]"
     ]
    },
    {
     "name": "stdout",
     "output_type": "stream",
     "text": [
      "Embeddings have been saved in  ./Output1\n",
      "Walk iteration:\n"
     ]
    },
    {
     "name": "stderr",
     "output_type": "stream",
     "text": [
      "100%|██████████| 10/10 [00:00<00:00, 21.76it/s]\n",
      "100%|██████████| 77/77 [00:00<00:00, 26030.58it/s]\n",
      "100%|██████████| 254/254 [00:00<00:00, 7070.87it/s]\n",
      " 20%|██        | 2/10 [00:00<00:00, 19.65it/s]"
     ]
    },
    {
     "name": "stdout",
     "output_type": "stream",
     "text": [
      "Embeddings have been saved in  ./Output1\n",
      "Walk iteration:\n"
     ]
    },
    {
     "name": "stderr",
     "output_type": "stream",
     "text": [
      "100%|██████████| 10/10 [00:00<00:00, 22.02it/s]\n",
      "100%|██████████| 77/77 [00:00<00:00, 38134.54it/s]\n",
      "100%|██████████| 254/254 [00:00<00:00, 7070.07it/s]\n",
      " 30%|███       | 3/10 [00:00<00:00, 24.66it/s]"
     ]
    },
    {
     "name": "stdout",
     "output_type": "stream",
     "text": [
      "Embeddings have been saved in  ./Output1\n",
      "Walk iteration:\n"
     ]
    },
    {
     "name": "stderr",
     "output_type": "stream",
     "text": [
      "100%|██████████| 10/10 [00:00<00:00, 25.07it/s]\n",
      "100%|██████████| 77/77 [00:00<00:00, 37689.51it/s]\n",
      "100%|██████████| 254/254 [00:00<00:00, 7441.02it/s]\n",
      " 30%|███       | 3/10 [00:00<00:00, 24.06it/s]"
     ]
    },
    {
     "name": "stdout",
     "output_type": "stream",
     "text": [
      "Embeddings have been saved in  ./Output1\n",
      "Walk iteration:\n"
     ]
    },
    {
     "name": "stderr",
     "output_type": "stream",
     "text": [
      "100%|██████████| 10/10 [00:00<00:00, 23.03it/s]\n",
      "100%|██████████| 77/77 [00:00<00:00, 35207.83it/s]\n",
      "100%|██████████| 254/254 [00:00<00:00, 7793.54it/s]\n",
      " 30%|███       | 3/10 [00:00<00:00, 25.11it/s]"
     ]
    },
    {
     "name": "stdout",
     "output_type": "stream",
     "text": [
      "Embeddings have been saved in  ./Output1\n",
      "Walk iteration:\n"
     ]
    },
    {
     "name": "stderr",
     "output_type": "stream",
     "text": [
      "100%|██████████| 10/10 [00:00<00:00, 22.83it/s]\n",
      "100%|██████████| 77/77 [00:00<00:00, 34434.52it/s]\n",
      "100%|██████████| 254/254 [00:00<00:00, 7097.95it/s]\n",
      " 30%|███       | 3/10 [00:00<00:00, 23.11it/s]"
     ]
    },
    {
     "name": "stdout",
     "output_type": "stream",
     "text": [
      "Embeddings have been saved in  ./Output1\n",
      "Walk iteration:\n"
     ]
    },
    {
     "name": "stderr",
     "output_type": "stream",
     "text": [
      "100%|██████████| 10/10 [00:00<00:00, 23.43it/s]\n",
      "100%|██████████| 77/77 [00:00<00:00, 35650.89it/s]\n",
      "100%|██████████| 254/254 [00:00<00:00, 7801.24it/s]\n",
      " 30%|███       | 3/10 [00:00<00:00, 25.62it/s]"
     ]
    },
    {
     "name": "stdout",
     "output_type": "stream",
     "text": [
      "Embeddings have been saved in  ./Output1\n",
      "Walk iteration:\n"
     ]
    },
    {
     "name": "stderr",
     "output_type": "stream",
     "text": [
      "100%|██████████| 10/10 [00:00<00:00, 23.65it/s]\n",
      "100%|██████████| 77/77 [00:00<00:00, 34809.38it/s]\n",
      "100%|██████████| 254/254 [00:00<00:00, 7389.31it/s]\n",
      " 30%|███       | 3/10 [00:00<00:00, 23.99it/s]"
     ]
    },
    {
     "name": "stdout",
     "output_type": "stream",
     "text": [
      "Embeddings have been saved in  ./Output1\n",
      "Walk iteration:\n"
     ]
    },
    {
     "name": "stderr",
     "output_type": "stream",
     "text": [
      "100%|██████████| 10/10 [00:00<00:00, 24.02it/s]\n",
      "100%|██████████| 77/77 [00:00<00:00, 35797.10it/s]\n",
      "100%|██████████| 254/254 [00:00<00:00, 7653.84it/s]\n",
      " 30%|███       | 3/10 [00:00<00:00, 23.72it/s]"
     ]
    },
    {
     "name": "stdout",
     "output_type": "stream",
     "text": [
      "Embeddings have been saved in  ./Output1\n",
      "Walk iteration:\n"
     ]
    },
    {
     "name": "stderr",
     "output_type": "stream",
     "text": [
      "100%|██████████| 10/10 [00:00<00:00, 23.67it/s]\n",
      "100%|██████████| 77/77 [00:00<00:00, 33564.89it/s]\n",
      "100%|██████████| 254/254 [00:00<00:00, 7506.35it/s]\n",
      " 30%|███       | 3/10 [00:00<00:00, 24.39it/s]"
     ]
    },
    {
     "name": "stdout",
     "output_type": "stream",
     "text": [
      "Embeddings have been saved in  ./Output1\n",
      "Walk iteration:\n"
     ]
    },
    {
     "name": "stderr",
     "output_type": "stream",
     "text": [
      "100%|██████████| 10/10 [00:00<00:00, 24.21it/s]\n",
      "100%|██████████| 77/77 [00:00<00:00, 39564.06it/s]\n",
      "100%|██████████| 254/254 [00:00<00:00, 7667.28it/s]\n",
      " 30%|███       | 3/10 [00:00<00:00, 25.95it/s]"
     ]
    },
    {
     "name": "stdout",
     "output_type": "stream",
     "text": [
      "Embeddings have been saved in  ./Output1\n",
      "Walk iteration:\n"
     ]
    },
    {
     "name": "stderr",
     "output_type": "stream",
     "text": [
      "100%|██████████| 10/10 [00:00<00:00, 24.42it/s]\n",
      "100%|██████████| 77/77 [00:00<00:00, 35729.77it/s]\n",
      "100%|██████████| 254/254 [00:00<00:00, 7503.70it/s]\n",
      " 30%|███       | 3/10 [00:00<00:00, 24.90it/s]"
     ]
    },
    {
     "name": "stdout",
     "output_type": "stream",
     "text": [
      "Embeddings have been saved in  ./Output1\n",
      "Walk iteration:\n"
     ]
    },
    {
     "name": "stderr",
     "output_type": "stream",
     "text": [
      "100%|██████████| 10/10 [00:00<00:00, 25.22it/s]\n",
      "100%|██████████| 77/77 [00:00<00:00, 38557.95it/s]\n",
      "100%|██████████| 254/254 [00:00<00:00, 7871.56it/s]\n",
      " 20%|██        | 2/10 [00:00<00:00, 18.26it/s]"
     ]
    },
    {
     "name": "stdout",
     "output_type": "stream",
     "text": [
      "Embeddings have been saved in  ./Output1\n",
      "Walk iteration:\n"
     ]
    },
    {
     "name": "stderr",
     "output_type": "stream",
     "text": [
      "100%|██████████| 10/10 [00:00<00:00, 20.25it/s]\n",
      "100%|██████████| 77/77 [00:00<00:00, 35809.00it/s]\n",
      "100%|██████████| 254/254 [00:00<00:00, 7893.55it/s]\n",
      " 30%|███       | 3/10 [00:00<00:00, 22.87it/s]"
     ]
    },
    {
     "name": "stdout",
     "output_type": "stream",
     "text": [
      "Embeddings have been saved in  ./Output1\n",
      "Walk iteration:\n"
     ]
    },
    {
     "name": "stderr",
     "output_type": "stream",
     "text": [
      "100%|██████████| 10/10 [00:00<00:00, 22.52it/s]\n",
      "100%|██████████| 77/77 [00:00<00:00, 35615.51it/s]\n",
      "100%|██████████| 254/254 [00:00<00:00, 7473.70it/s]\n",
      " 30%|███       | 3/10 [00:00<00:00, 20.98it/s]"
     ]
    },
    {
     "name": "stdout",
     "output_type": "stream",
     "text": [
      "Embeddings have been saved in  ./Output1\n",
      "Walk iteration:\n"
     ]
    },
    {
     "name": "stderr",
     "output_type": "stream",
     "text": [
      "100%|██████████| 10/10 [00:00<00:00, 22.43it/s]\n",
      "100%|██████████| 77/77 [00:00<00:00, 30054.10it/s]\n",
      "100%|██████████| 254/254 [00:00<00:00, 7421.63it/s]\n",
      " 20%|██        | 2/10 [00:00<00:00, 19.62it/s]"
     ]
    },
    {
     "name": "stdout",
     "output_type": "stream",
     "text": [
      "Embeddings have been saved in  ./Output1\n",
      "Walk iteration:\n"
     ]
    },
    {
     "name": "stderr",
     "output_type": "stream",
     "text": [
      "100%|██████████| 10/10 [00:00<00:00, 22.13it/s]\n",
      "100%|██████████| 77/77 [00:00<00:00, 28422.20it/s]\n",
      "100%|██████████| 254/254 [00:00<00:00, 7345.69it/s]\n",
      " 30%|███       | 3/10 [00:00<00:00, 23.89it/s]"
     ]
    },
    {
     "name": "stdout",
     "output_type": "stream",
     "text": [
      "Embeddings have been saved in  ./Output1\n",
      "Walk iteration:\n"
     ]
    },
    {
     "name": "stderr",
     "output_type": "stream",
     "text": [
      "100%|██████████| 10/10 [00:00<00:00, 23.30it/s]\n",
      "100%|██████████| 77/77 [00:00<00:00, 33537.01it/s]\n",
      "100%|██████████| 254/254 [00:00<00:00, 7289.00it/s]\n",
      " 30%|███       | 3/10 [00:00<00:00, 23.08it/s]"
     ]
    },
    {
     "name": "stdout",
     "output_type": "stream",
     "text": [
      "Embeddings have been saved in  ./Output1\n",
      "Walk iteration:\n"
     ]
    },
    {
     "name": "stderr",
     "output_type": "stream",
     "text": [
      "100%|██████████| 10/10 [00:00<00:00, 22.79it/s]\n",
      "100%|██████████| 77/77 [00:00<00:00, 36048.82it/s]\n",
      "100%|██████████| 254/254 [00:00<00:00, 7762.87it/s]\n",
      " 30%|███       | 3/10 [00:00<00:00, 24.56it/s]"
     ]
    },
    {
     "name": "stdout",
     "output_type": "stream",
     "text": [
      "Embeddings have been saved in  ./Output1\n",
      "Walk iteration:\n"
     ]
    },
    {
     "name": "stderr",
     "output_type": "stream",
     "text": [
      "100%|██████████| 10/10 [00:00<00:00, 24.97it/s]\n",
      "100%|██████████| 77/77 [00:00<00:00, 31062.94it/s]\n",
      "100%|██████████| 254/254 [00:00<00:00, 7700.98it/s]\n",
      " 30%|███       | 3/10 [00:00<00:00, 22.39it/s]"
     ]
    },
    {
     "name": "stdout",
     "output_type": "stream",
     "text": [
      "Embeddings have been saved in  ./Output1\n",
      "Walk iteration:\n"
     ]
    },
    {
     "name": "stderr",
     "output_type": "stream",
     "text": [
      "100%|██████████| 10/10 [00:00<00:00, 23.49it/s]\n",
      "100%|██████████| 77/77 [00:00<00:00, 29973.22it/s]\n",
      "100%|██████████| 254/254 [00:00<00:00, 7446.74it/s]\n",
      " 30%|███       | 3/10 [00:00<00:00, 25.64it/s]"
     ]
    },
    {
     "name": "stdout",
     "output_type": "stream",
     "text": [
      "Embeddings have been saved in  ./Output1\n",
      "Walk iteration:\n"
     ]
    },
    {
     "name": "stderr",
     "output_type": "stream",
     "text": [
      "100%|██████████| 10/10 [00:00<00:00, 24.04it/s]\n",
      "100%|██████████| 77/77 [00:00<00:00, 35848.75it/s]\n",
      "100%|██████████| 254/254 [00:00<00:00, 7629.23it/s]\n",
      " 30%|███       | 3/10 [00:00<00:00, 27.02it/s]"
     ]
    },
    {
     "name": "stdout",
     "output_type": "stream",
     "text": [
      "Embeddings have been saved in  ./Output1\n",
      "Walk iteration:\n"
     ]
    },
    {
     "name": "stderr",
     "output_type": "stream",
     "text": [
      "100%|██████████| 10/10 [00:00<00:00, 25.83it/s]\n",
      "100%|██████████| 77/77 [00:00<00:00, 29716.73it/s]\n",
      "100%|██████████| 254/254 [00:00<00:00, 7395.31it/s]\n",
      " 30%|███       | 3/10 [00:00<00:00, 24.74it/s]"
     ]
    },
    {
     "name": "stdout",
     "output_type": "stream",
     "text": [
      "Embeddings have been saved in  ./Output1\n",
      "Walk iteration:\n"
     ]
    },
    {
     "name": "stderr",
     "output_type": "stream",
     "text": [
      "100%|██████████| 10/10 [00:00<00:00, 24.75it/s]\n",
      "100%|██████████| 77/77 [00:00<00:00, 33229.90it/s]\n",
      "100%|██████████| 254/254 [00:00<00:00, 7815.15it/s]\n",
      " 30%|███       | 3/10 [00:00<00:00, 26.11it/s]"
     ]
    },
    {
     "name": "stdout",
     "output_type": "stream",
     "text": [
      "Embeddings have been saved in  ./Output1\n",
      "Walk iteration:\n"
     ]
    },
    {
     "name": "stderr",
     "output_type": "stream",
     "text": [
      "100%|██████████| 10/10 [00:00<00:00, 24.73it/s]\n",
      "100%|██████████| 77/77 [00:00<00:00, 37685.11it/s]\n",
      "100%|██████████| 254/254 [00:00<00:00, 7727.62it/s]\n",
      " 30%|███       | 3/10 [00:00<00:00, 26.38it/s]"
     ]
    },
    {
     "name": "stdout",
     "output_type": "stream",
     "text": [
      "Embeddings have been saved in  ./Output1\n",
      "Walk iteration:\n"
     ]
    },
    {
     "name": "stderr",
     "output_type": "stream",
     "text": [
      "100%|██████████| 10/10 [00:00<00:00, 25.08it/s]\n",
      "100%|██████████| 77/77 [00:00<00:00, 36821.50it/s]\n",
      "100%|██████████| 254/254 [00:00<00:00, 7806.22it/s]\n",
      " 30%|███       | 3/10 [00:00<00:00, 24.09it/s]"
     ]
    },
    {
     "name": "stdout",
     "output_type": "stream",
     "text": [
      "Embeddings have been saved in  ./Output1\n",
      "Walk iteration:\n"
     ]
    },
    {
     "name": "stderr",
     "output_type": "stream",
     "text": [
      "100%|██████████| 10/10 [00:00<00:00, 23.63it/s]\n",
      "100%|██████████| 77/77 [00:00<00:00, 38040.21it/s]\n",
      "100%|██████████| 254/254 [00:00<00:00, 8347.85it/s]\n",
      " 30%|███       | 3/10 [00:00<00:00, 26.29it/s]"
     ]
    },
    {
     "name": "stdout",
     "output_type": "stream",
     "text": [
      "Embeddings have been saved in  ./Output1\n",
      "Walk iteration:\n"
     ]
    },
    {
     "name": "stderr",
     "output_type": "stream",
     "text": [
      "100%|██████████| 10/10 [00:00<00:00, 25.02it/s]\n",
      "100%|██████████| 77/77 [00:00<00:00, 34637.65it/s]\n",
      "100%|██████████| 254/254 [00:00<00:00, 8246.53it/s]\n",
      " 30%|███       | 3/10 [00:00<00:00, 25.75it/s]"
     ]
    },
    {
     "name": "stdout",
     "output_type": "stream",
     "text": [
      "Embeddings have been saved in  ./Output1\n",
      "Walk iteration:\n"
     ]
    },
    {
     "name": "stderr",
     "output_type": "stream",
     "text": [
      "100%|██████████| 10/10 [00:00<00:00, 24.52it/s]\n",
      "100%|██████████| 77/77 [00:00<00:00, 35161.83it/s]\n",
      "100%|██████████| 254/254 [00:00<00:00, 8306.59it/s]\n",
      " 30%|███       | 3/10 [00:00<00:00, 25.61it/s]"
     ]
    },
    {
     "name": "stdout",
     "output_type": "stream",
     "text": [
      "Embeddings have been saved in  ./Output1\n",
      "Walk iteration:\n"
     ]
    },
    {
     "name": "stderr",
     "output_type": "stream",
     "text": [
      "100%|██████████| 10/10 [00:00<00:00, 24.73it/s]\n",
      "100%|██████████| 77/77 [00:00<00:00, 38288.25it/s]\n",
      "100%|██████████| 254/254 [00:00<00:00, 8239.01it/s]\n",
      " 30%|███       | 3/10 [00:00<00:00, 24.76it/s]"
     ]
    },
    {
     "name": "stdout",
     "output_type": "stream",
     "text": [
      "Embeddings have been saved in  ./Output1\n",
      "Walk iteration:\n"
     ]
    },
    {
     "name": "stderr",
     "output_type": "stream",
     "text": [
      "100%|██████████| 10/10 [00:00<00:00, 25.12it/s]\n",
      "100%|██████████| 77/77 [00:00<00:00, 37968.66it/s]\n",
      "100%|██████████| 254/254 [00:00<00:00, 11225.47it/s]\n",
      " 30%|███       | 3/10 [00:00<00:00, 26.36it/s]"
     ]
    },
    {
     "name": "stdout",
     "output_type": "stream",
     "text": [
      "Embeddings have been saved in  ./Output1\n",
      "Walk iteration:\n"
     ]
    },
    {
     "name": "stderr",
     "output_type": "stream",
     "text": [
      "100%|██████████| 10/10 [00:00<00:00, 25.42it/s]\n",
      "100%|██████████| 77/77 [00:00<00:00, 35455.20it/s]\n",
      "100%|██████████| 254/254 [00:00<00:00, 8344.78it/s]\n",
      " 30%|███       | 3/10 [00:00<00:00, 24.07it/s]"
     ]
    },
    {
     "name": "stdout",
     "output_type": "stream",
     "text": [
      "Embeddings have been saved in  ./Output1\n",
      "Walk iteration:\n"
     ]
    },
    {
     "name": "stderr",
     "output_type": "stream",
     "text": [
      "100%|██████████| 10/10 [00:00<00:00, 24.44it/s]\n",
      "100%|██████████| 77/77 [00:00<00:00, 35319.49it/s]\n",
      "100%|██████████| 254/254 [00:00<00:00, 8178.54it/s]\n",
      " 30%|███       | 3/10 [00:00<00:00, 24.64it/s]"
     ]
    },
    {
     "name": "stdout",
     "output_type": "stream",
     "text": [
      "Embeddings have been saved in  ./Output1\n",
      "Walk iteration:\n"
     ]
    },
    {
     "name": "stderr",
     "output_type": "stream",
     "text": [
      "100%|██████████| 10/10 [00:00<00:00, 24.21it/s]\n",
      "100%|██████████| 77/77 [00:00<00:00, 37910.72it/s]\n",
      "100%|██████████| 254/254 [00:00<00:00, 8384.78it/s]\n",
      " 30%|███       | 3/10 [00:00<00:00, 24.34it/s]"
     ]
    },
    {
     "name": "stdout",
     "output_type": "stream",
     "text": [
      "Embeddings have been saved in  ./Output1\n",
      "Walk iteration:\n"
     ]
    },
    {
     "name": "stderr",
     "output_type": "stream",
     "text": [
      "100%|██████████| 10/10 [00:00<00:00, 23.65it/s]\n",
      "100%|██████████| 77/77 [00:00<00:00, 34157.74it/s]\n",
      "100%|██████████| 254/254 [00:00<00:00, 8335.84it/s]\n",
      " 30%|███       | 3/10 [00:00<00:00, 24.74it/s]"
     ]
    },
    {
     "name": "stdout",
     "output_type": "stream",
     "text": [
      "Embeddings have been saved in  ./Output1\n",
      "Walk iteration:\n"
     ]
    },
    {
     "name": "stderr",
     "output_type": "stream",
     "text": [
      "100%|██████████| 10/10 [00:00<00:00, 24.40it/s]\n",
      "100%|██████████| 77/77 [00:00<00:00, 32668.56it/s]\n",
      "100%|██████████| 254/254 [00:00<00:00, 7820.43it/s]\n",
      " 30%|███       | 3/10 [00:00<00:00, 26.20it/s]"
     ]
    },
    {
     "name": "stdout",
     "output_type": "stream",
     "text": [
      "Embeddings have been saved in  ./Output1\n",
      "Walk iteration:\n"
     ]
    },
    {
     "name": "stderr",
     "output_type": "stream",
     "text": [
      "100%|██████████| 10/10 [00:00<00:00, 24.34it/s]\n",
      "100%|██████████| 77/77 [00:00<00:00, 35884.60it/s]\n",
      "100%|██████████| 254/254 [00:00<00:00, 8485.08it/s]\n",
      " 30%|███       | 3/10 [00:00<00:00, 25.37it/s]"
     ]
    },
    {
     "name": "stdout",
     "output_type": "stream",
     "text": [
      "Embeddings have been saved in  ./Output1\n",
      "Walk iteration:\n"
     ]
    },
    {
     "name": "stderr",
     "output_type": "stream",
     "text": [
      "100%|██████████| 10/10 [00:00<00:00, 23.98it/s]\n",
      "100%|██████████| 77/77 [00:00<00:00, 36947.88it/s]\n",
      "100%|██████████| 254/254 [00:00<00:00, 7752.93it/s]\n",
      " 30%|███       | 3/10 [00:00<00:00, 25.32it/s]"
     ]
    },
    {
     "name": "stdout",
     "output_type": "stream",
     "text": [
      "Embeddings have been saved in  ./Output1\n",
      "Walk iteration:\n"
     ]
    },
    {
     "name": "stderr",
     "output_type": "stream",
     "text": [
      "100%|██████████| 10/10 [00:00<00:00, 24.67it/s]\n",
      "100%|██████████| 77/77 [00:00<00:00, 33474.44it/s]\n",
      "100%|██████████| 254/254 [00:00<00:00, 7599.30it/s]\n",
      " 30%|███       | 3/10 [00:00<00:00, 25.27it/s]"
     ]
    },
    {
     "name": "stdout",
     "output_type": "stream",
     "text": [
      "Embeddings have been saved in  ./Output1\n",
      "Walk iteration:\n"
     ]
    },
    {
     "name": "stderr",
     "output_type": "stream",
     "text": [
      "100%|██████████| 10/10 [00:00<00:00, 24.19it/s]\n",
      "100%|██████████| 77/77 [00:00<00:00, 33233.32it/s]\n",
      "100%|██████████| 254/254 [00:00<00:00, 7542.00it/s]\n",
      " 30%|███       | 3/10 [00:00<00:00, 25.82it/s]"
     ]
    },
    {
     "name": "stdout",
     "output_type": "stream",
     "text": [
      "Embeddings have been saved in  ./Output1\n",
      "Walk iteration:\n"
     ]
    },
    {
     "name": "stderr",
     "output_type": "stream",
     "text": [
      "100%|██████████| 10/10 [00:00<00:00, 24.42it/s]\n",
      "100%|██████████| 77/77 [00:00<00:00, 33697.98it/s]\n",
      "100%|██████████| 254/254 [00:00<00:00, 7326.85it/s]\n",
      " 20%|██        | 2/10 [00:00<00:00, 18.40it/s]"
     ]
    },
    {
     "name": "stdout",
     "output_type": "stream",
     "text": [
      "Embeddings have been saved in  ./Output1\n",
      "Walk iteration:\n"
     ]
    },
    {
     "name": "stderr",
     "output_type": "stream",
     "text": [
      "100%|██████████| 10/10 [00:00<00:00, 23.82it/s]\n",
      "100%|██████████| 77/77 [00:00<00:00, 32992.28it/s]\n",
      "100%|██████████| 254/254 [00:00<00:00, 7907.85it/s]\n",
      " 30%|███       | 3/10 [00:00<00:00, 25.59it/s]"
     ]
    },
    {
     "name": "stdout",
     "output_type": "stream",
     "text": [
      "Embeddings have been saved in  ./Output1\n",
      "Walk iteration:\n"
     ]
    },
    {
     "name": "stderr",
     "output_type": "stream",
     "text": [
      "100%|██████████| 10/10 [00:00<00:00, 24.78it/s]\n",
      "100%|██████████| 77/77 [00:00<00:00, 36567.19it/s]\n",
      "100%|██████████| 254/254 [00:00<00:00, 7882.34it/s]\n",
      " 30%|███       | 3/10 [00:00<00:00, 26.31it/s]"
     ]
    },
    {
     "name": "stdout",
     "output_type": "stream",
     "text": [
      "Embeddings have been saved in  ./Output1\n",
      "Walk iteration:\n"
     ]
    },
    {
     "name": "stderr",
     "output_type": "stream",
     "text": [
      "100%|██████████| 10/10 [00:00<00:00, 25.10it/s]\n",
      "100%|██████████| 77/77 [00:00<00:00, 36650.18it/s]\n",
      "100%|██████████| 254/254 [00:00<00:00, 7848.02it/s]\n",
      " 30%|███       | 3/10 [00:00<00:00, 23.67it/s]"
     ]
    },
    {
     "name": "stdout",
     "output_type": "stream",
     "text": [
      "Embeddings have been saved in  ./Output1\n",
      "Walk iteration:\n"
     ]
    },
    {
     "name": "stderr",
     "output_type": "stream",
     "text": [
      "100%|██████████| 10/10 [00:00<00:00, 23.94it/s]\n",
      "100%|██████████| 77/77 [00:00<00:00, 25988.69it/s]\n",
      "100%|██████████| 254/254 [00:00<00:00, 7689.69it/s]\n",
      " 30%|███       | 3/10 [00:00<00:00, 23.87it/s]"
     ]
    },
    {
     "name": "stdout",
     "output_type": "stream",
     "text": [
      "Embeddings have been saved in  ./Output1\n",
      "Walk iteration:\n"
     ]
    },
    {
     "name": "stderr",
     "output_type": "stream",
     "text": [
      "100%|██████████| 10/10 [00:00<00:00, 23.81it/s]\n",
      "100%|██████████| 77/77 [00:00<00:00, 35108.32it/s]\n",
      "100%|██████████| 254/254 [00:00<00:00, 7795.76it/s]\n",
      " 30%|███       | 3/10 [00:00<00:00, 24.20it/s]"
     ]
    },
    {
     "name": "stdout",
     "output_type": "stream",
     "text": [
      "Embeddings have been saved in  ./Output1\n",
      "Walk iteration:\n"
     ]
    },
    {
     "name": "stderr",
     "output_type": "stream",
     "text": [
      "100%|██████████| 10/10 [00:00<00:00, 23.81it/s]\n",
      "100%|██████████| 77/77 [00:00<00:00, 35177.15it/s]\n",
      "100%|██████████| 254/254 [00:00<00:00, 6882.13it/s]\n",
      " 30%|███       | 3/10 [00:00<00:00, 25.19it/s]"
     ]
    },
    {
     "name": "stdout",
     "output_type": "stream",
     "text": [
      "Embeddings have been saved in  ./Output1\n",
      "Walk iteration:\n"
     ]
    },
    {
     "name": "stderr",
     "output_type": "stream",
     "text": [
      "100%|██████████| 10/10 [00:00<00:00, 24.58it/s]\n",
      "100%|██████████| 77/77 [00:00<00:00, 37483.91it/s]\n",
      "100%|██████████| 254/254 [00:00<00:00, 7758.07it/s]\n",
      " 30%|███       | 3/10 [00:00<00:00, 25.10it/s]"
     ]
    },
    {
     "name": "stdout",
     "output_type": "stream",
     "text": [
      "Embeddings have been saved in  ./Output1\n",
      "Walk iteration:\n"
     ]
    },
    {
     "name": "stderr",
     "output_type": "stream",
     "text": [
      "100%|██████████| 10/10 [00:00<00:00, 24.69it/s]\n",
      "100%|██████████| 77/77 [00:00<00:00, 34342.98it/s]\n",
      "100%|██████████| 254/254 [00:00<00:00, 7385.67it/s]\n",
      " 30%|███       | 3/10 [00:00<00:00, 24.27it/s]"
     ]
    },
    {
     "name": "stdout",
     "output_type": "stream",
     "text": [
      "Embeddings have been saved in  ./Output1\n",
      "Walk iteration:\n"
     ]
    },
    {
     "name": "stderr",
     "output_type": "stream",
     "text": [
      "100%|██████████| 10/10 [00:00<00:00, 22.32it/s]\n",
      "100%|██████████| 77/77 [00:00<00:00, 32764.68it/s]\n",
      "100%|██████████| 254/254 [00:00<00:00, 7391.66it/s]\n",
      " 30%|███       | 3/10 [00:00<00:00, 23.58it/s]"
     ]
    },
    {
     "name": "stdout",
     "output_type": "stream",
     "text": [
      "Embeddings have been saved in  ./Output1\n",
      "Walk iteration:\n"
     ]
    },
    {
     "name": "stderr",
     "output_type": "stream",
     "text": [
      "\r",
      " 60%|██████    | 6/10 [00:00<00:00, 23.52it/s]"
     ]
    }
   ],
   "source": [
    "graph = '../data/graph/lesmiserables/lesmiserables_edgelist.txt'\n",
    "output_path = './Output1'\n",
    "p_val = [0.1, 0.25, 0.5, 0.75, 1, 1.25, 1.5, 1.75, 2, 4, 8]\n",
    "q_val = [0.1, 0.25, 0.5, 0.75, 1, 1.25, 1.5, 1.75, 2, 4, 8]\n",
    "\n",
    "grid_search(graph=graph, p_val=p_val, q_val=q_val, out=output_path, reduce=False)"
   ]
  },
  {
   "cell_type": "code",
   "execution_count": null,
   "metadata": {},
   "outputs": [],
   "source": [
    "def read_files(path):\n",
    "    '''\n",
    "    Returns file names list in path\n",
    "    '''\n",
    "    files = next(pathlib.os.walk(str(path)))[2]\n",
    "    for file in files:\n",
    "        if file.startswith('.'):\n",
    "            files.remove(file)\n",
    "    return files"
   ]
  },
  {
   "cell_type": "code",
   "execution_count": null,
   "metadata": {},
   "outputs": [],
   "source": [
    "def make_stat(graph_path, emb_folder_path):\n",
    "    '''\n",
    "    Returns list with all the homophily ratio for each embeddings file\n",
    "    '''\n",
    "    G = read_graph(weighted=False, graph=graph_path, directed=False)\n",
    "    stat = []\n",
    "    files = read_files(emb_folder_path)\n",
    "    for file in files:\n",
    "        file_name = pathlib.Path(emb_folder_path) / file\n",
    "        G_emb = read_emb(file_name, G)\n",
    "        si = sim_in(G_emb)\n",
    "        so = sim_out(G_emb, 5000)\n",
    "        stat.append(si/so)\n",
    "    return stat"
   ]
  },
  {
   "cell_type": "code",
   "execution_count": null,
   "metadata": {},
   "outputs": [],
   "source": [
    "graph_path = graph\n",
    "emb_folder_path = output_path\n",
    "\n",
    "stat = make_stat(graph_path=graph_path, emb_folder_path=emb_folder_path)"
   ]
  },
  {
   "cell_type": "code",
   "execution_count": null,
   "metadata": {},
   "outputs": [],
   "source": [
    "def make_df(stat_vec):\n",
    "    '''\n",
    "    Returns dataframe for p values (rows) and q valus (columns) with homophily values\n",
    "    '''\n",
    "    d = {str(q): [] for q in q_val}\n",
    "    num_cols = len(q_val)\n",
    "    num_rows = len(p_val)\n",
    "    \n",
    "    for r in range(num_rows):\n",
    "        for c in range(num_cols):\n",
    "            d[str(q_val[c])].append(stat_vec[c + r*num_cols])\n",
    "    return pd.DataFrame(data=d, index=p_val)"
   ]
  },
  {
   "cell_type": "code",
   "execution_count": null,
   "metadata": {},
   "outputs": [],
   "source": [
    "df = make_df(stat)"
   ]
  },
  {
   "cell_type": "code",
   "execution_count": null,
   "metadata": {},
   "outputs": [],
   "source": [
    "fig, ax = plt.subplots(figsize=(11, 9))\n",
    "sns.heatmap(ax=ax, data=df)\n",
    "plt.xlabel('q')\n",
    "plt.ylabel('p')"
   ]
  },
  {
   "cell_type": "code",
   "execution_count": null,
   "metadata": {},
   "outputs": [],
   "source": [
    "uniform_data = np.random.rand(10, 12)\n",
    "ax = sns.heatmap(uniform_data)"
   ]
  },
  {
   "cell_type": "code",
   "execution_count": null,
   "metadata": {},
   "outputs": [],
   "source": []
  }
 ],
 "metadata": {
  "kernelspec": {
   "display_name": "Python 3",
   "language": "python",
   "name": "python3"
  },
  "language_info": {
   "codemirror_mode": {
    "name": "ipython",
    "version": 3
   },
   "file_extension": ".py",
   "mimetype": "text/x-python",
   "name": "python",
   "nbconvert_exporter": "python",
   "pygments_lexer": "ipython3",
   "version": "3.6.0"
  }
 },
 "nbformat": 4,
 "nbformat_minor": 2
}
