{
 "cells": [
  {
   "cell_type": "markdown",
   "metadata": {},
   "source": [
    "# *n2i*: analysis"
   ]
  },
  {
   "cell_type": "markdown",
   "metadata": {},
   "source": [
    "### TOC:\n",
    "* [Demo](#Demo)\n",
    "* [Analysis](#Analysis)\n",
    "* [Grid search](#Grid search)"
   ]
  },
  {
   "cell_type": "markdown",
   "metadata": {},
   "source": [
    "## Demo"
   ]
  },
  {
   "cell_type": "markdown",
   "metadata": {},
   "source": [
    "n2i can be used both in command line and Jupyter notebook. The following code runs n2i with the default parameters.\n",
    "\n",
    "NB: REMEBER TO DEFINE IF THE GRAPH IS DIRECTED AND/OR WEIGHTED"
   ]
  },
  {
   "cell_type": "code",
   "execution_count": 1,
   "metadata": {},
   "outputs": [],
   "source": [
    "%matplotlib inline"
   ]
  },
  {
   "cell_type": "code",
   "execution_count": 2,
   "metadata": {
    "scrolled": true
   },
   "outputs": [],
   "source": [
    "import pathlib\n",
    "import numpy as np\n",
    "import pandas as pd\n",
    "import matplotlib.pyplot as plt\n",
    "import seaborn as sns; sns.set()\n",
    "import networkx as nx\n",
    "from scipy.spatial import distance\n",
    "from n2i.__main__ import n2i_main"
   ]
  },
  {
   "cell_type": "code",
   "execution_count": 3,
   "metadata": {},
   "outputs": [],
   "source": [
    "n2i_main(graph='../data/graph/lesmiserables/lesmiserables_edgelist.txt', reduce=False)"
   ]
  },
  {
   "cell_type": "markdown",
   "metadata": {},
   "source": [
    "## Analysis"
   ]
  },
  {
   "cell_type": "code",
   "execution_count": 4,
   "metadata": {},
   "outputs": [],
   "source": [
    "def read_graph(weighted, graph, directed):\n",
    "    '''\n",
    "    Reads the input network in networkx.\n",
    "    '''\n",
    "    #print(graph)\n",
    "    if weighted:\n",
    "        G = nx.read_edgelist(graph, nodetype=int, data=(('weight',float),), create_using=nx.DiGraph())\n",
    "    else:\n",
    "        G = nx.read_edgelist(graph, nodetype=int, create_using=nx.DiGraph())\n",
    "        for edge in G.edges():\n",
    "            G[edge[0]][edge[1]]['weight'] = 1\n",
    "\n",
    "    if not directed:\n",
    "        G = G.to_undirected()\n",
    "\n",
    "    return G"
   ]
  },
  {
   "cell_type": "code",
   "execution_count": 5,
   "metadata": {},
   "outputs": [],
   "source": [
    "def read_emb(emb, G):\n",
    "    '''\n",
    "    Returns embeddings from a given file\n",
    "    '''\n",
    "    file_name = pathlib.Path(emb)\n",
    "    with open(file_name, 'r') as f:\n",
    "        for line in f.readlines():\n",
    "            line = line.replace(',','').replace('[','').replace(']','').split()\n",
    "            node = int(line[0])\n",
    "            emb = line[1:]\n",
    "            G.nodes[node]['interests'] = [float(i) for i in emb]\n",
    "            #print(emb)\n",
    "    return G"
   ]
  },
  {
   "cell_type": "code",
   "execution_count": 6,
   "metadata": {},
   "outputs": [],
   "source": [
    "# similarity between connected nodes\n",
    "def sim_in(G):\n",
    "    sims = []\n",
    "    for i in G.nodes:\n",
    "        for j in list(G.neighbors(i)):\n",
    "            sims.append(1 - distance.cosine(G.nodes[i]['interests'], G.nodes[j]['interests']))\n",
    "    return np.mean(sims)\n",
    "\n",
    "def select_notedge(G):\n",
    "    n = nx.number_of_nodes(G)\n",
    "    while True:\n",
    "        a, b = np.random.randint(0, n, size=2)\n",
    "        if (a, b) not in G.edges:\n",
    "            return a, b\n",
    "\n",
    "# similarity between disconnected nodes\n",
    "def sim_out(G, samples):\n",
    "    sims_out = []\n",
    "    for c in range(samples):\n",
    "        i, j = select_notedge(G)\n",
    "        sims_out.append(1 - distance.cosine(G.nodes[i]['interests'], G.nodes[j]['interests']))\n",
    "    return np.mean(sims_out)\n",
    "\n",
    "def homophily(G):\n",
    "    return sim_in(G) - sim_out(G, 5000)"
   ]
  },
  {
   "cell_type": "code",
   "execution_count": 7,
   "metadata": {},
   "outputs": [
    {
     "data": {
      "text/plain": [
       "\"\\nG = read_graph(weighted=False, \\n               graph='../WoMG/data/graph/lesmiserables/lesmiserables_edgelist.txt',\\n               directed=False)\\nG = read_emb('./emb2.txt', G=G)\\n\""
      ]
     },
     "execution_count": 7,
     "metadata": {},
     "output_type": "execute_result"
    }
   ],
   "source": [
    "'''\n",
    "G = read_graph(weighted=False, \n",
    "               graph='../WoMG/data/graph/lesmiserables/lesmiserables_edgelist.txt',\n",
    "               directed=False)\n",
    "G = read_emb('./emb2.txt', G=G)\n",
    "'''"
   ]
  },
  {
   "cell_type": "code",
   "execution_count": 8,
   "metadata": {},
   "outputs": [],
   "source": [
    "#si = sim_in(G)\n",
    "#so = sim_out(G, 5000)\n",
    "#print (\"In similarity: {:.4f} \\nOut similarity: {:.4f} \\nHomophily rate: {:.4f}\".format(si, so, si/so))"
   ]
  },
  {
   "cell_type": "markdown",
   "metadata": {},
   "source": [
    "## Grid search"
   ]
  },
  {
   "cell_type": "code",
   "execution_count": 9,
   "metadata": {},
   "outputs": [],
   "source": [
    "def grid_search(graph,\n",
    "                topics=[15],\n",
    "                dimensions=[128],\n",
    "                walk_length=[80],\n",
    "                num_walks=[10],\n",
    "                window_size=[10],\n",
    "                iiter=[1],\n",
    "                p_val=[1],\n",
    "                q_val=[1],\n",
    "                out='./',\n",
    "                reduce=True):\n",
    "\n",
    "    for t in topics:\n",
    "        for d in dimensions:\n",
    "            for wk in walk_length:\n",
    "                for n in num_walks:\n",
    "                    for wi in window_size:\n",
    "                        for ii in iiter:\n",
    "                            for p in p_val:\n",
    "                                for q in q_val:\n",
    "                                    n2i_main(graph=graph, topics=t, \n",
    "                                             dimensions=d, walk_length=wk,\n",
    "                                             num_walks=n, window_size=wi,\n",
    "                                             iiter=ii, p=p, q=q,\n",
    "                                             output=out,\n",
    "                                             reduce=reduce)"
   ]
  },
  {
   "cell_type": "code",
   "execution_count": 10,
   "metadata": {},
   "outputs": [],
   "source": [
    "graph = '../data/graph/lesmiserables/lesmiserables_edgelist.txt'\n",
    "output_path = './Output2'\n",
    "p_val = [0.1, 0.25, 0.5, 0.75, 1, 1.25, 1.5, 1.75, 2, 4, 8]\n",
    "q_val = [0.1, 0.25, 0.5, 0.75, 1, 1.25, 1.5, 1.75, 2, 4, 8]\n",
    "\n",
    "grid_search(graph=graph, p_val=p_val, q_val=q_val, out=output_path, reduce=False)"
   ]
  },
  {
   "cell_type": "code",
   "execution_count": 11,
   "metadata": {},
   "outputs": [],
   "source": [
    "def read_files(path):\n",
    "    '''\n",
    "    Returns file names list in path\n",
    "    '''\n",
    "    files = next(pathlib.os.walk(str(path)))[2]\n",
    "    for file in files:\n",
    "        if file.startswith('.'):\n",
    "            files.remove(file)\n",
    "    return files"
   ]
  },
  {
   "cell_type": "code",
   "execution_count": 12,
   "metadata": {},
   "outputs": [],
   "source": [
    "def make_stat(graph_path, emb_folder_path):\n",
    "    '''\n",
    "    Returns list with all the homophily ratio for each embeddings file\n",
    "    '''\n",
    "    G = read_graph(weighted=False, graph=graph_path, directed=False)\n",
    "    stat = []\n",
    "    files = read_files(emb_folder_path)\n",
    "    for file in files:\n",
    "        file_name = pathlib.Path(emb_folder_path) / file\n",
    "        G_emb = read_emb(file_name, G)\n",
    "        si = sim_in(G_emb)\n",
    "        so = sim_out(G_emb, 5000)\n",
    "        stat.append(si/so)\n",
    "    return stat"
   ]
  },
  {
   "cell_type": "code",
   "execution_count": 13,
   "metadata": {},
   "outputs": [],
   "source": [
    "graph_path = graph\n",
    "emb_folder_path = output_path\n",
    "\n",
    "stat = make_stat(graph_path=graph_path, emb_folder_path=emb_folder_path)"
   ]
  },
  {
   "cell_type": "code",
   "execution_count": 14,
   "metadata": {},
   "outputs": [],
   "source": [
    "def make_df(stat_vec):\n",
    "    '''\n",
    "    Returns dataframe for p values (rows) and q valus (columns) with homophily values\n",
    "    '''\n",
    "    d = {str(q): [] for q in q_val}\n",
    "    num_cols = len(q_val)\n",
    "    num_rows = len(p_val)\n",
    "    \n",
    "    for r in range(num_rows):\n",
    "        for c in range(num_cols):\n",
    "            d[str(q_val[c])].append(stat_vec[c + r*num_cols])\n",
    "    return pd.DataFrame(data=d, index=p_val)"
   ]
  },
  {
   "cell_type": "code",
   "execution_count": 15,
   "metadata": {},
   "outputs": [],
   "source": [
    "df = make_df(stat)"
   ]
  },
  {
   "cell_type": "code",
   "execution_count": 16,
   "metadata": {},
   "outputs": [
    {
     "data": {
      "text/plain": [
       "Text(79,0.5,'p')"
      ]
     },
     "execution_count": 16,
     "metadata": {},
     "output_type": "execute_result"
    },
    {
     "data": {
      "image/png": "[encoded data removed]",
      "text/plain": [
       "<matplotlib.figure.Figure at 0x12327a588>"
      ]
     },
     "metadata": {},
     "output_type": "display_data"
    }
   ],
   "source": [
    "fig, ax = plt.subplots(figsize=(11, 9))\n",
    "sns.heatmap(ax=ax, data=df)\n",
    "plt.xlabel('q')\n",
    "plt.ylabel('p')"
   ]
  },
  {
   "cell_type": "code",
   "execution_count": null,
   "metadata": {},
   "outputs": [],
   "source": []
  }
 ],
 "metadata": {
  "kernelspec": {
   "display_name": "Python 3",
   "language": "python",
   "name": "python3"
  },
  "language_info": {
   "codemirror_mode": {
    "name": "ipython",
    "version": 3
   },
   "file_extension": ".py",
   "mimetype": "text/x-python",
   "name": "python",
   "nbconvert_exporter": "python",
   "pygments_lexer": "ipython3",
   "version": "3.6.0"
  }
 },
 "nbformat": 4,
 "nbformat_minor": 2
}
