{
 "cells": [
  {
   "cell_type": "markdown",
   "metadata": {},
   "source": [
    "# Fix "
   ]
  },
  {
   "cell_type": "code",
   "execution_count": 1,
   "metadata": {},
   "outputs": [
    {
     "name": "stdout",
     "output_type": "stream",
     "text": [
      "Populating the interactive namespace from numpy and matplotlib\n"
     ]
    }
   ],
   "source": [
    "from n2i.__main__ import n2i_main, n2i_nx_graph\n",
    "from n2i.node2vec import read_graph\n",
    "import tensorflow as tf\n",
    "import networkx as nx\n",
    "from scipy.spatial import distance\n",
    "import itertools as IT\n",
    "import pandas as pd\n",
    "\n",
    "%pylab inline"
   ]
  },
  {
   "cell_type": "code",
   "execution_count": 2,
   "metadata": {},
   "outputs": [],
   "source": [
    "from sklearn.linear_model import LogisticRegression\n",
    "from sklearn.preprocessing import StandardScaler\n",
    "from sklearn.model_selection import train_test_split\n",
    "from sklearn.model_selection import cross_val_score"
   ]
  },
  {
   "cell_type": "code",
   "execution_count": 3,
   "metadata": {},
   "outputs": [],
   "source": [
    "EPSILON = 1E-5\n",
    "METRIC_NAMES = ['ratio', 'sub', 'like']\n",
    "def homophily_metrics(similarity_edges, similarity_nonedges):\n",
    "    return {\n",
    "        'ratio': np.mean(similarity_edges) / np.mean(similarity_nonedges),\n",
    "        'sub': np.mean(similarity_edges) - np.mean(similarity_nonedges),\n",
    "        'like': np.sum(np.log(similarity_edges + EPSILON)) + np.sum(np.log(1 - similarity_nonedges + EPSILON)) ,\n",
    "    }"
   ]
  },
  {
   "cell_type": "code",
   "execution_count": 4,
   "metadata": {},
   "outputs": [],
   "source": [
    "# similarity between connected nodes\n",
    "def sim_in(G):\n",
    "    sims = []\n",
    "    for i in G.nodes:\n",
    "        for j in list(G.neighbors(i)):\n",
    "            #print(G.nodes[i]['interests'], emb[i])\n",
    "            sims.append(1 - distance.cosine(G.nodes[i]['interests'], G.nodes[j]['interests']))\n",
    "    return np.mean(sims)\n",
    "\n",
    "def select_notedge(G):\n",
    "    v1 = np.random.choice(G.nodes())\n",
    "    v2 = np.random.choice(G.nodes())\n",
    "\n",
    "    while (v1,v2) in G.edges or v1==v2:\n",
    "        v1 = np.random.choice(G.nodes())\n",
    "        v2 = np.random.choice(G.nodes())\n",
    "    return v1, v2\n",
    "#     n = nx.number_of_nodes(G)\n",
    "#     while True:\n",
    "#         a, b = np.random.randint(0, n, size=2)\n",
    "#         if (a, b) not in G.edges:\n",
    "#             return a, b\n",
    "\n",
    "# similarity between disconnected nodes\n",
    "def sim_out(G, samples):\n",
    "    sims_out = []\n",
    "    for c in range(samples):\n",
    "        i, j = select_notedge(G)\n",
    "        sims_out.append(1 - distance.cosine(G.nodes[i]['interests'], G.nodes[j]['interests']))\n",
    "    return np.mean(sims_out)\n",
    "\n",
    "def homophily(G):\n",
    "    return sim_in(G) / sim_out(G, 5000)"
   ]
  },
  {
   "cell_type": "code",
   "execution_count": 5,
   "metadata": {},
   "outputs": [],
   "source": [
    "def evaluate_metrics(graph, emb):\n",
    "    '''\n",
    "    Returns the three metrics for si and so defined in homophily_metrics function\n",
    "    '''\n",
    "    # building the graph\n",
    "    for i in graph.nodes:\n",
    "        graph.nodes[i]['interests'] = emb[int(i)]\n",
    "        \n",
    "    # calculating si and so\n",
    "    output = {}\n",
    "    si = sim_in(graph)\n",
    "    so = sim_out(graph, 5000)\n",
    "    output['si'] = round(si, 4)\n",
    "    output['so'] = round(so, 4)\n",
    "    for name, metric in homophily_metrics(si, so).items():\n",
    "        output[name] = round(metric, 4)\n",
    "\n",
    "    return output"
   ]
  },
  {
   "cell_type": "code",
   "execution_count": 6,
   "metadata": {},
   "outputs": [],
   "source": [
    "def evaluate_score(graph, emb):\n",
    "    '''\n",
    "    Evaluetes the score in link prediction\n",
    "    '''\n",
    "    # creating X and y concatenating embeddings of the two linked nodes (y=1)\n",
    "    X = []\n",
    "    y = []\n",
    "    for u, v in graph.edges():\n",
    "        arr_u = list(emb[int(u)])\n",
    "        arr_v = list(emb[int(v)])\n",
    "        X.append(arr_u + arr_v)\n",
    "        y.append(1)\n",
    "        \n",
    "    # adding no-linked nodes to X and y (y=0)\n",
    "    missing = [pair for pair in IT.combinations(graph.nodes(), 2) if not graph.has_edge(*pair)]\n",
    "    import random\n",
    "    random.seed(42)\n",
    "    no_edges = random.choices(missing, k=len(graph.edges()))\n",
    "    for u, v in no_edges:\n",
    "        arr_u = list(emb[int(u)])\n",
    "        arr_v = list(emb[int(v)])\n",
    "        X.append(arr_u + arr_v)\n",
    "        y.append(0)\n",
    "        \n",
    "    # testing\n",
    "    from sklearn.utils import shuffle\n",
    "    X, y = shuffle(X, y, random_state=0)\n",
    "    X_train, X_test, y_train, y_test = train_test_split(X, y, test_size=0.32, random_state=42)\n",
    "    # Create one-vs-rest logistic regression object\n",
    "    clf = LogisticRegression(random_state=0, multi_class='ovr')\n",
    "    # Train model\n",
    "    model = clf.fit(X_train, y_train)\n",
    "    \n",
    "    return model.score(X_test, y_test)"
   ]
  },
  {
   "cell_type": "markdown",
   "metadata": {},
   "source": [
    "## dim 2 - Les miserables"
   ]
  },
  {
   "cell_type": "code",
   "execution_count": 7,
   "metadata": {},
   "outputs": [],
   "source": [
    "def n2v_results(G, p, q, beta_list, av_list, bv_list, prior='beta', topics=2, seed=42):\n",
    "    '''\n",
    "    Returns a list of parameters and homophily metrics\n",
    "    '''\n",
    "    result = []\n",
    "    for b in beta:\n",
    "        for av in alpha_prior_value:\n",
    "            for bv in beta_prior_value:\n",
    "                tf.reset_default_graph()\n",
    "                tf_emb = n2i_nx_graph(nx_graph=G, \n",
    "                                       seed=seed, \n",
    "                                       window_size=10,\n",
    "                                       walk_length=80,\n",
    "                                       num_walks=10,\n",
    "                                       dimensions=topics,\n",
    "                                       p=p,\n",
    "                                       q=q,\n",
    "                                       beta=b,\n",
    "                                       alpha_value=av,\n",
    "                                       beta_value=bv,\n",
    "                                       prior=prior)\n",
    "\n",
    "                result.append([b, av, bv, evaluate_metrics(graph=G, emb=tf_emb)])\n",
    "    return result"
   ]
  },
  {
   "cell_type": "code",
   "execution_count": 8,
   "metadata": {},
   "outputs": [],
   "source": [
    "graph_path = '../data/graph/lesmiserables/lesmiserables_edgelist.txt'\n",
    "\n",
    "G = read_graph(weighted=False, \n",
    "                   graph=graph_path,\n",
    "                   directed=False)"
   ]
  },
  {
   "cell_type": "code",
   "execution_count": 9,
   "metadata": {},
   "outputs": [
    {
     "ename": "AttributeError",
     "evalue": "module 'tensorflow' has no attribute 'reset_default_graph'",
     "output_type": "error",
     "traceback": [
      "\u001b[0;31m---------------------------------------------------------------------------\u001b[0m",
      "\u001b[0;31mAttributeError\u001b[0m                            Traceback (most recent call last)",
      "\u001b[0;32m<ipython-input-9-6a5c545bcf4a>\u001b[0m in \u001b[0;36m<module>\u001b[0;34m\u001b[0m\n\u001b[1;32m      8\u001b[0m \u001b[0mbeta_prior_value\u001b[0m \u001b[0;34m=\u001b[0m \u001b[0;34m[\u001b[0m\u001b[0;36m0.5\u001b[0m\u001b[0;34m,\u001b[0m \u001b[0;36m1.\u001b[0m\u001b[0;34m]\u001b[0m\u001b[0;34m\u001b[0m\u001b[0;34m\u001b[0m\u001b[0m\n\u001b[1;32m      9\u001b[0m \u001b[0;34m\u001b[0m\u001b[0m\n\u001b[0;32m---> 10\u001b[0;31m \u001b[0mresult\u001b[0m \u001b[0;34m=\u001b[0m \u001b[0mn2v_results\u001b[0m\u001b[0;34m(\u001b[0m\u001b[0mG\u001b[0m\u001b[0;34m,\u001b[0m \u001b[0mp\u001b[0m\u001b[0;34m,\u001b[0m \u001b[0mq\u001b[0m\u001b[0;34m,\u001b[0m \u001b[0mbeta\u001b[0m\u001b[0;34m,\u001b[0m \u001b[0malpha_prior_value\u001b[0m\u001b[0;34m,\u001b[0m \u001b[0mbeta_prior_value\u001b[0m\u001b[0;34m,\u001b[0m \u001b[0mtopics\u001b[0m\u001b[0;34m=\u001b[0m\u001b[0;36m2\u001b[0m\u001b[0;34m,\u001b[0m \u001b[0mseed\u001b[0m\u001b[0;34m=\u001b[0m\u001b[0;36m33\u001b[0m\u001b[0;34m)\u001b[0m\u001b[0;34m\u001b[0m\u001b[0;34m\u001b[0m\u001b[0m\n\u001b[0m",
      "\u001b[0;32m<ipython-input-7-35ce1988df05>\u001b[0m in \u001b[0;36mn2v_results\u001b[0;34m(G, p, q, beta_list, av_list, bv_list, prior, topics, seed)\u001b[0m\n\u001b[1;32m      7\u001b[0m         \u001b[0;32mfor\u001b[0m \u001b[0mav\u001b[0m \u001b[0;32min\u001b[0m \u001b[0malpha_prior_value\u001b[0m\u001b[0;34m:\u001b[0m\u001b[0;34m\u001b[0m\u001b[0;34m\u001b[0m\u001b[0m\n\u001b[1;32m      8\u001b[0m             \u001b[0;32mfor\u001b[0m \u001b[0mbv\u001b[0m \u001b[0;32min\u001b[0m \u001b[0mbeta_prior_value\u001b[0m\u001b[0;34m:\u001b[0m\u001b[0;34m\u001b[0m\u001b[0;34m\u001b[0m\u001b[0m\n\u001b[0;32m----> 9\u001b[0;31m                 \u001b[0mtf\u001b[0m\u001b[0;34m.\u001b[0m\u001b[0mreset_default_graph\u001b[0m\u001b[0;34m(\u001b[0m\u001b[0;34m)\u001b[0m\u001b[0;34m\u001b[0m\u001b[0;34m\u001b[0m\u001b[0m\n\u001b[0m\u001b[1;32m     10\u001b[0m                 tf_emb = n2i_nx_graph(nx_graph=G, \n\u001b[1;32m     11\u001b[0m                                        \u001b[0mseed\u001b[0m\u001b[0;34m=\u001b[0m\u001b[0mseed\u001b[0m\u001b[0;34m,\u001b[0m\u001b[0;34m\u001b[0m\u001b[0;34m\u001b[0m\u001b[0m\n",
      "\u001b[0;31mAttributeError\u001b[0m: module 'tensorflow' has no attribute 'reset_default_graph'"
     ]
    }
   ],
   "source": [
    "# high homophily\n",
    "p = 0.01\n",
    "q = 10\n",
    "beta = [5]\n",
    "prior = 'beta'\n",
    "# if prior is beta:\n",
    "alpha_prior_value = [0.5, 1.]\n",
    "beta_prior_value = [0.5, 1.]\n",
    "\n",
    "result = n2v_results(G, p, q, beta, alpha_prior_value, beta_prior_value, topics=2, seed=33)"
   ]
  },
  {
   "cell_type": "code",
   "execution_count": 19,
   "metadata": {},
   "outputs": [],
   "source": [
    "# high homophily\n",
    "p = 0.05\n",
    "q = 50\n",
    "beta = [3]\n",
    "prior = 'beta'\n",
    "# if prior is beta:\n",
    "alpha_prior_value = [2.]\n",
    "beta_prior_value = [2.]\n",
    "\n",
    "result = n2v_results(G, p, q, beta, alpha_prior_value, beta_prior_value, topics=2, seed=33)"
   ]
  },
  {
   "cell_type": "code",
   "execution_count": 20,
   "metadata": {},
   "outputs": [
    {
     "name": "stdout",
     "output_type": "stream",
     "text": [
      "[[3, 2.0, 2.0, {'si': 0.9629, 'so': 0.869, 'ratio': 1.108, 'sub': 0.0939, 'like': -2.0702}]]\n"
     ]
    }
   ],
   "source": [
    "print(result)"
   ]
  },
  {
   "cell_type": "code",
   "execution_count": 59,
   "metadata": {},
   "outputs": [
    {
     "name": "stdout",
     "output_type": "stream",
     "text": [
      "beta a-value b-value\n",
      "[0, 0.5, 0.5, {'si': 0.8183, 'so': 0.7183, 'ratio': 1.1392, 'sub': 0.1, 'like': -1.4673}]\n",
      "[0, 0.5, 1.0, {'si': 0.8183, 'so': 0.7183, 'ratio': 1.1392, 'sub': 0.1, 'like': -1.4673}]\n",
      "[0, 1.0, 0.5, {'si': 0.8183, 'so': 0.7183, 'ratio': 1.1392, 'sub': 0.1, 'like': -1.4673}]\n",
      "[0, 1.0, 1.0, {'si': 0.8183, 'so': 0.7183, 'ratio': 1.1392, 'sub': 0.1, 'like': -1.4673}]\n",
      "[5, 0.5, 0.5, {'si': 0.7828, 'so': 0.6699, 'ratio': 1.1685, 'sub': 0.1129, 'like': -1.3532}]\n",
      "[5, 0.5, 1.0, {'si': 0.7205, 'so': 0.5969, 'ratio': 1.207, 'sub': 0.1236, 'like': -1.2364}]\n",
      "[5, 1.0, 0.5, {'si': 0.8988, 'so': 0.8326, 'ratio': 1.0796, 'sub': 0.0662, 'like': -1.894}]\n",
      "[5, 1.0, 1.0, {'si': 0.8484, 'so': 0.7534, 'ratio': 1.1261, 'sub': 0.095, 'like': -1.5643}]\n"
     ]
    }
   ],
   "source": [
    "print('beta', 'a-value', 'b-value')\n",
    "for _ in result:\n",
    "    print(_)"
   ]
  },
  {
   "cell_type": "code",
   "execution_count": 68,
   "metadata": {},
   "outputs": [],
   "source": [
    "# low homophily\n",
    "p = 10\n",
    "q = 0.01\n",
    "beta = [0, 5]\n",
    "prior = 'beta'\n",
    "# if prior is beta:\n",
    "alpha_prior_value = [0.5, 1.]\n",
    "beta_prior_value = [0.5, 1.]\n",
    "\n",
    "result = n2v_results(G, p, q, beta, alpha_prior_value, beta_prior_value, topics=5, seed=99)"
   ]
  },
  {
   "cell_type": "code",
   "execution_count": 69,
   "metadata": {},
   "outputs": [
    {
     "name": "stdout",
     "output_type": "stream",
     "text": [
      "beta a-value b-value\n",
      "[0, 0.5, 0.5, {'si': 0.9521, 'so': 0.9296, 'ratio': 1.0243, 'sub': 0.0225, 'like': -2.7022}]\n",
      "[0, 0.5, 1.0, {'si': 0.9521, 'so': 0.9296, 'ratio': 1.0243, 'sub': 0.0225, 'like': -2.7022}]\n",
      "[0, 1.0, 0.5, {'si': 0.9521, 'so': 0.9296, 'ratio': 1.0243, 'sub': 0.0225, 'like': -2.7022}]\n",
      "[0, 1.0, 1.0, {'si': 0.9521, 'so': 0.9296, 'ratio': 1.0243, 'sub': 0.0225, 'like': -2.7022}]\n",
      "[5, 0.5, 0.5, {'si': 0.8867, 'so': 0.8466, 'ratio': 1.0473, 'sub': 0.0401, 'like': -1.9949}]\n",
      "[5, 0.5, 1.0, {'si': 0.9558, 'so': 0.9393, 'ratio': 1.0176, 'sub': 0.0165, 'like': -2.8464}]\n",
      "[5, 1.0, 0.5, {'si': 0.9207, 'so': 0.8758, 'ratio': 1.0513, 'sub': 0.0449, 'like': -2.1687}]\n",
      "[5, 1.0, 1.0, {'si': 0.9256, 'so': 0.889, 'ratio': 1.0412, 'sub': 0.0366, 'like': -2.2756}]\n"
     ]
    }
   ],
   "source": [
    "print('beta', 'a-value', 'b-value')\n",
    "for _ in result:\n",
    "    print(_)"
   ]
  },
  {
   "cell_type": "code",
   "execution_count": null,
   "metadata": {},
   "outputs": [],
   "source": []
  }
 ],
 "metadata": {
  "kernelspec": {
   "display_name": "Python 3",
   "language": "python",
   "name": "python3"
  },
  "language_info": {
   "codemirror_mode": {
    "name": "ipython",
    "version": 3
   },
   "file_extension": ".py",
   "mimetype": "text/x-python",
   "name": "python",
   "nbconvert_exporter": "python",
   "pygments_lexer": "ipython3",
   "version": "3.7.4"
  }
 },
 "nbformat": 4,
 "nbformat_minor": 2
}
