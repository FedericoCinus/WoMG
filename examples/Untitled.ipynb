{
 "cells": [
  {
   "cell_type": "markdown",
   "metadata": {},
   "source": [
    "# digg homophily"
   ]
  },
  {
   "cell_type": "code",
   "execution_count": 1,
   "metadata": {},
   "outputs": [],
   "source": [
    "import pathlib\n",
    "import numpy as np\n",
    "import pandas as pd\n",
    "import networkx as nx\n",
    "from scipy.spatial import distance"
   ]
  },
  {
   "cell_type": "code",
   "execution_count": 2,
   "metadata": {},
   "outputs": [],
   "source": [
    "path_graph = '../data/graph/digg/graph_filtered.csv'"
   ]
  },
  {
   "cell_type": "code",
   "execution_count": 3,
   "metadata": {},
   "outputs": [],
   "source": [
    "# similarity between connected nodes\n",
    "def sim_in(G):\n",
    "    sims = []\n",
    "    for i in G.nodes:\n",
    "        for j in list(G.neighbors(i)):\n",
    "            sims.append(1 - distance.cosine(G.nodes[i]['interests'], G.nodes[j]['interests']))\n",
    "    return np.mean(sims)\n",
    "\n",
    "def select_notedge(G):\n",
    "    v1 = np.random.choice(G.nodes())\n",
    "    v2 = np.random.choice(G.nodes())\n",
    "\n",
    "    while (v1,v2) in G.edges or v1==v2:\n",
    "        v1 = np.random.choice(G.nodes())\n",
    "        v2 = np.random.choice(G.nodes())\n",
    "    return v1, v2\n",
    "\n",
    "def sim_out(G, samples):\n",
    "    sims_out = []\n",
    "    for c in range(samples):\n",
    "        i, j = select_notedge(G)\n",
    "        sims_out.append(1 - distance.cosine(G.nodes[i]['interests'], G.nodes[j]['interests']))\n",
    "    return np.mean(sims_out)\n",
    "\n",
    "def homophily(G):\n",
    "    return sim_in(G) / sim_out(G, 10000)"
   ]
  },
  {
   "cell_type": "code",
   "execution_count": 4,
   "metadata": {},
   "outputs": [
    {
     "name": "stdout",
     "output_type": "stream",
     "text": [
      "Users_interests_12063.txt Users_interests_21578.txt Users_interests_31647.txt\r\n",
      "Users_interests_18283.txt Users_interests_2283.txt  \u001b[1m\u001b[36mnew-interests\u001b[m\u001b[m\r\n"
     ]
    }
   ],
   "source": [
    "!cd digg_interests/; ls"
   ]
  },
  {
   "cell_type": "code",
   "execution_count": 5,
   "metadata": {},
   "outputs": [],
   "source": [
    "path_inter = \"/Users/Cinus/Work/Progetti/WoMG/WoMG/examples/digg_interests/\"\n",
    "names = ['Users_interests_12063.txt', 'Users_interests_21578.txt', 'Users_interests_31647.txt',\n",
    "'Users_interests_18283.txt', 'Users_interests_2283.txt']\n",
    "files = [path_inter+name for name in names]"
   ]
  },
  {
   "cell_type": "code",
   "execution_count": 6,
   "metadata": {},
   "outputs": [
    {
     "name": "stdout",
     "output_type": "stream",
     "text": [
      "1.0764467087444654\n",
      "1.1017779629882751\n",
      "1.0754484262293664\n",
      "1.1079718823592266\n",
      "1.0942946788482295\n"
     ]
    }
   ],
   "source": [
    "for file in files:\n",
    "    with open(file) as f:\n",
    "        G = nx.read_edgelist(path=path_graph, create_using=nx.DiGraph(), nodetype=int)\n",
    "        for line in f.readlines():\n",
    "            splitted_line = line.replace('[','').replace(']','').replace(',', '').split()\n",
    "\n",
    "            node = int(splitted_line[0])\n",
    "            vec = [float(_) for _ in splitted_line[1:]]\n",
    "            G.node[node]['interests'] = vec\n",
    "        si = sim_in(G)\n",
    "        so = sim_out(G, 5000)\n",
    "        print(si/so)"
   ]
  },
  {
   "cell_type": "code",
   "execution_count": 7,
   "metadata": {},
   "outputs": [],
   "source": [
    "path_inter = \"/Users/Cinus/Work/Progetti/WoMG/WoMG/examples/digg_interests/new-interests/\"\n",
    "names = ['H1-eta64-run2.txt', 'H1-eta64.txt', 'H75-eta256-run3.txt',\n",
    "'H1-eta64-run3.txt', 'H75-eta256-run2.txt', 'H75-eta256.txt']\n",
    "files = [path_inter+name for name in names]"
   ]
  },
  {
   "cell_type": "code",
   "execution_count": 10,
   "metadata": {},
   "outputs": [
    {
     "name": "stdout",
     "output_type": "stream",
     "text": [
      "H1-eta64-run2.txt 1.145891199128249\n",
      "H1-eta64.txt 1.171961883258292\n",
      "H75-eta256-run3.txt 1.206058973261706\n",
      "H1-eta64-run3.txt 1.1685905036266604\n",
      "H75-eta256-run2.txt 1.1794910906426739\n",
      "H75-eta256.txt 1.168855188339293\n"
     ]
    }
   ],
   "source": [
    "i = 0\n",
    "for file in files:\n",
    "    with open(file) as f:\n",
    "        G = nx.read_edgelist(path=path_graph, create_using=nx.DiGraph(), nodetype=int)\n",
    "        for line in f.readlines():\n",
    "            splitted_line = line.replace('[','').replace(']','').replace(',', '').split()\n",
    "\n",
    "            node = int(splitted_line[0])\n",
    "            vec = [float(_) for _ in splitted_line[1:]]\n",
    "            G.node[node]['interests'] = vec\n",
    "        si = sim_in(G)\n",
    "        so = sim_out(G, 5000)\n",
    "        print(names[i], si/so)\n",
    "        i += 1"
   ]
  },
  {
   "cell_type": "code",
   "execution_count": 11,
   "metadata": {},
   "outputs": [
    {
     "data": {
      "text/plain": [
       "1.184801750747891"
      ]
     },
     "execution_count": 11,
     "metadata": {},
     "output_type": "execute_result"
    }
   ],
   "source": [
    "# H75 eta 256\n",
    "np.mean([1.168855188339293, 1.1794910906426739, 1.206058973261706])"
   ]
  },
  {
   "cell_type": "code",
   "execution_count": 12,
   "metadata": {},
   "outputs": [
    {
     "data": {
      "text/plain": [
       "1.1621478620044006"
      ]
     },
     "execution_count": 12,
     "metadata": {},
     "output_type": "execute_result"
    }
   ],
   "source": [
    "# H1 eta 64\n",
    "np.mean([1.145891199128249, 1.171961883258292, 1.1685905036266604])"
   ]
  },
  {
   "cell_type": "code",
   "execution_count": null,
   "metadata": {},
   "outputs": [],
   "source": []
  },
  {
   "cell_type": "code",
   "execution_count": null,
   "metadata": {},
   "outputs": [],
   "source": []
  },
  {
   "cell_type": "code",
   "execution_count": null,
   "metadata": {},
   "outputs": [],
   "source": []
  }
 ],
 "metadata": {
  "kernelspec": {
   "display_name": "Python 3",
   "language": "python",
   "name": "python3"
  },
  "language_info": {
   "codemirror_mode": {
    "name": "ipython",
    "version": 3
   },
   "file_extension": ".py",
   "mimetype": "text/x-python",
   "name": "python",
   "nbconvert_exporter": "python",
   "pygments_lexer": "ipython3",
   "version": "3.6.0"
  }
 },
 "nbformat": 4,
 "nbformat_minor": 2
}
