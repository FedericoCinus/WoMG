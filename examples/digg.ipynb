{
 "cells": [
  {
   "cell_type": "code",
   "execution_count": null,
   "metadata": {},
   "outputs": [],
   "source": [
    "## Pulire digg"
   ]
  },
  {
   "cell_type": "code",
   "execution_count": 1,
   "metadata": {},
   "outputs": [],
   "source": [
    "import networkx as nx\n",
    "import pandas as pd\n",
    "from tqdm import tqdm\n",
    "import numpy as np"
   ]
  },
  {
   "cell_type": "code",
   "execution_count": 2,
   "metadata": {},
   "outputs": [],
   "source": [
    "path_graph = '/Users/Cinus/University/Tesi/Dataset/digg_friends.csv'\n",
    "path_prop = '/Users/Cinus/University/Tesi/Dataset/digg_votes1.csv'"
   ]
  },
  {
   "cell_type": "code",
   "execution_count": 20,
   "metadata": {},
   "outputs": [],
   "source": [
    "with open(path_graph, 'r') as f:\n",
    "    df_graph = pd.read_csv(f)"
   ]
  },
  {
   "cell_type": "code",
   "execution_count": 21,
   "metadata": {},
   "outputs": [],
   "source": [
    "with open(path_prop, 'r') as f:\n",
    "    df_prop = pd.read_csv(f, names=['time', 'node', 'item'])"
   ]
  },
  {
   "cell_type": "code",
   "execution_count": 22,
   "metadata": {},
   "outputs": [],
   "source": [
    "selected_nodes = set(nodes[nodes.cnt > 19].index)\n",
    "original2new = {original: new_id for original, new_id in zip(\n",
    "    selected_nodes, range(len(selected_nodes)))}"
   ]
  },
  {
   "cell_type": "code",
   "execution_count": 23,
   "metadata": {},
   "outputs": [],
   "source": [
    "df_prop_filtered = df_prop[df_prop.node.apply(selected_nodes.__contains__)]"
   ]
  },
  {
   "cell_type": "code",
   "execution_count": 24,
   "metadata": {},
   "outputs": [
    {
     "name": "stderr",
     "output_type": "stream",
     "text": [
      "/Library/Frameworks/Python.framework/Versions/3.6/lib/python3.6/site-packages/ipykernel_launcher.py:1: SettingWithCopyWarning: \n",
      "A value is trying to be set on a copy of a slice from a DataFrame.\n",
      "Try using .loc[row_indexer,col_indexer] = value instead\n",
      "\n",
      "See the caveats in the documentation: http://pandas.pydata.org/pandas-docs/stable/indexing.html#indexing-view-versus-copy\n",
      "  \"\"\"Entry point for launching an IPython kernel.\n"
     ]
    }
   ],
   "source": [
    "df_prop_filtered['new_id'] = df_prop_filtered.node.apply(original2new.get)"
   ]
  },
  {
   "cell_type": "code",
   "execution_count": 25,
   "metadata": {},
   "outputs": [],
   "source": [
    "df_graph['new_id_i'] = df_graph.node.apply(original2new.get)\n",
    "df_graph['new_id_j'] = df_graph.friend.apply(original2new.get)"
   ]
  },
  {
   "cell_type": "code",
   "execution_count": 31,
   "metadata": {},
   "outputs": [],
   "source": [
    "df_graph_filtered = df_graph[~ \n",
    "                             (np.isnan(df_graph['new_id_i'])\n",
    "                                       |\n",
    "                                       np.isnan(df_graph['new_id_j'])\n",
    "                                      )]\n"
   ]
  },
  {
   "cell_type": "code",
   "execution_count": 32,
   "metadata": {},
   "outputs": [],
   "source": [
    "df_graph_filtered = df_graph_filtered.astype({'new_id_i': 'int', 'new_id_j': 'int'})"
   ]
  },
  {
   "cell_type": "code",
   "execution_count": 49,
   "metadata": {},
   "outputs": [],
   "source": [
    "G = nx.DiGraph()\n",
    "\n",
    "for mutual, i, j in df_graph_filtered[['mutual', 'new_id_i', 'new_id_j']].values:\n",
    "    G.add_edge(i, j)\n",
    "    if mutual:\n",
    "        G.add_edge(j, i)"
   ]
  },
  {
   "cell_type": "code",
   "execution_count": 51,
   "metadata": {},
   "outputs": [
    {
     "data": {
      "text/plain": [
       "15580"
      ]
     },
     "execution_count": 51,
     "metadata": {},
     "output_type": "execute_result"
    }
   ],
   "source": [
    "G.number_of_nodes()"
   ]
  },
  {
   "cell_type": "code",
   "execution_count": 38,
   "metadata": {},
   "outputs": [
    {
     "data": {
      "text/plain": [
       "3553"
      ]
     },
     "execution_count": 38,
     "metadata": {},
     "output_type": "execute_result"
    }
   ],
   "source": [
    "len(df_prop_filtered.item.unique())"
   ]
  },
  {
   "cell_type": "code",
   "execution_count": null,
   "metadata": {},
   "outputs": [],
   "source": [
    "pd.read_csv(path_prop)"
   ]
  },
  {
   "cell_type": "code",
   "execution_count": null,
   "metadata": {},
   "outputs": [],
   "source": [
    "#estrarre nodi da tenere\n",
    "\n",
    "from collections import Counter\n",
    "count = Counter(list(df_prop[1]))\n",
    "nodes = {node for node, c in count.items() if c > 19}\n",
    "len(nodes)"
   ]
  },
  {
   "cell_type": "code",
   "execution_count": null,
   "metadata": {},
   "outputs": [],
   "source": [
    "#estrarre nodi da tenere\n",
    "def reduce_db(path_prop, reps=20):\n",
    "    \n",
    "    with open(path_prop, 'r') as f:\n",
    "        df_prop = pd.read_csv(f, header=None)\n",
    "    prop_nodes = list(df_prop[1])\n",
    "    prop_nodes.sort()\n",
    "    #print(prop_nodes)\n",
    "    \n",
    "    remain = []\n",
    "\n",
    "    for i in range(len(prop_nodes)):\n",
    "        count = 1\n",
    "        for j in range(1, reps+1):\n",
    "            try:\n",
    "                if prop_nodes[i+j] == prop_nodes[i]:\n",
    "                    count += 1\n",
    "            except:\n",
    "                pass\n",
    "                #print('List finished: ', i+j)\n",
    "        if count >= 20:\n",
    "            remain.append(int(prop_nodes[i]))\n",
    "    print('Reduction: from ', len(set(prop_nodes)), len(set(remain)))\n",
    "    return set(remain)"
   ]
  },
  {
   "cell_type": "code",
   "execution_count": null,
   "metadata": {},
   "outputs": [],
   "source": [
    "remain_set = reduce_db('/Users/Cinus/University/Tesi/Dataset/digg_votes1.csv')"
   ]
  },
  {
   "cell_type": "code",
   "execution_count": null,
   "metadata": {},
   "outputs": [],
   "source": [
    "def extract():\n",
    "    file_in = '/Users/Cinus/University/Tesi/Dataset/digg_friends.csv'\n",
    "    file_out = '/Users/Cinus/University/Tesi/womg_git/Code/Library2.0/Input/Graph/graph_digg_edge_list.txt'\n",
    "    path_prop = '/Users/Cinus/University/Tesi/Dataset/digg_votes1.csv'\n",
    "\n",
    "    remain_set = reduce_db(path_prop)\n",
    "    G = nx.Graph()\n",
    "    \n",
    "    with open(file_in) as ffile_in:\n",
    "        df = pd.read_csv(ffile_in)\n",
    "    count = 0\n",
    "    for index in (range(int(df.last_valid_index()))):\n",
    "        if df.loc[index]['node'] in remain_set:\n",
    "            #print(index)\n",
    "            count += 1\n",
    "            G.add_edges_from([(int(df.loc[index]['node']), int(df.loc[index]['friend']))])\n",
    "            if df.loc[index]['mutual'] == 1:\n",
    "                G.add_edges_from([(int(df.loc[index]['friend']), int(df.loc[index]['node']))])\n",
    "    #print(count)\n",
    "    return G"
   ]
  },
  {
   "cell_type": "code",
   "execution_count": null,
   "metadata": {},
   "outputs": [],
   "source": [
    "GG = extract()"
   ]
  },
  {
   "cell_type": "code",
   "execution_count": null,
   "metadata": {},
   "outputs": [],
   "source": [
    "g = nx.read_edgelist('/Users/Cinus/University/Tesi/womg_git/Code/'\n",
    "                     'Library2.0/Input/Graph/graph_digg_edge_list.txt',\n",
    "                    create_using=nx.DiGraph(), nodetype=int)"
   ]
  },
  {
   "cell_type": "code",
   "execution_count": null,
   "metadata": {},
   "outputs": [],
   "source": [
    "nx.info(g)"
   ]
  },
  {
   "cell_type": "code",
   "execution_count": null,
   "metadata": {},
   "outputs": [],
   "source": [
    "nx_obj = nx.convert_node_labels_to_integers(g, first_label=0)"
   ]
  },
  {
   "cell_type": "code",
   "execution_count": null,
   "metadata": {},
   "outputs": [],
   "source": [
    "sub_g = g.subgraph(remain_set).copy()"
   ]
  },
  {
   "cell_type": "code",
   "execution_count": null,
   "metadata": {},
   "outputs": [],
   "source": [
    "sub_g.is_directed()"
   ]
  },
  {
   "cell_type": "code",
   "execution_count": null,
   "metadata": {},
   "outputs": [],
   "source": [
    "sub_g.number_of_nodes()"
   ]
  },
  {
   "cell_type": "code",
   "execution_count": null,
   "metadata": {},
   "outputs": [],
   "source": [
    "nx.info(sub_g)"
   ]
  },
  {
   "cell_type": "code",
   "execution_count": null,
   "metadata": {},
   "outputs": [],
   "source": [
    "nx.write_edgelist(sub_g, '/Users/Cinus/University/Tesi/womg_git/Code/'\n",
    "                     'Library2.0/Input/Graph/digg_edgelist.txt')"
   ]
  },
  {
   "cell_type": "code",
   "execution_count": null,
   "metadata": {},
   "outputs": [],
   "source": [
    "Grafo = nx.read_edgelist('/Users/Cinus/University/Tesi/womg_git/Code/'\n",
    "                     'Library2.0/Input/Graph/digg_edgelist.txt',\n",
    "                        create_using=nx.DiGraph(), nodetype=int)"
   ]
  },
  {
   "cell_type": "code",
   "execution_count": null,
   "metadata": {},
   "outputs": [],
   "source": [
    "Grafo.number_of_nodes()"
   ]
  },
  {
   "cell_type": "code",
   "execution_count": null,
   "metadata": {},
   "outputs": [],
   "source": []
  }
 ],
 "metadata": {
  "kernelspec": {
   "display_name": "Python 3",
   "language": "python",
   "name": "python3"
  },
  "language_info": {
   "codemirror_mode": {
    "name": "ipython",
    "version": 3
   },
   "file_extension": ".py",
   "mimetype": "text/x-python",
   "name": "python",
   "nbconvert_exporter": "python",
   "pygments_lexer": "ipython3",
   "version": "3.6.0"
  }
 },
 "nbformat": 4,
 "nbformat_minor": 2
}
