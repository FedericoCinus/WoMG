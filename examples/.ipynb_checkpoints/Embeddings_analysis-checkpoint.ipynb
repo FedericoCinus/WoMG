{
 "cells": [
  {
   "cell_type": "markdown",
   "metadata": {},
   "source": [
    "# Analysis of the node2vec embeddings outputs with logistic regression\n",
    "### one-vs-rest"
   ]
  },
  {
   "cell_type": "code",
   "execution_count": null,
   "metadata": {},
   "outputs": [],
   "source": [
    "! pwd"
   ]
  },
  {
   "cell_type": "code",
   "execution_count": null,
   "metadata": {},
   "outputs": [],
   "source": [
    "! ls ../src/womg/__main__.py"
   ]
  },
  {
   "cell_type": "code",
   "execution_count": 6,
   "metadata": {},
   "outputs": [
    {
     "ename": "ModuleNotFoundError",
     "evalue": "No module named 'womg'",
     "output_type": "error",
     "traceback": [
      "\u001b[0;31m---------------------------------------------------------------------------\u001b[0m",
      "\u001b[0;31mModuleNotFoundError\u001b[0m                       Traceback (most recent call last)",
      "\u001b[0;32m<ipython-input-6-8eafccff4155>\u001b[0m in \u001b[0;36m<module>\u001b[0;34m()\u001b[0m\n\u001b[1;32m      6\u001b[0m \u001b[0;34m\u001b[0m\u001b[0m\n\u001b[1;32m      7\u001b[0m \u001b[0;31m#print(pathlib.Path.cwd())\u001b[0m\u001b[0;34m\u001b[0m\u001b[0;34m\u001b[0m\u001b[0m\n\u001b[0;32m----> 8\u001b[0;31m \u001b[0;32mfrom\u001b[0m \u001b[0mwomg\u001b[0m\u001b[0;34m.\u001b[0m\u001b[0m__main__\u001b[0m \u001b[0;32mimport\u001b[0m \u001b[0mwomg_main\u001b[0m\u001b[0;34m\u001b[0m\u001b[0m\n\u001b[0m\u001b[1;32m      9\u001b[0m \u001b[0;34m\u001b[0m\u001b[0m\n\u001b[1;32m     10\u001b[0m \u001b[0mwomg_main\u001b[0m\u001b[0;34m(\u001b[0m\u001b[0;34m)\u001b[0m\u001b[0;34m\u001b[0m\u001b[0m\n",
      "\u001b[0;31mModuleNotFoundError\u001b[0m: No module named 'womg'"
     ]
    }
   ],
   "source": [
    "import sys\n",
    "import pathlib\n",
    "path = pathlib.Path(\"../src/\")\n",
    "\n",
    "sys.path.insert(0, str(path))\n",
    "\n",
    "#print(pathlib.Path.cwd())\n",
    "from womg.__main__ import womg_main\n",
    "\n",
    "womg_main()"
   ]
  },
  {
   "cell_type": "code",
   "execution_count": 7,
   "metadata": {},
   "outputs": [
    {
     "data": {
      "text/plain": [
       "['.',\n",
       " '.',\n",
       " '',\n",
       " '/Library/Frameworks/Python.framework/Versions/3.6/lib/python36.zip',\n",
       " '/Library/Frameworks/Python.framework/Versions/3.6/lib/python3.6',\n",
       " '/Library/Frameworks/Python.framework/Versions/3.6/lib/python3.6/lib-dynload',\n",
       " '/Library/Frameworks/Python.framework/Versions/3.6/lib/python3.6/site-packages',\n",
       " '/Library/Frameworks/Python.framework/Versions/3.6/lib/python3.6/site-packages/setuptools-33.1.1-py3.6.egg',\n",
       " '/Library/Frameworks/Python.framework/Versions/3.6/lib/python3.6/site-packages/IPython/extensions',\n",
       " '/Users/Cinus/.ipython']"
      ]
     },
     "execution_count": 7,
     "metadata": {},
     "output_type": "execute_result"
    }
   ],
   "source": [
    "import sys\n",
    "sys.path"
   ]
  },
  {
   "cell_type": "code",
   "execution_count": null,
   "metadata": {},
   "outputs": [],
   "source": []
  }
 ],
 "metadata": {
  "kernelspec": {
   "display_name": "Python 3",
   "language": "python",
   "name": "python3"
  },
  "language_info": {
   "codemirror_mode": {
    "name": "ipython",
    "version": 3
   },
   "file_extension": ".py",
   "mimetype": "text/x-python",
   "name": "python",
   "nbconvert_exporter": "python",
   "pygments_lexer": "ipython3",
   "version": "3.6.0"
  }
 },
 "nbformat": 4,
 "nbformat_minor": 2
}
