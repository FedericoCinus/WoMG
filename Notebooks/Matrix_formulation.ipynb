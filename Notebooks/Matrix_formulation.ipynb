{
 "cells": [
  {
   "cell_type": "code",
   "execution_count": 1,
   "metadata": {},
   "outputs": [],
   "source": [
    "import pandas as pd\n",
    "import pickle\n",
    "from pathlib import Path\n",
    "import seaborn as sb\n",
    "import numpy as np\n",
    "import matplotlib.pyplot as plt\n",
    "import sklearn\n",
    "import networkx as nx\n",
    "from scipy import sparse\n",
    "import numpy as np\n",
    "import random\n",
    "import scipy\n",
    "from tqdm import tqdm_notebook"
   ]
  },
  {
   "cell_type": "markdown",
   "metadata": {},
   "source": [
    "# Utils"
   ]
  },
  {
   "cell_type": "raw",
   "metadata": {},
   "source": [
    "filenames = []\n",
    "prop_files = []\n",
    "for filename in Path('digg-exog-by-inf-sim2020-01-14T00-04-03.339633/').rglob('*.pickle'):\n",
    "    filenames.append(filename)\n",
    "for filename in Path('digg-exog-by-inf-sim2020-01-14T00-04-03.339633/').rglob('Propagations0.txt'):\n",
    "    prop_files.append(filename)"
   ]
  },
  {
   "cell_type": "raw",
   "metadata": {},
   "source": [
    "for filename in prop_files:\n",
    "    df = pd.read_csv(filename, sep=' ', names=['time', 'item', 'node'])\n",
    "    df.groupby('item').count().hist()"
   ]
  },
  {
   "cell_type": "raw",
   "metadata": {
    "scrolled": false
   },
   "source": [
    "for filename in filenames:\n",
    "    with open(filename, 'rb') as f:\n",
    "        l = pickle.load(f)\n",
    "    if len(l)!=0:\n",
    "        print(filename)\n",
    "        df = pd.DataFrame(l, columns=['z_sum', 'threshold'])\n",
    "        df['parameter'] = df['z_sum'].apply(lambda x: 1/(1+np.exp(-x+10)))\n",
    "        fig, ax = plt.subplots(1,3, figsize=(16, 4))\n",
    "        \n",
    "        df.hist('threshold', ax=ax[0], bins=20)\n",
    "        df.hist('parameter', ax=ax[1], bins=20)\n",
    "        df.hist('z_sum', ax=ax[2], bins=20)#np.arange(0, 100, 1))\n",
    "        #ax[2].set_xlim((0,50))\n",
    "        plt.show()\n",
    "        print(len(df['z_sum']))\n",
    "        break"
   ]
  },
  {
   "cell_type": "code",
   "execution_count": 18,
   "metadata": {},
   "outputs": [],
   "source": [
    "################# DAGS generating function ############################\n",
    "def generate_dags(G, df):\n",
    "    '''\n",
    "    generates dags from a graph and propagation df\n",
    "    considering all nodes that have previously activated\n",
    "    '''\n",
    "    df = df.sort_values(by=['time'])\n",
    "    df['time'] = np.arange(len(df))\n",
    "    for item in df.item.unique():\n",
    "        node2time = dict(df[df.item == item][['node', 'time']].values)\n",
    "        dag_edges = [\n",
    "            (u, v)\n",
    "            for u, v in G.edges\n",
    "            if node2time.get(u, np.inf) < node2time.get(v, 0)\n",
    "        ]\n",
    "        dag = nx.DiGraph()\n",
    "        dag.add_nodes_from(node2time.keys())\n",
    "        dag.add_edges_from(dag_edges)\n",
    "        yield dag\n",
    "\n",
    "#######################################################################\n",
    "\n",
    "\n",
    "\n",
    "################# DAG metrics #########################################\n",
    "def branching_factor(dag):\n",
    "    return list(dict(dag.out_degree()).values())\n",
    "\n",
    "def len_path_dag(dag):\n",
    "    return max(\n",
    "            (dist\n",
    "                for source, target2dist in nx.shortest_path_length(dag)\n",
    "                for target, dist in target2dist.items()\n",
    "                if np.isfinite(dist)\n",
    "             ), default=np.nan)\n",
    "\n",
    "#######################################################################"
   ]
  },
  {
   "cell_type": "markdown",
   "metadata": {},
   "source": [
    "# Simulations"
   ]
  },
  {
   "cell_type": "raw",
   "metadata": {},
   "source": [
    "# NB: la network è incompleta\n",
    "df_digg = pd.read_csv('data/digg_friends.csv', names=['mutual', 'time', 'influencer', 'receiver'])\n",
    "\n",
    "nodes = set(df_digg.influencer.unique()).union(set(df_digg.receiver.unique()))\n",
    "nodes2int = {n:i for i, n in enumerate(nodes)}\n",
    "\n",
    "df_digg.receiver = df_digg.receiver.apply(lambda x: nodes2int[x])\n",
    "df_digg.influencer = df_digg.influencer.apply(lambda x: nodes2int[x])\n",
    "print(len(nodes), df_digg.influencer.nunique(), df_digg.receiver.nunique())"
   ]
  },
  {
   "cell_type": "raw",
   "metadata": {},
   "source": [
    "with open('data/digg_friends_edgelist.nx', 'a') as f:\n",
    "    for idx, (mutual, _time, influencer, receiver) in tqdm_notebook(df_digg.iterrows()):\n",
    "        f.write(str(influencer)+' '+str(receiver)+' '+\"{'weight': 1}\\n\")\n",
    "        if mutual:\n",
    "            f.write(str(receiver)+' '+str(influencer)+' '+\"{'weight': 1}\\n\")"
   ]
  },
  {
   "cell_type": "code",
   "execution_count": 19,
   "metadata": {},
   "outputs": [],
   "source": [
    "topics = 5\n",
    "docs = 1\n",
    "H = .5\n",
    "\n",
    "#digg_complete_path = 'data/digg_friends_edgelist.nx'\n",
    "#G =  nx.read_edgelist(digg_complete_path, create_using=nx.DiGraph, nodetype=int)\n",
    "#G = nx.scale_free_graph(nodes_numb)\n",
    "#G = nx.barabasi_albert_graph(nodes_numb, 5)\n",
    "#digg_path = '/Users/Cinus/Work/Progetti/WoMG/WoMG/data/graph/digg/digg_graph_filtered.csv'\n",
    "#G =  nx.read_edgelist(digg_path, create_using=nx.DiGraph, nodetype=int)\n",
    "high_clust_graph_path = '/Users/Cinus/Work/Progetti/WoMG/WoMG/data/graph/digg/graph-highclust.nx'\n",
    "G =  nx.read_edgelist(high_clust_graph_path, create_using=nx.DiGraph, nodetype=int)\n",
    "nodes_numb = G.number_of_nodes()\n",
    "seed = 4\n",
    "virality_exp = 10\n",
    "gn_strh = 2.5"
   ]
  },
  {
   "cell_type": "raw",
   "metadata": {},
   "source": [
    "nx.draw(G)"
   ]
  },
  {
   "cell_type": "raw",
   "metadata": {},
   "source": [
    "# functions\n",
    "f = lambda x: 1/(1+np.exp(-x+10))\n",
    "f2 = lambda x: x/(x+1)\n",
    "f3 = lambda x: np.log(x+1)/(np.log(x+1)+1)\n",
    "print(f(10), f2(10), f3(10))"
   ]
  },
  {
   "cell_type": "raw",
   "metadata": {},
   "source": [
    "# thresholds\n",
    "vec_thr = [18*(1+np.random.pareto(virality_exp)) for _ in range(docs)]\n",
    "print(np.mean(vec_thr))\n",
    "#plt.hist(vec_thr,)"
   ]
  },
  {
   "cell_type": "raw",
   "metadata": {},
   "source": [
    "plt.hist(df_gammas.iloc[4])"
   ]
  },
  {
   "cell_type": "code",
   "execution_count": 20,
   "metadata": {},
   "outputs": [],
   "source": [
    "# interests\n",
    "from sklearn.decomposition import NMF\n",
    "def nmf_emb(G, dimensions, seed, H):\n",
    "    A = nx.adjacency_matrix(G)\n",
    "    S_0 = overlap_generator(A)\n",
    "    R = np.random.rand(G.number_of_nodes(), G.number_of_nodes())\n",
    "    #S = beta*(S_0 + A + sparse.identity(A.shape[0])) + (1-beta)*R\n",
    "    eta = 64.\n",
    "    beta = 16 - 15.875*H\n",
    "    S = eta*S_0 + A + beta*R\n",
    "    model = NMF(n_components=dimensions, init='nndsvd', random_state=seed)\n",
    "    W = model.fit_transform(S)\n",
    "    return W\n",
    "def overlap_generator(A):\n",
    "    \"\"\"\n",
    "    Generate the second order overlap from a sparse adjacency matrix A.\n",
    "    \"\"\"\n",
    "    aat = A.dot(A.T)\n",
    "    d = aat.diagonal()\n",
    "    ndiag = sparse.diags(d, 0)\n",
    "    n = np.sqrt(ndiag.dot(aat>0).dot(ndiag))\n",
    "    n.data[:] = 1./n.data[:]\n",
    "    return aat.multiply(n) #- sparse.identity(aat.shape[0])"
   ]
  },
  {
   "cell_type": "code",
   "execution_count": 25,
   "metadata": {},
   "outputs": [
    {
     "name": "stdout",
     "output_type": "stream",
     "text": [
      "item 0 description:  [1.12400014e-05 2.03282630e-02 2.12378364e-08 2.06363608e-05\n",
      " 9.99793334e-01 3.05248074e-06 2.23434252e-04 2.14743178e-05\n",
      " 2.34710198e-05 1.96231014e-09]\n"
     ]
    }
   ],
   "source": [
    "topics = 10\n",
    "docs = 10\n",
    "\n",
    "# items description\n",
    "alpha =  [1. / topics for i in range(topics)]\n",
    "gammas = {}\n",
    "for item in range(docs):\n",
    "    gammas[item] = np.random.dirichlet(alpha)\n",
    "    gammas[item] /= np.linalg.norm(gammas[item])\n",
    "    #print(np.linalg.norm(gammas[item]))\n",
    "df_gammas = pd.DataFrame(gammas)\n",
    "\n",
    "print('item 0 description: ', np.array(df_gammas[0]))"
   ]
  },
  {
   "cell_type": "code",
   "execution_count": 26,
   "metadata": {},
   "outputs": [
    {
     "name": "stdout",
     "output_type": "stream",
     "text": [
      "[0.93059361 0.97883759 0.98232079 0.97130299 0.99227033 0.9409851\n",
      " 0.99806569 0.98250297 0.94491957 0.95008515]\n"
     ]
    }
   ],
   "source": [
    "print(scipy.stats.powerlaw.rvs(15, size=docs))"
   ]
  },
  {
   "cell_type": "raw",
   "metadata": {},
   "source": [
    "print(W[20])\n",
    "print( np.mean([ np.linalg.norm(W[node]) for node in range(nodes_numb) ]) )\n",
    "print( np.mean([ np.array(df_gammas[0]).dot(W[node]) for node in range(nodes_numb) ]) )"
   ]
  },
  {
   "cell_type": "code",
   "execution_count": 27,
   "metadata": {},
   "outputs": [],
   "source": [
    "assert len(G.nodes()) == nodes_numb"
   ]
  },
  {
   "cell_type": "code",
   "execution_count": 28,
   "metadata": {
    "scrolled": true
   },
   "outputs": [
    {
     "name": "stderr",
     "output_type": "stream",
     "text": [
      "/Users/Cinus/miniconda3/lib/python3.7/site-packages/ipykernel_launcher.py:19: TqdmDeprecationWarning: This function will be removed in tqdm==5.0.0\n",
      "Please use `tqdm.notebook.tqdm` instead of `tqdm.tqdm_notebook`\n"
     ]
    },
    {
     "data": {
      "application/vnd.jupyter.widget-view+json": {
       "model_id": "25768327171942dba7afa9a4e8b37fc4",
       "version_major": 2,
       "version_minor": 0
      },
      "text/plain": [
       "HBox(children=(IntProgress(value=0, max=5), HTML(value='')))"
      ]
     },
     "metadata": {},
     "output_type": "display_data"
    },
    {
     "name": "stdout",
     "output_type": "stream",
     "text": [
      "homophily:  0.0\n",
      "threshold:  0.011470157833016742\n",
      "fitness mean:  0.044040319029582296\n"
     ]
    },
    {
     "name": "stderr",
     "output_type": "stream",
     "text": [
      "/Users/Cinus/miniconda3/lib/python3.7/site-packages/ipykernel_launcher.py:64: TqdmDeprecationWarning: This function will be removed in tqdm==5.0.0\n",
      "Please use `tqdm.notebook.tqdm` instead of `tqdm.tqdm_notebook`\n"
     ]
    },
    {
     "data": {
      "application/vnd.jupyter.widget-view+json": {
       "model_id": "abc4c188306b4197a68d5223f60f496f",
       "version_major": 2,
       "version_minor": 0
      },
      "text/plain": [
       "HBox(children=(IntProgress(value=0, max=10), HTML(value='')))"
      ]
     },
     "metadata": {},
     "output_type": "display_data"
    },
    {
     "name": "stdout",
     "output_type": "stream",
     "text": [
      "initial actives:  476 / 500\n",
      "494\n",
      "495\n",
      "495\n",
      "homophily:  0.0\n",
      "threshold:  0.0437459220143853\n",
      "fitness mean:  0.04075028909287665\n",
      "\n"
     ]
    },
    {
     "data": {
      "application/vnd.jupyter.widget-view+json": {
       "model_id": "5b07133972eb47b0ba992097be1b17ca",
       "version_major": 2,
       "version_minor": 0
      },
      "text/plain": [
       "HBox(children=(IntProgress(value=0, max=10), HTML(value='')))"
      ]
     },
     "metadata": {},
     "output_type": "display_data"
    },
    {
     "name": "stdout",
     "output_type": "stream",
     "text": [
      "initial actives:  484 / 500\n",
      "499\n",
      "499\n",
      "homophily:  0.0\n",
      "threshold:  0.04304099468479437\n",
      "fitness mean:  0.03620952349303755\n"
     ]
    },
    {
     "data": {
      "application/vnd.jupyter.widget-view+json": {
       "model_id": "a761373c204d43608eaa3c669ffb8125",
       "version_major": 2,
       "version_minor": 0
      },
      "text/plain": [
       "HBox(children=(IntProgress(value=0, max=10), HTML(value='')))"
      ]
     },
     "metadata": {},
     "output_type": "display_data"
    },
    {
     "name": "stdout",
     "output_type": "stream",
     "text": [
      "initial actives:  430 / 500\n",
      "470\n",
      "470\n",
      "homophily:  0.0\n",
      "threshold:  0.3901974937314795\n",
      "fitness mean:  0.04457081791047774\n",
      "\n",
      "\n"
     ]
    },
    {
     "data": {
      "application/vnd.jupyter.widget-view+json": {
       "model_id": "7faca923655148e6a6efce532a882886",
       "version_major": 2,
       "version_minor": 0
      },
      "text/plain": [
       "HBox(children=(IntProgress(value=0, max=10), HTML(value='')))"
      ]
     },
     "metadata": {},
     "output_type": "display_data"
    },
    {
     "name": "stdout",
     "output_type": "stream",
     "text": [
      "initial actives:  234 / 500\n",
      "410\n",
      "470\n",
      "478\n",
      "480\n",
      "480\n",
      "homophily:  0.0\n",
      "threshold:  0.9322732333129198\n",
      "fitness mean:  0.05281656414174833\n"
     ]
    },
    {
     "data": {
      "application/vnd.jupyter.widget-view+json": {
       "model_id": "860811ea0bd142dca1b28043eb4d0395",
       "version_major": 2,
       "version_minor": 0
      },
      "text/plain": [
       "HBox(children=(IntProgress(value=0, max=10), HTML(value='')))"
      ]
     },
     "metadata": {},
     "output_type": "display_data"
    },
    {
     "name": "stdout",
     "output_type": "stream",
     "text": [
      "initial actives:  0 / 500\n",
      "0\n",
      "homophily:  0.0\n",
      "threshold:  0.08571588271849231\n",
      "fitness mean:  0.046606395742236885\n",
      "\n",
      "\n"
     ]
    },
    {
     "data": {
      "application/vnd.jupyter.widget-view+json": {
       "model_id": "c0e1447ee3bc4070b7d59ad446db980e",
       "version_major": 2,
       "version_minor": 0
      },
      "text/plain": [
       "HBox(children=(IntProgress(value=0, max=10), HTML(value='')))"
      ]
     },
     "metadata": {},
     "output_type": "display_data"
    },
    {
     "name": "stdout",
     "output_type": "stream",
     "text": [
      "initial actives:  493 / 500\n",
      "499\n",
      "499\n",
      "homophily:  0.0\n",
      "threshold:  0.02886003588873306\n",
      "fitness mean:  0.049746010828761345\n"
     ]
    },
    {
     "data": {
      "application/vnd.jupyter.widget-view+json": {
       "model_id": "70009e60d2274de7a5e1554d68cf7897",
       "version_major": 2,
       "version_minor": 0
      },
      "text/plain": [
       "HBox(children=(IntProgress(value=0, max=10), HTML(value='')))"
      ]
     },
     "metadata": {},
     "output_type": "display_data"
    },
    {
     "name": "stdout",
     "output_type": "stream",
     "text": [
      "initial actives:  499 / 500\n",
      "500\n",
      "500\n",
      "homophily:  0.0\n",
      "threshold:  0.2766304023578222\n",
      "fitness mean:  0.03468944260968083\n",
      "\n",
      "\n"
     ]
    },
    {
     "data": {
      "application/vnd.jupyter.widget-view+json": {
       "model_id": "cb7141e0856e4f218af7ea52f1e0b425",
       "version_major": 2,
       "version_minor": 0
      },
      "text/plain": [
       "HBox(children=(IntProgress(value=0, max=10), HTML(value='')))"
      ]
     },
     "metadata": {},
     "output_type": "display_data"
    },
    {
     "name": "stdout",
     "output_type": "stream",
     "text": [
      "initial actives:  371 / 500\n",
      "483\n",
      "491\n",
      "491\n",
      "homophily:  0.0\n",
      "threshold:  0.6187715600264623\n",
      "fitness mean:  0.0486484542674014\n"
     ]
    },
    {
     "data": {
      "application/vnd.jupyter.widget-view+json": {
       "model_id": "bb6c099a61d74177a9c18ed0ba22f57f",
       "version_major": 2,
       "version_minor": 0
      },
      "text/plain": [
       "HBox(children=(IntProgress(value=0, max=10), HTML(value='')))"
      ]
     },
     "metadata": {},
     "output_type": "display_data"
    },
    {
     "name": "stdout",
     "output_type": "stream",
     "text": [
      "initial actives:  51 / 500\n",
      "189\n",
      "399\n",
      "453\n",
      "457\n",
      "457\n",
      "homophily:  0.0\n",
      "threshold:  0.2451637610636028\n",
      "fitness mean:  0.05497413898160443\n",
      "\n",
      "\n"
     ]
    },
    {
     "data": {
      "application/vnd.jupyter.widget-view+json": {
       "model_id": "66c6afabbef94f51a46a7e86568a8c81",
       "version_major": 2,
       "version_minor": 0
      },
      "text/plain": [
       "HBox(children=(IntProgress(value=0, max=10), HTML(value='')))"
      ]
     },
     "metadata": {},
     "output_type": "display_data"
    },
    {
     "name": "stdout",
     "output_type": "stream",
     "text": [
      "initial actives:  103 / 500\n",
      "184\n",
      "244\n",
      "275\n",
      "278\n",
      "278\n",
      "homophily:  0.0\n",
      "threshold:  0.7763596721927204\n",
      "fitness mean:  0.052699731154462554\n"
     ]
    },
    {
     "data": {
      "application/vnd.jupyter.widget-view+json": {
       "model_id": "cfdb5c6127ea4ac09143b4ad7c4a11c6",
       "version_major": 2,
       "version_minor": 0
      },
      "text/plain": [
       "HBox(children=(IntProgress(value=0, max=10), HTML(value='')))"
      ]
     },
     "metadata": {},
     "output_type": "display_data"
    },
    {
     "name": "stdout",
     "output_type": "stream",
     "text": [
      "initial actives:  7 / 500\n",
      "8\n",
      "8\n",
      "homophily:  0.0\n",
      "threshold:  0.4119203451379738\n",
      "fitness mean:  0.05088565476582178\n",
      "\n",
      "\n"
     ]
    },
    {
     "data": {
      "application/vnd.jupyter.widget-view+json": {
       "model_id": "426bc6f9ce114e24893d87f7fbf12183",
       "version_major": 2,
       "version_minor": 0
      },
      "text/plain": [
       "HBox(children=(IntProgress(value=0, max=10), HTML(value='')))"
      ]
     },
     "metadata": {},
     "output_type": "display_data"
    },
    {
     "name": "stdout",
     "output_type": "stream",
     "text": [
      "initial actives:  177 / 500\n",
      "339\n",
      "449\n",
      "465\n",
      "468\n",
      "468\n",
      "homophily:  0.0\n",
      "threshold:  0.37110228893483144\n",
      "fitness mean:  0.045793948434628716\n"
     ]
    },
    {
     "data": {
      "application/vnd.jupyter.widget-view+json": {
       "model_id": "d60e880273804c64b4b0a26146c219bc",
       "version_major": 2,
       "version_minor": 0
      },
      "text/plain": [
       "HBox(children=(IntProgress(value=0, max=10), HTML(value='')))"
      ]
     },
     "metadata": {},
     "output_type": "display_data"
    },
    {
     "name": "stdout",
     "output_type": "stream",
     "text": [
      "initial actives:  123 / 500\n",
      "189\n",
      "215\n",
      "226\n",
      "231\n",
      "231\n",
      "homophily:  0.0\n",
      "threshold:  0.2107142512649104\n",
      "fitness mean:  0.04657672144395372\n",
      "\n",
      "\n"
     ]
    },
    {
     "data": {
      "application/vnd.jupyter.widget-view+json": {
       "model_id": "ad5aa6b9a87246adabd76fdef7e022fb",
       "version_major": 2,
       "version_minor": 0
      },
      "text/plain": [
       "HBox(children=(IntProgress(value=0, max=10), HTML(value='')))"
      ]
     },
     "metadata": {},
     "output_type": "display_data"
    },
    {
     "name": "stdout",
     "output_type": "stream",
     "text": [
      "initial actives:  411 / 500\n",
      "495\n",
      "497\n",
      "497\n",
      "homophily:  0.0\n",
      "threshold:  0.7211078268179653\n",
      "fitness mean:  0.03716993689142192\n"
     ]
    },
    {
     "data": {
      "application/vnd.jupyter.widget-view+json": {
       "model_id": "a76b4622a7fc40dca359064c79f9e542",
       "version_major": 2,
       "version_minor": 0
      },
      "text/plain": [
       "HBox(children=(IntProgress(value=0, max=10), HTML(value='')))"
      ]
     },
     "metadata": {},
     "output_type": "display_data"
    },
    {
     "name": "stdout",
     "output_type": "stream",
     "text": [
      "initial actives:  11 / 500\n",
      "15\n",
      "15\n",
      "homophily:  0.0\n",
      "threshold:  0.311766119821947\n",
      "fitness mean:  0.05114718391603218\n",
      "\n"
     ]
    },
    {
     "data": {
      "application/vnd.jupyter.widget-view+json": {
       "model_id": "e0129f464bf94a11aa2857c1061876c0",
       "version_major": 2,
       "version_minor": 0
      },
      "text/plain": [
       "HBox(children=(IntProgress(value=0, max=10), HTML(value='')))"
      ]
     },
     "metadata": {},
     "output_type": "display_data"
    },
    {
     "name": "stdout",
     "output_type": "stream",
     "text": [
      "initial actives:  387 / 500\n",
      "484\n",
      "491\n",
      "493\n",
      "495\n",
      "495\n",
      "homophily:  0.0\n",
      "threshold:  0.837056866797479\n",
      "fitness mean:  0.04808088544268507\n"
     ]
    },
    {
     "data": {
      "application/vnd.jupyter.widget-view+json": {
       "model_id": "a771eeac07f34e88b0912b965aa018ef",
       "version_major": 2,
       "version_minor": 0
      },
      "text/plain": [
       "HBox(children=(IntProgress(value=0, max=10), HTML(value='')))"
      ]
     },
     "metadata": {},
     "output_type": "display_data"
    },
    {
     "name": "stdout",
     "output_type": "stream",
     "text": [
      "initial actives:  6 / 500\n",
      "7\n",
      "7\n",
      "homophily:  0.0\n",
      "threshold:  0.4855049052802497\n",
      "fitness mean:  0.045720572534595806\n",
      "\n",
      "\n"
     ]
    },
    {
     "data": {
      "application/vnd.jupyter.widget-view+json": {
       "model_id": "6f4d445bcaf9408dbe9640c4a4710dbe",
       "version_major": 2,
       "version_minor": 0
      },
      "text/plain": [
       "HBox(children=(IntProgress(value=0, max=10), HTML(value='')))"
      ]
     },
     "metadata": {},
     "output_type": "display_data"
    },
    {
     "name": "stdout",
     "output_type": "stream",
     "text": [
      "initial actives:  151 / 500\n",
      "335\n",
      "454\n",
      "482\n",
      "484\n",
      "484\n",
      "homophily:  0.0\n",
      "threshold:  0.9434183940517853\n",
      "fitness mean:  0.04616520870580603\n"
     ]
    },
    {
     "data": {
      "application/vnd.jupyter.widget-view+json": {
       "model_id": "38a8969e58fe4600afb266dd48da82d1",
       "version_major": 2,
       "version_minor": 0
      },
      "text/plain": [
       "HBox(children=(IntProgress(value=0, max=10), HTML(value='')))"
      ]
     },
     "metadata": {},
     "output_type": "display_data"
    },
    {
     "name": "stdout",
     "output_type": "stream",
     "text": [
      "initial actives:  0 / 500\n",
      "0\n",
      "homophily:  0.0\n",
      "threshold:  0.10702642496915127\n",
      "fitness mean:  0.04074513707608264\n",
      "\n",
      "\n"
     ]
    },
    {
     "data": {
      "application/vnd.jupyter.widget-view+json": {
       "model_id": "014822c4275647f4aaf672065140b47c",
       "version_major": 2,
       "version_minor": 0
      },
      "text/plain": [
       "HBox(children=(IntProgress(value=0, max=10), HTML(value='')))"
      ]
     },
     "metadata": {},
     "output_type": "display_data"
    },
    {
     "name": "stdout",
     "output_type": "stream",
     "text": [
      "initial actives:  355 / 500\n",
      "461\n",
      "471\n",
      "471\n",
      "homophily:  0.0\n",
      "threshold:  0.896770123511253\n",
      "fitness mean:  0.047105867044901814\n"
     ]
    },
    {
     "data": {
      "application/vnd.jupyter.widget-view+json": {
       "model_id": "64e3a67337694e348efce827284efdae",
       "version_major": 2,
       "version_minor": 0
      },
      "text/plain": [
       "HBox(children=(IntProgress(value=0, max=10), HTML(value='')))"
      ]
     },
     "metadata": {},
     "output_type": "display_data"
    },
    {
     "name": "stdout",
     "output_type": "stream",
     "text": [
      "initial actives:  1 / 500\n",
      "1\n",
      "homophily:  0.0\n",
      "threshold:  0.6651950867161077\n",
      "fitness mean:  0.049859849700544794\n",
      "\n",
      "\n"
     ]
    },
    {
     "data": {
      "application/vnd.jupyter.widget-view+json": {
       "model_id": "991525671c404e4eba6fa8bd2174912d",
       "version_major": 2,
       "version_minor": 0
      },
      "text/plain": [
       "HBox(children=(IntProgress(value=0, max=10), HTML(value='')))"
      ]
     },
     "metadata": {},
     "output_type": "display_data"
    },
    {
     "name": "stdout",
     "output_type": "stream",
     "text": [
      "initial actives:  20 / 500\n",
      "34\n",
      "34\n",
      "homophily:  0.0\n",
      "threshold:  0.7880513174506917\n",
      "fitness mean:  0.043744606807283405\n"
     ]
    },
    {
     "data": {
      "application/vnd.jupyter.widget-view+json": {
       "model_id": "94f9879ad6a44bcaaa11f2fe0ee16a72",
       "version_major": 2,
       "version_minor": 0
      },
      "text/plain": [
       "HBox(children=(IntProgress(value=0, max=10), HTML(value='')))"
      ]
     },
     "metadata": {},
     "output_type": "display_data"
    },
    {
     "name": "stdout",
     "output_type": "stream",
     "text": [
      "initial actives:  2 / 500\n",
      "2\n",
      "homophily:  0.0\n",
      "threshold:  0.7401065055057805\n",
      "fitness mean:  0.03894493188061571\n",
      "\n",
      "\n"
     ]
    },
    {
     "data": {
      "application/vnd.jupyter.widget-view+json": {
       "model_id": "72bfe965287f4069a39b3802c6592fb6",
       "version_major": 2,
       "version_minor": 0
      },
      "text/plain": [
       "HBox(children=(IntProgress(value=0, max=10), HTML(value='')))"
      ]
     },
     "metadata": {},
     "output_type": "display_data"
    },
    {
     "name": "stdout",
     "output_type": "stream",
     "text": [
      "initial actives:  5 / 500\n",
      "5\n",
      "homophily:  0.0\n",
      "threshold:  0.3200797828815829\n",
      "fitness mean:  0.05668296790331227\n"
     ]
    },
    {
     "data": {
      "application/vnd.jupyter.widget-view+json": {
       "model_id": "3d4b149bc62243808e35ef2f0cc25772",
       "version_major": 2,
       "version_minor": 0
      },
      "text/plain": [
       "HBox(children=(IntProgress(value=0, max=10), HTML(value='')))"
      ]
     },
     "metadata": {},
     "output_type": "display_data"
    },
    {
     "name": "stdout",
     "output_type": "stream",
     "text": [
      "initial actives:  266 / 500\n",
      "430\n",
      "473\n",
      "478\n",
      "478\n",
      "homophily:  0.0\n",
      "threshold:  0.923672164508602\n",
      "fitness mean:  0.04623918713097025\n",
      "\n",
      "\n"
     ]
    },
    {
     "data": {
      "application/vnd.jupyter.widget-view+json": {
       "model_id": "d04f76066b864b349ecc26650a640d2d",
       "version_major": 2,
       "version_minor": 0
      },
      "text/plain": [
       "HBox(children=(IntProgress(value=0, max=10), HTML(value='')))"
      ]
     },
     "metadata": {},
     "output_type": "display_data"
    },
    {
     "name": "stdout",
     "output_type": "stream",
     "text": [
      "initial actives:  0 / 500\n",
      "0\n",
      "homophily:  0.0\n",
      "threshold:  0.40242373550726596\n",
      "fitness mean:  0.04774024563579174\n"
     ]
    },
    {
     "data": {
      "application/vnd.jupyter.widget-view+json": {
       "model_id": "678e9e68d183476bb5a4a87571c58543",
       "version_major": 2,
       "version_minor": 0
      },
      "text/plain": [
       "HBox(children=(IntProgress(value=0, max=10), HTML(value='')))"
      ]
     },
     "metadata": {},
     "output_type": "display_data"
    },
    {
     "name": "stdout",
     "output_type": "stream",
     "text": [
      "initial actives:  338 / 500\n",
      "482\n",
      "492\n",
      "492\n",
      "homophily:  0.0\n",
      "threshold:  0.9097956562846903\n",
      "fitness mean:  0.055953110398219\n",
      "\n",
      "\n"
     ]
    },
    {
     "data": {
      "application/vnd.jupyter.widget-view+json": {
       "model_id": "7d1bce9fb88845e0b637dac66fd25507",
       "version_major": 2,
       "version_minor": 0
      },
      "text/plain": [
       "HBox(children=(IntProgress(value=0, max=10), HTML(value='')))"
      ]
     },
     "metadata": {},
     "output_type": "display_data"
    },
    {
     "name": "stdout",
     "output_type": "stream",
     "text": [
      "initial actives:  0 / 500\n",
      "0\n",
      "homophily:  0.0\n",
      "threshold:  0.5810886004001857\n",
      "fitness mean:  0.051587659070781444\n"
     ]
    },
    {
     "data": {
      "application/vnd.jupyter.widget-view+json": {
       "model_id": "1b890b59f0934d5a9443ac9dba5c5850",
       "version_major": 2,
       "version_minor": 0
      },
      "text/plain": [
       "HBox(children=(IntProgress(value=0, max=10), HTML(value='')))"
      ]
     },
     "metadata": {},
     "output_type": "display_data"
    },
    {
     "name": "stdout",
     "output_type": "stream",
     "text": [
      "initial actives:  66 / 500\n",
      "242\n",
      "427\n",
      "460\n",
      "461\n",
      "461\n",
      "homophily:  0.0\n",
      "threshold:  0.7447505043243352\n",
      "fitness mean:  0.046682149247320955\n",
      "\n",
      "\n"
     ]
    },
    {
     "data": {
      "application/vnd.jupyter.widget-view+json": {
       "model_id": "ca4f48d2a14545a981e6b7eb1d1d42fd",
       "version_major": 2,
       "version_minor": 0
      },
      "text/plain": [
       "HBox(children=(IntProgress(value=0, max=10), HTML(value='')))"
      ]
     },
     "metadata": {},
     "output_type": "display_data"
    },
    {
     "name": "stdout",
     "output_type": "stream",
     "text": [
      "initial actives:  5 / 500\n",
      "5\n",
      "homophily:  0.0\n",
      "threshold:  0.6883479093080889\n",
      "fitness mean:  0.04034114297140422\n"
     ]
    },
    {
     "data": {
      "application/vnd.jupyter.widget-view+json": {
       "model_id": "0c51a482d5ec4e1f9822b7acaeaa7cf6",
       "version_major": 2,
       "version_minor": 0
      },
      "text/plain": [
       "HBox(children=(IntProgress(value=0, max=10), HTML(value='')))"
      ]
     },
     "metadata": {},
     "output_type": "display_data"
    },
    {
     "name": "stdout",
     "output_type": "stream",
     "text": [
      "initial actives:  12 / 500\n",
      "16\n",
      "16\n",
      "homophily:  0.0\n",
      "threshold:  0.9977192124452942\n",
      "fitness mean:  0.05312261288336927\n",
      "\n",
      "\n"
     ]
    },
    {
     "data": {
      "application/vnd.jupyter.widget-view+json": {
       "model_id": "f431e1fae2f443beb3fff1b3563285ff",
       "version_major": 2,
       "version_minor": 0
      },
      "text/plain": [
       "HBox(children=(IntProgress(value=0, max=10), HTML(value='')))"
      ]
     },
     "metadata": {},
     "output_type": "display_data"
    },
    {
     "name": "stdout",
     "output_type": "stream",
     "text": [
      "initial actives:  0 / 500\n",
      "0\n",
      "homophily:  0.0\n",
      "threshold:  0.8619785680913992\n",
      "fitness mean:  0.06178899090594851\n"
     ]
    },
    {
     "data": {
      "application/vnd.jupyter.widget-view+json": {
       "model_id": "bf99237b3065480da9780b7d0b2a454b",
       "version_major": 2,
       "version_minor": 0
      },
      "text/plain": [
       "HBox(children=(IntProgress(value=0, max=10), HTML(value='')))"
      ]
     },
     "metadata": {},
     "output_type": "display_data"
    },
    {
     "name": "stdout",
     "output_type": "stream",
     "text": [
      "initial actives:  1 / 500\n",
      "1\n",
      "homophily:  0.0\n",
      "threshold:  0.5300345133261861\n",
      "fitness mean:  0.04239010038231377\n",
      "\n",
      "\n"
     ]
    },
    {
     "data": {
      "application/vnd.jupyter.widget-view+json": {
       "model_id": "4cc10c675d9d4d65acc45f29dae0887c",
       "version_major": 2,
       "version_minor": 0
      },
      "text/plain": [
       "HBox(children=(IntProgress(value=0, max=10), HTML(value='')))"
      ]
     },
     "metadata": {},
     "output_type": "display_data"
    },
    {
     "name": "stdout",
     "output_type": "stream",
     "text": [
      "initial actives:  83 / 500\n",
      "123\n",
      "131\n",
      "132\n",
      "133\n",
      "133\n",
      "homophily:  0.0\n",
      "threshold:  0.8970807768849504\n",
      "fitness mean:  0.04510982615165917\n"
     ]
    },
    {
     "data": {
      "application/vnd.jupyter.widget-view+json": {
       "model_id": "17d29e57ffbe43c58e6ad54ebc6b81d0",
       "version_major": 2,
       "version_minor": 0
      },
      "text/plain": [
       "HBox(children=(IntProgress(value=0, max=10), HTML(value='')))"
      ]
     },
     "metadata": {},
     "output_type": "display_data"
    },
    {
     "name": "stdout",
     "output_type": "stream",
     "text": [
      "initial actives:  1 / 500\n",
      "1\n",
      "homophily:  0.0\n",
      "threshold:  0.7265467037297753\n",
      "fitness mean:  0.04100659405049644\n",
      "\n",
      "\n"
     ]
    },
    {
     "data": {
      "application/vnd.jupyter.widget-view+json": {
       "model_id": "01691791721f462d833c6b2b937fe661",
       "version_major": 2,
       "version_minor": 0
      },
      "text/plain": [
       "HBox(children=(IntProgress(value=0, max=10), HTML(value='')))"
      ]
     },
     "metadata": {},
     "output_type": "display_data"
    },
    {
     "name": "stdout",
     "output_type": "stream",
     "text": [
      "initial actives:  12 / 500\n",
      "13\n",
      "13\n",
      "homophily:  0.0\n",
      "threshold:  0.42299991414210264\n",
      "fitness mean:  0.04709911989104277\n"
     ]
    },
    {
     "data": {
      "application/vnd.jupyter.widget-view+json": {
       "model_id": "93b23e09dcca44219d1251e812f564d4",
       "version_major": 2,
       "version_minor": 0
      },
      "text/plain": [
       "HBox(children=(IntProgress(value=0, max=10), HTML(value='')))"
      ]
     },
     "metadata": {},
     "output_type": "display_data"
    },
    {
     "name": "stdout",
     "output_type": "stream",
     "text": [
      "initial actives:  316 / 500\n",
      "468\n",
      "489\n",
      "492\n",
      "492\n",
      "homophily:  0.0\n",
      "threshold:  0.8574083992029945\n",
      "fitness mean:  0.04759063131556434\n",
      "\n",
      "\n"
     ]
    },
    {
     "data": {
      "application/vnd.jupyter.widget-view+json": {
       "model_id": "894b9fabb9cc434f8e99b73b06c41968",
       "version_major": 2,
       "version_minor": 0
      },
      "text/plain": [
       "HBox(children=(IntProgress(value=0, max=10), HTML(value='')))"
      ]
     },
     "metadata": {},
     "output_type": "display_data"
    },
    {
     "name": "stdout",
     "output_type": "stream",
     "text": [
      "initial actives:  4 / 500\n",
      "9\n",
      "9\n",
      "homophily:  0.0\n",
      "threshold:  0.23533168722137193\n",
      "fitness mean:  0.05630875688595263\n"
     ]
    },
    {
     "data": {
      "application/vnd.jupyter.widget-view+json": {
       "model_id": "967d95e2ba82439b9e3d977eb2703bb8",
       "version_major": 2,
       "version_minor": 0
      },
      "text/plain": [
       "HBox(children=(IntProgress(value=0, max=10), HTML(value='')))"
      ]
     },
     "metadata": {},
     "output_type": "display_data"
    },
    {
     "name": "stdout",
     "output_type": "stream",
     "text": [
      "initial actives:  377 / 500\n",
      "489\n",
      "494\n",
      "494\n",
      "homophily:  0.0\n",
      "threshold:  0.942990283832206\n",
      "fitness mean:  0.05160267739670698\n",
      "\n",
      "\n"
     ]
    },
    {
     "data": {
      "application/vnd.jupyter.widget-view+json": {
       "model_id": "364132f47bbf40da92fe4678832ef252",
       "version_major": 2,
       "version_minor": 0
      },
      "text/plain": [
       "HBox(children=(IntProgress(value=0, max=10), HTML(value='')))"
      ]
     },
     "metadata": {},
     "output_type": "display_data"
    },
    {
     "name": "stdout",
     "output_type": "stream",
     "text": [
      "initial actives:  5 / 500\n",
      "5\n",
      "\n",
      "homophily:  0.25\n",
      "threshold:  0.08836021932429944\n",
      "fitness mean:  0.044509882553889824\n"
     ]
    },
    {
     "name": "stderr",
     "output_type": "stream",
     "text": [
      "/Users/Cinus/miniconda3/lib/python3.7/site-packages/ipykernel_launcher.py:64: TqdmDeprecationWarning: This function will be removed in tqdm==5.0.0\n",
      "Please use `tqdm.notebook.tqdm` instead of `tqdm.tqdm_notebook`\n"
     ]
    },
    {
     "data": {
      "application/vnd.jupyter.widget-view+json": {
       "model_id": "ae2366c4cdd3443c90c01f7050ee74d8",
       "version_major": 2,
       "version_minor": 0
      },
      "text/plain": [
       "HBox(children=(IntProgress(value=0, max=10), HTML(value='')))"
      ]
     },
     "metadata": {},
     "output_type": "display_data"
    },
    {
     "name": "stdout",
     "output_type": "stream",
     "text": [
      "initial actives:  395 / 500\n",
      "462\n",
      "463\n",
      "463\n",
      "homophily:  0.25\n",
      "threshold:  0.012786601475429978\n",
      "fitness mean:  0.05548218272034853\n"
     ]
    },
    {
     "data": {
      "application/vnd.jupyter.widget-view+json": {
       "model_id": "6ca7260cbc704f1a82e4b92e2f4ec262",
       "version_major": 2,
       "version_minor": 0
      },
      "text/plain": [
       "HBox(children=(IntProgress(value=0, max=10), HTML(value='')))"
      ]
     },
     "metadata": {},
     "output_type": "display_data"
    },
    {
     "name": "stdout",
     "output_type": "stream",
     "text": [
      "initial actives:  493 / 500\n",
      "500\n",
      "500\n",
      "homophily:  0.25\n",
      "threshold:  0.15517499789677916\n",
      "fitness mean:  0.06123226356564536\n",
      "\n",
      "\n"
     ]
    },
    {
     "data": {
      "application/vnd.jupyter.widget-view+json": {
       "model_id": "d899ccaf028744bd982a763f081e02c1",
       "version_major": 2,
       "version_minor": 0
      },
      "text/plain": [
       "HBox(children=(IntProgress(value=0, max=10), HTML(value='')))"
      ]
     },
     "metadata": {},
     "output_type": "display_data"
    },
    {
     "name": "stdout",
     "output_type": "stream",
     "text": [
      "initial actives:  331 / 500\n",
      "419\n",
      "426\n",
      "426\n",
      "homophily:  0.25\n",
      "threshold:  0.2112748004963561\n",
      "fitness mean:  0.04089853320861229\n"
     ]
    },
    {
     "data": {
      "application/vnd.jupyter.widget-view+json": {
       "model_id": "cf1628dcb72b41d2b34d0e3b915381bf",
       "version_major": 2,
       "version_minor": 0
      },
      "text/plain": [
       "HBox(children=(IntProgress(value=0, max=10), HTML(value='')))"
      ]
     },
     "metadata": {},
     "output_type": "display_data"
    },
    {
     "name": "stdout",
     "output_type": "stream",
     "text": [
      "initial actives:  400 / 500\n",
      "490\n",
      "496\n",
      "496\n",
      "homophily:  0.25\n",
      "threshold:  0.0770262607290294\n",
      "fitness mean:  0.050628988488353587\n",
      "\n",
      "\n"
     ]
    },
    {
     "data": {
      "application/vnd.jupyter.widget-view+json": {
       "model_id": "3f1d45b2b95a445ab6d1d437df8aab3a",
       "version_major": 2,
       "version_minor": 0
      },
      "text/plain": [
       "HBox(children=(IntProgress(value=0, max=10), HTML(value='')))"
      ]
     },
     "metadata": {},
     "output_type": "display_data"
    },
    {
     "name": "stdout",
     "output_type": "stream",
     "text": [
      "initial actives:  440 / 500\n",
      "495\n",
      "497\n",
      "497\n",
      "homophily:  0.25\n",
      "threshold:  0.05989218088432824\n",
      "fitness mean:  0.03872060859513859\n"
     ]
    },
    {
     "data": {
      "application/vnd.jupyter.widget-view+json": {
       "model_id": "297bef4e96c94a2696b0836def3b12d6",
       "version_major": 2,
       "version_minor": 0
      },
      "text/plain": [
       "HBox(children=(IntProgress(value=0, max=10), HTML(value='')))"
      ]
     },
     "metadata": {},
     "output_type": "display_data"
    },
    {
     "name": "stdout",
     "output_type": "stream",
     "text": [
      "initial actives:  496 / 500\n",
      "500\n",
      "500\n",
      "homophily:  0.25\n",
      "threshold:  0.0026091325117617455\n",
      "fitness mean:  0.045898903772905585\n",
      "\n",
      "\n"
     ]
    },
    {
     "data": {
      "application/vnd.jupyter.widget-view+json": {
       "model_id": "ac8f120e5e2e4326ab2acae6a8c12b20",
       "version_major": 2,
       "version_minor": 0
      },
      "text/plain": [
       "HBox(children=(IntProgress(value=0, max=10), HTML(value='')))"
      ]
     },
     "metadata": {},
     "output_type": "display_data"
    },
    {
     "name": "stdout",
     "output_type": "stream",
     "text": [
      "initial actives:  500 / 500\n",
      "500\n",
      "homophily:  0.25\n",
      "threshold:  0.1740205114982967\n",
      "fitness mean:  0.036186156006733076\n"
     ]
    },
    {
     "data": {
      "application/vnd.jupyter.widget-view+json": {
       "model_id": "05085b5146344ea0809cd95f9d587754",
       "version_major": 2,
       "version_minor": 0
      },
      "text/plain": [
       "HBox(children=(IntProgress(value=0, max=10), HTML(value='')))"
      ]
     },
     "metadata": {},
     "output_type": "display_data"
    },
    {
     "name": "stdout",
     "output_type": "stream",
     "text": [
      "initial actives:  406 / 500\n",
      "489\n",
      "492\n",
      "492\n",
      "homophily:  0.25\n",
      "threshold:  0.03448821749177827\n",
      "fitness mean:  0.04900481936963361\n",
      "\n",
      "\n"
     ]
    },
    {
     "data": {
      "application/vnd.jupyter.widget-view+json": {
       "model_id": "e562d43de3f34db59d9deb5c49dc7203",
       "version_major": 2,
       "version_minor": 0
      },
      "text/plain": [
       "HBox(children=(IntProgress(value=0, max=10), HTML(value='')))"
      ]
     },
     "metadata": {},
     "output_type": "display_data"
    },
    {
     "name": "stdout",
     "output_type": "stream",
     "text": [
      "initial actives:  488 / 500\n",
      "498\n",
      "498\n",
      "homophily:  0.25\n",
      "threshold:  0.59319464988399\n",
      "fitness mean:  0.04565918600350463\n"
     ]
    },
    {
     "data": {
      "application/vnd.jupyter.widget-view+json": {
       "model_id": "5cc37888aa834dbfbd487f808648c4c8",
       "version_major": 2,
       "version_minor": 0
      },
      "text/plain": [
       "HBox(children=(IntProgress(value=0, max=10), HTML(value='')))"
      ]
     },
     "metadata": {},
     "output_type": "display_data"
    },
    {
     "name": "stdout",
     "output_type": "stream",
     "text": [
      "initial actives:  6 / 500\n",
      "6\n",
      "homophily:  0.25\n",
      "threshold:  0.3786339167663927\n",
      "fitness mean:  0.0541750624603501\n",
      "\n",
      "\n"
     ]
    },
    {
     "data": {
      "application/vnd.jupyter.widget-view+json": {
       "model_id": "cbf103c83bfb4bc2b6f06373b68d0125",
       "version_major": 2,
       "version_minor": 0
      },
      "text/plain": [
       "HBox(children=(IntProgress(value=0, max=10), HTML(value='')))"
      ]
     },
     "metadata": {},
     "output_type": "display_data"
    },
    {
     "name": "stdout",
     "output_type": "stream",
     "text": [
      "initial actives:  83 / 500\n",
      "122\n",
      "130\n",
      "135\n",
      "135\n",
      "homophily:  0.25\n",
      "threshold:  0.5023992689740171\n",
      "fitness mean:  0.036791791845517945\n",
      "\n"
     ]
    },
    {
     "data": {
      "application/vnd.jupyter.widget-view+json": {
       "model_id": "8c05cb5516cd463cace461d68334f62a",
       "version_major": 2,
       "version_minor": 0
      },
      "text/plain": [
       "HBox(children=(IntProgress(value=0, max=10), HTML(value='')))"
      ]
     },
     "metadata": {},
     "output_type": "display_data"
    },
    {
     "name": "stdout",
     "output_type": "stream",
     "text": [
      "initial actives:  41 / 500\n",
      "56\n",
      "58\n",
      "58\n",
      "homophily:  0.25\n",
      "threshold:  0.6845284784473633\n",
      "fitness mean:  0.03776504975174967\n"
     ]
    },
    {
     "data": {
      "application/vnd.jupyter.widget-view+json": {
       "model_id": "4f5c37cba9374e519075fa4a384b6eee",
       "version_major": 2,
       "version_minor": 0
      },
      "text/plain": [
       "HBox(children=(IntProgress(value=0, max=10), HTML(value='')))"
      ]
     },
     "metadata": {},
     "output_type": "display_data"
    },
    {
     "name": "stdout",
     "output_type": "stream",
     "text": [
      "initial actives:  13 / 500\n",
      "13\n",
      "homophily:  0.25\n",
      "threshold:  0.5527689754596007\n",
      "fitness mean:  0.058644418185499855\n",
      "\n",
      "\n"
     ]
    },
    {
     "data": {
      "application/vnd.jupyter.widget-view+json": {
       "model_id": "a4cfec097190459894ac46341f15a481",
       "version_major": 2,
       "version_minor": 0
      },
      "text/plain": [
       "HBox(children=(IntProgress(value=0, max=10), HTML(value='')))"
      ]
     },
     "metadata": {},
     "output_type": "display_data"
    },
    {
     "name": "stdout",
     "output_type": "stream",
     "text": [
      "initial actives:  40 / 500\n",
      "70\n",
      "84\n",
      "90\n",
      "91\n",
      "91\n",
      "homophily:  0.25\n",
      "threshold:  0.756948440533588\n",
      "fitness mean:  0.05207173273446212\n"
     ]
    },
    {
     "data": {
      "application/vnd.jupyter.widget-view+json": {
       "model_id": "9d756e97f51b4b839b8588560849b693",
       "version_major": 2,
       "version_minor": 0
      },
      "text/plain": [
       "HBox(children=(IntProgress(value=0, max=10), HTML(value='')))"
      ]
     },
     "metadata": {},
     "output_type": "display_data"
    },
    {
     "name": "stdout",
     "output_type": "stream",
     "text": [
      "initial actives:  13 / 500\n",
      "13\n",
      "homophily:  0.25\n",
      "threshold:  0.9201352547141085\n",
      "fitness mean:  0.046576939696939906\n",
      "\n",
      "\n"
     ]
    },
    {
     "data": {
      "application/vnd.jupyter.widget-view+json": {
       "model_id": "537453f4e5904153a91ec32601436d33",
       "version_major": 2,
       "version_minor": 0
      },
      "text/plain": [
       "HBox(children=(IntProgress(value=0, max=10), HTML(value='')))"
      ]
     },
     "metadata": {},
     "output_type": "display_data"
    },
    {
     "name": "stdout",
     "output_type": "stream",
     "text": [
      "initial actives:  0 / 500\n",
      "0\n",
      "homophily:  0.25\n",
      "threshold:  0.21561248733234695\n",
      "fitness mean:  0.04969400535693444\n"
     ]
    },
    {
     "data": {
      "application/vnd.jupyter.widget-view+json": {
       "model_id": "ec9eb2d7db1f4c0ca961b3e3bb2f9ca0",
       "version_major": 2,
       "version_minor": 0
      },
      "text/plain": [
       "HBox(children=(IntProgress(value=0, max=10), HTML(value='')))"
      ]
     },
     "metadata": {},
     "output_type": "display_data"
    },
    {
     "name": "stdout",
     "output_type": "stream",
     "text": [
      "initial actives:  456 / 500\n",
      "496\n",
      "496\n",
      "homophily:  0.25\n",
      "threshold:  0.7571368030572447\n",
      "fitness mean:  0.05528046961024215\n",
      "\n",
      "\n"
     ]
    },
    {
     "data": {
      "application/vnd.jupyter.widget-view+json": {
       "model_id": "ca2c7e22ed19492ea6408c9106c7a196",
       "version_major": 2,
       "version_minor": 0
      },
      "text/plain": [
       "HBox(children=(IntProgress(value=0, max=10), HTML(value='')))"
      ]
     },
     "metadata": {},
     "output_type": "display_data"
    },
    {
     "name": "stdout",
     "output_type": "stream",
     "text": [
      "initial actives:  16 / 500\n",
      "21\n",
      "21\n",
      "homophily:  0.25\n",
      "threshold:  0.1073364717966584\n",
      "fitness mean:  0.04250762053527408\n"
     ]
    },
    {
     "data": {
      "application/vnd.jupyter.widget-view+json": {
       "model_id": "f6ef191482e54c6c8371337d7b75c916",
       "version_major": 2,
       "version_minor": 0
      },
      "text/plain": [
       "HBox(children=(IntProgress(value=0, max=10), HTML(value='')))"
      ]
     },
     "metadata": {},
     "output_type": "display_data"
    },
    {
     "name": "stdout",
     "output_type": "stream",
     "text": [
      "initial actives:  441 / 500\n",
      "494\n",
      "494\n",
      "homophily:  0.25\n",
      "threshold:  0.4128624075291677\n",
      "fitness mean:  0.04348762119794792\n",
      "\n",
      "\n"
     ]
    },
    {
     "data": {
      "application/vnd.jupyter.widget-view+json": {
       "model_id": "198eb310a11440d192958c7f02db7a80",
       "version_major": 2,
       "version_minor": 0
      },
      "text/plain": [
       "HBox(children=(IntProgress(value=0, max=10), HTML(value='')))"
      ]
     },
     "metadata": {},
     "output_type": "display_data"
    },
    {
     "name": "stdout",
     "output_type": "stream",
     "text": [
      "initial actives:  7 / 500\n",
      "7\n",
      "homophily:  0.25\n",
      "threshold:  0.6307766352541352\n",
      "fitness mean:  0.05432723635141292\n"
     ]
    },
    {
     "data": {
      "application/vnd.jupyter.widget-view+json": {
       "model_id": "f23fe1688f9e4fe084b7e4c98e64035d",
       "version_major": 2,
       "version_minor": 0
      },
      "text/plain": [
       "HBox(children=(IntProgress(value=0, max=10), HTML(value='')))"
      ]
     },
     "metadata": {},
     "output_type": "display_data"
    },
    {
     "name": "stdout",
     "output_type": "stream",
     "text": [
      "initial actives:  17 / 500\n",
      "27\n",
      "27\n",
      "homophily:  0.25\n",
      "threshold:  0.3205606991992105\n",
      "fitness mean:  0.04125531380891343\n",
      "\n",
      "\n"
     ]
    },
    {
     "data": {
      "application/vnd.jupyter.widget-view+json": {
       "model_id": "b5d923a9c3c3473f9815cd48c801d8c0",
       "version_major": 2,
       "version_minor": 0
      },
      "text/plain": [
       "HBox(children=(IntProgress(value=0, max=10), HTML(value='')))"
      ]
     },
     "metadata": {},
     "output_type": "display_data"
    },
    {
     "name": "stdout",
     "output_type": "stream",
     "text": [
      "initial actives:  200 / 500\n",
      "337\n",
      "397\n",
      "426\n",
      "432\n",
      "432\n",
      "homophily:  0.25\n",
      "threshold:  0.8325371441059001\n",
      "fitness mean:  0.041743072882825784\n"
     ]
    },
    {
     "data": {
      "application/vnd.jupyter.widget-view+json": {
       "model_id": "56ae7ce40c9c46c4a464487136126994",
       "version_major": 2,
       "version_minor": 0
      },
      "text/plain": [
       "HBox(children=(IntProgress(value=0, max=10), HTML(value='')))"
      ]
     },
     "metadata": {},
     "output_type": "display_data"
    },
    {
     "name": "stdout",
     "output_type": "stream",
     "text": [
      "initial actives:  4 / 500\n",
      "4\n",
      "homophily:  0.25\n",
      "threshold:  0.8975170862742674\n",
      "fitness mean:  0.05194261736842115\n",
      "\n",
      "\n"
     ]
    },
    {
     "data": {
      "application/vnd.jupyter.widget-view+json": {
       "model_id": "c7883b8134db4655ba92265e5a4aeac6",
       "version_major": 2,
       "version_minor": 0
      },
      "text/plain": [
       "HBox(children=(IntProgress(value=0, max=10), HTML(value='')))"
      ]
     },
     "metadata": {},
     "output_type": "display_data"
    },
    {
     "name": "stdout",
     "output_type": "stream",
     "text": [
      "initial actives:  1 / 500\n",
      "1\n",
      "homophily:  0.25\n",
      "threshold:  0.6151068804657345\n",
      "fitness mean:  0.05415452573493004\n"
     ]
    },
    {
     "data": {
      "application/vnd.jupyter.widget-view+json": {
       "model_id": "da761dd286954a7b8ed47b8db8caa872",
       "version_major": 2,
       "version_minor": 0
      },
      "text/plain": [
       "HBox(children=(IntProgress(value=0, max=10), HTML(value='')))"
      ]
     },
     "metadata": {},
     "output_type": "display_data"
    },
    {
     "name": "stdout",
     "output_type": "stream",
     "text": [
      "initial actives:  19 / 500\n",
      "23\n",
      "24\n",
      "24\n",
      "homophily:  0.25\n",
      "threshold:  0.935001036017805\n",
      "fitness mean:  0.0465253518499775\n"
     ]
    },
    {
     "data": {
      "application/vnd.jupyter.widget-view+json": {
       "model_id": "d1e0966fd1fb4b71947bf3062275bf76",
       "version_major": 2,
       "version_minor": 0
      },
      "text/plain": [
       "HBox(children=(IntProgress(value=0, max=10), HTML(value='')))"
      ]
     },
     "metadata": {},
     "output_type": "display_data"
    },
    {
     "name": "stdout",
     "output_type": "stream",
     "text": [
      "initial actives:  0 / 500\n",
      "0\n",
      "homophily:  0.25\n",
      "threshold:  0.19728295745698907\n",
      "fitness mean:  0.05121168274836573\n"
     ]
    },
    {
     "data": {
      "application/vnd.jupyter.widget-view+json": {
       "model_id": "5b8557285fb44d60bb2febf5d25ca017",
       "version_major": 2,
       "version_minor": 0
      },
      "text/plain": [
       "HBox(children=(IntProgress(value=0, max=10), HTML(value='')))"
      ]
     },
     "metadata": {},
     "output_type": "display_data"
    },
    {
     "name": "stdout",
     "output_type": "stream",
     "text": [
      "initial actives:  462 / 500\n",
      "497\n",
      "497\n",
      "homophily:  0.25\n",
      "threshold:  0.8195574813086867\n",
      "fitness mean:  0.054708917520278275\n",
      "\n",
      "\n"
     ]
    },
    {
     "data": {
      "application/vnd.jupyter.widget-view+json": {
       "model_id": "0c5f04074ad445619b2a6c81a21e7281",
       "version_major": 2,
       "version_minor": 0
      },
      "text/plain": [
       "HBox(children=(IntProgress(value=0, max=10), HTML(value='')))"
      ]
     },
     "metadata": {},
     "output_type": "display_data"
    },
    {
     "name": "stdout",
     "output_type": "stream",
     "text": [
      "initial actives:  8 / 500\n",
      "9\n",
      "9\n",
      "homophily:  0.25\n",
      "threshold:  0.7156668863357522\n",
      "fitness mean:  0.041151166724034405\n"
     ]
    },
    {
     "data": {
      "application/vnd.jupyter.widget-view+json": {
       "model_id": "3c8055850a704dc29ee573b94e550b53",
       "version_major": 2,
       "version_minor": 0
      },
      "text/plain": [
       "HBox(children=(IntProgress(value=0, max=10), HTML(value='')))"
      ]
     },
     "metadata": {},
     "output_type": "display_data"
    },
    {
     "name": "stdout",
     "output_type": "stream",
     "text": [
      "initial actives:  32 / 500\n",
      "121\n",
      "290\n",
      "382\n",
      "417\n",
      "422\n",
      "423\n",
      "423\n",
      "homophily:  0.25\n",
      "threshold:  0.9542870530815175\n",
      "fitness mean:  0.039656592269476654\n",
      "\n",
      "\n"
     ]
    },
    {
     "data": {
      "application/vnd.jupyter.widget-view+json": {
       "model_id": "9ba90ef7351a42db82af715002eec98d",
       "version_major": 2,
       "version_minor": 0
      },
      "text/plain": [
       "HBox(children=(IntProgress(value=0, max=10), HTML(value='')))"
      ]
     },
     "metadata": {},
     "output_type": "display_data"
    },
    {
     "name": "stdout",
     "output_type": "stream",
     "text": [
      "initial actives:  5 / 500\n",
      "5\n",
      "homophily:  0.25\n",
      "threshold:  0.8676745574630762\n",
      "fitness mean:  0.04654554607292043\n"
     ]
    },
    {
     "data": {
      "application/vnd.jupyter.widget-view+json": {
       "model_id": "2410002514fc434497dbf05da3e8f2d0",
       "version_major": 2,
       "version_minor": 0
      },
      "text/plain": [
       "HBox(children=(IntProgress(value=0, max=10), HTML(value='')))"
      ]
     },
     "metadata": {},
     "output_type": "display_data"
    },
    {
     "name": "stdout",
     "output_type": "stream",
     "text": [
      "initial actives:  4 / 500\n",
      "4\n",
      "homophily:  0.25\n",
      "threshold:  0.8128395233734506\n",
      "fitness mean:  0.047859585427723186\n",
      "\n",
      "\n"
     ]
    },
    {
     "data": {
      "application/vnd.jupyter.widget-view+json": {
       "model_id": "88852421c4514eaa8874cb7c3154ac12",
       "version_major": 2,
       "version_minor": 0
      },
      "text/plain": [
       "HBox(children=(IntProgress(value=0, max=10), HTML(value='')))"
      ]
     },
     "metadata": {},
     "output_type": "display_data"
    },
    {
     "name": "stdout",
     "output_type": "stream",
     "text": [
      "initial actives:  7 / 500\n",
      "7\n",
      "homophily:  0.25\n",
      "threshold:  0.8515038665221333\n",
      "fitness mean:  0.037161348420889015\n"
     ]
    },
    {
     "data": {
      "application/vnd.jupyter.widget-view+json": {
       "model_id": "30b7c09f415c45c69d1e691eafbdef33",
       "version_major": 2,
       "version_minor": 0
      },
      "text/plain": [
       "HBox(children=(IntProgress(value=0, max=10), HTML(value='')))"
      ]
     },
     "metadata": {},
     "output_type": "display_data"
    },
    {
     "name": "stdout",
     "output_type": "stream",
     "text": [
      "initial actives:  3 / 500\n",
      "5\n",
      "5\n",
      "homophily:  0.25\n",
      "threshold:  0.9099959690529262\n",
      "fitness mean:  0.05392354557771953\n",
      "\n",
      "\n"
     ]
    },
    {
     "data": {
      "application/vnd.jupyter.widget-view+json": {
       "model_id": "dcf99c18561c420c8cfce913a15a8965",
       "version_major": 2,
       "version_minor": 0
      },
      "text/plain": [
       "HBox(children=(IntProgress(value=0, max=10), HTML(value='')))"
      ]
     },
     "metadata": {},
     "output_type": "display_data"
    },
    {
     "name": "stdout",
     "output_type": "stream",
     "text": [
      "initial actives:  1 / 500\n",
      "1\n",
      "homophily:  0.25\n",
      "threshold:  0.716300937515273\n",
      "fitness mean:  0.045846267142531746\n"
     ]
    },
    {
     "data": {
      "application/vnd.jupyter.widget-view+json": {
       "model_id": "831537a4a61647389b8c15275683eb30",
       "version_major": 2,
       "version_minor": 0
      },
      "text/plain": [
       "HBox(children=(IntProgress(value=0, max=10), HTML(value='')))"
      ]
     },
     "metadata": {},
     "output_type": "display_data"
    },
    {
     "name": "stdout",
     "output_type": "stream",
     "text": [
      "initial actives:  16 / 500\n",
      "20\n",
      "21\n",
      "21\n",
      "homophily:  0.25\n",
      "threshold:  0.9377479784148622\n",
      "fitness mean:  0.05234099331072945\n",
      "\n",
      "\n"
     ]
    },
    {
     "data": {
      "application/vnd.jupyter.widget-view+json": {
       "model_id": "35993713fd3848beb8f8fb548808802c",
       "version_major": 2,
       "version_minor": 0
      },
      "text/plain": [
       "HBox(children=(IntProgress(value=0, max=10), HTML(value='')))"
      ]
     },
     "metadata": {},
     "output_type": "display_data"
    },
    {
     "name": "stdout",
     "output_type": "stream",
     "text": [
      "initial actives:  0 / 500\n",
      "0\n",
      "homophily:  0.25\n",
      "threshold:  0.2835857640845832\n",
      "fitness mean:  0.055705622924158545\n"
     ]
    },
    {
     "data": {
      "application/vnd.jupyter.widget-view+json": {
       "model_id": "2129a1232cff4c27bebf6a9a37d1e2b6",
       "version_major": 2,
       "version_minor": 0
      },
      "text/plain": [
       "HBox(children=(IntProgress(value=0, max=10), HTML(value='')))"
      ]
     },
     "metadata": {},
     "output_type": "display_data"
    },
    {
     "name": "stdout",
     "output_type": "stream",
     "text": [
      "initial actives:  414 / 500\n",
      "491\n",
      "496\n",
      "496\n",
      "homophily:  0.25\n",
      "threshold:  0.902608140169624\n",
      "fitness mean:  0.051641694766533165\n",
      "\n",
      "\n"
     ]
    },
    {
     "data": {
      "application/vnd.jupyter.widget-view+json": {
       "model_id": "bd5ae5180bb94a19973fc392f5bedfb5",
       "version_major": 2,
       "version_minor": 0
      },
      "text/plain": [
       "HBox(children=(IntProgress(value=0, max=10), HTML(value='')))"
      ]
     },
     "metadata": {},
     "output_type": "display_data"
    },
    {
     "name": "stdout",
     "output_type": "stream",
     "text": [
      "initial actives:  2 / 500\n",
      "2\n",
      "homophily:  0.25\n",
      "threshold:  0.3676058853301621\n",
      "fitness mean:  0.05011552583915867\n"
     ]
    },
    {
     "data": {
      "application/vnd.jupyter.widget-view+json": {
       "model_id": "bce99f843a464d0591a0af9dfb5b4b76",
       "version_major": 2,
       "version_minor": 0
      },
      "text/plain": [
       "HBox(children=(IntProgress(value=0, max=10), HTML(value='')))"
      ]
     },
     "metadata": {},
     "output_type": "display_data"
    },
    {
     "name": "stdout",
     "output_type": "stream",
     "text": [
      "initial actives:  181 / 500\n",
      "398\n",
      "471\n",
      "476\n",
      "476\n",
      "homophily:  0.25\n",
      "threshold:  0.41737939643158745\n",
      "fitness mean:  0.03636851009123194\n",
      "\n",
      "\n"
     ]
    },
    {
     "data": {
      "application/vnd.jupyter.widget-view+json": {
       "model_id": "ccc5da6453a245de8e2cc1af168de685",
       "version_major": 2,
       "version_minor": 0
      },
      "text/plain": [
       "HBox(children=(IntProgress(value=0, max=10), HTML(value='')))"
      ]
     },
     "metadata": {},
     "output_type": "display_data"
    },
    {
     "name": "stdout",
     "output_type": "stream",
     "text": [
      "initial actives:  7 / 500\n",
      "7\n",
      "\n",
      "homophily:  0.5\n",
      "threshold:  0.03870450179619973\n",
      "fitness mean:  0.0365892733062278\n"
     ]
    },
    {
     "name": "stderr",
     "output_type": "stream",
     "text": [
      "/Users/Cinus/miniconda3/lib/python3.7/site-packages/ipykernel_launcher.py:64: TqdmDeprecationWarning: This function will be removed in tqdm==5.0.0\n",
      "Please use `tqdm.notebook.tqdm` instead of `tqdm.tqdm_notebook`\n"
     ]
    },
    {
     "data": {
      "application/vnd.jupyter.widget-view+json": {
       "model_id": "41d167d3fdd6481b8d86aacd1332f06a",
       "version_major": 2,
       "version_minor": 0
      },
      "text/plain": [
       "HBox(children=(IntProgress(value=0, max=10), HTML(value='')))"
      ]
     },
     "metadata": {},
     "output_type": "display_data"
    },
    {
     "name": "stdout",
     "output_type": "stream",
     "text": [
      "initial actives:  438 / 500\n",
      "474\n",
      "475\n",
      "475\n",
      "homophily:  0.5\n",
      "threshold:  0.2827377318938383\n",
      "fitness mean:  0.045747542911795724\n"
     ]
    },
    {
     "data": {
      "application/vnd.jupyter.widget-view+json": {
       "model_id": "f0a47531e83245f6879a2f4d5d1eaedc",
       "version_major": 2,
       "version_minor": 0
      },
      "text/plain": [
       "HBox(children=(IntProgress(value=0, max=10), HTML(value='')))"
      ]
     },
     "metadata": {},
     "output_type": "display_data"
    },
    {
     "name": "stdout",
     "output_type": "stream",
     "text": [
      "initial actives:  246 / 500\n",
      "357\n",
      "420\n",
      "435\n",
      "440\n",
      "440\n",
      "homophily:  0.5\n",
      "threshold:  0.02925716791099779\n",
      "fitness mean:  0.055034430069228424\n",
      "\n",
      "\n"
     ]
    },
    {
     "data": {
      "application/vnd.jupyter.widget-view+json": {
       "model_id": "fb4ea5d52ba74219b1e0b903c5a7889a",
       "version_major": 2,
       "version_minor": 0
      },
      "text/plain": [
       "HBox(children=(IntProgress(value=0, max=10), HTML(value='')))"
      ]
     },
     "metadata": {},
     "output_type": "display_data"
    },
    {
     "name": "stdout",
     "output_type": "stream",
     "text": [
      "initial actives:  443 / 500\n",
      "474\n",
      "474\n",
      "homophily:  0.5\n",
      "threshold:  0.35280835254652343\n",
      "fitness mean:  0.05324490887417308\n"
     ]
    },
    {
     "data": {
      "application/vnd.jupyter.widget-view+json": {
       "model_id": "edb6a1c6c45b44b9bf058677bdc497d5",
       "version_major": 2,
       "version_minor": 0
      },
      "text/plain": [
       "HBox(children=(IntProgress(value=0, max=10), HTML(value='')))"
      ]
     },
     "metadata": {},
     "output_type": "display_data"
    },
    {
     "name": "stdout",
     "output_type": "stream",
     "text": [
      "initial actives:  246 / 500\n",
      "367\n",
      "405\n",
      "411\n",
      "412\n",
      "412\n",
      "homophily:  0.5\n",
      "threshold:  0.008792652953891587\n",
      "fitness mean:  0.04976542582425316\n",
      "\n",
      "\n"
     ]
    },
    {
     "data": {
      "application/vnd.jupyter.widget-view+json": {
       "model_id": "0001c66e82a343f593eb0dd40fe448f3",
       "version_major": 2,
       "version_minor": 0
      },
      "text/plain": [
       "HBox(children=(IntProgress(value=0, max=10), HTML(value='')))"
      ]
     },
     "metadata": {},
     "output_type": "display_data"
    },
    {
     "name": "stdout",
     "output_type": "stream",
     "text": [
      "initial actives:  491 / 500\n",
      "498\n",
      "498\n",
      "homophily:  0.5\n",
      "threshold:  0.005404927237876812\n",
      "fitness mean:  0.04734854530454777\n"
     ]
    },
    {
     "data": {
      "application/vnd.jupyter.widget-view+json": {
       "model_id": "f0f19db061dc4a2da8d632a4d3e4ea43",
       "version_major": 2,
       "version_minor": 0
      },
      "text/plain": [
       "HBox(children=(IntProgress(value=0, max=10), HTML(value='')))"
      ]
     },
     "metadata": {},
     "output_type": "display_data"
    },
    {
     "name": "stdout",
     "output_type": "stream",
     "text": [
      "initial actives:  500 / 500\n",
      "500\n",
      "homophily:  0.5\n",
      "threshold:  0.7416492864147453\n",
      "fitness mean:  0.05390753927823553\n",
      "\n",
      "\n"
     ]
    },
    {
     "data": {
      "application/vnd.jupyter.widget-view+json": {
       "model_id": "c092d8ecf79341628cc32a221fe1c6a7",
       "version_major": 2,
       "version_minor": 0
      },
      "text/plain": [
       "HBox(children=(IntProgress(value=0, max=10), HTML(value='')))"
      ]
     },
     "metadata": {},
     "output_type": "display_data"
    },
    {
     "name": "stdout",
     "output_type": "stream",
     "text": [
      "initial actives:  30 / 500\n",
      "46\n",
      "47\n",
      "47\n",
      "homophily:  0.5\n",
      "threshold:  0.014867649305982358\n",
      "fitness mean:  0.04084668086727042\n"
     ]
    },
    {
     "data": {
      "application/vnd.jupyter.widget-view+json": {
       "model_id": "bfa319917ae74dfa9e781abbbe7ebdb9",
       "version_major": 2,
       "version_minor": 0
      },
      "text/plain": [
       "HBox(children=(IntProgress(value=0, max=10), HTML(value='')))"
      ]
     },
     "metadata": {},
     "output_type": "display_data"
    },
    {
     "name": "stdout",
     "output_type": "stream",
     "text": [
      "initial actives:  497 / 500\n",
      "500\n",
      "500\n",
      "homophily:  0.5\n",
      "threshold:  0.13745253742752972\n",
      "fitness mean:  0.05615060490791681\n",
      "\n",
      "\n"
     ]
    },
    {
     "data": {
      "application/vnd.jupyter.widget-view+json": {
       "model_id": "748a9c02e29c431fbcb679cde02e4d09",
       "version_major": 2,
       "version_minor": 0
      },
      "text/plain": [
       "HBox(children=(IntProgress(value=0, max=10), HTML(value='')))"
      ]
     },
     "metadata": {},
     "output_type": "display_data"
    },
    {
     "name": "stdout",
     "output_type": "stream",
     "text": [
      "initial actives:  445 / 500\n",
      "489\n",
      "489\n",
      "homophily:  0.5\n",
      "threshold:  0.008452352909803054\n",
      "fitness mean:  0.05153230845693059\n"
     ]
    },
    {
     "data": {
      "application/vnd.jupyter.widget-view+json": {
       "model_id": "71ad6839ec4c479986c2a4604c99d8fb",
       "version_major": 2,
       "version_minor": 0
      },
      "text/plain": [
       "HBox(children=(IntProgress(value=0, max=10), HTML(value='')))"
      ]
     },
     "metadata": {},
     "output_type": "display_data"
    },
    {
     "name": "stdout",
     "output_type": "stream",
     "text": [
      "initial actives:  482 / 500\n",
      "497\n",
      "497\n",
      "homophily:  0.5\n",
      "threshold:  0.8586524915695627\n",
      "fitness mean:  0.04678378522953825\n",
      "\n",
      "\n"
     ]
    },
    {
     "data": {
      "application/vnd.jupyter.widget-view+json": {
       "model_id": "527938818bdb40adbd08b8c62c41dc91",
       "version_major": 2,
       "version_minor": 0
      },
      "text/plain": [
       "HBox(children=(IntProgress(value=0, max=10), HTML(value='')))"
      ]
     },
     "metadata": {},
     "output_type": "display_data"
    },
    {
     "name": "stdout",
     "output_type": "stream",
     "text": [
      "initial actives:  5 / 500\n",
      "5\n",
      "homophily:  0.5\n",
      "threshold:  0.9994211231092643\n",
      "fitness mean:  0.055769081492042516\n"
     ]
    },
    {
     "data": {
      "application/vnd.jupyter.widget-view+json": {
       "model_id": "d7c852ba729d45579327c5952d2a4707",
       "version_major": 2,
       "version_minor": 0
      },
      "text/plain": [
       "HBox(children=(IntProgress(value=0, max=10), HTML(value='')))"
      ]
     },
     "metadata": {},
     "output_type": "display_data"
    },
    {
     "name": "stdout",
     "output_type": "stream",
     "text": [
      "initial actives:  0 / 500\n",
      "0\n",
      "homophily:  0.5\n",
      "threshold:  0.9849123753116976\n",
      "fitness mean:  0.047636506628171774\n",
      "\n",
      "\n"
     ]
    },
    {
     "data": {
      "application/vnd.jupyter.widget-view+json": {
       "model_id": "4fba0cf0dfb944fe98ff00d17ff2867a",
       "version_major": 2,
       "version_minor": 0
      },
      "text/plain": [
       "HBox(children=(IntProgress(value=0, max=10), HTML(value='')))"
      ]
     },
     "metadata": {},
     "output_type": "display_data"
    },
    {
     "name": "stdout",
     "output_type": "stream",
     "text": [
      "initial actives:  3 / 500\n",
      "3\n",
      "homophily:  0.5\n",
      "threshold:  0.38143276491916633\n",
      "fitness mean:  0.045402168846881724\n"
     ]
    },
    {
     "data": {
      "application/vnd.jupyter.widget-view+json": {
       "model_id": "0f52125a51a74c8991c0e2d4b538241a",
       "version_major": 2,
       "version_minor": 0
      },
      "text/plain": [
       "HBox(children=(IntProgress(value=0, max=10), HTML(value='')))"
      ]
     },
     "metadata": {},
     "output_type": "display_data"
    },
    {
     "name": "stdout",
     "output_type": "stream",
     "text": [
      "initial actives:  211 / 500\n",
      "328\n",
      "375\n",
      "386\n",
      "388\n",
      "388\n",
      "homophily:  0.5\n",
      "threshold:  0.2090424113992304\n",
      "fitness mean:  0.049177760736997894\n",
      "\n",
      "\n"
     ]
    },
    {
     "data": {
      "application/vnd.jupyter.widget-view+json": {
       "model_id": "40d62c8898eb4568890b912144ddd8f9",
       "version_major": 2,
       "version_minor": 0
      },
      "text/plain": [
       "HBox(children=(IntProgress(value=0, max=10), HTML(value='')))"
      ]
     },
     "metadata": {},
     "output_type": "display_data"
    },
    {
     "name": "stdout",
     "output_type": "stream",
     "text": [
      "initial actives:  328 / 500\n",
      "431\n",
      "454\n",
      "459\n",
      "459\n",
      "homophily:  0.5\n",
      "threshold:  0.709209638658339\n",
      "fitness mean:  0.035744004219181204\n"
     ]
    },
    {
     "data": {
      "application/vnd.jupyter.widget-view+json": {
       "model_id": "04017a80748044b09a571cac417b415d",
       "version_major": 2,
       "version_minor": 0
      },
      "text/plain": [
       "HBox(children=(IntProgress(value=0, max=10), HTML(value='')))"
      ]
     },
     "metadata": {},
     "output_type": "display_data"
    },
    {
     "name": "stdout",
     "output_type": "stream",
     "text": [
      "initial actives:  15 / 500\n",
      "15\n",
      "homophily:  0.5\n",
      "threshold:  0.31577479832153266\n",
      "fitness mean:  0.04404075349693128\n",
      "\n",
      "\n"
     ]
    },
    {
     "data": {
      "application/vnd.jupyter.widget-view+json": {
       "model_id": "e10a5405e5d64542b7fa83c4a623314d",
       "version_major": 2,
       "version_minor": 0
      },
      "text/plain": [
       "HBox(children=(IntProgress(value=0, max=10), HTML(value='')))"
      ]
     },
     "metadata": {},
     "output_type": "display_data"
    },
    {
     "name": "stdout",
     "output_type": "stream",
     "text": [
      "initial actives:  391 / 500\n",
      "489\n",
      "493\n",
      "493\n",
      "homophily:  0.5\n",
      "threshold:  0.3630244889655636\n",
      "fitness mean:  0.05216662298798162\n"
     ]
    },
    {
     "data": {
      "application/vnd.jupyter.widget-view+json": {
       "model_id": "0c9e611720884d1a809c3d1d9b6f99bc",
       "version_major": 2,
       "version_minor": 0
      },
      "text/plain": [
       "HBox(children=(IntProgress(value=0, max=10), HTML(value='')))"
      ]
     },
     "metadata": {},
     "output_type": "display_data"
    },
    {
     "name": "stdout",
     "output_type": "stream",
     "text": [
      "initial actives:  232 / 500\n",
      "387\n",
      "452\n",
      "461\n",
      "461\n",
      "homophily:  0.5\n",
      "threshold:  0.29164687237116693\n",
      "fitness mean:  0.05512385134440656\n",
      "\n",
      "\n"
     ]
    },
    {
     "data": {
      "application/vnd.jupyter.widget-view+json": {
       "model_id": "c4c0c87c028b44e386dc78f94cfeb0f7",
       "version_major": 2,
       "version_minor": 0
      },
      "text/plain": [
       "HBox(children=(IntProgress(value=0, max=10), HTML(value='')))"
      ]
     },
     "metadata": {},
     "output_type": "display_data"
    },
    {
     "name": "stdout",
     "output_type": "stream",
     "text": [
      "initial actives:  383 / 500\n",
      "466\n",
      "475\n",
      "475\n",
      "homophily:  0.5\n",
      "threshold:  0.45151389387200125\n",
      "fitness mean:  0.04268648031279352\n"
     ]
    },
    {
     "data": {
      "application/vnd.jupyter.widget-view+json": {
       "model_id": "096239fd9b1a4d2e9dc7fbc8caf5f86b",
       "version_major": 2,
       "version_minor": 0
      },
      "text/plain": [
       "HBox(children=(IntProgress(value=0, max=10), HTML(value='')))"
      ]
     },
     "metadata": {},
     "output_type": "display_data"
    },
    {
     "name": "stdout",
     "output_type": "stream",
     "text": [
      "initial actives:  6 / 500\n",
      "6\n",
      "homophily:  0.5\n",
      "threshold:  0.9631815266580834\n",
      "fitness mean:  0.042966780411037846\n",
      "\n",
      "\n"
     ]
    },
    {
     "data": {
      "application/vnd.jupyter.widget-view+json": {
       "model_id": "40ade76dd61e40bf82874ae6c1e3bd63",
       "version_major": 2,
       "version_minor": 0
      },
      "text/plain": [
       "HBox(children=(IntProgress(value=0, max=10), HTML(value='')))"
      ]
     },
     "metadata": {},
     "output_type": "display_data"
    },
    {
     "name": "stdout",
     "output_type": "stream",
     "text": [
      "initial actives:  3 / 500\n",
      "3\n",
      "homophily:  0.5\n",
      "threshold:  0.7625263155728149\n",
      "fitness mean:  0.03421680972578537\n"
     ]
    },
    {
     "data": {
      "application/vnd.jupyter.widget-view+json": {
       "model_id": "48cf478f8b904e5eb1ea002e073782c0",
       "version_major": 2,
       "version_minor": 0
      },
      "text/plain": [
       "HBox(children=(IntProgress(value=0, max=10), HTML(value='')))"
      ]
     },
     "metadata": {},
     "output_type": "display_data"
    },
    {
     "name": "stdout",
     "output_type": "stream",
     "text": [
      "initial actives:  13 / 500\n",
      "14\n",
      "14\n",
      "homophily:  0.5\n",
      "threshold:  0.8504944046229809\n",
      "fitness mean:  0.04947435508605348\n",
      "\n",
      "\n"
     ]
    },
    {
     "data": {
      "application/vnd.jupyter.widget-view+json": {
       "model_id": "c1095774f1bb408fae860ba36f1d0e5e",
       "version_major": 2,
       "version_minor": 0
      },
      "text/plain": [
       "HBox(children=(IntProgress(value=0, max=10), HTML(value='')))"
      ]
     },
     "metadata": {},
     "output_type": "display_data"
    },
    {
     "name": "stdout",
     "output_type": "stream",
     "text": [
      "initial actives:  5 / 500\n",
      "5\n",
      "homophily:  0.5\n",
      "threshold:  0.8748216453777811\n",
      "fitness mean:  0.057365716417371\n"
     ]
    },
    {
     "data": {
      "application/vnd.jupyter.widget-view+json": {
       "model_id": "3481e4e451234e25a1f0486ddb566bd2",
       "version_major": 2,
       "version_minor": 0
      },
      "text/plain": [
       "HBox(children=(IntProgress(value=0, max=10), HTML(value='')))"
      ]
     },
     "metadata": {},
     "output_type": "display_data"
    },
    {
     "name": "stdout",
     "output_type": "stream",
     "text": [
      "initial actives:  0 / 500\n",
      "0\n",
      "homophily:  0.5\n",
      "threshold:  0.5445991500903531\n",
      "fitness mean:  0.051932484046057624\n",
      "\n",
      "\n"
     ]
    },
    {
     "data": {
      "application/vnd.jupyter.widget-view+json": {
       "model_id": "a9a0a1005a6d49889d94c5fff728047f",
       "version_major": 2,
       "version_minor": 0
      },
      "text/plain": [
       "HBox(children=(IntProgress(value=0, max=10), HTML(value='')))"
      ]
     },
     "metadata": {},
     "output_type": "display_data"
    },
    {
     "name": "stdout",
     "output_type": "stream",
     "text": [
      "initial actives:  31 / 500\n",
      "46\n",
      "57\n",
      "63\n",
      "65\n",
      "65\n",
      "homophily:  0.5\n",
      "threshold:  0.8241370272959118\n",
      "fitness mean:  0.048735215719677684\n"
     ]
    },
    {
     "data": {
      "application/vnd.jupyter.widget-view+json": {
       "model_id": "ff801b9d124b44188ae246b71708ef10",
       "version_major": 2,
       "version_minor": 0
      },
      "text/plain": [
       "HBox(children=(IntProgress(value=0, max=10), HTML(value='')))"
      ]
     },
     "metadata": {},
     "output_type": "display_data"
    },
    {
     "name": "stdout",
     "output_type": "stream",
     "text": [
      "initial actives:  1 / 500\n",
      "1\n",
      "homophily:  0.5\n",
      "threshold:  0.7703948280283383\n",
      "fitness mean:  0.04172921468660679\n",
      "\n",
      "\n"
     ]
    },
    {
     "data": {
      "application/vnd.jupyter.widget-view+json": {
       "model_id": "72e2471c878b40b19166580cc387069f",
       "version_major": 2,
       "version_minor": 0
      },
      "text/plain": [
       "HBox(children=(IntProgress(value=0, max=10), HTML(value='')))"
      ]
     },
     "metadata": {},
     "output_type": "display_data"
    },
    {
     "name": "stdout",
     "output_type": "stream",
     "text": [
      "initial actives:  24 / 500\n",
      "32\n",
      "33\n",
      "33\n",
      "homophily:  0.5\n",
      "threshold:  0.623510352003664\n",
      "fitness mean:  0.04956533786438361\n"
     ]
    },
    {
     "data": {
      "application/vnd.jupyter.widget-view+json": {
       "model_id": "1a7b42a792084267b0520d9ca0e5b002",
       "version_major": 2,
       "version_minor": 0
      },
      "text/plain": [
       "HBox(children=(IntProgress(value=0, max=10), HTML(value='')))"
      ]
     },
     "metadata": {},
     "output_type": "display_data"
    },
    {
     "name": "stdout",
     "output_type": "stream",
     "text": [
      "initial actives:  30 / 500\n",
      "49\n",
      "64\n",
      "68\n",
      "68\n",
      "homophily:  0.5\n",
      "threshold:  0.668524534521518\n",
      "fitness mean:  0.0376214683519303\n",
      "\n",
      "\n"
     ]
    },
    {
     "data": {
      "application/vnd.jupyter.widget-view+json": {
       "model_id": "e3db9a1e7fbb4d90aff8241cc60a7a5c",
       "version_major": 2,
       "version_minor": 0
      },
      "text/plain": [
       "HBox(children=(IntProgress(value=0, max=10), HTML(value='')))"
      ]
     },
     "metadata": {},
     "output_type": "display_data"
    },
    {
     "name": "stdout",
     "output_type": "stream",
     "text": [
      "initial actives:  66 / 500\n",
      "255\n",
      "425\n",
      "449\n",
      "451\n",
      "451\n",
      "homophily:  0.5\n",
      "threshold:  0.830759468383986\n",
      "fitness mean:  0.04222817824753456\n"
     ]
    },
    {
     "data": {
      "application/vnd.jupyter.widget-view+json": {
       "model_id": "ed44cf043a844a4aba0ca374f29fb1ea",
       "version_major": 2,
       "version_minor": 0
      },
      "text/plain": [
       "HBox(children=(IntProgress(value=0, max=10), HTML(value='')))"
      ]
     },
     "metadata": {},
     "output_type": "display_data"
    },
    {
     "name": "stdout",
     "output_type": "stream",
     "text": [
      "initial actives:  5 / 500\n",
      "5\n",
      "homophily:  0.5\n",
      "threshold:  0.9418449908003395\n",
      "fitness mean:  0.04936868902814645\n",
      "\n",
      "\n"
     ]
    },
    {
     "data": {
      "application/vnd.jupyter.widget-view+json": {
       "model_id": "1fb2567a2cb149deafa10ce611690047",
       "version_major": 2,
       "version_minor": 0
      },
      "text/plain": [
       "HBox(children=(IntProgress(value=0, max=10), HTML(value='')))"
      ]
     },
     "metadata": {},
     "output_type": "display_data"
    },
    {
     "name": "stdout",
     "output_type": "stream",
     "text": [
      "initial actives:  5 / 500\n",
      "5\n",
      "homophily:  0.5\n",
      "threshold:  0.9784496941615137\n",
      "fitness mean:  0.04190504093350783\n"
     ]
    },
    {
     "data": {
      "application/vnd.jupyter.widget-view+json": {
       "model_id": "a470d91f0a5d4174b52b42e4fa1f307e",
       "version_major": 2,
       "version_minor": 0
      },
      "text/plain": [
       "HBox(children=(IntProgress(value=0, max=10), HTML(value='')))"
      ]
     },
     "metadata": {},
     "output_type": "display_data"
    },
    {
     "name": "stdout",
     "output_type": "stream",
     "text": [
      "initial actives:  0 / 500\n",
      "0\n",
      "homophily:  0.5\n",
      "threshold:  0.7673710579751798\n",
      "fitness mean:  0.06569416383237663\n",
      "\n",
      "\n"
     ]
    },
    {
     "data": {
      "application/vnd.jupyter.widget-view+json": {
       "model_id": "f57fffccb3af460289e1bfb3301b6211",
       "version_major": 2,
       "version_minor": 0
      },
      "text/plain": [
       "HBox(children=(IntProgress(value=0, max=10), HTML(value='')))"
      ]
     },
     "metadata": {},
     "output_type": "display_data"
    },
    {
     "name": "stdout",
     "output_type": "stream",
     "text": [
      "initial actives:  10 / 500\n",
      "11\n",
      "11\n",
      "homophily:  0.5\n",
      "threshold:  0.9380082929135275\n",
      "fitness mean:  0.04346833444411692\n"
     ]
    },
    {
     "data": {
      "application/vnd.jupyter.widget-view+json": {
       "model_id": "0c04031fd7b94985ae28c40d80658ce2",
       "version_major": 2,
       "version_minor": 0
      },
      "text/plain": [
       "HBox(children=(IntProgress(value=0, max=10), HTML(value='')))"
      ]
     },
     "metadata": {},
     "output_type": "display_data"
    },
    {
     "name": "stdout",
     "output_type": "stream",
     "text": [
      "initial actives:  0 / 500\n",
      "0\n",
      "homophily:  0.5\n",
      "threshold:  0.8320362886386131\n",
      "fitness mean:  0.048188495132249175\n",
      "\n",
      "\n"
     ]
    },
    {
     "data": {
      "application/vnd.jupyter.widget-view+json": {
       "model_id": "a537286802ce45acb7c38a9780c9431c",
       "version_major": 2,
       "version_minor": 0
      },
      "text/plain": [
       "HBox(children=(IntProgress(value=0, max=10), HTML(value='')))"
      ]
     },
     "metadata": {},
     "output_type": "display_data"
    },
    {
     "name": "stdout",
     "output_type": "stream",
     "text": [
      "initial actives:  10 / 500\n",
      "10\n",
      "homophily:  0.5\n",
      "threshold:  0.7168239025114945\n",
      "fitness mean:  0.03821974999720443\n"
     ]
    },
    {
     "data": {
      "application/vnd.jupyter.widget-view+json": {
       "model_id": "99fb49822e52492cb0e271af2690d6c8",
       "version_major": 2,
       "version_minor": 0
      },
      "text/plain": [
       "HBox(children=(IntProgress(value=0, max=10), HTML(value='')))"
      ]
     },
     "metadata": {},
     "output_type": "display_data"
    },
    {
     "name": "stdout",
     "output_type": "stream",
     "text": [
      "initial actives:  15 / 500\n",
      "17\n",
      "17\n",
      "homophily:  0.5\n",
      "threshold:  0.7618649456624613\n",
      "fitness mean:  0.048510329522588755\n",
      "\n",
      "\n"
     ]
    },
    {
     "data": {
      "application/vnd.jupyter.widget-view+json": {
       "model_id": "28bb57bf328c42b69ba5388b8afa92e9",
       "version_major": 2,
       "version_minor": 0
      },
      "text/plain": [
       "HBox(children=(IntProgress(value=0, max=10), HTML(value='')))"
      ]
     },
     "metadata": {},
     "output_type": "display_data"
    },
    {
     "name": "stdout",
     "output_type": "stream",
     "text": [
      "initial actives:  27 / 500\n",
      "39\n",
      "43\n",
      "44\n",
      "44\n",
      "homophily:  0.5\n",
      "threshold:  0.9612401767051715\n",
      "fitness mean:  0.047935320260252684\n"
     ]
    },
    {
     "data": {
      "application/vnd.jupyter.widget-view+json": {
       "model_id": "8b51547c397e472f8ffccf3351e23fe1",
       "version_major": 2,
       "version_minor": 0
      },
      "text/plain": [
       "HBox(children=(IntProgress(value=0, max=10), HTML(value='')))"
      ]
     },
     "metadata": {},
     "output_type": "display_data"
    },
    {
     "name": "stdout",
     "output_type": "stream",
     "text": [
      "initial actives:  1 / 500\n",
      "1\n",
      "homophily:  0.5\n",
      "threshold:  0.8856004323574518\n",
      "fitness mean:  0.053037741635339725\n",
      "\n"
     ]
    },
    {
     "data": {
      "application/vnd.jupyter.widget-view+json": {
       "model_id": "c895760768ba41e0978cdd9b23ee5db9",
       "version_major": 2,
       "version_minor": 0
      },
      "text/plain": [
       "HBox(children=(IntProgress(value=0, max=10), HTML(value='')))"
      ]
     },
     "metadata": {},
     "output_type": "display_data"
    },
    {
     "name": "stdout",
     "output_type": "stream",
     "text": [
      "initial actives:  13 / 500\n",
      "64\n",
      "221\n",
      "389\n",
      "434\n",
      "437\n",
      "437\n",
      "homophily:  0.5\n",
      "threshold:  0.9474495926140769\n",
      "fitness mean:  0.05242207692659001\n"
     ]
    },
    {
     "data": {
      "application/vnd.jupyter.widget-view+json": {
       "model_id": "304fe5073b8a4232a38fb99206381e0f",
       "version_major": 2,
       "version_minor": 0
      },
      "text/plain": [
       "HBox(children=(IntProgress(value=0, max=10), HTML(value='')))"
      ]
     },
     "metadata": {},
     "output_type": "display_data"
    },
    {
     "name": "stdout",
     "output_type": "stream",
     "text": [
      "initial actives:  5 / 500\n",
      "5\n",
      "\n",
      "\n",
      "homophily:  0.75\n",
      "threshold:  0.37092939088932936\n",
      "fitness mean:  0.0467006868446837\n"
     ]
    },
    {
     "name": "stderr",
     "output_type": "stream",
     "text": [
      "/Users/Cinus/miniconda3/lib/python3.7/site-packages/ipykernel_launcher.py:64: TqdmDeprecationWarning: This function will be removed in tqdm==5.0.0\n",
      "Please use `tqdm.notebook.tqdm` instead of `tqdm.tqdm_notebook`\n"
     ]
    },
    {
     "data": {
      "application/vnd.jupyter.widget-view+json": {
       "model_id": "440154d585694551a216f31f23b924ef",
       "version_major": 2,
       "version_minor": 0
      },
      "text/plain": [
       "HBox(children=(IntProgress(value=0, max=10), HTML(value='')))"
      ]
     },
     "metadata": {},
     "output_type": "display_data"
    },
    {
     "name": "stdout",
     "output_type": "stream",
     "text": [
      "initial actives:  53 / 500\n",
      "66\n",
      "66\n",
      "homophily:  0.75\n",
      "threshold:  0.22519130023979053\n",
      "fitness mean:  0.0445416115090391\n"
     ]
    },
    {
     "data": {
      "application/vnd.jupyter.widget-view+json": {
       "model_id": "c51e5eeaf8e645a5a84b232b2599d565",
       "version_major": 2,
       "version_minor": 0
      },
      "text/plain": [
       "HBox(children=(IntProgress(value=0, max=10), HTML(value='')))"
      ]
     },
     "metadata": {},
     "output_type": "display_data"
    },
    {
     "name": "stdout",
     "output_type": "stream",
     "text": [
      "initial actives:  264 / 500\n",
      "363\n",
      "401\n",
      "410\n",
      "412\n",
      "412\n",
      "homophily:  0.75\n",
      "threshold:  0.4146945488698852\n",
      "fitness mean:  0.05297601647573472\n",
      "\n",
      "\n"
     ]
    },
    {
     "data": {
      "application/vnd.jupyter.widget-view+json": {
       "model_id": "7c067a9d1d9f40eb9aa8133e877950ee",
       "version_major": 2,
       "version_minor": 0
      },
      "text/plain": [
       "HBox(children=(IntProgress(value=0, max=10), HTML(value='')))"
      ]
     },
     "metadata": {},
     "output_type": "display_data"
    },
    {
     "name": "stdout",
     "output_type": "stream",
     "text": [
      "initial actives:  55 / 500\n",
      "99\n",
      "130\n",
      "140\n",
      "142\n",
      "143\n",
      "143\n",
      "homophily:  0.75\n",
      "threshold:  0.7016472490146677\n",
      "fitness mean:  0.05409562700879491\n"
     ]
    },
    {
     "data": {
      "application/vnd.jupyter.widget-view+json": {
       "model_id": "f3a567099d774edab6c5c54d222c20ae",
       "version_major": 2,
       "version_minor": 0
      },
      "text/plain": [
       "HBox(children=(IntProgress(value=0, max=10), HTML(value='')))"
      ]
     },
     "metadata": {},
     "output_type": "display_data"
    },
    {
     "name": "stdout",
     "output_type": "stream",
     "text": [
      "initial actives:  19 / 500\n",
      "21\n",
      "21\n",
      "homophily:  0.75\n",
      "threshold:  0.2776234464562489\n",
      "fitness mean:  0.053437322324251094\n",
      "\n",
      "\n"
     ]
    },
    {
     "data": {
      "application/vnd.jupyter.widget-view+json": {
       "model_id": "c215f83c3c8a4eceab93b620c7812af0",
       "version_major": 2,
       "version_minor": 0
      },
      "text/plain": [
       "HBox(children=(IntProgress(value=0, max=10), HTML(value='')))"
      ]
     },
     "metadata": {},
     "output_type": "display_data"
    },
    {
     "name": "stdout",
     "output_type": "stream",
     "text": [
      "initial actives:  199 / 500\n",
      "315\n",
      "374\n",
      "398\n",
      "401\n",
      "401\n",
      "homophily:  0.75\n",
      "threshold:  0.1981155028713483\n",
      "fitness mean:  0.03997635011631341\n"
     ]
    },
    {
     "data": {
      "application/vnd.jupyter.widget-view+json": {
       "model_id": "4f0f2c6d3cf844fdb61a43260229477f",
       "version_major": 2,
       "version_minor": 0
      },
      "text/plain": [
       "HBox(children=(IntProgress(value=0, max=10), HTML(value='')))"
      ]
     },
     "metadata": {},
     "output_type": "display_data"
    },
    {
     "name": "stdout",
     "output_type": "stream",
     "text": [
      "initial actives:  418 / 500\n",
      "479\n",
      "483\n",
      "484\n",
      "484\n",
      "homophily:  0.75\n",
      "threshold:  0.07778351438094883\n",
      "fitness mean:  0.05195295157217603\n",
      "\n",
      "\n"
     ]
    },
    {
     "data": {
      "application/vnd.jupyter.widget-view+json": {
       "model_id": "e9a586ce9546403488f3c9fadc5c1aa6",
       "version_major": 2,
       "version_minor": 0
      },
      "text/plain": [
       "HBox(children=(IntProgress(value=0, max=10), HTML(value='')))"
      ]
     },
     "metadata": {},
     "output_type": "display_data"
    },
    {
     "name": "stdout",
     "output_type": "stream",
     "text": [
      "initial actives:  483 / 500\n",
      "499\n",
      "499\n",
      "homophily:  0.75\n",
      "threshold:  0.2872642924054058\n",
      "fitness mean:  0.048129567020762716\n"
     ]
    },
    {
     "data": {
      "application/vnd.jupyter.widget-view+json": {
       "model_id": "68a2056f1557463db557d12999117dc3",
       "version_major": 2,
       "version_minor": 0
      },
      "text/plain": [
       "HBox(children=(IntProgress(value=0, max=10), HTML(value='')))"
      ]
     },
     "metadata": {},
     "output_type": "display_data"
    },
    {
     "name": "stdout",
     "output_type": "stream",
     "text": [
      "initial actives:  290 / 500\n",
      "422\n",
      "449\n",
      "453\n",
      "453\n",
      "homophily:  0.75\n",
      "threshold:  0.6039023297361807\n",
      "fitness mean:  0.05113970458902604\n",
      "\n",
      "\n"
     ]
    },
    {
     "data": {
      "application/vnd.jupyter.widget-view+json": {
       "model_id": "28f941ead70f4e4993b7b62a9471622d",
       "version_major": 2,
       "version_minor": 0
      },
      "text/plain": [
       "HBox(children=(IntProgress(value=0, max=10), HTML(value='')))"
      ]
     },
     "metadata": {},
     "output_type": "display_data"
    },
    {
     "name": "stdout",
     "output_type": "stream",
     "text": [
      "initial actives:  117 / 500\n",
      "328\n",
      "433\n",
      "441\n",
      "442\n",
      "442\n",
      "homophily:  0.75\n",
      "threshold:  0.21315128382264031\n",
      "fitness mean:  0.04918699179945633\n"
     ]
    },
    {
     "data": {
      "application/vnd.jupyter.widget-view+json": {
       "model_id": "65683f9d2814486b80c656a0a54966aa",
       "version_major": 2,
       "version_minor": 0
      },
      "text/plain": [
       "HBox(children=(IntProgress(value=0, max=10), HTML(value='')))"
      ]
     },
     "metadata": {},
     "output_type": "display_data"
    },
    {
     "name": "stdout",
     "output_type": "stream",
     "text": [
      "initial actives:  19 / 500\n",
      "19\n",
      "homophily:  0.75\n",
      "threshold:  0.18148621149173128\n",
      "fitness mean:  0.03531539720183052\n",
      "\n",
      "\n"
     ]
    },
    {
     "data": {
      "application/vnd.jupyter.widget-view+json": {
       "model_id": "af9317475c4443a7a30d19db2c394e76",
       "version_major": 2,
       "version_minor": 0
      },
      "text/plain": [
       "HBox(children=(IntProgress(value=0, max=10), HTML(value='')))"
      ]
     },
     "metadata": {},
     "output_type": "display_data"
    },
    {
     "name": "stdout",
     "output_type": "stream",
     "text": [
      "initial actives:  274 / 500\n",
      "366\n",
      "397\n",
      "398\n",
      "398\n",
      "homophily:  0.75\n",
      "threshold:  0.9951693539893046\n",
      "fitness mean:  0.060160845448388116\n"
     ]
    },
    {
     "data": {
      "application/vnd.jupyter.widget-view+json": {
       "model_id": "a900ea4b699e4d939f670a6ff8361f40",
       "version_major": 2,
       "version_minor": 0
      },
      "text/plain": [
       "HBox(children=(IntProgress(value=0, max=10), HTML(value='')))"
      ]
     },
     "metadata": {},
     "output_type": "display_data"
    },
    {
     "name": "stdout",
     "output_type": "stream",
     "text": [
      "initial actives:  0 / 500\n",
      "0\n",
      "homophily:  0.75\n",
      "threshold:  0.7972658734969202\n",
      "fitness mean:  0.05256266456971045\n",
      "\n",
      "\n"
     ]
    },
    {
     "data": {
      "application/vnd.jupyter.widget-view+json": {
       "model_id": "bd14bf5b457d40f299d5c1ea8193bc93",
       "version_major": 2,
       "version_minor": 0
      },
      "text/plain": [
       "HBox(children=(IntProgress(value=0, max=10), HTML(value='')))"
      ]
     },
     "metadata": {},
     "output_type": "display_data"
    },
    {
     "name": "stdout",
     "output_type": "stream",
     "text": [
      "initial actives:  17 / 500\n",
      "17\n",
      "homophily:  0.75\n",
      "threshold:  0.9475103742730646\n",
      "fitness mean:  0.051401955226929315\n"
     ]
    },
    {
     "data": {
      "application/vnd.jupyter.widget-view+json": {
       "model_id": "c534227a75a34327bd28f4fb32a84532",
       "version_major": 2,
       "version_minor": 0
      },
      "text/plain": [
       "HBox(children=(IntProgress(value=0, max=10), HTML(value='')))"
      ]
     },
     "metadata": {},
     "output_type": "display_data"
    },
    {
     "name": "stdout",
     "output_type": "stream",
     "text": [
      "initial actives:  0 / 500\n",
      "0\n",
      "homophily:  0.75\n",
      "threshold:  0.022004697235301074\n",
      "fitness mean:  0.040383019971452695\n",
      "\n",
      "\n"
     ]
    },
    {
     "data": {
      "application/vnd.jupyter.widget-view+json": {
       "model_id": "b15e5d90c69f4ca6b08134809051c753",
       "version_major": 2,
       "version_minor": 0
      },
      "text/plain": [
       "HBox(children=(IntProgress(value=0, max=10), HTML(value='')))"
      ]
     },
     "metadata": {},
     "output_type": "display_data"
    },
    {
     "name": "stdout",
     "output_type": "stream",
     "text": [
      "initial actives:  462 / 500\n",
      "495\n",
      "497\n",
      "497\n",
      "homophily:  0.75\n",
      "threshold:  0.712655098891105\n",
      "fitness mean:  0.04706696183253433\n"
     ]
    },
    {
     "data": {
      "application/vnd.jupyter.widget-view+json": {
       "model_id": "1b558c67224346fc9734bb7a651e356c",
       "version_major": 2,
       "version_minor": 0
      },
      "text/plain": [
       "HBox(children=(IntProgress(value=0, max=10), HTML(value='')))"
      ]
     },
     "metadata": {},
     "output_type": "display_data"
    },
    {
     "name": "stdout",
     "output_type": "stream",
     "text": [
      "initial actives:  26 / 500\n",
      "55\n",
      "64\n",
      "69\n",
      "69\n",
      "homophily:  0.75\n",
      "threshold:  0.0487989034884494\n",
      "fitness mean:  0.03570575610329391\n",
      "\n",
      "\n"
     ]
    },
    {
     "data": {
      "application/vnd.jupyter.widget-view+json": {
       "model_id": "2b817cf1a6824a6ea5df37900940eb0d",
       "version_major": 2,
       "version_minor": 0
      },
      "text/plain": [
       "HBox(children=(IntProgress(value=0, max=10), HTML(value='')))"
      ]
     },
     "metadata": {},
     "output_type": "display_data"
    },
    {
     "name": "stdout",
     "output_type": "stream",
     "text": [
      "initial actives:  489 / 500\n",
      "499\n",
      "499\n",
      "homophily:  0.75\n",
      "threshold:  0.9264771924633193\n",
      "fitness mean:  0.06302949833066063\n"
     ]
    },
    {
     "data": {
      "application/vnd.jupyter.widget-view+json": {
       "model_id": "537530f07a204567bbc384b4f86b6dc2",
       "version_major": 2,
       "version_minor": 0
      },
      "text/plain": [
       "HBox(children=(IntProgress(value=0, max=10), HTML(value='')))"
      ]
     },
     "metadata": {},
     "output_type": "display_data"
    },
    {
     "name": "stdout",
     "output_type": "stream",
     "text": [
      "initial actives:  10 / 500\n",
      "10\n",
      "homophily:  0.75\n",
      "threshold:  0.33353534380174144\n",
      "fitness mean:  0.049267130846080205\n",
      "\n",
      "\n"
     ]
    },
    {
     "data": {
      "application/vnd.jupyter.widget-view+json": {
       "model_id": "cb20f52e60904dba86809276c9740bf6",
       "version_major": 2,
       "version_minor": 0
      },
      "text/plain": [
       "HBox(children=(IntProgress(value=0, max=10), HTML(value='')))"
      ]
     },
     "metadata": {},
     "output_type": "display_data"
    },
    {
     "name": "stdout",
     "output_type": "stream",
     "text": [
      "initial actives:  357 / 500\n",
      "461\n",
      "465\n",
      "465\n",
      "homophily:  0.75\n",
      "threshold:  0.37468642330533153\n",
      "fitness mean:  0.04442872541894111\n"
     ]
    },
    {
     "data": {
      "application/vnd.jupyter.widget-view+json": {
       "model_id": "1242cb27ec2e4d03a427f4f039afe386",
       "version_major": 2,
       "version_minor": 0
      },
      "text/plain": [
       "HBox(children=(IntProgress(value=0, max=10), HTML(value='')))"
      ]
     },
     "metadata": {},
     "output_type": "display_data"
    },
    {
     "name": "stdout",
     "output_type": "stream",
     "text": [
      "initial actives:  6 / 500\n",
      "6\n",
      "homophily:  0.75\n",
      "threshold:  0.8980199117844005\n",
      "fitness mean:  0.045886655848613615\n",
      "\n",
      "\n"
     ]
    },
    {
     "data": {
      "application/vnd.jupyter.widget-view+json": {
       "model_id": "c563515618eb464880c1270a024fd1ef",
       "version_major": 2,
       "version_minor": 0
      },
      "text/plain": [
       "HBox(children=(IntProgress(value=0, max=10), HTML(value='')))"
      ]
     },
     "metadata": {},
     "output_type": "display_data"
    },
    {
     "name": "stdout",
     "output_type": "stream",
     "text": [
      "initial actives:  9 / 500\n",
      "9\n",
      "homophily:  0.75\n",
      "threshold:  0.7452815815625231\n",
      "fitness mean:  0.051467364401888566\n"
     ]
    },
    {
     "data": {
      "application/vnd.jupyter.widget-view+json": {
       "model_id": "67f6dcd854854b9186cd62b7d616f956",
       "version_major": 2,
       "version_minor": 0
      },
      "text/plain": [
       "HBox(children=(IntProgress(value=0, max=10), HTML(value='')))"
      ]
     },
     "metadata": {},
     "output_type": "display_data"
    },
    {
     "name": "stdout",
     "output_type": "stream",
     "text": [
      "initial actives:  13 / 500\n",
      "13\n",
      "homophily:  0.75\n",
      "threshold:  0.4137358862620674\n",
      "fitness mean:  0.04440395572178712\n",
      "\n",
      "\n"
     ]
    },
    {
     "data": {
      "application/vnd.jupyter.widget-view+json": {
       "model_id": "1cd20554528c446d8c279177d52834a2",
       "version_major": 2,
       "version_minor": 0
      },
      "text/plain": [
       "HBox(children=(IntProgress(value=0, max=10), HTML(value='')))"
      ]
     },
     "metadata": {},
     "output_type": "display_data"
    },
    {
     "name": "stdout",
     "output_type": "stream",
     "text": [
      "initial actives:  55 / 500\n",
      "69\n",
      "71\n",
      "71\n",
      "homophily:  0.75\n",
      "threshold:  0.6362285245221133\n",
      "fitness mean:  0.04036087623968143\n"
     ]
    },
    {
     "data": {
      "application/vnd.jupyter.widget-view+json": {
       "model_id": "dca5f1cf4ae843c29d4a63cb88d55747",
       "version_major": 2,
       "version_minor": 0
      },
      "text/plain": [
       "HBox(children=(IntProgress(value=0, max=10), HTML(value='')))"
      ]
     },
     "metadata": {},
     "output_type": "display_data"
    },
    {
     "name": "stdout",
     "output_type": "stream",
     "text": [
      "initial actives:  23 / 500\n",
      "24\n",
      "24\n",
      "homophily:  0.75\n",
      "threshold:  0.6393442801520893\n",
      "fitness mean:  0.043169370873557183\n",
      "\n",
      "\n"
     ]
    },
    {
     "data": {
      "application/vnd.jupyter.widget-view+json": {
       "model_id": "437556b38a434c2a9ea0cf5acff7ddbb",
       "version_major": 2,
       "version_minor": 0
      },
      "text/plain": [
       "HBox(children=(IntProgress(value=0, max=10), HTML(value='')))"
      ]
     },
     "metadata": {},
     "output_type": "display_data"
    },
    {
     "name": "stdout",
     "output_type": "stream",
     "text": [
      "initial actives:  17 / 500\n",
      "28\n",
      "28\n",
      "homophily:  0.75\n",
      "threshold:  0.5878467687338754\n",
      "fitness mean:  0.06069950876291624\n"
     ]
    },
    {
     "data": {
      "application/vnd.jupyter.widget-view+json": {
       "model_id": "c0aec5b853fd42ebaa5549a6f2b0b705",
       "version_major": 2,
       "version_minor": 0
      },
      "text/plain": [
       "HBox(children=(IntProgress(value=0, max=10), HTML(value='')))"
      ]
     },
     "metadata": {},
     "output_type": "display_data"
    },
    {
     "name": "stdout",
     "output_type": "stream",
     "text": [
      "initial actives:  100 / 500\n",
      "166\n",
      "204\n",
      "230\n",
      "238\n",
      "240\n",
      "240\n",
      "homophily:  0.75\n",
      "threshold:  0.582031309592112\n",
      "fitness mean:  0.06279716922143105\n",
      "\n",
      "\n"
     ]
    },
    {
     "data": {
      "application/vnd.jupyter.widget-view+json": {
       "model_id": "1e1330ba0a0e432faa4521ecb591fda9",
       "version_major": 2,
       "version_minor": 0
      },
      "text/plain": [
       "HBox(children=(IntProgress(value=0, max=10), HTML(value='')))"
      ]
     },
     "metadata": {},
     "output_type": "display_data"
    },
    {
     "name": "stdout",
     "output_type": "stream",
     "text": [
      "initial actives:  100 / 500\n",
      "185\n",
      "254\n",
      "304\n",
      "319\n",
      "322\n",
      "323\n",
      "324\n",
      "324\n",
      "homophily:  0.75\n",
      "threshold:  0.575551264558426\n",
      "fitness mean:  0.04431120732595058\n"
     ]
    },
    {
     "data": {
      "application/vnd.jupyter.widget-view+json": {
       "model_id": "66825661a3ef498980b3d477a6bd734c",
       "version_major": 2,
       "version_minor": 0
      },
      "text/plain": [
       "HBox(children=(IntProgress(value=0, max=10), HTML(value='')))"
      ]
     },
     "metadata": {},
     "output_type": "display_data"
    },
    {
     "name": "stdout",
     "output_type": "stream",
     "text": [
      "initial actives:  29 / 500\n",
      "46\n",
      "46\n",
      "homophily:  0.75\n",
      "threshold:  0.49737720357027554\n",
      "fitness mean:  0.03772458391549529\n",
      "\n",
      "\n"
     ]
    },
    {
     "data": {
      "application/vnd.jupyter.widget-view+json": {
       "model_id": "1a269007409e4c6a8aab52b90271c677",
       "version_major": 2,
       "version_minor": 0
      },
      "text/plain": [
       "HBox(children=(IntProgress(value=0, max=10), HTML(value='')))"
      ]
     },
     "metadata": {},
     "output_type": "display_data"
    },
    {
     "name": "stdout",
     "output_type": "stream",
     "text": [
      "initial actives:  188 / 500\n",
      "396\n",
      "440\n",
      "442\n",
      "442\n",
      "homophily:  0.75\n",
      "threshold:  0.5786280687993645\n",
      "fitness mean:  0.047027017749149705\n"
     ]
    },
    {
     "data": {
      "application/vnd.jupyter.widget-view+json": {
       "model_id": "8808fa0e8a6f4266a39b2a134cb7cc6a",
       "version_major": 2,
       "version_minor": 0
      },
      "text/plain": [
       "HBox(children=(IntProgress(value=0, max=10), HTML(value='')))"
      ]
     },
     "metadata": {},
     "output_type": "display_data"
    },
    {
     "name": "stdout",
     "output_type": "stream",
     "text": [
      "initial actives:  5 / 500\n",
      "5\n",
      "homophily:  0.75\n",
      "threshold:  0.4031082582663641\n",
      "fitness mean:  0.03419356351381529\n",
      "\n",
      "\n"
     ]
    },
    {
     "data": {
      "application/vnd.jupyter.widget-view+json": {
       "model_id": "98617ed5601a440ebae9cfc889b7f9bb",
       "version_major": 2,
       "version_minor": 0
      },
      "text/plain": [
       "HBox(children=(IntProgress(value=0, max=10), HTML(value='')))"
      ]
     },
     "metadata": {},
     "output_type": "display_data"
    },
    {
     "name": "stdout",
     "output_type": "stream",
     "text": [
      "initial actives:  38 / 500\n",
      "45\n",
      "45\n",
      "homophily:  0.75\n",
      "threshold:  0.8779742610640139\n",
      "fitness mean:  0.04424125428942346\n"
     ]
    },
    {
     "data": {
      "application/vnd.jupyter.widget-view+json": {
       "model_id": "87c4f3a094b9497da3a2433c93966bf0",
       "version_major": 2,
       "version_minor": 0
      },
      "text/plain": [
       "HBox(children=(IntProgress(value=0, max=10), HTML(value='')))"
      ]
     },
     "metadata": {},
     "output_type": "display_data"
    },
    {
     "name": "stdout",
     "output_type": "stream",
     "text": [
      "initial actives:  10 / 500\n",
      "10\n",
      "homophily:  0.75\n",
      "threshold:  0.6640045066195162\n",
      "fitness mean:  0.05401879272905425\n",
      "\n",
      "\n"
     ]
    },
    {
     "data": {
      "application/vnd.jupyter.widget-view+json": {
       "model_id": "44b3600a5632465daed97e7ad6caea62",
       "version_major": 2,
       "version_minor": 0
      },
      "text/plain": [
       "HBox(children=(IntProgress(value=0, max=10), HTML(value='')))"
      ]
     },
     "metadata": {},
     "output_type": "display_data"
    },
    {
     "name": "stdout",
     "output_type": "stream",
     "text": [
      "initial actives:  20 / 500\n",
      "22\n",
      "22\n",
      "homophily:  0.75\n",
      "threshold:  0.8862973706023195\n",
      "fitness mean:  0.03474954322685298\n"
     ]
    },
    {
     "data": {
      "application/vnd.jupyter.widget-view+json": {
       "model_id": "35be2e70037b4e528df5058c27bc7bf5",
       "version_major": 2,
       "version_minor": 0
      },
      "text/plain": [
       "HBox(children=(IntProgress(value=0, max=10), HTML(value='')))"
      ]
     },
     "metadata": {},
     "output_type": "display_data"
    },
    {
     "name": "stdout",
     "output_type": "stream",
     "text": [
      "initial actives:  0 / 500\n",
      "0\n",
      "homophily:  0.75\n",
      "threshold:  0.171074018128999\n",
      "fitness mean:  0.03918792132763589\n",
      "\n",
      "\n"
     ]
    },
    {
     "data": {
      "application/vnd.jupyter.widget-view+json": {
       "model_id": "da23c5163d1f49aaa24c2353e311aafd",
       "version_major": 2,
       "version_minor": 0
      },
      "text/plain": [
       "HBox(children=(IntProgress(value=0, max=10), HTML(value='')))"
      ]
     },
     "metadata": {},
     "output_type": "display_data"
    },
    {
     "name": "stdout",
     "output_type": "stream",
     "text": [
      "initial actives:  316 / 500\n",
      "406\n",
      "428\n",
      "428\n",
      "homophily:  0.75\n",
      "threshold:  0.9593025954182383\n",
      "fitness mean:  0.04239195750443495\n"
     ]
    },
    {
     "data": {
      "application/vnd.jupyter.widget-view+json": {
       "model_id": "e88042f3014f4381aa8ec16602c2c9f3",
       "version_major": 2,
       "version_minor": 0
      },
      "text/plain": [
       "HBox(children=(IntProgress(value=0, max=10), HTML(value='')))"
      ]
     },
     "metadata": {},
     "output_type": "display_data"
    },
    {
     "name": "stdout",
     "output_type": "stream",
     "text": [
      "initial actives:  0 / 500\n",
      "0\n",
      "homophily:  0.75\n",
      "threshold:  0.7387254833752882\n",
      "fitness mean:  0.03719605565439024\n",
      "\n",
      "\n"
     ]
    },
    {
     "data": {
      "application/vnd.jupyter.widget-view+json": {
       "model_id": "e7d7068e9788478b8b9e995064b42163",
       "version_major": 2,
       "version_minor": 0
      },
      "text/plain": [
       "HBox(children=(IntProgress(value=0, max=10), HTML(value='')))"
      ]
     },
     "metadata": {},
     "output_type": "display_data"
    },
    {
     "name": "stdout",
     "output_type": "stream",
     "text": [
      "initial actives:  21 / 500\n",
      "26\n",
      "27\n",
      "27\n",
      "homophily:  0.75\n",
      "threshold:  0.4326659984259381\n",
      "fitness mean:  0.037797606121525294\n"
     ]
    },
    {
     "data": {
      "application/vnd.jupyter.widget-view+json": {
       "model_id": "390d76d9766c47afb4862347fb8f84dd",
       "version_major": 2,
       "version_minor": 0
      },
      "text/plain": [
       "HBox(children=(IntProgress(value=0, max=10), HTML(value='')))"
      ]
     },
     "metadata": {},
     "output_type": "display_data"
    },
    {
     "name": "stdout",
     "output_type": "stream",
     "text": [
      "initial actives:  95 / 500\n",
      "185\n",
      "267\n",
      "341\n",
      "376\n",
      "397\n",
      "401\n",
      "402\n",
      "402\n",
      "homophily:  0.75\n",
      "threshold:  0.9751444877444253\n",
      "fitness mean:  0.05188638107783682\n",
      "\n",
      "\n"
     ]
    },
    {
     "data": {
      "application/vnd.jupyter.widget-view+json": {
       "model_id": "5ad0ec4e222b4b46824f781678951b65",
       "version_major": 2,
       "version_minor": 0
      },
      "text/plain": [
       "HBox(children=(IntProgress(value=0, max=10), HTML(value='')))"
      ]
     },
     "metadata": {},
     "output_type": "display_data"
    },
    {
     "name": "stdout",
     "output_type": "stream",
     "text": [
      "initial actives:  1 / 500\n",
      "1\n",
      "homophily:  0.75\n",
      "threshold:  0.6058396888381488\n",
      "fitness mean:  0.05207816266449019\n"
     ]
    },
    {
     "data": {
      "application/vnd.jupyter.widget-view+json": {
       "model_id": "55355dbd8cdb4334a71df88b65e33be1",
       "version_major": 2,
       "version_minor": 0
      },
      "text/plain": [
       "HBox(children=(IntProgress(value=0, max=10), HTML(value='')))"
      ]
     },
     "metadata": {},
     "output_type": "display_data"
    },
    {
     "name": "stdout",
     "output_type": "stream",
     "text": [
      "initial actives:  5 / 500\n",
      "5\n",
      "\n",
      "\n",
      "homophily:  1.0\n",
      "threshold:  0.041789407986336166\n",
      "fitness mean:  0.03622176062809329\n"
     ]
    },
    {
     "name": "stderr",
     "output_type": "stream",
     "text": [
      "/Users/Cinus/miniconda3/lib/python3.7/site-packages/ipykernel_launcher.py:64: TqdmDeprecationWarning: This function will be removed in tqdm==5.0.0\n",
      "Please use `tqdm.notebook.tqdm` instead of `tqdm.tqdm_notebook`\n"
     ]
    },
    {
     "data": {
      "application/vnd.jupyter.widget-view+json": {
       "model_id": "0af50e7ac2b34c55978a23777d49ec54",
       "version_major": 2,
       "version_minor": 0
      },
      "text/plain": [
       "HBox(children=(IntProgress(value=0, max=10), HTML(value='')))"
      ]
     },
     "metadata": {},
     "output_type": "display_data"
    },
    {
     "name": "stdout",
     "output_type": "stream",
     "text": [
      "initial actives:  246 / 500\n",
      "295\n",
      "300\n",
      "300\n",
      "homophily:  1.0\n",
      "threshold:  0.9437971614423898\n",
      "fitness mean:  0.050003789216616336\n"
     ]
    },
    {
     "data": {
      "application/vnd.jupyter.widget-view+json": {
       "model_id": "46668ba458bb4fc590231660c22d4e9d",
       "version_major": 2,
       "version_minor": 0
      },
      "text/plain": [
       "HBox(children=(IntProgress(value=0, max=10), HTML(value='')))"
      ]
     },
     "metadata": {},
     "output_type": "display_data"
    },
    {
     "name": "stdout",
     "output_type": "stream",
     "text": [
      "initial actives:  18 / 500\n",
      "22\n",
      "22\n",
      "homophily:  1.0\n",
      "threshold:  0.40135350332697\n",
      "fitness mean:  0.06012515168023729\n",
      "\n",
      "\n"
     ]
    },
    {
     "data": {
      "application/vnd.jupyter.widget-view+json": {
       "model_id": "e25a6c8f1e4b4ad2bad5b578c80b1af5",
       "version_major": 2,
       "version_minor": 0
      },
      "text/plain": [
       "HBox(children=(IntProgress(value=0, max=10), HTML(value='')))"
      ]
     },
     "metadata": {},
     "output_type": "display_data"
    },
    {
     "name": "stdout",
     "output_type": "stream",
     "text": [
      "initial actives:  169 / 500\n",
      "222\n",
      "238\n",
      "242\n",
      "242\n",
      "homophily:  1.0\n",
      "threshold:  0.9330355439259962\n",
      "fitness mean:  0.043973483063126824\n"
     ]
    },
    {
     "data": {
      "application/vnd.jupyter.widget-view+json": {
       "model_id": "4651664e47e140b9ad63be13dc8e043f",
       "version_major": 2,
       "version_minor": 0
      },
      "text/plain": [
       "HBox(children=(IntProgress(value=0, max=10), HTML(value='')))"
      ]
     },
     "metadata": {},
     "output_type": "display_data"
    },
    {
     "name": "stdout",
     "output_type": "stream",
     "text": [
      "initial actives:  0 / 500\n",
      "0\n",
      "homophily:  1.0\n",
      "threshold:  0.31789735607954245\n",
      "fitness mean:  0.057625013832583276\n",
      "\n",
      "\n"
     ]
    },
    {
     "data": {
      "application/vnd.jupyter.widget-view+json": {
       "model_id": "5ffd9f99f114441c9413e40a5b5bedf5",
       "version_major": 2,
       "version_minor": 0
      },
      "text/plain": [
       "HBox(children=(IntProgress(value=0, max=10), HTML(value='')))"
      ]
     },
     "metadata": {},
     "output_type": "display_data"
    },
    {
     "name": "stdout",
     "output_type": "stream",
     "text": [
      "initial actives:  167 / 500\n",
      "200\n",
      "201\n",
      "201\n",
      "homophily:  1.0\n",
      "threshold:  0.6067497114457706\n",
      "fitness mean:  0.04463517103540259\n"
     ]
    },
    {
     "data": {
      "application/vnd.jupyter.widget-view+json": {
       "model_id": "f34748a6447444b693cb73f236e4eb54",
       "version_major": 2,
       "version_minor": 0
      },
      "text/plain": [
       "HBox(children=(IntProgress(value=0, max=10), HTML(value='')))"
      ]
     },
     "metadata": {},
     "output_type": "display_data"
    },
    {
     "name": "stdout",
     "output_type": "stream",
     "text": [
      "initial actives:  26 / 500\n",
      "28\n",
      "28\n",
      "homophily:  1.0\n",
      "threshold:  0.14418397198591107\n",
      "fitness mean:  0.06345487698461208\n",
      "\n"
     ]
    },
    {
     "data": {
      "application/vnd.jupyter.widget-view+json": {
       "model_id": "c0a10dcd7da842b48c2df032ffc00d09",
       "version_major": 2,
       "version_minor": 0
      },
      "text/plain": [
       "HBox(children=(IntProgress(value=0, max=10), HTML(value='')))"
      ]
     },
     "metadata": {},
     "output_type": "display_data"
    },
    {
     "name": "stdout",
     "output_type": "stream",
     "text": [
      "initial actives:  303 / 500\n",
      "393\n",
      "408\n",
      "409\n",
      "409\n",
      "homophily:  1.0\n",
      "threshold:  0.0878120151741076\n",
      "fitness mean:  0.041156822158614235\n"
     ]
    },
    {
     "data": {
      "application/vnd.jupyter.widget-view+json": {
       "model_id": "e5d125323ca8446d9d12403b34587c50",
       "version_major": 2,
       "version_minor": 0
      },
      "text/plain": [
       "HBox(children=(IntProgress(value=0, max=10), HTML(value='')))"
      ]
     },
     "metadata": {},
     "output_type": "display_data"
    },
    {
     "name": "stdout",
     "output_type": "stream",
     "text": [
      "initial actives:  317 / 500\n",
      "379\n",
      "392\n",
      "392\n",
      "homophily:  1.0\n",
      "threshold:  1.6937281394920478e-05\n",
      "fitness mean:  0.054326083664231514\n",
      "\n",
      "\n"
     ]
    },
    {
     "data": {
      "application/vnd.jupyter.widget-view+json": {
       "model_id": "74d3982947b14a7dba292ebf416b41ab",
       "version_major": 2,
       "version_minor": 0
      },
      "text/plain": [
       "HBox(children=(IntProgress(value=0, max=10), HTML(value='')))"
      ]
     },
     "metadata": {},
     "output_type": "display_data"
    },
    {
     "name": "stdout",
     "output_type": "stream",
     "text": [
      "initial actives:  451 / 500\n",
      "481\n",
      "481\n",
      "homophily:  1.0\n",
      "threshold:  0.4826655333685152\n",
      "fitness mean:  0.04224907290557506\n"
     ]
    },
    {
     "data": {
      "application/vnd.jupyter.widget-view+json": {
       "model_id": "fceab59d68eb4a30b92c7edae9101339",
       "version_major": 2,
       "version_minor": 0
      },
      "text/plain": [
       "HBox(children=(IntProgress(value=0, max=10), HTML(value='')))"
      ]
     },
     "metadata": {},
     "output_type": "display_data"
    },
    {
     "name": "stdout",
     "output_type": "stream",
     "text": [
      "initial actives:  7 / 500\n",
      "7\n",
      "homophily:  1.0\n",
      "threshold:  0.5686583098863333\n",
      "fitness mean:  0.0433334496905872\n",
      "\n",
      "\n"
     ]
    },
    {
     "data": {
      "application/vnd.jupyter.widget-view+json": {
       "model_id": "0f26d6b4bd6f4b59a6a25acecf603bdb",
       "version_major": 2,
       "version_minor": 0
      },
      "text/plain": [
       "HBox(children=(IntProgress(value=0, max=10), HTML(value='')))"
      ]
     },
     "metadata": {},
     "output_type": "display_data"
    },
    {
     "name": "stdout",
     "output_type": "stream",
     "text": [
      "initial actives:  33 / 500\n",
      "37\n",
      "37\n",
      "homophily:  1.0\n",
      "threshold:  0.874062565960994\n",
      "fitness mean:  0.03708501199311132\n"
     ]
    },
    {
     "data": {
      "application/vnd.jupyter.widget-view+json": {
       "model_id": "f9f95da6e0f543a9867bbb9a733eab99",
       "version_major": 2,
       "version_minor": 0
      },
      "text/plain": [
       "HBox(children=(IntProgress(value=0, max=10), HTML(value='')))"
      ]
     },
     "metadata": {},
     "output_type": "display_data"
    },
    {
     "name": "stdout",
     "output_type": "stream",
     "text": [
      "initial actives:  21 / 500\n",
      "21\n",
      "homophily:  1.0\n",
      "threshold:  0.6969507853240805\n",
      "fitness mean:  0.05506318335719141\n",
      "\n",
      "\n"
     ]
    },
    {
     "data": {
      "application/vnd.jupyter.widget-view+json": {
       "model_id": "ddd9bf2f533946b7a65984ff9b5604a4",
       "version_major": 2,
       "version_minor": 0
      },
      "text/plain": [
       "HBox(children=(IntProgress(value=0, max=10), HTML(value='')))"
      ]
     },
     "metadata": {},
     "output_type": "display_data"
    },
    {
     "name": "stdout",
     "output_type": "stream",
     "text": [
      "initial actives:  39 / 500\n",
      "54\n",
      "54\n",
      "homophily:  1.0\n",
      "threshold:  0.602700024627276\n",
      "fitness mean:  0.041646526670789386\n"
     ]
    },
    {
     "data": {
      "application/vnd.jupyter.widget-view+json": {
       "model_id": "0f603ecb8670421ab7cabd697964078b",
       "version_major": 2,
       "version_minor": 0
      },
      "text/plain": [
       "HBox(children=(IntProgress(value=0, max=10), HTML(value='')))"
      ]
     },
     "metadata": {},
     "output_type": "display_data"
    },
    {
     "name": "stdout",
     "output_type": "stream",
     "text": [
      "initial actives:  41 / 500\n",
      "57\n",
      "59\n",
      "60\n",
      "60\n",
      "homophily:  1.0\n",
      "threshold:  0.19390493846318635\n",
      "fitness mean:  0.05542638208923849\n",
      "\n",
      "\n"
     ]
    },
    {
     "data": {
      "application/vnd.jupyter.widget-view+json": {
       "model_id": "6022cb4f24c04099bc96f1f835f7b530",
       "version_major": 2,
       "version_minor": 0
      },
      "text/plain": [
       "HBox(children=(IntProgress(value=0, max=10), HTML(value='')))"
      ]
     },
     "metadata": {},
     "output_type": "display_data"
    },
    {
     "name": "stdout",
     "output_type": "stream",
     "text": [
      "initial actives:  212 / 500\n",
      "253\n",
      "257\n",
      "257\n",
      "homophily:  1.0\n",
      "threshold:  0.7346457174654891\n",
      "fitness mean:  0.03782489218339864\n"
     ]
    },
    {
     "data": {
      "application/vnd.jupyter.widget-view+json": {
       "model_id": "c12c8b44219c4b49b5f3964cd9cac0b9",
       "version_major": 2,
       "version_minor": 0
      },
      "text/plain": [
       "HBox(children=(IntProgress(value=0, max=10), HTML(value='')))"
      ]
     },
     "metadata": {},
     "output_type": "display_data"
    },
    {
     "name": "stdout",
     "output_type": "stream",
     "text": [
      "initial actives:  2 / 500\n",
      "7\n",
      "7\n",
      "homophily:  1.0\n",
      "threshold:  0.20994436961062357\n",
      "fitness mean:  0.049319533494596994\n",
      "\n",
      "\n"
     ]
    },
    {
     "data": {
      "application/vnd.jupyter.widget-view+json": {
       "model_id": "01d86289b3ee4736add5c1397d60964e",
       "version_major": 2,
       "version_minor": 0
      },
      "text/plain": [
       "HBox(children=(IntProgress(value=0, max=10), HTML(value='')))"
      ]
     },
     "metadata": {},
     "output_type": "display_data"
    },
    {
     "name": "stdout",
     "output_type": "stream",
     "text": [
      "initial actives:  258 / 500\n",
      "326\n",
      "343\n",
      "343\n",
      "homophily:  1.0\n",
      "threshold:  0.777480976956259\n",
      "fitness mean:  0.052267299069950424\n"
     ]
    },
    {
     "data": {
      "application/vnd.jupyter.widget-view+json": {
       "model_id": "33e2a074323348879b84c462209b8fa6",
       "version_major": 2,
       "version_minor": 0
      },
      "text/plain": [
       "HBox(children=(IntProgress(value=0, max=10), HTML(value='')))"
      ]
     },
     "metadata": {},
     "output_type": "display_data"
    },
    {
     "name": "stdout",
     "output_type": "stream",
     "text": [
      "initial actives:  27 / 500\n",
      "29\n",
      "29\n",
      "homophily:  1.0\n",
      "threshold:  0.9014842915616097\n",
      "fitness mean:  0.043898411209496786\n",
      "\n",
      "\n"
     ]
    },
    {
     "data": {
      "application/vnd.jupyter.widget-view+json": {
       "model_id": "3396333dff814db5b185cf4b1048fa56",
       "version_major": 2,
       "version_minor": 0
      },
      "text/plain": [
       "HBox(children=(IntProgress(value=0, max=10), HTML(value='')))"
      ]
     },
     "metadata": {},
     "output_type": "display_data"
    },
    {
     "name": "stdout",
     "output_type": "stream",
     "text": [
      "initial actives:  20 / 500\n",
      "25\n",
      "25\n",
      "homophily:  1.0\n",
      "threshold:  0.31668271710243323\n",
      "fitness mean:  0.04788460707486263\n"
     ]
    },
    {
     "data": {
      "application/vnd.jupyter.widget-view+json": {
       "model_id": "4162649969cf43c38e7f488d4c320154",
       "version_major": 2,
       "version_minor": 0
      },
      "text/plain": [
       "HBox(children=(IntProgress(value=0, max=10), HTML(value='')))"
      ]
     },
     "metadata": {},
     "output_type": "display_data"
    },
    {
     "name": "stdout",
     "output_type": "stream",
     "text": [
      "initial actives:  7 / 500\n",
      "7\n",
      "homophily:  1.0\n",
      "threshold:  0.6158743907583756\n",
      "fitness mean:  0.05014744487812879\n",
      "\n",
      "\n"
     ]
    },
    {
     "data": {
      "application/vnd.jupyter.widget-view+json": {
       "model_id": "e9f82d6256c24524b260c0c55f2a0bd2",
       "version_major": 2,
       "version_minor": 0
      },
      "text/plain": [
       "HBox(children=(IntProgress(value=0, max=10), HTML(value='')))"
      ]
     },
     "metadata": {},
     "output_type": "display_data"
    },
    {
     "name": "stdout",
     "output_type": "stream",
     "text": [
      "initial actives:  31 / 500\n",
      "33\n",
      "33\n",
      "homophily:  1.0\n",
      "threshold:  0.44752330004043595\n",
      "fitness mean:  0.04895461522229806\n"
     ]
    },
    {
     "data": {
      "application/vnd.jupyter.widget-view+json": {
       "model_id": "5585ea39806d4b9bb0664be2cd82ca3e",
       "version_major": 2,
       "version_minor": 0
      },
      "text/plain": [
       "HBox(children=(IntProgress(value=0, max=10), HTML(value='')))"
      ]
     },
     "metadata": {},
     "output_type": "display_data"
    },
    {
     "name": "stdout",
     "output_type": "stream",
     "text": [
      "initial actives:  38 / 500\n",
      "44\n",
      "45\n",
      "45\n",
      "homophily:  1.0\n",
      "threshold:  0.5580373493683212\n",
      "fitness mean:  0.05849303225626047\n",
      "\n",
      "\n"
     ]
    },
    {
     "data": {
      "application/vnd.jupyter.widget-view+json": {
       "model_id": "8790729879414f4cb842af2bfa08d464",
       "version_major": 2,
       "version_minor": 0
      },
      "text/plain": [
       "HBox(children=(IntProgress(value=0, max=10), HTML(value='')))"
      ]
     },
     "metadata": {},
     "output_type": "display_data"
    },
    {
     "name": "stdout",
     "output_type": "stream",
     "text": [
      "initial actives:  52 / 500\n",
      "105\n",
      "128\n",
      "137\n",
      "139\n",
      "139\n",
      "homophily:  1.0\n",
      "threshold:  0.9171655721887223\n",
      "fitness mean:  0.045552156944059466\n"
     ]
    },
    {
     "data": {
      "application/vnd.jupyter.widget-view+json": {
       "model_id": "c57ea2fabb714c7bb5a2cbfe48029242",
       "version_major": 2,
       "version_minor": 0
      },
      "text/plain": [
       "HBox(children=(IntProgress(value=0, max=10), HTML(value='')))"
      ]
     },
     "metadata": {},
     "output_type": "display_data"
    },
    {
     "name": "stdout",
     "output_type": "stream",
     "text": [
      "initial actives:  0 / 500\n",
      "0\n",
      "homophily:  1.0\n",
      "threshold:  0.8722704270308098\n",
      "fitness mean:  0.057106646111777085\n",
      "\n",
      "\n"
     ]
    },
    {
     "data": {
      "application/vnd.jupyter.widget-view+json": {
       "model_id": "748db9c95dc8486aac578b4eff9258e0",
       "version_major": 2,
       "version_minor": 0
      },
      "text/plain": [
       "HBox(children=(IntProgress(value=0, max=10), HTML(value='')))"
      ]
     },
     "metadata": {},
     "output_type": "display_data"
    },
    {
     "name": "stdout",
     "output_type": "stream",
     "text": [
      "initial actives:  23 / 500\n",
      "30\n",
      "30\n",
      "homophily:  1.0\n",
      "threshold:  0.6349475674323926\n",
      "fitness mean:  0.03995222269430945\n"
     ]
    },
    {
     "data": {
      "application/vnd.jupyter.widget-view+json": {
       "model_id": "2070bcdb87344e7ea1ffb16e67fd8e91",
       "version_major": 2,
       "version_minor": 0
      },
      "text/plain": [
       "HBox(children=(IntProgress(value=0, max=10), HTML(value='')))"
      ]
     },
     "metadata": {},
     "output_type": "display_data"
    },
    {
     "name": "stdout",
     "output_type": "stream",
     "text": [
      "initial actives:  18 / 500\n",
      "20\n",
      "20\n",
      "homophily:  1.0\n",
      "threshold:  0.8771717796156199\n",
      "fitness mean:  0.04724464072390869\n",
      "\n",
      "\n"
     ]
    },
    {
     "data": {
      "application/vnd.jupyter.widget-view+json": {
       "model_id": "24a850b20b504778920542bcf0ebfa66",
       "version_major": 2,
       "version_minor": 0
      },
      "text/plain": [
       "HBox(children=(IntProgress(value=0, max=10), HTML(value='')))"
      ]
     },
     "metadata": {},
     "output_type": "display_data"
    },
    {
     "name": "stdout",
     "output_type": "stream",
     "text": [
      "initial actives:  13 / 500\n",
      "14\n",
      "14\n",
      "homophily:  1.0\n",
      "threshold:  0.9329265085556618\n",
      "fitness mean:  0.05672138587654073\n"
     ]
    },
    {
     "data": {
      "application/vnd.jupyter.widget-view+json": {
       "model_id": "fd387e9cefc649dd844c315ce1a03f46",
       "version_major": 2,
       "version_minor": 0
      },
      "text/plain": [
       "HBox(children=(IntProgress(value=0, max=10), HTML(value='')))"
      ]
     },
     "metadata": {},
     "output_type": "display_data"
    },
    {
     "name": "stdout",
     "output_type": "stream",
     "text": [
      "initial actives:  20 / 500\n",
      "21\n",
      "21\n",
      "homophily:  1.0\n",
      "threshold:  0.6733630688809846\n",
      "fitness mean:  0.0457018533250706\n",
      "\n",
      "\n"
     ]
    },
    {
     "data": {
      "application/vnd.jupyter.widget-view+json": {
       "model_id": "c265bd8837a6486880ac3f7d6edabf08",
       "version_major": 2,
       "version_minor": 0
      },
      "text/plain": [
       "HBox(children=(IntProgress(value=0, max=10), HTML(value='')))"
      ]
     },
     "metadata": {},
     "output_type": "display_data"
    },
    {
     "name": "stdout",
     "output_type": "stream",
     "text": [
      "initial actives:  30 / 500\n",
      "36\n",
      "37\n",
      "37\n",
      "homophily:  1.0\n",
      "threshold:  0.776555129553544\n",
      "fitness mean:  0.047940331327017714\n"
     ]
    },
    {
     "data": {
      "application/vnd.jupyter.widget-view+json": {
       "model_id": "7f75c447bf8d4750a06269fca6eb1a7c",
       "version_major": 2,
       "version_minor": 0
      },
      "text/plain": [
       "HBox(children=(IntProgress(value=0, max=10), HTML(value='')))"
      ]
     },
     "metadata": {},
     "output_type": "display_data"
    },
    {
     "name": "stdout",
     "output_type": "stream",
     "text": [
      "initial actives:  6 / 500\n",
      "6\n",
      "homophily:  1.0\n",
      "threshold:  0.9177756568700067\n",
      "fitness mean:  0.0402914842723101\n",
      "\n",
      "\n"
     ]
    },
    {
     "data": {
      "application/vnd.jupyter.widget-view+json": {
       "model_id": "352683f8397b46c990a7cda018c9b874",
       "version_major": 2,
       "version_minor": 0
      },
      "text/plain": [
       "HBox(children=(IntProgress(value=0, max=10), HTML(value='')))"
      ]
     },
     "metadata": {},
     "output_type": "display_data"
    },
    {
     "name": "stdout",
     "output_type": "stream",
     "text": [
      "initial actives:  19 / 500\n",
      "19\n",
      "homophily:  1.0\n",
      "threshold:  0.38432405416565757\n",
      "fitness mean:  0.05419228405182505\n"
     ]
    },
    {
     "data": {
      "application/vnd.jupyter.widget-view+json": {
       "model_id": "e569baee02f94d4bb19103fa9004f65e",
       "version_major": 2,
       "version_minor": 0
      },
      "text/plain": [
       "HBox(children=(IntProgress(value=0, max=10), HTML(value='')))"
      ]
     },
     "metadata": {},
     "output_type": "display_data"
    },
    {
     "name": "stdout",
     "output_type": "stream",
     "text": [
      "initial actives:  54 / 500\n",
      "76\n",
      "78\n",
      "78\n",
      "homophily:  1.0\n",
      "threshold:  0.46314986542554903\n",
      "fitness mean:  0.043908272613248076\n",
      "\n",
      "\n"
     ]
    },
    {
     "data": {
      "application/vnd.jupyter.widget-view+json": {
       "model_id": "1295e48443254b90b7444166efede9f2",
       "version_major": 2,
       "version_minor": 0
      },
      "text/plain": [
       "HBox(children=(IntProgress(value=0, max=10), HTML(value='')))"
      ]
     },
     "metadata": {},
     "output_type": "display_data"
    },
    {
     "name": "stdout",
     "output_type": "stream",
     "text": [
      "initial actives:  101 / 500\n",
      "141\n",
      "151\n",
      "153\n",
      "153\n",
      "homophily:  1.0\n",
      "threshold:  0.7611275356748112\n",
      "fitness mean:  0.04727449595484271\n"
     ]
    },
    {
     "data": {
      "application/vnd.jupyter.widget-view+json": {
       "model_id": "4f94eb4ea6684dd6ada0b18998ec7475",
       "version_major": 2,
       "version_minor": 0
      },
      "text/plain": [
       "HBox(children=(IntProgress(value=0, max=10), HTML(value='')))"
      ]
     },
     "metadata": {},
     "output_type": "display_data"
    },
    {
     "name": "stdout",
     "output_type": "stream",
     "text": [
      "initial actives:  21 / 500\n",
      "33\n",
      "34\n",
      "34\n",
      "homophily:  1.0\n",
      "threshold:  0.9763741108502427\n",
      "fitness mean:  0.0415875072798221\n",
      "\n",
      "\n"
     ]
    },
    {
     "data": {
      "application/vnd.jupyter.widget-view+json": {
       "model_id": "ef79fcea6dfb4315bcee80d897602cf6",
       "version_major": 2,
       "version_minor": 0
      },
      "text/plain": [
       "HBox(children=(IntProgress(value=0, max=10), HTML(value='')))"
      ]
     },
     "metadata": {},
     "output_type": "display_data"
    },
    {
     "name": "stdout",
     "output_type": "stream",
     "text": [
      "initial actives:  13 / 500\n",
      "14\n",
      "14\n",
      "homophily:  1.0\n",
      "threshold:  0.8793153450383514\n",
      "fitness mean:  0.047336851656726686\n"
     ]
    },
    {
     "data": {
      "application/vnd.jupyter.widget-view+json": {
       "model_id": "565c995f047b4f93a7ffe83101617b5d",
       "version_major": 2,
       "version_minor": 0
      },
      "text/plain": [
       "HBox(children=(IntProgress(value=0, max=10), HTML(value='')))"
      ]
     },
     "metadata": {},
     "output_type": "display_data"
    },
    {
     "name": "stdout",
     "output_type": "stream",
     "text": [
      "initial actives:  1 / 500\n",
      "1\n",
      "homophily:  1.0\n",
      "threshold:  0.9970466485770797\n",
      "fitness mean:  0.0423234583241037\n",
      "\n",
      "\n"
     ]
    },
    {
     "data": {
      "application/vnd.jupyter.widget-view+json": {
       "model_id": "b369e8b40e1f4026b910462bc650aac7",
       "version_major": 2,
       "version_minor": 0
      },
      "text/plain": [
       "HBox(children=(IntProgress(value=0, max=10), HTML(value='')))"
      ]
     },
     "metadata": {},
     "output_type": "display_data"
    },
    {
     "name": "stdout",
     "output_type": "stream",
     "text": [
      "initial actives:  0 / 500\n",
      "0\n",
      "homophily:  1.0\n",
      "threshold:  0.8162203519263075\n",
      "fitness mean:  0.05417528845819284\n"
     ]
    },
    {
     "data": {
      "application/vnd.jupyter.widget-view+json": {
       "model_id": "4d13af87730b46f08e4c6e7f31129168",
       "version_major": 2,
       "version_minor": 0
      },
      "text/plain": [
       "HBox(children=(IntProgress(value=0, max=10), HTML(value='')))"
      ]
     },
     "metadata": {},
     "output_type": "display_data"
    },
    {
     "name": "stdout",
     "output_type": "stream",
     "text": [
      "initial actives:  24 / 500\n",
      "27\n",
      "27\n",
      "homophily:  1.0\n",
      "threshold:  0.6566562617144055\n",
      "fitness mean:  0.04666605184682229\n",
      "\n",
      "\n"
     ]
    },
    {
     "data": {
      "application/vnd.jupyter.widget-view+json": {
       "model_id": "7684b02de037462aa3f740b9db206264",
       "version_major": 2,
       "version_minor": 0
      },
      "text/plain": [
       "HBox(children=(IntProgress(value=0, max=10), HTML(value='')))"
      ]
     },
     "metadata": {},
     "output_type": "display_data"
    },
    {
     "name": "stdout",
     "output_type": "stream",
     "text": [
      "initial actives:  31 / 500\n",
      "37\n",
      "38\n",
      "38\n",
      "homophily:  1.0\n",
      "threshold:  0.5262365234076462\n",
      "fitness mean:  0.04703666474490904\n"
     ]
    },
    {
     "data": {
      "application/vnd.jupyter.widget-view+json": {
       "model_id": "a197d700852c43219a68fb448390b2d9",
       "version_major": 2,
       "version_minor": 0
      },
      "text/plain": [
       "HBox(children=(IntProgress(value=0, max=10), HTML(value='')))"
      ]
     },
     "metadata": {},
     "output_type": "display_data"
    },
    {
     "name": "stdout",
     "output_type": "stream",
     "text": [
      "initial actives:  6 / 500\n",
      "6\n",
      "\n"
     ]
    }
   ],
   "source": [
    "cascade_sizes = []\n",
    "thresholds = []\n",
    "homophilies = []\n",
    "viralities = []\n",
    "times = []\n",
    "items = []\n",
    "nodes = []\n",
    "\n",
    "\n",
    "#### parameters\n",
    "H = 1.\n",
    "T = 10\n",
    "threshold = .87\n",
    "gn_stregth = 1\n",
    "infl_strength = 15.\n",
    "\n",
    "\n",
    "\n",
    "for H in tqdm_notebook([0., .25, .5, .75, 1.]):\n",
    "    #### interests\n",
    "    W = nmf_emb(G, topics, seed, H)\n",
    "    \n",
    "    for i in range(len(W)):\n",
    "        W[i]/= np.linalg.norm(W[i])\n",
    "    #print('average interest:',  np.mean([ np.array(df_gammas[0]).dot(W[node]) for node in range(nodes_numb) ]) )\n",
    "    \n",
    "    for virality in [0.5, 1, 2, 3]:\n",
    "        for i, threshold in enumerate(scipy.stats.powerlaw.rvs(virality, size=docs)):\n",
    "            print('homophily: ', H)\n",
    "            print('threshold: ', threshold)\n",
    "            #### fitness\n",
    "            fitness = []\n",
    "            if infl_strength == 0:\n",
    "                fitness = np.zeros(nodes_numb)\n",
    "            else:\n",
    "                #fitness = np.random.pareto(a=infl_strength, size=nodes_numb) # ho tolto 1+\n",
    "                fitness = scipy.stats.powerlaw.rvs(0.05, size=nodes_numb)\n",
    "                if np.any(np.isinf(fitness)):\n",
    "                    print('Wrong parameter infl strength')\n",
    "                fitness = np.minimum(fitness, 10E20)\n",
    "            print('fitness mean: ', np.mean(fitness))\n",
    "\n",
    "\n",
    "            #### updated adjacency matrix\n",
    "            A_prime = [[] for _ in range(nodes_numb)]\n",
    "\n",
    "            for influencer in range(nodes_numb):\n",
    "                for receiver in range(nodes_numb):\n",
    "                    #print(influencer, receiver)\n",
    "                    weight = np.array(df_gammas[i]).dot(fitness[influencer]*W[influencer]+W[receiver]) if (\n",
    "                                        G.has_edge(influencer, receiver)) else 0\n",
    "                    if receiver == influencer:\n",
    "                        weight = 1\n",
    "                    A_prime[influencer].append(weight)\n",
    "\n",
    "            #### threshold map\n",
    "            def z(x, threshold):\n",
    "                return np.array([x[i]>threshold for i in range(len(x))])\n",
    "\n",
    "            #### Diffusion\n",
    "\n",
    "            a = [ [] for _ in range(T)]\n",
    "\n",
    "            for t in tqdm_notebook(range(T)):\n",
    "                if t==0:\n",
    "                    interests_nodes = [ np.array(df_gammas[i]).dot(W[node]) for node in range(nodes_numb) ]\n",
    "                    a[0] = z(gn_stregth*np.array(interests_nodes), threshold)\n",
    "                    #print(np.diag(P))\n",
    "                    print('initial actives: ', a[0].sum(), '/', nodes_numb)\n",
    "                else:\n",
    "                    a[t] = z((a[t-1]).dot(A_prime), threshold)\n",
    "                    #print((A[t-1]).dot(P))\n",
    "                    print(a[t].sum())\n",
    "                    if np.array_equal(a[t], a[t-1]):\n",
    "                        break\n",
    "\n",
    "                for nod, act in enumerate(a[t]):\n",
    "\n",
    "                    if len(a[t])!=0 and act:\n",
    "                        times.append(t)\n",
    "                        items.append(i)\n",
    "                        nodes.append(nod)\n",
    "\n",
    "\n",
    "            norms = [np.sum(x) for x in a if len(x)!=0]\n",
    "            cascade_sizes.append(norms[-1])\n",
    "            thresholds.append(threshold)\n",
    "            homophilies.append(H)\n",
    "            viralities.append(virality)\n"
   ]
  },
  {
   "cell_type": "markdown",
   "metadata": {},
   "source": [
    "## Synthetic plot"
   ]
  },
  {
   "cell_type": "code",
   "execution_count": 29,
   "metadata": {},
   "outputs": [
    {
     "name": "stdout",
     "output_type": "stream",
     "text": [
      "\n",
      "\n"
     ]
    },
    {
     "data": {
      "text/plain": [
       "<matplotlib.axes._subplots.AxesSubplot at 0x1a233687d0>"
      ]
     },
     "execution_count": 29,
     "metadata": {},
     "output_type": "execute_result"
    },
    {
     "data": {
      "image/png": "[encoded data removed]",
      "text/plain": [
       "<Figure size 432x288 with 1 Axes>"
      ]
     },
     "metadata": {
      "needs_background": "light"
     },
     "output_type": "display_data"
    }
   ],
   "source": [
    "df_synth_plot = pd.DataFrame({'cascade_size': cascade_sizes, 'virality_exp': viralities, 'homophily': homophilies})\n",
    "sb.lineplot(data=df_synth_plot, x='homophily', y='cascade_size', hue='virality_exp')"
   ]
  },
  {
   "cell_type": "markdown",
   "metadata": {},
   "source": [
    "# Eigenvectors"
   ]
  },
  {
   "cell_type": "code",
   "execution_count": 30,
   "metadata": {},
   "outputs": [],
   "source": [
    "from numpy import linalg as LA"
   ]
  },
  {
   "cell_type": "code",
   "execution_count": 35,
   "metadata": {},
   "outputs": [],
   "source": [
    "w, v = LA.eig(A_prime)"
   ]
  },
  {
   "cell_type": "code",
   "execution_count": 52,
   "metadata": {},
   "outputs": [
    {
     "name": "stdout",
     "output_type": "stream",
     "text": [
      "(500, 500)\n",
      "500\n",
      "[1. 1. 1. 1. 1. 1. 1. 1. 1. 1. 1. 1. 1. 1. 1. 1. 1. 1. 1. 1. 1. 1. 1. 1.\n",
      " 1. 1. 1. 1. 1. 1. 1. 1. 1. 1. 1. 1. 1. 1. 1. 1. 1. 1. 1. 1. 1. 1. 1. 1.\n",
      " 1. 1. 1. 1. 1. 1. 1. 1. 1. 1. 1. 1. 1. 1. 1. 1. 1. 1. 1. 1. 1. 1. 1. 1.\n",
      " 1. 1. 1. 1. 1. 1. 1. 1. 1. 1. 1. 1. 1. 1. 1. 1. 1. 1. 1. 1. 1. 1. 1. 1.\n",
      " 1. 1. 1. 1. 1. 1. 1. 1. 1. 1. 1. 1. 1. 1. 1. 1. 1. 1. 1. 1. 1. 1. 1. 1.\n",
      " 1. 1. 1. 1. 1. 1. 1. 1. 1. 1. 1. 1. 1. 1. 1. 1. 1. 1. 1. 1. 1. 1. 1. 1.\n",
      " 1. 1. 1. 1. 1. 1. 1. 1. 1. 1. 1. 1. 1. 1. 1. 1. 1. 1. 1. 1. 1. 1. 1. 1.\n",
      " 1. 1. 1. 1. 1. 1. 1. 1. 1. 1. 1. 1. 1. 1. 1. 1. 1. 1. 1. 1. 1. 1. 1. 1.\n",
      " 1. 1. 1. 1. 1. 1. 1. 1. 1. 1. 1. 1. 1. 1. 1. 1. 1. 1. 1. 1. 1. 1. 1. 1.\n",
      " 1. 1. 1. 1. 1. 1. 1. 1. 1. 1. 1. 1. 1. 1. 1. 1. 1. 1. 1. 1. 1. 1. 1. 1.\n",
      " 1. 1. 1. 1. 1. 1. 1. 1. 1. 1. 1. 1. 1. 1. 1. 1. 1. 1. 1. 1. 1. 1. 1. 1.\n",
      " 1. 1. 1. 1. 1. 1. 1. 1. 1. 1. 1. 1. 1. 1. 1. 1. 1. 1. 1. 1. 1. 1. 1. 1.\n",
      " 1. 1. 1. 1. 1. 1. 1. 1. 1. 1. 1. 1. 1. 1. 1. 1. 1. 1. 1. 1. 1. 1. 1. 1.\n",
      " 1. 1. 1. 1. 1. 1. 1. 1. 1. 1. 1. 1. 1. 1. 1. 1. 1. 1. 1. 1. 1. 1. 1. 1.\n",
      " 1. 1. 1. 1. 1. 1. 1. 1. 1. 1. 1. 1. 1. 1. 1. 1. 1. 1. 1. 1. 1. 1. 1. 1.\n",
      " 1. 1. 1. 1. 1. 1. 1. 1. 1. 1. 1. 1. 1. 1. 1. 1. 1. 1. 1. 1. 1. 1. 1. 1.\n",
      " 1. 1. 1. 1. 1. 1. 1. 1. 1. 1. 1. 1. 1. 1. 1. 1. 1. 1. 1. 1. 1. 1. 1. 1.\n",
      " 1. 1. 1. 1. 1. 1. 1. 1. 1. 1. 1. 1. 1. 1. 1. 1. 1. 1. 1. 1. 1. 1. 1. 1.\n",
      " 1. 1. 1. 1. 1. 1. 1. 1. 1. 1. 1. 1. 1. 1. 1. 1. 1. 1. 1. 1. 1. 1. 1. 1.\n",
      " 1. 1. 1. 1. 1. 1. 1. 1. 1. 1. 1. 1. 1. 1. 1. 1. 1. 1. 1. 1. 1. 1. 1. 1.\n",
      " 1. 1. 1. 1. 1. 1. 1. 1. 1. 1. 1. 1. 1. 1. 1. 1. 1. 1. 1. 1.]\n"
     ]
    }
   ],
   "source": [
    "print(np.array(A_prime).shape)\n",
    "print(len(v))\n",
    "#print(np.array(A_prime)[0])\n",
    "for e_vec in v:\n",
    "    print(np.sum(e_vec))\n",
    "print(w)"
   ]
  },
  {
   "cell_type": "code",
   "execution_count": 57,
   "metadata": {},
   "outputs": [
    {
     "name": "stdout",
     "output_type": "stream",
     "text": [
      "[0. 0. 1.]\n"
     ]
    }
   ],
   "source": [
    "w, v = LA.eig([[0,0,1], [1,0,1],[0,0,1]])\n",
    "print(w)"
   ]
  },
  {
   "cell_type": "markdown",
   "metadata": {},
   "source": [
    "## Scatter plot"
   ]
  },
  {
   "cell_type": "code",
   "execution_count": 18,
   "metadata": {},
   "outputs": [
    {
     "name": "stdout",
     "output_type": "stream",
     "text": [
      "888.4615384615385\n",
      "[22, 24, 1285, 43, 28, 1096, 3265, 13, 1097, 2347, 1110, 10, 1210]\n"
     ]
    }
   ],
   "source": [
    "cascade_sizes = [x for x in cascade_sizes if x !=0 ]\n",
    "print(np.mean(cascade_sizes))\n",
    "print(cascade_sizes)"
   ]
  },
  {
   "cell_type": "code",
   "execution_count": 19,
   "metadata": {},
   "outputs": [
    {
     "data": {
      "text/html": [
       "<div>\n",
       "<style scoped>\n",
       "    .dataframe tbody tr th:only-of-type {\n",
       "        vertical-align: middle;\n",
       "    }\n",
       "\n",
       "    .dataframe tbody tr th {\n",
       "        vertical-align: top;\n",
       "    }\n",
       "\n",
       "    .dataframe thead th {\n",
       "        text-align: right;\n",
       "    }\n",
       "</style>\n",
       "<table border=\"1\" class=\"dataframe\">\n",
       "  <thead>\n",
       "    <tr style=\"text-align: right;\">\n",
       "      <th></th>\n",
       "      <th>time</th>\n",
       "      <th>item</th>\n",
       "      <th>node</th>\n",
       "    </tr>\n",
       "  </thead>\n",
       "  <tbody>\n",
       "    <tr>\n",
       "      <th>0</th>\n",
       "      <td>0</td>\n",
       "      <td>0</td>\n",
       "      <td>493</td>\n",
       "    </tr>\n",
       "    <tr>\n",
       "      <th>1</th>\n",
       "      <td>0</td>\n",
       "      <td>0</td>\n",
       "      <td>573</td>\n",
       "    </tr>\n",
       "    <tr>\n",
       "      <th>2</th>\n",
       "      <td>0</td>\n",
       "      <td>0</td>\n",
       "      <td>628</td>\n",
       "    </tr>\n",
       "    <tr>\n",
       "      <th>3</th>\n",
       "      <td>0</td>\n",
       "      <td>0</td>\n",
       "      <td>686</td>\n",
       "    </tr>\n",
       "    <tr>\n",
       "      <th>4</th>\n",
       "      <td>0</td>\n",
       "      <td>0</td>\n",
       "      <td>713</td>\n",
       "    </tr>\n",
       "  </tbody>\n",
       "</table>\n",
       "</div>"
      ],
      "text/plain": [
       "   time  item  node\n",
       "0     0     0   493\n",
       "1     0     0   573\n",
       "2     0     0   628\n",
       "3     0     0   686\n",
       "4     0     0   713"
      ]
     },
     "metadata": {},
     "output_type": "display_data"
    }
   ],
   "source": [
    "df = pd.DataFrame({'time': times, 'item': items, 'node': nodes}).sort_values(['time', 'item', 'node']).reset_index(drop=True)\n",
    "df.set_index('time')\n",
    "display(df.head())"
   ]
  },
  {
   "cell_type": "code",
   "execution_count": 485,
   "metadata": {},
   "outputs": [
    {
     "name": "stderr",
     "output_type": "stream",
     "text": [
      "/Users/Cinus/miniconda3/lib/python3.7/site-packages/ipykernel_launcher.py:4: TqdmDeprecationWarning: This function will be removed in tqdm==5.0.0\n",
      "Please use `tqdm.notebook.tqdm` instead of `tqdm.tqdm_notebook`\n",
      "  after removing the cwd from sys.path.\n"
     ]
    },
    {
     "data": {
      "application/vnd.jupyter.widget-view+json": {
       "model_id": "b50aa0b979864965a2c7f3483a31105e",
       "version_major": 2,
       "version_minor": 0
      },
      "text/plain": [
       "HBox(children=(IntProgress(value=1, bar_style='info', max=1), HTML(value='')))"
      ]
     },
     "metadata": {},
     "output_type": "display_data"
    },
    {
     "name": "stdout",
     "output_type": "stream",
     "text": [
      "\n",
      "\n"
     ]
    }
   ],
   "source": [
    "len_long_paths = []\n",
    "cascade_sizes = []\n",
    "\n",
    "for dag in tqdm_notebook(generate_dags(G, df)):\n",
    "    len_path = len_path_dag(dag)\n",
    "    if not np.isnan(len_path):\n",
    "        len_long_paths.append(len_path)\n",
    "        cascade_sizes.append(dag.number_of_nodes())"
   ]
  },
  {
   "cell_type": "code",
   "execution_count": 486,
   "metadata": {},
   "outputs": [
    {
     "data": {
      "text/plain": [
       "<matplotlib.collections.PathCollection at 0x1a35288150>"
      ]
     },
     "execution_count": 486,
     "metadata": {},
     "output_type": "execute_result"
    },
    {
     "data": {
      "image/png": "[encoded data removed]",
      "text/plain": [
       "<Figure size 432x288 with 1 Axes>"
      ]
     },
     "metadata": {
      "needs_background": "light"
     },
     "output_type": "display_data"
    }
   ],
   "source": [
    "plt.scatter(cascade_sizes, len_long_paths)"
   ]
  },
  {
   "cell_type": "code",
   "execution_count": null,
   "metadata": {},
   "outputs": [],
   "source": []
  },
  {
   "cell_type": "code",
   "execution_count": 489,
   "metadata": {},
   "outputs": [],
   "source": [
    "# eigenvalues\n",
    "from numpy import linalg as LA\n",
    "w, v = LA.eig(A_prime)"
   ]
  },
  {
   "cell_type": "code",
   "execution_count": 494,
   "metadata": {},
   "outputs": [
    {
     "data": {
      "text/plain": [
       "1.0"
      ]
     },
     "execution_count": 494,
     "metadata": {},
     "output_type": "execute_result"
    }
   ],
   "source": [
    "w[i].real >"
   ]
  },
  {
   "cell_type": "markdown",
   "metadata": {},
   "source": [
    "# ----------------------------------------------------------------------------------"
   ]
  },
  {
   "cell_type": "raw",
   "metadata": {},
   "source": [
    "norms = [np.sum(x) for x in a if len(x)!=0]\n",
    "cascade_size = norms[-1]\n",
    "\n",
    "print(norms)\n",
    "plt.scatter(x=norms[:-1], y=norms[1:])"
   ]
  },
  {
   "cell_type": "markdown",
   "metadata": {},
   "source": [
    "#for node in G.nodes:\n",
    "#weight = f3(np.dot(W[node]/np.linalg.norm(W[node]), gammas[0]+gn_strh*(np.ones(topics))))\n",
    "weight = f3(np.dot(W[node], gammas[0]+gn_strh*(np.ones(topics))))\n",
    "weights.append(weight)\n",
    "\n",
    "fig, ax = plt.subplots(1)\n",
    "print(len(weights))\n",
    "ax.set_title('mean '+str(round(np.mean(weights),2))+ ', H '+str(H))\n",
    "#ax.set_xlim(0, 1)\n",
    "#ax.set_ylim(0, 250)\n",
    "ax.set_xlabel('scalar product with item distrib')\n",
    "ax.set_ylabel('freq')\n",
    "ax.grid(linestyle='-', linewidth=0.2)\n",
    "ax.hist(weights, bins=30) "
   ]
  },
  {
   "cell_type": "raw",
   "metadata": {},
   "source": [
    "df_interests = pd.DataFrame(W)\n",
    "display(df_interests.head())\n",
    "plt.hist(df_interests.iloc[0])"
   ]
  },
  {
   "cell_type": "raw",
   "metadata": {},
   "source": [
    "display(df_gammas.head())\n",
    "plt.hist(df_gammas.iloc[0])"
   ]
  },
  {
   "cell_type": "raw",
   "metadata": {},
   "source": [
    "#x = np.dot(gammas[0], W[0]+gn_strh*(np.ones(topics)))\n",
    "x = np.dot(gammas[0], W[0]+gn_strh*(W[0]))\n",
    "dots = [f3(np.dot(gammas[0], W[i]+gn_strh*(np.ones(topics)))) for i in range(W.shape[0])]\n",
    "#dots = [f3(np.dot(gammas[0], W[i]+5.*(W[i]))) for i in range(W.shape[0])]\n",
    "print('first node dot product:', x, ' value of f:', f3(x), ' mean:', np.mean(dots))\n",
    "plt.hist(dots)\n",
    "plt.title('activation parameter distribution')\n",
    "plt.xlabel('function of dot products - item distr times int + gn')"
   ]
  },
  {
   "cell_type": "raw",
   "metadata": {},
   "source": [
    "activations = []\n",
    "for i in range(len(vec_thr)):\n",
    "    activations.append([dots[j] > vec_thr[i] for j in range(len(dots))])\n",
    "df_activations = pd.DataFrame(activations)\n",
    "df_activations.sum()"
   ]
  },
  {
   "cell_type": "raw",
   "metadata": {},
   "source": [
    "g = nx.DiGraph()\n",
    "g.add_node(1)\n",
    "nx.dag_longest_path(g)"
   ]
  },
  {
   "cell_type": "raw",
   "metadata": {},
   "source": [
    "1+np.random.pareto(10)"
   ]
  }
 ],
 "metadata": {
  "kernelspec": {
   "display_name": "Python 3",
   "language": "python",
   "name": "python3"
  },
  "language_info": {
   "codemirror_mode": {
    "name": "ipython",
    "version": 3
   },
   "file_extension": ".py",
   "mimetype": "text/x-python",
   "name": "python",
   "nbconvert_exporter": "python",
   "pygments_lexer": "ipython3",
   "version": "3.7.4"
  }
 },
 "nbformat": 4,
 "nbformat_minor": 2
}
